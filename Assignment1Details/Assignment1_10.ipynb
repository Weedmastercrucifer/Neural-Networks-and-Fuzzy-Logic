{
  "nbformat": 4,
  "nbformat_minor": 0,
  "metadata": {
    "colab": {
      "name": "Assignment1_10.ipynb",
      "provenance": [],
      "include_colab_link": true
    },
    "kernelspec": {
      "name": "python3",
      "display_name": "Python 3"
    },
    "language_info": {
      "name": "python"
    }
  },
  "cells": [
    {
      "cell_type": "markdown",
      "metadata": {
        "id": "view-in-github",
        "colab_type": "text"
      },
      "source": [
        "<a href=\"https://colab.research.google.com/github/Weedmastercrucifer/Neural-Networks-and-Fuzzy-Logic/blob/main/Assignment1Details/Assignment1_10.ipynb\" target=\"_parent\"><img src=\"https://colab.research.google.com/assets/colab-badge.svg\" alt=\"Open In Colab\"/></a>"
      ]
    },
    {
      "cell_type": "code",
      "metadata": {
        "id": "3fqBGlH065w9"
      },
      "source": [
        "import numpy as np\n",
        "import pandas as pd\n",
        "import matplotlib.pyplot as plt "
      ],
      "execution_count": null,
      "outputs": []
    },
    {
      "cell_type": "code",
      "metadata": {
        "colab": {
          "base_uri": "https://localhost:8080/"
        },
        "id": "thZJlJSMu6kf",
        "outputId": "6e7a006d-a376-4afc-d22d-ec014560f056"
      },
      "source": [
        "from google.colab import drive\n",
        "drive.mount('/content/drive')"
      ],
      "execution_count": null,
      "outputs": [
        {
          "output_type": "stream",
          "name": "stdout",
          "text": [
            "Mounted at /content/drive\n"
          ]
        }
      ]
    },
    {
      "cell_type": "markdown",
      "metadata": {
        "id": "146m6oIU2Rq9"
      },
      "source": [
        "Assignment 1 Q10"
      ]
    },
    {
      "cell_type": "code",
      "metadata": {
        "colab": {
          "base_uri": "https://localhost:8080/"
        },
        "id": "07zeLUVr7L8e",
        "outputId": "c75d43aa-4a52-4a75-83aa-985e857449f8"
      },
      "source": [
        "data = pd.read_csv('/content/drive/MyDrive/Assignment1NNFL/Copy of data_q6_q7.txt', delimiter=\"\\t\", error_bad_lines= False)"
      ],
      "execution_count": null,
      "outputs": [
        {
          "output_type": "stream",
          "name": "stderr",
          "text": [
            "b'Skipping line 8: expected 8 fields, saw 10\\nSkipping line 36: expected 8 fields, saw 10\\nSkipping line 61: expected 8 fields, saw 9\\nSkipping line 69: expected 8 fields, saw 9\\nSkipping line 107: expected 8 fields, saw 9\\nSkipping line 136: expected 8 fields, saw 9\\nSkipping line 170: expected 8 fields, saw 9\\nSkipping line 171: expected 8 fields, saw 9\\nSkipping line 173: expected 8 fields, saw 9\\nSkipping line 202: expected 8 fields, saw 9\\nSkipping line 204: expected 8 fields, saw 9\\n'\n"
          ]
        }
      ]
    },
    {
      "cell_type": "code",
      "metadata": {
        "colab": {
          "base_uri": "https://localhost:8080/"
        },
        "id": "x7XFelLe8AYU",
        "outputId": "6f0d5d79-d0f0-4292-a31b-b5a6a304ca29"
      },
      "source": [
        "data.shape"
      ],
      "execution_count": null,
      "outputs": [
        {
          "output_type": "execute_result",
          "data": {
            "text/plain": [
              "(198, 8)"
            ]
          },
          "metadata": {},
          "execution_count": 6
        }
      ]
    },
    {
      "cell_type": "code",
      "metadata": {
        "id": "LP7CLYZP8CzM"
      },
      "source": [
        "train_split = 0.70\n",
        "test_split = 0.30"
      ],
      "execution_count": null,
      "outputs": []
    },
    {
      "cell_type": "code",
      "metadata": {
        "id": "prZnjIOq8Fdg"
      },
      "source": [
        "data.iloc[:,0:7]=(data.iloc[:,0:7]-(data.iloc[:,0:7]).min())/((data.iloc[:,0:7]).max()-(data.iloc[:,0:7]).min())\n"
      ],
      "execution_count": null,
      "outputs": []
    },
    {
      "cell_type": "code",
      "metadata": {
        "colab": {
          "base_uri": "https://localhost:8080/",
          "height": 423
        },
        "id": "G84d-_qO84MI",
        "outputId": "85b08e48-d493-45a5-e8f6-8f285dc5c2fc"
      },
      "source": [
        "data"
      ],
      "execution_count": null,
      "outputs": [
        {
          "output_type": "execute_result",
          "data": {
            "text/html": [
              "<div>\n",
              "<style scoped>\n",
              "    .dataframe tbody tr th:only-of-type {\n",
              "        vertical-align: middle;\n",
              "    }\n",
              "\n",
              "    .dataframe tbody tr th {\n",
              "        vertical-align: top;\n",
              "    }\n",
              "\n",
              "    .dataframe thead th {\n",
              "        text-align: right;\n",
              "    }\n",
              "</style>\n",
              "<table border=\"1\" class=\"dataframe\">\n",
              "  <thead>\n",
              "    <tr style=\"text-align: right;\">\n",
              "      <th></th>\n",
              "      <th>15.26</th>\n",
              "      <th>14.84</th>\n",
              "      <th>0.871</th>\n",
              "      <th>5.763</th>\n",
              "      <th>3.312</th>\n",
              "      <th>2.221</th>\n",
              "      <th>5.22</th>\n",
              "      <th>1</th>\n",
              "    </tr>\n",
              "  </thead>\n",
              "  <tbody>\n",
              "    <tr>\n",
              "      <th>0</th>\n",
              "      <td>0.405099</td>\n",
              "      <td>0.446281</td>\n",
              "      <td>0.662432</td>\n",
              "      <td>0.368806</td>\n",
              "      <td>0.501069</td>\n",
              "      <td>0.033497</td>\n",
              "      <td>0.215165</td>\n",
              "      <td>1</td>\n",
              "    </tr>\n",
              "    <tr>\n",
              "      <th>1</th>\n",
              "      <td>0.349386</td>\n",
              "      <td>0.347107</td>\n",
              "      <td>0.879310</td>\n",
              "      <td>0.220721</td>\n",
              "      <td>0.503920</td>\n",
              "      <td>0.256149</td>\n",
              "      <td>0.150665</td>\n",
              "      <td>1</td>\n",
              "    </tr>\n",
              "    <tr>\n",
              "      <th>2</th>\n",
              "      <td>0.306893</td>\n",
              "      <td>0.316116</td>\n",
              "      <td>0.793103</td>\n",
              "      <td>0.239302</td>\n",
              "      <td>0.533856</td>\n",
              "      <td>0.197870</td>\n",
              "      <td>0.140817</td>\n",
              "      <td>1</td>\n",
              "    </tr>\n",
              "    <tr>\n",
              "      <th>3</th>\n",
              "      <td>0.524079</td>\n",
              "      <td>0.533058</td>\n",
              "      <td>0.864791</td>\n",
              "      <td>0.427365</td>\n",
              "      <td>0.664291</td>\n",
              "      <td>0.078133</td>\n",
              "      <td>0.322994</td>\n",
              "      <td>1</td>\n",
              "    </tr>\n",
              "    <tr>\n",
              "      <th>4</th>\n",
              "      <td>0.357885</td>\n",
              "      <td>0.371901</td>\n",
              "      <td>0.789474</td>\n",
              "      <td>0.274212</td>\n",
              "      <td>0.486101</td>\n",
              "      <td>0.224758</td>\n",
              "      <td>0.215165</td>\n",
              "      <td>1</td>\n",
              "    </tr>\n",
              "    <tr>\n",
              "      <th>...</th>\n",
              "      <td>...</td>\n",
              "      <td>...</td>\n",
              "      <td>...</td>\n",
              "      <td>...</td>\n",
              "      <td>...</td>\n",
              "      <td>...</td>\n",
              "      <td>...</td>\n",
              "      <td>...</td>\n",
              "    </tr>\n",
              "    <tr>\n",
              "      <th>193</th>\n",
              "      <td>0.151086</td>\n",
              "      <td>0.163223</td>\n",
              "      <td>0.637024</td>\n",
              "      <td>0.134009</td>\n",
              "      <td>0.250178</td>\n",
              "      <td>0.379594</td>\n",
              "      <td>0.172821</td>\n",
              "      <td>3</td>\n",
              "    </tr>\n",
              "    <tr>\n",
              "      <th>194</th>\n",
              "      <td>0.060434</td>\n",
              "      <td>0.097107</td>\n",
              "      <td>0.390200</td>\n",
              "      <td>0.135698</td>\n",
              "      <td>0.117605</td>\n",
              "      <td>0.471516</td>\n",
              "      <td>0.238306</td>\n",
              "      <td>3</td>\n",
              "    </tr>\n",
              "    <tr>\n",
              "      <th>195</th>\n",
              "      <td>0.246459</td>\n",
              "      <td>0.258264</td>\n",
              "      <td>0.727768</td>\n",
              "      <td>0.189752</td>\n",
              "      <td>0.429081</td>\n",
              "      <td>1.000000</td>\n",
              "      <td>0.264402</td>\n",
              "      <td>3</td>\n",
              "    </tr>\n",
              "    <tr>\n",
              "      <th>196</th>\n",
              "      <td>0.118036</td>\n",
              "      <td>0.165289</td>\n",
              "      <td>0.399274</td>\n",
              "      <td>0.155405</td>\n",
              "      <td>0.146828</td>\n",
              "      <td>0.375224</td>\n",
              "      <td>0.258493</td>\n",
              "      <td>3</td>\n",
              "    </tr>\n",
              "    <tr>\n",
              "      <th>197</th>\n",
              "      <td>0.161473</td>\n",
              "      <td>0.192149</td>\n",
              "      <td>0.547187</td>\n",
              "      <td>0.193694</td>\n",
              "      <td>0.245189</td>\n",
              "      <td>0.645293</td>\n",
              "      <td>0.267848</td>\n",
              "      <td>3</td>\n",
              "    </tr>\n",
              "  </tbody>\n",
              "</table>\n",
              "<p>198 rows × 8 columns</p>\n",
              "</div>"
            ],
            "text/plain": [
              "        15.26     14.84     0.871     5.763     3.312     2.221      5.22  1\n",
              "0    0.405099  0.446281  0.662432  0.368806  0.501069  0.033497  0.215165  1\n",
              "1    0.349386  0.347107  0.879310  0.220721  0.503920  0.256149  0.150665  1\n",
              "2    0.306893  0.316116  0.793103  0.239302  0.533856  0.197870  0.140817  1\n",
              "3    0.524079  0.533058  0.864791  0.427365  0.664291  0.078133  0.322994  1\n",
              "4    0.357885  0.371901  0.789474  0.274212  0.486101  0.224758  0.215165  1\n",
              "..        ...       ...       ...       ...       ...       ...       ... ..\n",
              "193  0.151086  0.163223  0.637024  0.134009  0.250178  0.379594  0.172821  3\n",
              "194  0.060434  0.097107  0.390200  0.135698  0.117605  0.471516  0.238306  3\n",
              "195  0.246459  0.258264  0.727768  0.189752  0.429081  1.000000  0.264402  3\n",
              "196  0.118036  0.165289  0.399274  0.155405  0.146828  0.375224  0.258493  3\n",
              "197  0.161473  0.192149  0.547187  0.193694  0.245189  0.645293  0.267848  3\n",
              "\n",
              "[198 rows x 8 columns]"
            ]
          },
          "metadata": {},
          "execution_count": 9
        }
      ]
    },
    {
      "cell_type": "code",
      "metadata": {
        "id": "il7U_kMF7cr-"
      },
      "source": [
        "  data = data.to_numpy()"
      ],
      "execution_count": null,
      "outputs": []
    },
    {
      "cell_type": "code",
      "metadata": {
        "colab": {
          "base_uri": "https://localhost:8080/"
        },
        "id": "pndxCGtP887B",
        "outputId": "09fa54be-03ac-4a23-aee5-d34452d0a5b4"
      },
      "source": [
        "data[:, -1]"
      ],
      "execution_count": null,
      "outputs": [
        {
          "output_type": "execute_result",
          "data": {
            "text/plain": [
              "array([1., 1., 1., 1., 1., 1., 1., 1., 1., 1., 1., 1., 1., 1., 1., 1., 1.,\n",
              "       1., 1., 1., 1., 1., 1., 1., 1., 1., 1., 1., 1., 1., 1., 1., 1., 1.,\n",
              "       1., 1., 1., 1., 1., 1., 1., 1., 1., 1., 1., 1., 1., 1., 1., 1., 1.,\n",
              "       1., 1., 1., 1., 1., 1., 1., 1., 1., 1., 1., 1., 1., 1., 2., 2., 2.,\n",
              "       2., 2., 2., 2., 2., 2., 2., 2., 2., 2., 2., 2., 2., 2., 2., 2., 2.,\n",
              "       2., 2., 2., 2., 2., 2., 2., 2., 2., 2., 2., 2., 2., 2., 2., 2., 2.,\n",
              "       2., 2., 2., 2., 2., 2., 2., 2., 2., 2., 2., 2., 2., 2., 2., 2., 2.,\n",
              "       2., 2., 2., 2., 2., 2., 2., 2., 2., 2., 2., 2., 2., 2., 3., 3., 3.,\n",
              "       3., 3., 3., 3., 3., 3., 3., 3., 3., 3., 3., 3., 3., 3., 3., 3., 3.,\n",
              "       3., 3., 3., 3., 3., 3., 3., 3., 3., 3., 3., 3., 3., 3., 3., 3., 3.,\n",
              "       3., 3., 3., 3., 3., 3., 3., 3., 3., 3., 3., 3., 3., 3., 3., 3., 3.,\n",
              "       3., 3., 3., 3., 3., 3., 3., 3., 3., 3., 3.])"
            ]
          },
          "metadata": {},
          "execution_count": 11
        }
      ]
    },
    {
      "cell_type": "code",
      "metadata": {
        "id": "gn_2D2HG9I_t"
      },
      "source": [
        "class1, class2, class3 = data[:68], data[68:136], data[136:]"
      ],
      "execution_count": null,
      "outputs": []
    },
    {
      "cell_type": "code",
      "metadata": {
        "colab": {
          "base_uri": "https://localhost:8080/"
        },
        "id": "TDO2oANCGATM",
        "outputId": "eb07732b-5325-46fa-e28f-d36b779011fd"
      },
      "source": [
        "class1.shape"
      ],
      "execution_count": null,
      "outputs": [
        {
          "output_type": "execute_result",
          "data": {
            "text/plain": [
              "(68, 8)"
            ]
          },
          "metadata": {},
          "execution_count": 13
        }
      ]
    },
    {
      "cell_type": "code",
      "metadata": {
        "id": "5O7St7RlE1NY"
      },
      "source": [
        "np.random.shuffle(class1)\n",
        "np.random.shuffle(class2)\n",
        "np.random.shuffle(class3)"
      ],
      "execution_count": null,
      "outputs": []
    },
    {
      "cell_type": "code",
      "metadata": {
        "id": "1uuk-3HTGE9q"
      },
      "source": [
        "X = np.concatenate((class1[:int(0.7*len(class1))], class2[:int(0.7*len(class2))], class3[:int(0.7*len(class3))]))"
      ],
      "execution_count": null,
      "outputs": []
    },
    {
      "cell_type": "code",
      "metadata": {
        "id": "4-WnubgaGHSa"
      },
      "source": [
        "test = np.concatenate((class1[int(0.7*len(class1)):], class2[int(0.7*len(class2)):], class3[int(0.7*len(class3)):]))"
      ],
      "execution_count": null,
      "outputs": []
    },
    {
      "cell_type": "code",
      "metadata": {
        "id": "6MpFaNhKGJSX"
      },
      "source": [
        "xlen = len(X)"
      ],
      "execution_count": null,
      "outputs": []
    },
    {
      "cell_type": "code",
      "metadata": {
        "id": "WeyRmK1PGKur"
      },
      "source": [
        "class_train = [(X[:int(xlen/3), :7]).T, (X[int(xlen/3):2*int(xlen/3), :7]).T,\n",
        "                (X[2*int(xlen/3):, :7]).T]"
      ],
      "execution_count": null,
      "outputs": []
    },
    {
      "cell_type": "code",
      "metadata": {
        "id": "Wl9HBGqoGMcW"
      },
      "source": [
        "# calculate covariance matrices\n",
        "cov = [np.cov(class_train[0]), np.cov(class_train[1]), np.cov(class_train[2])]"
      ],
      "execution_count": null,
      "outputs": []
    },
    {
      "cell_type": "code",
      "metadata": {
        "id": "Ug7HaoxOGP54"
      },
      "source": [
        "# calculate means for each class \n",
        "means = [np.mean(class_train[0], axis=1), np.mean(class_train[1], axis=1), np.mean(class_train[2], axis=1)]"
      ],
      "execution_count": null,
      "outputs": []
    },
    {
      "cell_type": "code",
      "metadata": {
        "id": "oesSRRM1GRt0"
      },
      "source": [
        "# Likelihood function \n",
        "def likelihood(x, c):\n",
        "    den = np.sqrt(2 * np.pi * np.linalg.det(cov[c])) \n",
        "    pow = -0.5 * np.dot(np.dot((x-means[c]).T,np.linalg.inv(cov[c])), (x-means[c]))\n",
        "    return float(np.exp(pow) / den)"
      ],
      "execution_count": null,
      "outputs": []
    },
    {
      "cell_type": "code",
      "metadata": {
        "id": "qXr3rgSoGTdX"
      },
      "source": [
        "# initialize confusion matrix\n",
        "confusion_matrix = np.zeros((3,3))"
      ],
      "execution_count": null,
      "outputs": []
    },
    {
      "cell_type": "code",
      "metadata": {
        "id": "3sO7KmQXG1vd"
      },
      "source": [
        "for row in test:\n",
        "\n",
        "    # calculate predicted class\n",
        "    l = np.argmax([likelihood(row[:7], i) for i in range(3)]) + 1\n",
        "\n",
        "    # update confusion matrix\n",
        "    confusion_matrix[int(row[-1])-1, l-1] += 1"
      ],
      "execution_count": null,
      "outputs": []
    },
    {
      "cell_type": "code",
      "metadata": {
        "id": "sEP45G0OG6Kf"
      },
      "source": [
        "c1 = confusion_matrix[0,0] / np.sum(confusion_matrix[0])\n",
        "c2 = confusion_matrix[1,1] / np.sum(confusion_matrix[1])\n",
        "c3 = confusion_matrix[2,2] / np.sum(confusion_matrix[2])\n",
        "total_accuracy = (confusion_matrix[0,0] + confusion_matrix[1,1] + confusion_matrix[2,2]) / np.sum(confusion_matrix)"
      ],
      "execution_count": null,
      "outputs": []
    },
    {
      "cell_type": "code",
      "metadata": {
        "id": "61OLBFopG8ip",
        "colab": {
          "base_uri": "https://localhost:8080/"
        },
        "outputId": "fba3dbe2-3fa2-4fac-aaf8-5be089fd216f"
      },
      "source": [
        "print(\"Total accuracy: \", total_accuracy)\n",
        "print(\"Class 1 accuracy: \", c1)\n",
        "print(\"Class 2 accuracy: \", c2)\n",
        "print(\"Class 3 accuracy: \", c3)"
      ],
      "execution_count": null,
      "outputs": [
        {
          "output_type": "stream",
          "name": "stdout",
          "text": [
            "Total accuracy:  0.9344262295081968\n",
            "Class 1 accuracy:  0.85\n",
            "Class 2 accuracy:  1.0\n",
            "Class 3 accuracy:  0.95\n"
          ]
        }
      ]
    },
    {
      "cell_type": "code",
      "metadata": {
        "id": "9wkvlK8UG-Sg"
      },
      "source": [
        ""
      ],
      "execution_count": null,
      "outputs": []
    }
  ]
}