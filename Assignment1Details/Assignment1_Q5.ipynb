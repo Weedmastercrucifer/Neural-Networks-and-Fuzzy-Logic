{
  "nbformat": 4,
  "nbformat_minor": 0,
  "metadata": {
    "colab": {
      "name": "Assignment1_Q5.ipynb",
      "provenance": [],
      "collapsed_sections": [],
      "mount_file_id": "1lUyX2bHsN9eVW7PhzGH3iaC3ToEwbUHM",
      "authorship_tag": "ABX9TyPCALHG/ZukShQQ/TTYigm0",
      "include_colab_link": true
    },
    "kernelspec": {
      "name": "python3",
      "display_name": "Python 3"
    },
    "language_info": {
      "name": "python"
    }
  },
  "cells": [
    {
      "cell_type": "markdown",
      "metadata": {
        "id": "view-in-github",
        "colab_type": "text"
      },
      "source": [
        "<a href=\"https://colab.research.google.com/github/Weedmastercrucifer/Neural-Networks-and-Fuzzy-Logic/blob/main/Assignment1Details/Assignment1_Q5.ipynb\" target=\"_parent\"><img src=\"https://colab.research.google.com/assets/colab-badge.svg\" alt=\"Open In Colab\"/></a>"
      ]
    },
    {
      "cell_type": "code",
      "metadata": {
        "id": "1cNpsBOKNN-Z"
      },
      "source": [
        "import pandas as pd\n",
        "import numpy as np\n",
        "import matplotlib.pyplot as plt"
      ],
      "execution_count": null,
      "outputs": []
    },
    {
      "cell_type": "markdown",
      "metadata": {
        "id": "J3jbH_yO0HN3"
      },
      "source": [
        "ASSIGNMENT 1  QUESTION NUMBER 5"
      ]
    },
    {
      "cell_type": "code",
      "metadata": {
        "colab": {
          "base_uri": "https://localhost:8080/",
          "height": 337
        },
        "id": "q7C2PkTFPRDd",
        "outputId": "443198ae-32dd-4929-ac5a-1dd98eed13ee"
      },
      "source": [
        "data=pd.read_excel('/content/drive/MyDrive/Assignment1NNFL/Copy of data_q4_q5.xlsx') \n",
        "data.describe()"
      ],
      "execution_count": null,
      "outputs": [
        {
          "output_type": "execute_result",
          "data": {
            "text/html": [
              "<div>\n",
              "<style scoped>\n",
              "    .dataframe tbody tr th:only-of-type {\n",
              "        vertical-align: middle;\n",
              "    }\n",
              "\n",
              "    .dataframe tbody tr th {\n",
              "        vertical-align: top;\n",
              "    }\n",
              "\n",
              "    .dataframe thead th {\n",
              "        text-align: right;\n",
              "    }\n",
              "</style>\n",
              "<table border=\"1\" class=\"dataframe\">\n",
              "  <thead>\n",
              "    <tr style=\"text-align: right;\">\n",
              "      <th></th>\n",
              "      <th>radius_mean</th>\n",
              "      <th>texture_mean</th>\n",
              "      <th>perimeter_mean</th>\n",
              "      <th>area_mean</th>\n",
              "      <th>smoothness_mean</th>\n",
              "      <th>compactness_mean</th>\n",
              "      <th>concavity_mean</th>\n",
              "      <th>concave points_mean</th>\n",
              "      <th>symmetry_mean</th>\n",
              "      <th>fractal_dimension_mean</th>\n",
              "      <th>radius_se</th>\n",
              "      <th>texture_se</th>\n",
              "      <th>perimeter_se</th>\n",
              "      <th>area_se</th>\n",
              "      <th>smoothness_se</th>\n",
              "      <th>compactness_se</th>\n",
              "      <th>concavity_se</th>\n",
              "      <th>concave points_se</th>\n",
              "      <th>symmetry_se</th>\n",
              "      <th>fractal_dimension_se</th>\n",
              "      <th>radius_worst</th>\n",
              "      <th>texture_worst</th>\n",
              "      <th>perimeter_worst</th>\n",
              "      <th>area_worst</th>\n",
              "      <th>smoothness_worst</th>\n",
              "      <th>compactness_worst</th>\n",
              "      <th>concavity_worst</th>\n",
              "      <th>concave points_worst</th>\n",
              "      <th>symmetry_worst</th>\n",
              "      <th>fractal_dimension_worst</th>\n",
              "    </tr>\n",
              "  </thead>\n",
              "  <tbody>\n",
              "    <tr>\n",
              "      <th>count</th>\n",
              "      <td>569.000000</td>\n",
              "      <td>569.000000</td>\n",
              "      <td>569.000000</td>\n",
              "      <td>569.000000</td>\n",
              "      <td>569.000000</td>\n",
              "      <td>569.000000</td>\n",
              "      <td>569.000000</td>\n",
              "      <td>569.000000</td>\n",
              "      <td>569.000000</td>\n",
              "      <td>569.000000</td>\n",
              "      <td>569.000000</td>\n",
              "      <td>569.000000</td>\n",
              "      <td>569.000000</td>\n",
              "      <td>569.000000</td>\n",
              "      <td>569.000000</td>\n",
              "      <td>569.000000</td>\n",
              "      <td>569.000000</td>\n",
              "      <td>569.000000</td>\n",
              "      <td>569.000000</td>\n",
              "      <td>569.000000</td>\n",
              "      <td>569.000000</td>\n",
              "      <td>569.000000</td>\n",
              "      <td>569.000000</td>\n",
              "      <td>569.000000</td>\n",
              "      <td>569.000000</td>\n",
              "      <td>569.000000</td>\n",
              "      <td>569.000000</td>\n",
              "      <td>569.000000</td>\n",
              "      <td>569.000000</td>\n",
              "      <td>569.000000</td>\n",
              "    </tr>\n",
              "    <tr>\n",
              "      <th>mean</th>\n",
              "      <td>14.127292</td>\n",
              "      <td>19.289649</td>\n",
              "      <td>91.969033</td>\n",
              "      <td>654.889104</td>\n",
              "      <td>0.096360</td>\n",
              "      <td>0.104341</td>\n",
              "      <td>0.088799</td>\n",
              "      <td>0.048919</td>\n",
              "      <td>0.181162</td>\n",
              "      <td>0.062798</td>\n",
              "      <td>0.405172</td>\n",
              "      <td>1.216853</td>\n",
              "      <td>2.866059</td>\n",
              "      <td>40.337079</td>\n",
              "      <td>0.007041</td>\n",
              "      <td>0.025478</td>\n",
              "      <td>0.031894</td>\n",
              "      <td>0.011796</td>\n",
              "      <td>0.020542</td>\n",
              "      <td>0.003795</td>\n",
              "      <td>16.269190</td>\n",
              "      <td>25.677223</td>\n",
              "      <td>107.261213</td>\n",
              "      <td>880.583128</td>\n",
              "      <td>0.132369</td>\n",
              "      <td>0.254265</td>\n",
              "      <td>0.272188</td>\n",
              "      <td>0.114606</td>\n",
              "      <td>0.290076</td>\n",
              "      <td>0.083946</td>\n",
              "    </tr>\n",
              "    <tr>\n",
              "      <th>std</th>\n",
              "      <td>3.524049</td>\n",
              "      <td>4.301036</td>\n",
              "      <td>24.298981</td>\n",
              "      <td>351.914129</td>\n",
              "      <td>0.014064</td>\n",
              "      <td>0.052813</td>\n",
              "      <td>0.079720</td>\n",
              "      <td>0.038803</td>\n",
              "      <td>0.027414</td>\n",
              "      <td>0.007060</td>\n",
              "      <td>0.277313</td>\n",
              "      <td>0.551648</td>\n",
              "      <td>2.021855</td>\n",
              "      <td>45.491006</td>\n",
              "      <td>0.003003</td>\n",
              "      <td>0.017908</td>\n",
              "      <td>0.030186</td>\n",
              "      <td>0.006170</td>\n",
              "      <td>0.008266</td>\n",
              "      <td>0.002646</td>\n",
              "      <td>4.833242</td>\n",
              "      <td>6.146258</td>\n",
              "      <td>33.602542</td>\n",
              "      <td>569.356993</td>\n",
              "      <td>0.022832</td>\n",
              "      <td>0.157336</td>\n",
              "      <td>0.208624</td>\n",
              "      <td>0.065732</td>\n",
              "      <td>0.061867</td>\n",
              "      <td>0.018061</td>\n",
              "    </tr>\n",
              "    <tr>\n",
              "      <th>min</th>\n",
              "      <td>6.981000</td>\n",
              "      <td>9.710000</td>\n",
              "      <td>43.790000</td>\n",
              "      <td>143.500000</td>\n",
              "      <td>0.052630</td>\n",
              "      <td>0.019380</td>\n",
              "      <td>0.000000</td>\n",
              "      <td>0.000000</td>\n",
              "      <td>0.106000</td>\n",
              "      <td>0.049960</td>\n",
              "      <td>0.111500</td>\n",
              "      <td>0.360200</td>\n",
              "      <td>0.757000</td>\n",
              "      <td>6.802000</td>\n",
              "      <td>0.001713</td>\n",
              "      <td>0.002252</td>\n",
              "      <td>0.000000</td>\n",
              "      <td>0.000000</td>\n",
              "      <td>0.007882</td>\n",
              "      <td>0.000895</td>\n",
              "      <td>7.930000</td>\n",
              "      <td>12.020000</td>\n",
              "      <td>50.410000</td>\n",
              "      <td>185.200000</td>\n",
              "      <td>0.071170</td>\n",
              "      <td>0.027290</td>\n",
              "      <td>0.000000</td>\n",
              "      <td>0.000000</td>\n",
              "      <td>0.156500</td>\n",
              "      <td>0.055040</td>\n",
              "    </tr>\n",
              "    <tr>\n",
              "      <th>25%</th>\n",
              "      <td>11.700000</td>\n",
              "      <td>16.170000</td>\n",
              "      <td>75.170000</td>\n",
              "      <td>420.300000</td>\n",
              "      <td>0.086370</td>\n",
              "      <td>0.064920</td>\n",
              "      <td>0.029560</td>\n",
              "      <td>0.020310</td>\n",
              "      <td>0.161900</td>\n",
              "      <td>0.057700</td>\n",
              "      <td>0.232400</td>\n",
              "      <td>0.833900</td>\n",
              "      <td>1.606000</td>\n",
              "      <td>17.850000</td>\n",
              "      <td>0.005169</td>\n",
              "      <td>0.013080</td>\n",
              "      <td>0.015090</td>\n",
              "      <td>0.007638</td>\n",
              "      <td>0.015160</td>\n",
              "      <td>0.002248</td>\n",
              "      <td>13.010000</td>\n",
              "      <td>21.080000</td>\n",
              "      <td>84.110000</td>\n",
              "      <td>515.300000</td>\n",
              "      <td>0.116600</td>\n",
              "      <td>0.147200</td>\n",
              "      <td>0.114500</td>\n",
              "      <td>0.064930</td>\n",
              "      <td>0.250400</td>\n",
              "      <td>0.071460</td>\n",
              "    </tr>\n",
              "    <tr>\n",
              "      <th>50%</th>\n",
              "      <td>13.370000</td>\n",
              "      <td>18.840000</td>\n",
              "      <td>86.240000</td>\n",
              "      <td>551.100000</td>\n",
              "      <td>0.095870</td>\n",
              "      <td>0.092630</td>\n",
              "      <td>0.061540</td>\n",
              "      <td>0.033500</td>\n",
              "      <td>0.179200</td>\n",
              "      <td>0.061540</td>\n",
              "      <td>0.324200</td>\n",
              "      <td>1.108000</td>\n",
              "      <td>2.287000</td>\n",
              "      <td>24.530000</td>\n",
              "      <td>0.006380</td>\n",
              "      <td>0.020450</td>\n",
              "      <td>0.025890</td>\n",
              "      <td>0.010930</td>\n",
              "      <td>0.018730</td>\n",
              "      <td>0.003187</td>\n",
              "      <td>14.970000</td>\n",
              "      <td>25.410000</td>\n",
              "      <td>97.660000</td>\n",
              "      <td>686.500000</td>\n",
              "      <td>0.131300</td>\n",
              "      <td>0.211900</td>\n",
              "      <td>0.226700</td>\n",
              "      <td>0.099930</td>\n",
              "      <td>0.282200</td>\n",
              "      <td>0.080040</td>\n",
              "    </tr>\n",
              "    <tr>\n",
              "      <th>75%</th>\n",
              "      <td>15.780000</td>\n",
              "      <td>21.800000</td>\n",
              "      <td>104.100000</td>\n",
              "      <td>782.700000</td>\n",
              "      <td>0.105300</td>\n",
              "      <td>0.130400</td>\n",
              "      <td>0.130700</td>\n",
              "      <td>0.074000</td>\n",
              "      <td>0.195700</td>\n",
              "      <td>0.066120</td>\n",
              "      <td>0.478900</td>\n",
              "      <td>1.474000</td>\n",
              "      <td>3.357000</td>\n",
              "      <td>45.190000</td>\n",
              "      <td>0.008146</td>\n",
              "      <td>0.032450</td>\n",
              "      <td>0.042050</td>\n",
              "      <td>0.014710</td>\n",
              "      <td>0.023480</td>\n",
              "      <td>0.004558</td>\n",
              "      <td>18.790000</td>\n",
              "      <td>29.720000</td>\n",
              "      <td>125.400000</td>\n",
              "      <td>1084.000000</td>\n",
              "      <td>0.146000</td>\n",
              "      <td>0.339100</td>\n",
              "      <td>0.382900</td>\n",
              "      <td>0.161400</td>\n",
              "      <td>0.317900</td>\n",
              "      <td>0.092080</td>\n",
              "    </tr>\n",
              "    <tr>\n",
              "      <th>max</th>\n",
              "      <td>28.110000</td>\n",
              "      <td>39.280000</td>\n",
              "      <td>188.500000</td>\n",
              "      <td>2501.000000</td>\n",
              "      <td>0.163400</td>\n",
              "      <td>0.345400</td>\n",
              "      <td>0.426800</td>\n",
              "      <td>0.201200</td>\n",
              "      <td>0.304000</td>\n",
              "      <td>0.097440</td>\n",
              "      <td>2.873000</td>\n",
              "      <td>4.885000</td>\n",
              "      <td>21.980000</td>\n",
              "      <td>542.200000</td>\n",
              "      <td>0.031130</td>\n",
              "      <td>0.135400</td>\n",
              "      <td>0.396000</td>\n",
              "      <td>0.052790</td>\n",
              "      <td>0.078950</td>\n",
              "      <td>0.029840</td>\n",
              "      <td>36.040000</td>\n",
              "      <td>49.540000</td>\n",
              "      <td>251.200000</td>\n",
              "      <td>4254.000000</td>\n",
              "      <td>0.222600</td>\n",
              "      <td>1.058000</td>\n",
              "      <td>1.252000</td>\n",
              "      <td>0.291000</td>\n",
              "      <td>0.663800</td>\n",
              "      <td>0.207500</td>\n",
              "    </tr>\n",
              "  </tbody>\n",
              "</table>\n",
              "</div>"
            ],
            "text/plain": [
              "       radius_mean  texture_mean  ...  symmetry_worst  fractal_dimension_worst\n",
              "count   569.000000    569.000000  ...      569.000000               569.000000\n",
              "mean     14.127292     19.289649  ...        0.290076                 0.083946\n",
              "std       3.524049      4.301036  ...        0.061867                 0.018061\n",
              "min       6.981000      9.710000  ...        0.156500                 0.055040\n",
              "25%      11.700000     16.170000  ...        0.250400                 0.071460\n",
              "50%      13.370000     18.840000  ...        0.282200                 0.080040\n",
              "75%      15.780000     21.800000  ...        0.317900                 0.092080\n",
              "max      28.110000     39.280000  ...        0.663800                 0.207500\n",
              "\n",
              "[8 rows x 30 columns]"
            ]
          },
          "metadata": {},
          "execution_count": 2
        }
      ]
    },
    {
      "cell_type": "code",
      "metadata": {
        "id": "7u2-EjAzVvys"
      },
      "source": [
        "#testing models against test data \n",
        "def predict(X_test,y_test,weights):\n",
        "  hypothesis=X_test@weights\n",
        "  y_pred=np.round(sigmoid(hypothesis.astype(float)))\n",
        "  #printing predicted and actual output\n",
        "  #for i in range(X_test.shape[0]):\n",
        "        #print(\"Predicted: {0}  Actual:{1}\".format(y_pred[i],round(y_test[i])))\n",
        "  return y_pred"
      ],
      "execution_count": null,
      "outputs": []
    },
    {
      "cell_type": "code",
      "metadata": {
        "id": "6_l-fjPHWMUZ"
      },
      "source": [
        "def sas(y_pred, y_test):\n",
        "    tp = tn = fp = fn = 0 #initialising true positive, true negative, false positive and false negative\n",
        "    m = y_test.shape[0]\n",
        "    for i in range(m):\n",
        "        if y_pred[i] == 1:\n",
        "            if y_test[i] == 1:\n",
        "                tp+=1\n",
        "            else:\n",
        "                fp+=1\n",
        "        elif y_pred[i] == 0:\n",
        "            if y_test[i] == 0:\n",
        "                tn+=1\n",
        "            else:\n",
        "                fn+=1\n",
        "    se = tp/(tp+fn)\n",
        "    sp = tn/(tn+fp)\n",
        "    ac = (tn+tp)/m\n",
        "    print(\"Sensitivity: {0}, Specificity: {1} and Accuracy: {2}\".format(se,sp,ac)) \n",
        "    return se,sp,ac"
      ],
      "execution_count": null,
      "outputs": []
    },
    {
      "cell_type": "code",
      "metadata": {
        "id": "WM_lMTCAT9v2"
      },
      "source": [
        "def partition(vector, fold, k):\n",
        "    size = vector.shape[0]\n",
        "    start =round((size/k)*fold)\n",
        "    end = round((size/k)*(fold+1))\n",
        "    validation = vector[start:end]\n",
        "    training = np.concatenate((vector[:start], vector[end:])) \n",
        "    print(training.shape)\n",
        "    print(validation.shape)\n",
        "    return training, validation"
      ],
      "execution_count": null,
      "outputs": []
    },
    {
      "cell_type": "code",
      "metadata": {
        "colab": {
          "base_uri": "https://localhost:8080/",
          "height": 243
        },
        "id": "f3KnWJVQdBPc",
        "outputId": "ef8bdc42-051a-4b7d-e89a-827870b7e05b"
      },
      "source": [
        "data.head()"
      ],
      "execution_count": null,
      "outputs": [
        {
          "output_type": "execute_result",
          "data": {
            "text/html": [
              "<div>\n",
              "<style scoped>\n",
              "    .dataframe tbody tr th:only-of-type {\n",
              "        vertical-align: middle;\n",
              "    }\n",
              "\n",
              "    .dataframe tbody tr th {\n",
              "        vertical-align: top;\n",
              "    }\n",
              "\n",
              "    .dataframe thead th {\n",
              "        text-align: right;\n",
              "    }\n",
              "</style>\n",
              "<table border=\"1\" class=\"dataframe\">\n",
              "  <thead>\n",
              "    <tr style=\"text-align: right;\">\n",
              "      <th></th>\n",
              "      <th>radius_mean</th>\n",
              "      <th>texture_mean</th>\n",
              "      <th>perimeter_mean</th>\n",
              "      <th>area_mean</th>\n",
              "      <th>smoothness_mean</th>\n",
              "      <th>compactness_mean</th>\n",
              "      <th>concavity_mean</th>\n",
              "      <th>concave points_mean</th>\n",
              "      <th>symmetry_mean</th>\n",
              "      <th>fractal_dimension_mean</th>\n",
              "      <th>radius_se</th>\n",
              "      <th>texture_se</th>\n",
              "      <th>perimeter_se</th>\n",
              "      <th>area_se</th>\n",
              "      <th>smoothness_se</th>\n",
              "      <th>compactness_se</th>\n",
              "      <th>concavity_se</th>\n",
              "      <th>concave points_se</th>\n",
              "      <th>symmetry_se</th>\n",
              "      <th>fractal_dimension_se</th>\n",
              "      <th>radius_worst</th>\n",
              "      <th>texture_worst</th>\n",
              "      <th>perimeter_worst</th>\n",
              "      <th>area_worst</th>\n",
              "      <th>smoothness_worst</th>\n",
              "      <th>compactness_worst</th>\n",
              "      <th>concavity_worst</th>\n",
              "      <th>concave points_worst</th>\n",
              "      <th>symmetry_worst</th>\n",
              "      <th>fractal_dimension_worst</th>\n",
              "      <th>diagnosis</th>\n",
              "    </tr>\n",
              "  </thead>\n",
              "  <tbody>\n",
              "    <tr>\n",
              "      <th>0</th>\n",
              "      <td>17.99</td>\n",
              "      <td>10.38</td>\n",
              "      <td>122.80</td>\n",
              "      <td>1001.0</td>\n",
              "      <td>0.11840</td>\n",
              "      <td>0.27760</td>\n",
              "      <td>0.3001</td>\n",
              "      <td>0.14710</td>\n",
              "      <td>0.2419</td>\n",
              "      <td>0.07871</td>\n",
              "      <td>1.0950</td>\n",
              "      <td>0.9053</td>\n",
              "      <td>8.589</td>\n",
              "      <td>153.40</td>\n",
              "      <td>0.006399</td>\n",
              "      <td>0.04904</td>\n",
              "      <td>0.05373</td>\n",
              "      <td>0.01587</td>\n",
              "      <td>0.03003</td>\n",
              "      <td>0.006193</td>\n",
              "      <td>25.38</td>\n",
              "      <td>17.33</td>\n",
              "      <td>184.60</td>\n",
              "      <td>2019.0</td>\n",
              "      <td>0.1622</td>\n",
              "      <td>0.6656</td>\n",
              "      <td>0.7119</td>\n",
              "      <td>0.2654</td>\n",
              "      <td>0.4601</td>\n",
              "      <td>0.11890</td>\n",
              "      <td>M</td>\n",
              "    </tr>\n",
              "    <tr>\n",
              "      <th>1</th>\n",
              "      <td>20.57</td>\n",
              "      <td>17.77</td>\n",
              "      <td>132.90</td>\n",
              "      <td>1326.0</td>\n",
              "      <td>0.08474</td>\n",
              "      <td>0.07864</td>\n",
              "      <td>0.0869</td>\n",
              "      <td>0.07017</td>\n",
              "      <td>0.1812</td>\n",
              "      <td>0.05667</td>\n",
              "      <td>0.5435</td>\n",
              "      <td>0.7339</td>\n",
              "      <td>3.398</td>\n",
              "      <td>74.08</td>\n",
              "      <td>0.005225</td>\n",
              "      <td>0.01308</td>\n",
              "      <td>0.01860</td>\n",
              "      <td>0.01340</td>\n",
              "      <td>0.01389</td>\n",
              "      <td>0.003532</td>\n",
              "      <td>24.99</td>\n",
              "      <td>23.41</td>\n",
              "      <td>158.80</td>\n",
              "      <td>1956.0</td>\n",
              "      <td>0.1238</td>\n",
              "      <td>0.1866</td>\n",
              "      <td>0.2416</td>\n",
              "      <td>0.1860</td>\n",
              "      <td>0.2750</td>\n",
              "      <td>0.08902</td>\n",
              "      <td>M</td>\n",
              "    </tr>\n",
              "    <tr>\n",
              "      <th>2</th>\n",
              "      <td>19.69</td>\n",
              "      <td>21.25</td>\n",
              "      <td>130.00</td>\n",
              "      <td>1203.0</td>\n",
              "      <td>0.10960</td>\n",
              "      <td>0.15990</td>\n",
              "      <td>0.1974</td>\n",
              "      <td>0.12790</td>\n",
              "      <td>0.2069</td>\n",
              "      <td>0.05999</td>\n",
              "      <td>0.7456</td>\n",
              "      <td>0.7869</td>\n",
              "      <td>4.585</td>\n",
              "      <td>94.03</td>\n",
              "      <td>0.006150</td>\n",
              "      <td>0.04006</td>\n",
              "      <td>0.03832</td>\n",
              "      <td>0.02058</td>\n",
              "      <td>0.02250</td>\n",
              "      <td>0.004571</td>\n",
              "      <td>23.57</td>\n",
              "      <td>25.53</td>\n",
              "      <td>152.50</td>\n",
              "      <td>1709.0</td>\n",
              "      <td>0.1444</td>\n",
              "      <td>0.4245</td>\n",
              "      <td>0.4504</td>\n",
              "      <td>0.2430</td>\n",
              "      <td>0.3613</td>\n",
              "      <td>0.08758</td>\n",
              "      <td>M</td>\n",
              "    </tr>\n",
              "    <tr>\n",
              "      <th>3</th>\n",
              "      <td>11.42</td>\n",
              "      <td>20.38</td>\n",
              "      <td>77.58</td>\n",
              "      <td>386.1</td>\n",
              "      <td>0.14250</td>\n",
              "      <td>0.28390</td>\n",
              "      <td>0.2414</td>\n",
              "      <td>0.10520</td>\n",
              "      <td>0.2597</td>\n",
              "      <td>0.09744</td>\n",
              "      <td>0.4956</td>\n",
              "      <td>1.1560</td>\n",
              "      <td>3.445</td>\n",
              "      <td>27.23</td>\n",
              "      <td>0.009110</td>\n",
              "      <td>0.07458</td>\n",
              "      <td>0.05661</td>\n",
              "      <td>0.01867</td>\n",
              "      <td>0.05963</td>\n",
              "      <td>0.009208</td>\n",
              "      <td>14.91</td>\n",
              "      <td>26.50</td>\n",
              "      <td>98.87</td>\n",
              "      <td>567.7</td>\n",
              "      <td>0.2098</td>\n",
              "      <td>0.8663</td>\n",
              "      <td>0.6869</td>\n",
              "      <td>0.2575</td>\n",
              "      <td>0.6638</td>\n",
              "      <td>0.17300</td>\n",
              "      <td>M</td>\n",
              "    </tr>\n",
              "    <tr>\n",
              "      <th>4</th>\n",
              "      <td>20.29</td>\n",
              "      <td>14.34</td>\n",
              "      <td>135.10</td>\n",
              "      <td>1297.0</td>\n",
              "      <td>0.10030</td>\n",
              "      <td>0.13280</td>\n",
              "      <td>0.1980</td>\n",
              "      <td>0.10430</td>\n",
              "      <td>0.1809</td>\n",
              "      <td>0.05883</td>\n",
              "      <td>0.7572</td>\n",
              "      <td>0.7813</td>\n",
              "      <td>5.438</td>\n",
              "      <td>94.44</td>\n",
              "      <td>0.011490</td>\n",
              "      <td>0.02461</td>\n",
              "      <td>0.05688</td>\n",
              "      <td>0.01885</td>\n",
              "      <td>0.01756</td>\n",
              "      <td>0.005115</td>\n",
              "      <td>22.54</td>\n",
              "      <td>16.67</td>\n",
              "      <td>152.20</td>\n",
              "      <td>1575.0</td>\n",
              "      <td>0.1374</td>\n",
              "      <td>0.2050</td>\n",
              "      <td>0.4000</td>\n",
              "      <td>0.1625</td>\n",
              "      <td>0.2364</td>\n",
              "      <td>0.07678</td>\n",
              "      <td>M</td>\n",
              "    </tr>\n",
              "  </tbody>\n",
              "</table>\n",
              "</div>"
            ],
            "text/plain": [
              "   radius_mean  texture_mean  ...  fractal_dimension_worst  diagnosis\n",
              "0        17.99         10.38  ...                  0.11890          M\n",
              "1        20.57         17.77  ...                  0.08902          M\n",
              "2        19.69         21.25  ...                  0.08758          M\n",
              "3        11.42         20.38  ...                  0.17300          M\n",
              "4        20.29         14.34  ...                  0.07678          M\n",
              "\n",
              "[5 rows x 31 columns]"
            ]
          },
          "metadata": {},
          "execution_count": 6
        }
      ]
    },
    {
      "cell_type": "code",
      "metadata": {
        "colab": {
          "base_uri": "https://localhost:8080/"
        },
        "id": "fOkj_LGbdCHG",
        "outputId": "ff1caec7-a0f5-481e-8af4-059b1f8ddad3"
      },
      "source": [
        "data.dtypes"
      ],
      "execution_count": null,
      "outputs": [
        {
          "output_type": "execute_result",
          "data": {
            "text/plain": [
              "radius_mean                float64\n",
              "texture_mean               float64\n",
              "perimeter_mean             float64\n",
              "area_mean                  float64\n",
              "smoothness_mean            float64\n",
              "compactness_mean           float64\n",
              "concavity_mean             float64\n",
              "concave points_mean        float64\n",
              "symmetry_mean              float64\n",
              "fractal_dimension_mean     float64\n",
              "radius_se                  float64\n",
              "texture_se                 float64\n",
              "perimeter_se               float64\n",
              "area_se                    float64\n",
              "smoothness_se              float64\n",
              "compactness_se             float64\n",
              "concavity_se               float64\n",
              "concave points_se          float64\n",
              "symmetry_se                float64\n",
              "fractal_dimension_se       float64\n",
              "radius_worst               float64\n",
              "texture_worst              float64\n",
              "perimeter_worst            float64\n",
              "area_worst                 float64\n",
              "smoothness_worst           float64\n",
              "compactness_worst          float64\n",
              "concavity_worst            float64\n",
              "concave points_worst       float64\n",
              "symmetry_worst             float64\n",
              "fractal_dimension_worst    float64\n",
              "diagnosis                   object\n",
              "dtype: object"
            ]
          },
          "metadata": {},
          "execution_count": 7
        }
      ]
    },
    {
      "cell_type": "code",
      "metadata": {
        "colab": {
          "base_uri": "https://localhost:8080/"
        },
        "id": "vthX9497dE0Z",
        "outputId": "763b19da-b3e8-4191-fd3c-50c42797db6c"
      },
      "source": [
        "data['diagnosis'].astype(str)"
      ],
      "execution_count": null,
      "outputs": [
        {
          "output_type": "execute_result",
          "data": {
            "text/plain": [
              "0      M\n",
              "1      M\n",
              "2      M\n",
              "3      M\n",
              "4      M\n",
              "      ..\n",
              "564    M\n",
              "565    M\n",
              "566    M\n",
              "567    M\n",
              "568    B\n",
              "Name: diagnosis, Length: 569, dtype: object"
            ]
          },
          "metadata": {},
          "execution_count": 8
        }
      ]
    },
    {
      "cell_type": "code",
      "metadata": {
        "id": "h9UV7KfocZJK"
      },
      "source": [
        "data=data.sample(frac=1, random_state=50)#randomising data\n",
        "data=np.array(data)"
      ],
      "execution_count": null,
      "outputs": []
    },
    {
      "cell_type": "code",
      "metadata": {
        "id": "-xTr_IblxBCp"
      },
      "source": [
        ""
      ],
      "execution_count": null,
      "outputs": []
    },
    {
      "cell_type": "code",
      "metadata": {
        "id": "ccJfnRf7xgdH"
      },
      "source": [
        ""
      ],
      "execution_count": null,
      "outputs": []
    },
    {
      "cell_type": "code",
      "metadata": {
        "id": "whaxZ4dkbyCh"
      },
      "source": [
        "#sigmoid function\n",
        "def sigmoid(x): \n",
        " return 1.0/(1 + np.exp(-x))"
      ],
      "execution_count": null,
      "outputs": []
    },
    {
      "cell_type": "code",
      "metadata": {
        "id": "0VGw2C5ydUJO"
      },
      "source": [
        "#cost for an observation\n",
        "def logistic_loss(y_train,y_pred):\n",
        "  loss = -y_train * np.log(y_pred)\n",
        "  loss -= (1-y_train)*np.log(1-y_pred)\n",
        "  return loss"
      ],
      "execution_count": null,
      "outputs": []
    },
    {
      "cell_type": "code",
      "metadata": {
        "id": "vTyAgri3tBn5"
      },
      "source": [
        "def cost_function_no_regu(X,y,w):\n",
        "  hypothesis=sigmoid(np.dot(X,w.T).astype(float))\n",
        "  J=(1/(2*len(y)))*np.sum(logistic_loss(y,hypothesis))\n",
        "  return J"
      ],
      "execution_count": null,
      "outputs": []
    },
    {
      "cell_type": "code",
      "metadata": {
        "id": "hYTWFDcMvBnX"
      },
      "source": [
        "def batch_gradient_descent_no_regu(X,y,w,alpha,iters):\n",
        "  cost_hist=np.zeros(iters)#initialising cost function for each iteration \n",
        "  w_hist=np.zeros((iters,31))#for storing weight values at each iteration \n",
        "  for t in range(iters): \n",
        "    \n",
        "    hypothesis=sigmoid(np.dot(X,w.T).astype(float))\n",
        "    w=w-(alpha/len(y))*(np.dot(hypothesis-y,X))#updating the weight value\n",
        "    w_hist[t]=w\n",
        "    cost_hist[t]=cost_function_no_regu(X,y,w)#storing the cost function value for that iteration\n",
        "  minpos=np.argmin(cost_hist)\n",
        "  w_best=w_hist[minpos]  \n",
        "  return w_best,cost_hist,w_hist  \n",
        "\n"
      ],
      "execution_count": null,
      "outputs": []
    },
    {
      "cell_type": "code",
      "metadata": {
        "id": "sfZzXZrNzAKY"
      },
      "source": [
        "def stochastic_gradient_descent_no_regu(X,y,w,alpha,iters):\n",
        "  cost_hist=np.zeros(iters)#initialising cost function for each iteration \n",
        "  w_hist=np.zeros((iters,31))#for storing weight values at each iteration \n",
        "  for t in range(iters):\n",
        "    index=np.random.randint(len(y))#randomly selecting an index from the dataset\n",
        "    Ind_X=X[index:index+1]#selecting features of that index\n",
        "    Ind_Y=y[index:index+1]#selecting the true output of that index \n",
        "    w=w-alpha*(Ind_X.T.dot(sigmoid(np.dot(Ind_X,w.T).astype(float))-Ind_Y))#updating weight value\n",
        "    w_hist[t]=w\n",
        "    cost_hist[t]=cost_function_no_regu(X,y,w)\n",
        "  minpos=np.argmin(cost_hist)\n",
        "  w_best=w_hist[minpos]  \n",
        "  return w_best,cost_hist,w_hist  "
      ],
      "execution_count": null,
      "outputs": []
    },
    {
      "cell_type": "code",
      "metadata": {
        "id": "53IQzdaH0R8n"
      },
      "source": [
        "def minibatch_gradient_descent_no_regu(X,y,w,alpha,iters,batch_size):\n",
        "  cost_hist=np.zeros(iters)#initialising cost function for each iteration \n",
        "  w_hist=np.zeros((iters,31))#for storing weight values at each iteration\n",
        "  for t in range(iters):\n",
        "    index=np.random.randint(len(y))#randomly selecting an index from the dataset\n",
        "    Ind_X=X[index:index+batch_size]#selecting features from that index to index+batchsize-1\n",
        "    Ind_Y=y[index:index+batch_size]#selecting the true outputs from that index to index+batch_size-1\n",
        "    w=w-(alpha/batch_size)*(Ind_X.T.dot(sigmoid(np.dot(Ind_X,w.T).astype(float))-Ind_Y))#updating weight value\n",
        "    w_hist[t]=w\n",
        "    cost_hist[t]=cost_function_no_regu(X,y,w)\n",
        "  minpos=np.argmin(cost_hist)\n",
        "  w_best=w_hist[minpos]  \n",
        "  return w_best,cost_hist,w_hist"
      ],
      "execution_count": null,
      "outputs": []
    },
    {
      "cell_type": "code",
      "metadata": {
        "id": "cZnEsBSW5yyY"
      },
      "source": [
        "def cost_function_L2_regu(X,y,w,L2): \n",
        "  hypothesis=sigmoid(np.dot(X,w.T).astype(float))\n",
        "  J=(1/(2*len(y)))*np.sum(logistic_loss(y,hypothesis))+((L2/(2*len(y)))*np.sum(w**2)) \n",
        "  return J\n",
        "\n"
      ],
      "execution_count": null,
      "outputs": []
    },
    {
      "cell_type": "code",
      "metadata": {
        "id": "d0bAqwOq7xh7"
      },
      "source": [
        "def batch_gradient_descent_L2_regu(X,y,w,alpha,iters,Lambda_):\n",
        "  cost_hist=np.zeros(iters)#storing cost function value of each iteration\n",
        "  w_hist=np.zeros((iters,31))#for storing weight values at each iteration\n",
        "  for t in range(iters): \n",
        "    hypothesis=sigmoid(np.dot(X,w.T).astype(float)) \n",
        "    w=(w*(1-(alpha*Lambda_)))-(alpha/len(y))*(np.dot(hypothesis-y,X))#updating the weight value\n",
        "    w_hist[t]=w\n",
        "    cost_hist[t]=cost_function_L2_regu(X,y,w,Lambda_)#storing the cost function value for that iteration\n",
        "  minpos=np.argmin(cost_hist)\n",
        "  w_best=w_hist[minpos]  \n",
        "  return w_best,cost_hist,w_hist\n",
        "\n"
      ],
      "execution_count": null,
      "outputs": []
    },
    {
      "cell_type": "code",
      "metadata": {
        "id": "CNGmUCZa8UK2"
      },
      "source": [
        "def stochastic_gradient_descent_L2_regu(X,y,w,alpha,iters,Lambda_):\n",
        "  cost_hist=np.zeros(iters)#initialising cost function for each iteration \n",
        "  w_hist=np.zeros((iters,31))#for storing weight values at each iteration \n",
        "  for t in range(iters):\n",
        "    index=np.random.randint(len(y))#randomly selecting an index from the dataset\n",
        "    Ind_X=X[index:index+1]#selecting features of that index\n",
        "    Ind_Y=y[index:index+1]#selecting the true output of that index \n",
        "    w=(w*(1-(alpha*Lambda_)))-alpha*(Ind_X.T.dot(sigmoid(np.dot(Ind_X,w.T).astype(float))-Ind_Y))#updating weight value\n",
        "    w_hist[t]=w\n",
        "    cost_hist[t]=cost_function_L2_regu(X,y,w,Lambda_)\n",
        "  minpos=np.argmin(cost_hist)\n",
        "  w_best=w_hist[minpos]  \n",
        "  return w_best,cost_hist,w_hist "
      ],
      "execution_count": null,
      "outputs": []
    },
    {
      "cell_type": "code",
      "metadata": {
        "id": "Bn637koO8iID"
      },
      "source": [
        "def minibatch_gradient_descent_L2_regu(X,y,w,alpha,iters,batch_size,Lambda_):\n",
        "  cost_hist=np.zeros(iters)#initialising cost function for each iteration \n",
        "  w_hist=np.zeros((iters,31))#for storing weight values at each iteration\n",
        "  for t in range(iters):\n",
        "    index=np.random.randint(len(y))#randomly selecting an index from the dataset\n",
        "    Ind_X=X[index:index+batch_size]#selecting features from that index to index+batchsize-1\n",
        "    Ind_Y=y[index:index+batch_size]#selecting the true outputs from that index to index+batch_size-1\n",
        "    w=(w*(1-(alpha*Lambda_)))-(alpha/batch_size)*(Ind_X.T.dot(sigmoid(np.dot(Ind_X,w.T).astype(float))-Ind_Y))#updating weight value\n",
        "    w_hist[t]=w\n",
        "    cost_hist[t]=cost_function_L2_regu(X,y,w,Lambda_)\n",
        "  minpos=np.argmin(cost_hist)\n",
        "  w_best=w_hist[minpos]  \n",
        "  return w_best,cost_hist,w_hist"
      ],
      "execution_count": null,
      "outputs": []
    },
    {
      "cell_type": "code",
      "metadata": {
        "id": "8-dUlbIEKtnw"
      },
      "source": [
        "def cost_function_L1_regu(X,y,w,L1): \n",
        "  hypothesis=sigmoid(np.dot(X,w.T).astype(float))  \n",
        "  J=(1/(2*len(y)))*np.sum(logistic_loss(y,hypothesis))+((L1/(2*len(y)))*np.sum(abs(w))) \n",
        "  return J\n"
      ],
      "execution_count": null,
      "outputs": []
    },
    {
      "cell_type": "code",
      "metadata": {
        "id": "KzgY40NI-iw0"
      },
      "source": [
        "def batch_gradient_descent_L1_regu(X,y,w,alpha,iters,Lambda_): \n",
        "  cost_hist=np.zeros(iters)#storing cost function value of each iteration\n",
        "  w_hist=np.zeros((iters,31))#for storing weight values at each iteration\n",
        "  for t in range(iters): \n",
        "    hypothesis=sigmoid(np.dot(X,w.T).astype(float)) \n",
        "    w=w-((alpha*Lambda_)/2)*np.sign(w)-(alpha/len(y))*(np.dot(hypothesis-y,X))#updating the weight value \n",
        "    w_hist[t]=w\n",
        "    cost_hist[t]=cost_function_L1_regu(X,y,w,Lambda_)#storing the cost function value for that iteration \n",
        "  minpos=np.argmin(cost_hist)\n",
        "  w_best=w_hist[minpos]\n",
        "  return w_best,cost_hist,w_hist\n"
      ],
      "execution_count": null,
      "outputs": []
    },
    {
      "cell_type": "code",
      "metadata": {
        "id": "PA1LVCzBLKv5"
      },
      "source": [
        "def stochastic_gradient_descent_L1_regu(X,y,w,alpha,iters,Lambda_):\n",
        "  cost_hist=np.zeros(iters)#initialising cost function for each iteration \n",
        "  w_hist=np.zeros((iters,31))#for storing weight values at each iteration \n",
        "  for t in range(iters):\n",
        "    index=np.random.randint(len(y))#randomly selecting an index from the dataset\n",
        "    Ind_X=X[index:index+1]#selecting features of that index\n",
        "    Ind_Y=y[index:index+1]#selecting the true output of that index \n",
        "    w=w-((alpha*Lambda_)/2)*np.sign(w) -alpha*(Ind_X.T.dot(sigmoid(np.dot(Ind_X,w.T).astype(float))-Ind_Y))#updating weight value \n",
        "    w_hist[t]=w\n",
        "    cost_hist[t]=cost_function_L1_regu(X,y,w,Lambda_)#storing the cost function value for that iteration\n",
        "  minpos=np.argmin(cost_hist)\n",
        "  w_best=w_hist[minpos]  \n",
        "  return w_best,cost_hist,w_hist"
      ],
      "execution_count": null,
      "outputs": []
    },
    {
      "cell_type": "code",
      "metadata": {
        "id": "hjO3NpeMLyc8"
      },
      "source": [
        "def minibatch_gradient_descent_L1_regu(X,y,w,alpha,iters,batch_size,Lambda_):\n",
        "  cost_hist=np.zeros(iters)#initialising cost function for each iteration \n",
        "  w_hist=np.zeros((iters,31))#for storing weight values at each iteration\n",
        "  for t in range(iters):\n",
        "    index=np.random.randint(len(y))#randomly selecting an index from the dataset\n",
        "    Ind_X=X[index:index+batch_size]#selecting features from that index to index+batchsize-1\n",
        "    Ind_Y=y[index:index+batch_size]#selecting the true outputs from that index to index+batch_size-1 \n",
        "    w=w-((alpha*Lambda_)/2)*np.sign(w)-(alpha/batch_size)*(Ind_X.T.dot(sigmoid(np.dot(Ind_X,w.T).astype(float))-Ind_Y))#updating weight value \n",
        "    w_hist[t]=w\n",
        "    cost_hist[t]=cost_function_L1_regu(X,y,w,Lambda_)#storing the cost function value for that iteration\n",
        "  minpos=np.argmin(cost_hist)\n",
        "  w_best=w_hist[minpos]  \n",
        "  return w_best,cost_hist,w_hist"
      ],
      "execution_count": null,
      "outputs": []
    },
    {
      "cell_type": "code",
      "metadata": {
        "id": "nz3WQAmWsoY7"
      },
      "source": [
        "def Cross_Validation(w, k, examples, labels,c,alpha,iters,Lambda_):\n",
        "    train_folds_score = []\n",
        "    test_folds_score = []  \n",
        "    cost_hist=np.zeros(iters)#storing cost function value of each iteration\n",
        "    w_hist=np.zeros((iters,31))#for storing weight values at each iteration \n",
        "    w_best=np.zeros(31)\n",
        "    if (c==1):\n",
        "      #for batch gradient descent with no regularization\n",
        "      for fold in range(0, k):  \n",
        "        \n",
        "        training_set, test_set = partition(examples, fold, k)\n",
        "        training_labels, test_labels = partition(labels, fold, k)  \n",
        "        w_best,cost_hist,w_hist=batch_gradient_descent_no_regu(training_set,training_labels,w,alpha,iters)\n",
        "        training_predicted=predict(training_set,training_labels,w_best)\n",
        "        test_predicted=predict(test_set,test_labels,w_best)\n",
        "        train_folds_score.append(sas(training_predicted,training_labels))\n",
        "        test_folds_score.append(sas(test_predicted,test_labels)) \n",
        "    elif (c==2):\n",
        "      #for stochastic gradient descent with no regularization \n",
        "      for fold in range(0, k):  \n",
        "        \n",
        "        training_set, test_set = partition(examples, fold, k)\n",
        "        training_labels, test_labels = partition(labels, fold, k)  \n",
        "        w_best,cost_hist,w_hist=stochastic_gradient_descent_no_regu(training_set,training_labels,w,alpha,iters)\n",
        "        training_predicted=predict(training_set,training_labels,w_best)\n",
        "        test_predicted=predict(test_set,test_labels,w_best)\n",
        "        train_folds_score.append(sas(training_predicted,training_labels))\n",
        "        test_folds_score.append(sas(test_predicted,test_labels))\n",
        "    elif (c==3):\n",
        "      #for minibatch gradient descent with no regularization \n",
        "      for fold in range(0, k):  \n",
        "        \n",
        "        training_set, test_set = partition(examples, fold, k)\n",
        "        training_labels, test_labels = partition(labels, fold, k)  \n",
        "        w_best,cost_hist,w_hist=minibatch_gradient_descent_no_regu(training_set,training_labels,w,alpha,iters,5)\n",
        "        training_predicted=predict(training_set,training_labels,w_best)\n",
        "        test_predicted=predict(test_set,test_labels,w_best)\n",
        "        train_folds_score.append(sas(training_predicted,training_labels))\n",
        "        test_folds_score.append(sas(test_predicted,test_labels))\n",
        "    elif (c==4):\n",
        "      #for batch gradient descent with L2 regularization \n",
        "      for fold in range(0, k):  \n",
        "        \n",
        "        training_set, test_set = partition(examples, fold, k)\n",
        "        training_labels, test_labels = partition(labels, fold, k)  \n",
        "        w_best,cost_hist,w_hist=batch_gradient_descent_L2_regu(training_set,training_labels,w,alpha,iters,Lambda_)\n",
        "        training_predicted=predict(training_set,training_labels,w_best)\n",
        "        test_predicted=predict(test_set,test_labels,w_best)\n",
        "        train_folds_score.append(sas(training_predicted,training_labels))\n",
        "        test_folds_score.append(sas(test_predicted,test_labels))  \n",
        "    elif (c==5):\n",
        "      #for stochastic gradient descent with L2 regularization \n",
        "      for fold in range(0, k):  \n",
        "        \n",
        "        training_set, test_set = partition(examples, fold, k)\n",
        "        training_labels, test_labels = partition(labels, fold, k)  \n",
        "        w_best,cost_hist,w_hist=stochastic_gradient_descent_L2_regu(training_set,training_labels,w,alpha,iters,Lambda_)\n",
        "        training_predicted=predict(training_set,training_labels,w_best)\n",
        "        test_predicted=predict(test_set,test_labels,w_best)\n",
        "        train_folds_score.append(sas(training_predicted,training_labels))\n",
        "        test_folds_score.append(sas(test_predicted,test_labels)) \n",
        "\n",
        "    elif (c==6):\n",
        "      #for minibatch gradient descent with L2 regularization \n",
        "      for fold in range(0, k):  \n",
        "        \n",
        "        training_set, test_set = partition(examples, fold, k)\n",
        "        training_labels, test_labels = partition(labels, fold, k)  \n",
        "        w_best,cost_hist,w_hist=minibatch_gradient_descent_L2_regu(training_set,training_labels,w,alpha,iters,5,Lambda_)\n",
        "        training_predicted=predict(training_set,training_labels,w_best)\n",
        "        test_predicted=predict(test_set,test_labels,w_best)\n",
        "        train_folds_score.append(sas(training_predicted,training_labels))\n",
        "        test_folds_score.append(sas(test_predicted,test_labels))   \n",
        "    elif (c==7):\n",
        "      #for batch gradient descent with L1 regularization \n",
        "      for fold in range(0, k):  \n",
        "        \n",
        "        training_set, test_set = partition(examples, fold, k)\n",
        "        training_labels, test_labels = partition(labels, fold, k)  \n",
        "        w_best,cost_hist,w_hist=batch_gradient_descent_L1_regu(training_set,training_labels,w,alpha,iters,Lambda_)\n",
        "        training_predicted=predict(training_set,training_labels,w_best)\n",
        "        test_predicted=predict(test_set,test_labels,w_best)\n",
        "        train_folds_score.append(sas(training_predicted,training_labels))\n",
        "        test_folds_score.append(sas(test_predicted,test_labels))    \n",
        "    elif (c==8):\n",
        "      #for stochastic gradient descent with L1 regularization \n",
        "      for fold in range(0, k):  \n",
        "        \n",
        "        training_set, test_set = partition(examples, fold, k)\n",
        "        training_labels, test_labels = partition(labels, fold, k)  \n",
        "        w_best,cost_hist,w_hist=stochastic_gradient_descent_L1_regu(training_set,training_labels,w,alpha,iters,Lambda_)\n",
        "        training_predicted=predict(training_set,training_labels,w_best)\n",
        "        test_predicted=predict(test_set,test_labels,w_best)\n",
        "        train_folds_score.append(sas(training_predicted,training_labels))\n",
        "        test_folds_score.append(sas(test_predicted,test_labels))  \n",
        "    elif (c==9):\n",
        "      #for minibatch gradient descent with L1 regularization \n",
        "      for fold in range(0, k):  \n",
        "        \n",
        "        training_set, test_set = partition(examples, fold, k)\n",
        "        training_labels, test_labels = partition(labels, fold, k)  \n",
        "        w_best,cost_hist,w_hist=minibatch_gradient_descent_L1_regu(training_set,training_labels,w,alpha,iters,5,Lambda_)\n",
        "        training_predicted=predict(training_set,training_labels,w_best)\n",
        "        test_predicted=predict(test_set,test_labels,w_best)\n",
        "        train_folds_score.append(sas(training_predicted,training_labels))\n",
        "        test_folds_score.append(sas(test_predicted,test_labels))         \n",
        "\n",
        "\n",
        "\n",
        "      \n",
        "        \n",
        "\n",
        "\n",
        "    return w_best,cost_hist,w_hist,train_folds_score, test_folds_score"
      ],
      "execution_count": null,
      "outputs": []
    },
    {
      "cell_type": "code",
      "metadata": {
        "id": "_mx4ZYqUumDU"
      },
      "source": [
        "w=np.zeros(31)\n",
        "alpha=0.05\n",
        "iters=2000\n",
        "Lambda_=0.005 \n",
        "samples=data[:,0:30]\n",
        "labels=data[:,30] \n",
        "labels=np.where(labels=='B',0,1)"
      ],
      "execution_count": null,
      "outputs": []
    },
    {
      "cell_type": "code",
      "metadata": {
        "id": "brKT_RbSqi3a"
      },
      "source": [
        "samples_min=np.min(samples,axis=0)\n",
        "samples_max=np.max(samples,axis=0) \n",
        "m=samples.shape[0]  \n",
        "samples=(samples-samples_min)/(samples_max-samples_min)#normalisation of input features\n",
        "pp=np.ones([m,1])\n",
        "samples=np.append(pp,samples,axis=1)\n"
      ],
      "execution_count": null,
      "outputs": []
    },
    {
      "cell_type": "code",
      "metadata": {
        "colab": {
          "base_uri": "https://localhost:8080/"
        },
        "id": "coo6ModdrklF",
        "outputId": "c5ac10b8-e712-470f-cecf-7756e2d656b2"
      },
      "source": [
        "samples.shape"
      ],
      "execution_count": null,
      "outputs": [
        {
          "output_type": "execute_result",
          "data": {
            "text/plain": [
              "(569, 31)"
            ]
          },
          "metadata": {},
          "execution_count": 27
        }
      ]
    },
    {
      "cell_type": "code",
      "metadata": {
        "colab": {
          "base_uri": "https://localhost:8080/"
        },
        "id": "4g3Gdb0HrmLg",
        "outputId": "32acda69-735c-45af-e838-95d98f27f40a"
      },
      "source": [
        "samples"
      ],
      "execution_count": null,
      "outputs": [
        {
          "output_type": "execute_result",
          "data": {
            "text/plain": [
              "array([[1.0, 0.28723555303137877, 0.30030436252959075, ...,\n",
              "        0.4323024054982818, 0.3051448846836192, 0.18450741178013905],\n",
              "       [1.0, 0.15045671825453172, 0.3341224213730132, ...,\n",
              "        0.07670103092783505, 0.13739404691504045, 0.08120162665617209],\n",
              "       [1.0, 0.43821288276775994, 0.3063916131214068, ...,\n",
              "        0.5951890034364261, 0.2375320323280111, 0.3362193362193363],\n",
              "       ...,\n",
              "       [1.0, 0.20772398125798663, 0.3104497801826175, ...,\n",
              "        0.21316151202749142, 0.3355016755371575, 0.09773055227600685],\n",
              "       [1.0, 0.20630413176203324, 0.3905985796415286, ...,\n",
              "        0.2844673539518901, 0.24916223142124974, 0.2182867637413092],\n",
              "       [1.0, 0.24511335131809364, 0.2813662495772743, ...,\n",
              "        0.19553264604810996, 0.16577961758328408, 0.14593991866719142]],\n",
              "      dtype=object)"
            ]
          },
          "metadata": {},
          "execution_count": 28
        }
      ]
    },
    {
      "cell_type": "code",
      "metadata": {
        "colab": {
          "base_uri": "https://localhost:8080/"
        },
        "id": "vroRe4ekzNNn",
        "outputId": "bde9a81c-7bba-4565-bf41-7932b4553779"
      },
      "source": [
        "labels"
      ],
      "execution_count": null,
      "outputs": [
        {
          "output_type": "execute_result",
          "data": {
            "text/plain": [
              "array([0, 0, 1, 0, 0, 0, 0, 0, 0, 0, 0, 0, 0, 0, 0, 0, 0, 1, 1, 1, 0, 0,\n",
              "       0, 0, 0, 0, 1, 0, 0, 1, 0, 0, 1, 1, 0, 0, 0, 0, 0, 0, 0, 1, 1, 0,\n",
              "       0, 0, 0, 1, 0, 1, 0, 1, 0, 0, 0, 1, 1, 0, 0, 0, 0, 1, 0, 0, 1, 0,\n",
              "       0, 0, 0, 1, 1, 0, 1, 0, 1, 1, 0, 0, 1, 0, 1, 0, 0, 0, 1, 1, 1, 0,\n",
              "       0, 1, 1, 1, 1, 0, 0, 1, 0, 0, 1, 0, 0, 0, 0, 0, 0, 1, 1, 0, 1, 1,\n",
              "       0, 1, 1, 0, 0, 0, 1, 0, 1, 1, 0, 0, 1, 0, 0, 0, 1, 1, 1, 1, 0, 1,\n",
              "       0, 1, 1, 0, 0, 0, 0, 1, 0, 1, 1, 0, 0, 0, 0, 0, 0, 1, 0, 1, 1, 0,\n",
              "       0, 0, 0, 0, 0, 1, 0, 0, 0, 0, 0, 0, 1, 0, 0, 0, 1, 1, 0, 1, 0, 0,\n",
              "       1, 1, 1, 1, 0, 0, 0, 0, 1, 0, 1, 0, 0, 0, 0, 0, 1, 1, 0, 1, 1, 0,\n",
              "       1, 0, 1, 0, 0, 1, 1, 1, 0, 0, 1, 1, 1, 1, 0, 0, 0, 1, 0, 0, 0, 1,\n",
              "       1, 1, 1, 0, 1, 1, 1, 0, 1, 0, 0, 0, 0, 1, 0, 0, 0, 0, 0, 1, 0, 0,\n",
              "       0, 1, 1, 0, 0, 0, 0, 1, 1, 1, 0, 0, 0, 0, 0, 0, 1, 0, 0, 1, 0, 0,\n",
              "       0, 0, 1, 0, 0, 0, 0, 1, 1, 1, 0, 0, 0, 0, 0, 1, 1, 1, 0, 0, 0, 1,\n",
              "       0, 0, 0, 0, 1, 1, 0, 0, 1, 0, 0, 1, 1, 1, 1, 1, 1, 1, 1, 0, 0, 1,\n",
              "       1, 0, 0, 1, 1, 1, 0, 0, 0, 1, 0, 1, 0, 1, 1, 0, 0, 1, 1, 0, 0, 0,\n",
              "       0, 1, 0, 0, 1, 0, 0, 1, 1, 0, 0, 0, 0, 0, 0, 0, 0, 0, 0, 1, 0, 0,\n",
              "       0, 0, 1, 0, 0, 0, 1, 0, 1, 1, 0, 0, 0, 0, 1, 1, 0, 1, 0, 1, 1, 0,\n",
              "       0, 0, 0, 1, 1, 0, 0, 0, 1, 0, 0, 0, 0, 1, 0, 1, 0, 0, 0, 0, 0, 0,\n",
              "       0, 0, 0, 0, 0, 0, 0, 0, 0, 0, 0, 0, 0, 0, 0, 0, 1, 1, 0, 1, 0, 1,\n",
              "       0, 0, 0, 0, 0, 0, 1, 1, 1, 1, 0, 1, 1, 0, 1, 1, 1, 0, 1, 0, 0, 1,\n",
              "       0, 1, 1, 0, 1, 0, 1, 1, 0, 1, 1, 0, 1, 1, 0, 1, 1, 0, 1, 1, 1, 0,\n",
              "       1, 0, 0, 0, 0, 0, 0, 0, 1, 0, 0, 0, 0, 0, 0, 0, 0, 0, 0, 0, 1, 0,\n",
              "       0, 0, 0, 0, 1, 0, 0, 1, 0, 1, 0, 0, 0, 0, 0, 0, 0, 1, 1, 0, 1, 1,\n",
              "       0, 1, 1, 1, 0, 1, 1, 0, 1, 0, 0, 0, 1, 0, 1, 0, 1, 0, 1, 0, 1, 0,\n",
              "       1, 0, 0, 0, 0, 0, 1, 0, 0, 1, 1, 0, 1, 1, 0, 0, 0, 0, 0, 0, 0, 0,\n",
              "       1, 1, 0, 0, 0, 0, 0, 1, 1, 1, 0, 0, 1, 1, 1, 1, 0, 0, 0])"
            ]
          },
          "metadata": {},
          "execution_count": 29
        }
      ]
    },
    {
      "cell_type": "code",
      "metadata": {
        "id": "Rc_vTzT6NhcD",
        "colab": {
          "base_uri": "https://localhost:8080/"
        },
        "outputId": "51c49dbb-1f77-49b6-be9e-fad749ae9ba8"
      },
      "source": [
        "w_batch_no_regu,cost_hist_batch_no_regu,w_hist_batch_no_regu,train_folds_score_batch_no_regu, test_folds_score_batch_no_regu=Cross_Validation(w,5,samples,labels,1,alpha,iters,Lambda_)"
      ],
      "execution_count": null,
      "outputs": [
        {
          "output_type": "stream",
          "name": "stdout",
          "text": [
            "(455, 31)\n",
            "(114, 31)\n",
            "(455,)\n",
            "(114,)\n",
            "Sensitivity: 0.8901734104046243, Specificity: 0.9893617021276596 and Accuracy: 0.9516483516483516\n",
            "Sensitivity: 0.9230769230769231, Specificity: 0.96 and Accuracy: 0.9473684210526315\n",
            "(455, 31)\n",
            "(114, 31)\n",
            "(455,)\n",
            "(114,)\n",
            "Sensitivity: 0.8650306748466258, Specificity: 0.9931506849315068 and Accuracy: 0.9472527472527472\n",
            "Sensitivity: 0.8571428571428571, Specificity: 0.9846153846153847 and Accuracy: 0.9298245614035088\n",
            "(456, 31)\n",
            "(113, 31)\n",
            "(456,)\n",
            "(113,)\n",
            "Sensitivity: 0.8928571428571429, Specificity: 0.9895833333333334 and Accuracy: 0.9539473684210527\n",
            "Sensitivity: 0.7272727272727273, Specificity: 1.0 and Accuracy: 0.8938053097345132\n",
            "(455, 31)\n",
            "(114, 31)\n",
            "(455,)\n",
            "(114,)\n",
            "Sensitivity: 0.8728323699421965, Specificity: 0.9858156028368794 and Accuracy: 0.9428571428571428\n",
            "Sensitivity: 0.9230769230769231, Specificity: 1.0 and Accuracy: 0.9736842105263158\n",
            "(455, 31)\n",
            "(114, 31)\n",
            "(455,)\n",
            "(114,)\n",
            "Sensitivity: 0.8713450292397661, Specificity: 0.9823943661971831 and Accuracy: 0.9406593406593406\n",
            "Sensitivity: 0.9024390243902439, Specificity: 1.0 and Accuracy: 0.9649122807017544\n"
          ]
        }
      ]
    },
    {
      "cell_type": "code",
      "metadata": {
        "id": "D50LR0YxizwF",
        "colab": {
          "base_uri": "https://localhost:8080/",
          "height": 265
        },
        "outputId": "28bf00cd-e8f6-48ee-d97d-6757ad43a0ce"
      },
      "source": [
        "plt.plot(range(iters),cost_hist_batch_no_regu)\n",
        "plt.show()\n",
        "\n"
      ],
      "execution_count": null,
      "outputs": [
        {
          "output_type": "display_data",
          "data": {
            "image/png": "[encoded data removed]",
            "text/plain": [
              "<Figure size 432x288 with 1 Axes>"
            ]
          },
          "metadata": {
            "needs_background": "light"
          }
        }
      ]
    },
    {
      "cell_type": "code",
      "metadata": {
        "id": "fXNdCfmJsRVF"
      },
      "source": [
        ""
      ],
      "execution_count": null,
      "outputs": []
    },
    {
      "cell_type": "code",
      "metadata": {
        "colab": {
          "base_uri": "https://localhost:8080/"
        },
        "id": "Gti_-8s7wFKZ",
        "outputId": "017af25f-27b0-44ff-c61f-c4f3ea547fa3"
      },
      "source": [
        "w_stoch_no_regu,cost_hist_stoch_no_regu,w_hist_stoch_no_regu,train_folds_score_stoch_no_regu, test_folds_score_stoch_no_regu=Cross_Validation(w,5,samples,labels,2,alpha,iters,Lambda_)"
      ],
      "execution_count": null,
      "outputs": [
        {
          "output_type": "stream",
          "name": "stdout",
          "text": [
            "(455, 31)\n",
            "(114, 31)\n",
            "(455,)\n",
            "(114,)\n",
            "Sensitivity: 0.8959537572254336, Specificity: 0.9893617021276596 and Accuracy: 0.9538461538461539\n",
            "Sensitivity: 0.9230769230769231, Specificity: 0.96 and Accuracy: 0.9473684210526315\n",
            "(455, 31)\n",
            "(114, 31)\n",
            "(455,)\n",
            "(114,)\n",
            "Sensitivity: 0.8711656441717791, Specificity: 0.9931506849315068 and Accuracy: 0.9494505494505494\n",
            "Sensitivity: 0.8571428571428571, Specificity: 0.9846153846153847 and Accuracy: 0.9298245614035088\n",
            "(456, 31)\n",
            "(113, 31)\n",
            "(456,)\n",
            "(113,)\n",
            "Sensitivity: 0.8690476190476191, Specificity: 0.9895833333333334 and Accuracy: 0.9451754385964912\n",
            "Sensitivity: 0.7045454545454546, Specificity: 0.9855072463768116 and Accuracy: 0.8761061946902655\n",
            "(455, 31)\n",
            "(114, 31)\n",
            "(455,)\n",
            "(114,)\n",
            "Sensitivity: 0.8728323699421965, Specificity: 0.9858156028368794 and Accuracy: 0.9428571428571428\n",
            "Sensitivity: 0.9230769230769231, Specificity: 1.0 and Accuracy: 0.9736842105263158\n",
            "(455, 31)\n",
            "(114, 31)\n",
            "(455,)\n",
            "(114,)\n",
            "Sensitivity: 0.8771929824561403, Specificity: 0.9823943661971831 and Accuracy: 0.9428571428571428\n",
            "Sensitivity: 0.9024390243902439, Specificity: 1.0 and Accuracy: 0.9649122807017544\n"
          ]
        }
      ]
    },
    {
      "cell_type": "code",
      "metadata": {
        "colab": {
          "base_uri": "https://localhost:8080/",
          "height": 265
        },
        "id": "WfGFFm-zwk0u",
        "outputId": "73762d5e-17fc-4ba6-aa93-365bd61741d9"
      },
      "source": [
        "plt.plot(range(iters),cost_hist_stoch_no_regu)\n",
        "plt.show()"
      ],
      "execution_count": null,
      "outputs": [
        {
          "output_type": "display_data",
          "data": {
            "image/png": "[encoded data removed]",
            "text/plain": [
              "<Figure size 432x288 with 1 Axes>"
            ]
          },
          "metadata": {
            "needs_background": "light"
          }
        }
      ]
    },
    {
      "cell_type": "code",
      "metadata": {
        "id": "7dANsqXElwEi",
        "colab": {
          "base_uri": "https://localhost:8080/"
        },
        "outputId": "57fa3a69-6b81-4969-a313-85b4fc14c28f"
      },
      "source": [
        "w_mini_no_regu,cost_hist_mini_no_regu,w_hist_mini_no_regu,train_folds_score_mini_no_regu, test_folds_score_mini_no_regu=Cross_Validation(w,5,samples,labels,3,alpha,iters,Lambda_)"
      ],
      "execution_count": null,
      "outputs": [
        {
          "output_type": "stream",
          "name": "stdout",
          "text": [
            "(455, 31)\n",
            "(114, 31)\n",
            "(455,)\n",
            "(114,)\n",
            "Sensitivity: 0.8728323699421965, Specificity: 0.9929078014184397 and Accuracy: 0.9472527472527472\n",
            "Sensitivity: 0.9230769230769231, Specificity: 0.96 and Accuracy: 0.9473684210526315\n",
            "(455, 31)\n",
            "(114, 31)\n",
            "(455,)\n",
            "(114,)\n",
            "Sensitivity: 0.8404907975460123, Specificity: 0.9931506849315068 and Accuracy: 0.9384615384615385\n",
            "Sensitivity: 0.7959183673469388, Specificity: 0.9846153846153847 and Accuracy: 0.9035087719298246\n",
            "(456, 31)\n",
            "(113, 31)\n",
            "(456,)\n",
            "(113,)\n",
            "Sensitivity: 0.8809523809523809, Specificity: 0.9895833333333334 and Accuracy: 0.9495614035087719\n",
            "Sensitivity: 0.7272727272727273, Specificity: 1.0 and Accuracy: 0.8938053097345132\n",
            "(455, 31)\n",
            "(114, 31)\n",
            "(455,)\n",
            "(114,)\n",
            "Sensitivity: 0.8786127167630058, Specificity: 0.9858156028368794 and Accuracy: 0.945054945054945\n",
            "Sensitivity: 0.9230769230769231, Specificity: 0.9866666666666667 and Accuracy: 0.9649122807017544\n",
            "(455, 31)\n",
            "(114, 31)\n",
            "(455,)\n",
            "(114,)\n",
            "Sensitivity: 0.8713450292397661, Specificity: 0.9823943661971831 and Accuracy: 0.9406593406593406\n",
            "Sensitivity: 0.9024390243902439, Specificity: 1.0 and Accuracy: 0.9649122807017544\n"
          ]
        }
      ]
    },
    {
      "cell_type": "code",
      "metadata": {
        "colab": {
          "base_uri": "https://localhost:8080/",
          "height": 265
        },
        "id": "IA2zdCsnwfDl",
        "outputId": "02af27a0-d24c-41c4-db2a-5736bb26e0c6"
      },
      "source": [
        "plt.plot(range(iters),cost_hist_mini_no_regu)\n",
        "plt.show()"
      ],
      "execution_count": null,
      "outputs": [
        {
          "output_type": "display_data",
          "data": {
            "image/png": "[encoded data removed]",
            "text/plain": [
              "<Figure size 432x288 with 1 Axes>"
            ]
          },
          "metadata": {
            "needs_background": "light"
          }
        }
      ]
    },
    {
      "cell_type": "code",
      "metadata": {
        "colab": {
          "base_uri": "https://localhost:8080/"
        },
        "id": "5uqCZEBWwstE",
        "outputId": "90e118f3-dd5c-4b17-e526-44eb8569eb71"
      },
      "source": [
        "w_batch_L2_regu,cost_hist_batch_L2_regu,w_hist_batch_L2_regu,train_folds_score_batch_L2_regu, test_folds_score_batch_L2_regu=Cross_Validation(w,5,samples,labels,4,alpha,iters,Lambda_)"
      ],
      "execution_count": null,
      "outputs": [
        {
          "output_type": "stream",
          "name": "stdout",
          "text": [
            "(455, 31)\n",
            "(114, 31)\n",
            "(455,)\n",
            "(114,)\n",
            "Sensitivity: 0.8728323699421965, Specificity: 0.9929078014184397 and Accuracy: 0.9472527472527472\n",
            "Sensitivity: 0.9230769230769231, Specificity: 0.96 and Accuracy: 0.9473684210526315\n",
            "(455, 31)\n",
            "(114, 31)\n",
            "(455,)\n",
            "(114,)\n",
            "Sensitivity: 0.8404907975460123, Specificity: 0.9931506849315068 and Accuracy: 0.9384615384615385\n",
            "Sensitivity: 0.7959183673469388, Specificity: 0.9846153846153847 and Accuracy: 0.9035087719298246\n",
            "(456, 31)\n",
            "(113, 31)\n",
            "(456,)\n",
            "(113,)\n",
            "Sensitivity: 0.8630952380952381, Specificity: 0.9895833333333334 and Accuracy: 0.9429824561403509\n",
            "Sensitivity: 0.7045454545454546, Specificity: 1.0 and Accuracy: 0.8849557522123894\n",
            "(455, 31)\n",
            "(114, 31)\n",
            "(455,)\n",
            "(114,)\n",
            "Sensitivity: 0.861271676300578, Specificity: 0.9893617021276596 and Accuracy: 0.9406593406593406\n",
            "Sensitivity: 0.8974358974358975, Specificity: 1.0 and Accuracy: 0.9649122807017544\n",
            "(455, 31)\n",
            "(114, 31)\n",
            "(455,)\n",
            "(114,)\n",
            "Sensitivity: 0.8654970760233918, Specificity: 0.9823943661971831 and Accuracy: 0.9384615384615385\n",
            "Sensitivity: 0.9024390243902439, Specificity: 1.0 and Accuracy: 0.9649122807017544\n"
          ]
        }
      ]
    },
    {
      "cell_type": "code",
      "metadata": {
        "colab": {
          "base_uri": "https://localhost:8080/",
          "height": 265
        },
        "id": "r7NfZ8cyw9G4",
        "outputId": "4893413f-4793-4877-d794-899a5eb5dbc9"
      },
      "source": [
        "plt.plot(range(iters),cost_hist_batch_L2_regu)\n",
        "plt.show()"
      ],
      "execution_count": null,
      "outputs": [
        {
          "output_type": "display_data",
          "data": {
            "image/png": "[encoded data removed]",
            "text/plain": [
              "<Figure size 432x288 with 1 Axes>"
            ]
          },
          "metadata": {
            "needs_background": "light"
          }
        }
      ]
    },
    {
      "cell_type": "code",
      "metadata": {
        "colab": {
          "base_uri": "https://localhost:8080/"
        },
        "id": "yaAXZbEQxHGi",
        "outputId": "e14e159d-18d9-4933-ad4e-42ebc0a0244f"
      },
      "source": [
        "w_stoch_L2_regu,cost_hist_stoch_L2_regu,w_hist_stoch_L2_regu,train_folds_score_stoch_L2_regu, test_folds_score_stoch_L2_regu=Cross_Validation(w,5,samples,labels,5,alpha,iters,Lambda_)"
      ],
      "execution_count": null,
      "outputs": [
        {
          "output_type": "stream",
          "name": "stdout",
          "text": [
            "(455, 31)\n",
            "(114, 31)\n",
            "(455,)\n",
            "(114,)\n",
            "Sensitivity: 0.884393063583815, Specificity: 0.9858156028368794 and Accuracy: 0.9472527472527472\n",
            "Sensitivity: 0.9230769230769231, Specificity: 0.96 and Accuracy: 0.9473684210526315\n",
            "(455, 31)\n",
            "(114, 31)\n",
            "(455,)\n",
            "(114,)\n",
            "Sensitivity: 0.8711656441717791, Specificity: 0.9897260273972602 and Accuracy: 0.9472527472527472\n",
            "Sensitivity: 0.8775510204081632, Specificity: 0.9846153846153847 and Accuracy: 0.9385964912280702\n",
            "(456, 31)\n",
            "(113, 31)\n",
            "(456,)\n",
            "(113,)\n",
            "Sensitivity: 0.8988095238095238, Specificity: 0.9861111111111112 and Accuracy: 0.9539473684210527\n",
            "Sensitivity: 0.7727272727272727, Specificity: 0.9855072463768116 and Accuracy: 0.9026548672566371\n",
            "(455, 31)\n",
            "(114, 31)\n",
            "(455,)\n",
            "(114,)\n",
            "Sensitivity: 0.8497109826589595, Specificity: 0.9893617021276596 and Accuracy: 0.9362637362637363\n",
            "Sensitivity: 0.8974358974358975, Specificity: 1.0 and Accuracy: 0.9649122807017544\n",
            "(455, 31)\n",
            "(114, 31)\n",
            "(455,)\n",
            "(114,)\n",
            "Sensitivity: 0.847953216374269, Specificity: 0.9859154929577465 and Accuracy: 0.9340659340659341\n",
            "Sensitivity: 0.9024390243902439, Specificity: 1.0 and Accuracy: 0.9649122807017544\n"
          ]
        }
      ]
    },
    {
      "cell_type": "code",
      "metadata": {
        "colab": {
          "base_uri": "https://localhost:8080/",
          "height": 265
        },
        "id": "4kII15ADxanQ",
        "outputId": "0421f5d5-8127-48e3-ca92-c9fee30a27f8"
      },
      "source": [
        "plt.plot(range(iters),cost_hist_stoch_L2_regu)\n",
        "plt.show()"
      ],
      "execution_count": null,
      "outputs": [
        {
          "output_type": "display_data",
          "data": {
            "image/png": "[encoded data removed]",
            "text/plain": [
              "<Figure size 432x288 with 1 Axes>"
            ]
          },
          "metadata": {
            "needs_background": "light"
          }
        }
      ]
    },
    {
      "cell_type": "code",
      "metadata": {
        "colab": {
          "base_uri": "https://localhost:8080/"
        },
        "id": "90PnQPl4xiGu",
        "outputId": "e6f9fee5-80e9-47e0-aef3-73589a6d1312"
      },
      "source": [
        "w_mini_L2_regu,cost_hist_mini_L2_regu,w_hist_mini_L2_regu,train_folds_score_mini_L2_regu, test_folds_score_mini_L2_regu=Cross_Validation(w,5,samples,labels,6,alpha,iters,Lambda_)"
      ],
      "execution_count": null,
      "outputs": [
        {
          "output_type": "stream",
          "name": "stdout",
          "text": [
            "(455, 31)\n",
            "(114, 31)\n",
            "(455,)\n",
            "(114,)\n",
            "Sensitivity: 0.8670520231213873, Specificity: 0.9929078014184397 and Accuracy: 0.945054945054945\n",
            "Sensitivity: 0.9230769230769231, Specificity: 0.96 and Accuracy: 0.9473684210526315\n",
            "(455, 31)\n",
            "(114, 31)\n",
            "(455,)\n",
            "(114,)\n",
            "Sensitivity: 0.8711656441717791, Specificity: 0.9863013698630136 and Accuracy: 0.945054945054945\n",
            "Sensitivity: 0.8571428571428571, Specificity: 0.9846153846153847 and Accuracy: 0.9298245614035088\n",
            "(456, 31)\n",
            "(113, 31)\n",
            "(456,)\n",
            "(113,)\n",
            "Sensitivity: 0.8869047619047619, Specificity: 0.9895833333333334 and Accuracy: 0.9517543859649122\n",
            "Sensitivity: 0.7272727272727273, Specificity: 0.9855072463768116 and Accuracy: 0.8849557522123894\n",
            "(455, 31)\n",
            "(114, 31)\n",
            "(455,)\n",
            "(114,)\n",
            "Sensitivity: 0.8439306358381503, Specificity: 0.9893617021276596 and Accuracy: 0.9340659340659341\n",
            "Sensitivity: 0.8974358974358975, Specificity: 1.0 and Accuracy: 0.9649122807017544\n",
            "(455, 31)\n",
            "(114, 31)\n",
            "(455,)\n",
            "(114,)\n",
            "Sensitivity: 0.8654970760233918, Specificity: 0.9823943661971831 and Accuracy: 0.9384615384615385\n",
            "Sensitivity: 0.9024390243902439, Specificity: 1.0 and Accuracy: 0.9649122807017544\n"
          ]
        }
      ]
    },
    {
      "cell_type": "code",
      "metadata": {
        "colab": {
          "base_uri": "https://localhost:8080/",
          "height": 265
        },
        "id": "fxvZdW0uxxyC",
        "outputId": "ac595d65-168e-4c51-fd51-c6ac8d807313"
      },
      "source": [
        "plt.plot(range(iters),cost_hist_mini_L2_regu)\n",
        "plt.show()"
      ],
      "execution_count": null,
      "outputs": [
        {
          "output_type": "display_data",
          "data": {
            "image/png": "[encoded data removed]",
            "text/plain": [
              "<Figure size 432x288 with 1 Axes>"
            ]
          },
          "metadata": {
            "needs_background": "light"
          }
        }
      ]
    },
    {
      "cell_type": "code",
      "metadata": {
        "colab": {
          "base_uri": "https://localhost:8080/"
        },
        "id": "ihGrXQSax5L8",
        "outputId": "aecc2357-08cc-4b85-a5f9-0efb09eba6ce"
      },
      "source": [
        "w_batch_L1_regu,cost_hist_batch_L1_regu,w_hist_batch_L1_regu,train_folds_score_batch_L1_regu, test_folds_score_batch_L1_regu=Cross_Validation(w,5,samples,labels,7,alpha,iters,Lambda_)"
      ],
      "execution_count": null,
      "outputs": [
        {
          "output_type": "stream",
          "name": "stdout",
          "text": [
            "(455, 31)\n",
            "(114, 31)\n",
            "(455,)\n",
            "(114,)\n",
            "Sensitivity: 0.8728323699421965, Specificity: 0.9858156028368794 and Accuracy: 0.9428571428571428\n",
            "Sensitivity: 0.9230769230769231, Specificity: 0.96 and Accuracy: 0.9473684210526315\n",
            "(455, 31)\n",
            "(114, 31)\n",
            "(455,)\n",
            "(114,)\n",
            "Sensitivity: 0.852760736196319, Specificity: 0.9931506849315068 and Accuracy: 0.9428571428571428\n",
            "Sensitivity: 0.8367346938775511, Specificity: 0.9846153846153847 and Accuracy: 0.9210526315789473\n",
            "(456, 31)\n",
            "(113, 31)\n",
            "(456,)\n",
            "(113,)\n",
            "Sensitivity: 0.8809523809523809, Specificity: 0.9895833333333334 and Accuracy: 0.9495614035087719\n",
            "Sensitivity: 0.75, Specificity: 1.0 and Accuracy: 0.9026548672566371\n",
            "(455, 31)\n",
            "(114, 31)\n",
            "(455,)\n",
            "(114,)\n",
            "Sensitivity: 0.8670520231213873, Specificity: 0.9893617021276596 and Accuracy: 0.9428571428571428\n",
            "Sensitivity: 0.8717948717948718, Specificity: 1.0 and Accuracy: 0.956140350877193\n",
            "(455, 31)\n",
            "(114, 31)\n",
            "(455,)\n",
            "(114,)\n",
            "Sensitivity: 0.8654970760233918, Specificity: 0.9823943661971831 and Accuracy: 0.9384615384615385\n",
            "Sensitivity: 0.9024390243902439, Specificity: 0.9863013698630136 and Accuracy: 0.956140350877193\n"
          ]
        }
      ]
    },
    {
      "cell_type": "code",
      "metadata": {
        "colab": {
          "base_uri": "https://localhost:8080/",
          "height": 265
        },
        "id": "pjfbKkD2yJ7B",
        "outputId": "e38f3b27-33e9-486d-9238-8faf8edc10fb"
      },
      "source": [
        "plt.plot(range(iters),cost_hist_batch_L1_regu)\n",
        "plt.show()"
      ],
      "execution_count": null,
      "outputs": [
        {
          "output_type": "display_data",
          "data": {
            "image/png": "[encoded data removed]",
            "text/plain": [
              "<Figure size 432x288 with 1 Axes>"
            ]
          },
          "metadata": {
            "needs_background": "light"
          }
        }
      ]
    },
    {
      "cell_type": "code",
      "metadata": {
        "colab": {
          "base_uri": "https://localhost:8080/"
        },
        "id": "nRno9kdjyUD5",
        "outputId": "0b94cf56-2546-4c24-fddc-23a5a7120c15"
      },
      "source": [
        "w_stoch_L1_regu,cost_hist_stoch_L1_regu,w_hist_stoch_L1_regu,train_folds_score_stoch_L1_regu, test_folds_score_stoch_L1_regu=Cross_Validation(w,5,samples,labels,8,alpha,iters,Lambda_)"
      ],
      "execution_count": null,
      "outputs": [
        {
          "output_type": "stream",
          "name": "stdout",
          "text": [
            "(455, 31)\n",
            "(114, 31)\n",
            "(455,)\n",
            "(114,)\n",
            "Sensitivity: 0.8786127167630058, Specificity: 0.9893617021276596 and Accuracy: 0.9472527472527472\n",
            "Sensitivity: 0.9230769230769231, Specificity: 0.96 and Accuracy: 0.9473684210526315\n",
            "(455, 31)\n",
            "(114, 31)\n",
            "(455,)\n",
            "(114,)\n",
            "Sensitivity: 0.8773006134969326, Specificity: 0.9828767123287672 and Accuracy: 0.945054945054945\n",
            "Sensitivity: 0.8979591836734694, Specificity: 0.9692307692307692 and Accuracy: 0.9385964912280702\n",
            "(456, 31)\n",
            "(113, 31)\n",
            "(456,)\n",
            "(113,)\n",
            "Sensitivity: 0.8809523809523809, Specificity: 0.9895833333333334 and Accuracy: 0.9495614035087719\n",
            "Sensitivity: 0.75, Specificity: 1.0 and Accuracy: 0.9026548672566371\n",
            "(455, 31)\n",
            "(114, 31)\n",
            "(455,)\n",
            "(114,)\n",
            "Sensitivity: 0.8554913294797688, Specificity: 0.9929078014184397 and Accuracy: 0.9406593406593406\n",
            "Sensitivity: 0.8717948717948718, Specificity: 1.0 and Accuracy: 0.956140350877193\n",
            "(455, 31)\n",
            "(114, 31)\n",
            "(455,)\n",
            "(114,)\n",
            "Sensitivity: 0.8713450292397661, Specificity: 0.9788732394366197 and Accuracy: 0.9384615384615385\n",
            "Sensitivity: 0.9024390243902439, Specificity: 0.9863013698630136 and Accuracy: 0.956140350877193\n"
          ]
        }
      ]
    },
    {
      "cell_type": "code",
      "metadata": {
        "colab": {
          "base_uri": "https://localhost:8080/",
          "height": 265
        },
        "id": "d-TJ9jb4zk16",
        "outputId": "76d21f84-0428-4f5e-89bb-cc4ea01f0c8c"
      },
      "source": [
        "plt.plot(range(iters),cost_hist_stoch_L1_regu)\n",
        "plt.show()"
      ],
      "execution_count": null,
      "outputs": [
        {
          "output_type": "display_data",
          "data": {
            "image/png": "[encoded data removed]",
            "text/plain": [
              "<Figure size 432x288 with 1 Axes>"
            ]
          },
          "metadata": {
            "needs_background": "light"
          }
        }
      ]
    },
    {
      "cell_type": "code",
      "metadata": {
        "colab": {
          "base_uri": "https://localhost:8080/"
        },
        "id": "n2eq9VIyzrMl",
        "outputId": "9698b01b-adad-4610-e2bd-47df33c1783e"
      },
      "source": [
        "w_mini_L1_regu,cost_hist_mini_L1_regu,w_hist_mini_L1_regu,train_folds_score_mini_L1_regu, test_folds_score_mini_L1_regu=Cross_Validation(w,5,samples,labels,9,alpha,iters,Lambda_)"
      ],
      "execution_count": null,
      "outputs": [
        {
          "output_type": "stream",
          "name": "stdout",
          "text": [
            "(455, 31)\n",
            "(114, 31)\n",
            "(455,)\n",
            "(114,)\n",
            "Sensitivity: 0.884393063583815, Specificity: 0.9858156028368794 and Accuracy: 0.9472527472527472\n",
            "Sensitivity: 0.9230769230769231, Specificity: 0.96 and Accuracy: 0.9473684210526315\n",
            "(455, 31)\n",
            "(114, 31)\n",
            "(455,)\n",
            "(114,)\n",
            "Sensitivity: 0.8650306748466258, Specificity: 0.9931506849315068 and Accuracy: 0.9472527472527472\n",
            "Sensitivity: 0.8571428571428571, Specificity: 0.9846153846153847 and Accuracy: 0.9298245614035088\n",
            "(456, 31)\n",
            "(113, 31)\n",
            "(456,)\n",
            "(113,)\n",
            "Sensitivity: 0.8690476190476191, Specificity: 0.9895833333333334 and Accuracy: 0.9451754385964912\n",
            "Sensitivity: 0.7272727272727273, Specificity: 1.0 and Accuracy: 0.8938053097345132\n",
            "(455, 31)\n",
            "(114, 31)\n",
            "(455,)\n",
            "(114,)\n",
            "Sensitivity: 0.8497109826589595, Specificity: 0.9893617021276596 and Accuracy: 0.9362637362637363\n",
            "Sensitivity: 0.8717948717948718, Specificity: 1.0 and Accuracy: 0.956140350877193\n",
            "(455, 31)\n",
            "(114, 31)\n",
            "(455,)\n",
            "(114,)\n",
            "Sensitivity: 0.8596491228070176, Specificity: 0.9859154929577465 and Accuracy: 0.9384615384615385\n",
            "Sensitivity: 0.8780487804878049, Specificity: 1.0 and Accuracy: 0.956140350877193\n"
          ]
        }
      ]
    },
    {
      "cell_type": "code",
      "metadata": {
        "colab": {
          "base_uri": "https://localhost:8080/",
          "height": 265
        },
        "id": "o22haR7Az8_S",
        "outputId": "1eb66693-eb4a-47f1-8994-cb1aed82fa00"
      },
      "source": [
        "plt.plot(range(iters),cost_hist_mini_L1_regu)\n",
        "plt.show()"
      ],
      "execution_count": null,
      "outputs": [
        {
          "output_type": "display_data",
          "data": {
            "image/png": "[encoded data removed]",
            "text/plain": [
              "<Figure size 432x288 with 1 Axes>"
            ]
          },
          "metadata": {
            "needs_background": "light"
          }
        }
      ]
    },
    {
      "cell_type": "code",
      "metadata": {
        "id": "Ywrj0j690CjV"
      },
      "source": [
        ""
      ],
      "execution_count": null,
      "outputs": []
    }
  ]
}