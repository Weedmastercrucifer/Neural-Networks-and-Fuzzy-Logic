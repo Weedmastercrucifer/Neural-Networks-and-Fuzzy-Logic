{
  "nbformat": 4,
  "nbformat_minor": 0,
  "metadata": {
    "colab": {
      "name": "Assignment1_Q2.ipynb",
      "provenance": [],
      "mount_file_id": "1N3APGc15Yhw5H0J_JIwKym2xdWaMUxJv",
      "authorship_tag": "ABX9TyME8o32dWlfwfJIehwygICX",
      "include_colab_link": true
    },
    "kernelspec": {
      "display_name": "Python 3",
      "name": "python3"
    },
    "language_info": {
      "name": "python"
    }
  },
  "cells": [
    {
      "cell_type": "markdown",
      "metadata": {
        "id": "view-in-github",
        "colab_type": "text"
      },
      "source": [
        "<a href=\"https://colab.research.google.com/github/Weedmastercrucifer/Neural-Networks-and-Fuzzy-Logic/blob/main/Assignment1Details/Assignment1_Q2.ipynb\" target=\"_parent\"><img src=\"https://colab.research.google.com/assets/colab-badge.svg\" alt=\"Open In Colab\"/></a>"
      ]
    },
    {
      "cell_type": "code",
      "metadata": {
        "id": "Zbex4RuzhmbK"
      },
      "source": [
        "import pandas as pd\n",
        "import numpy as np\n",
        "import matplotlib.pyplot as plt\n",
        "import math"
      ],
      "execution_count": null,
      "outputs": []
    },
    {
      "cell_type": "markdown",
      "metadata": {
        "id": "yQ7dllE-1KyF"
      },
      "source": [
        "Assignment 1 Q2"
      ]
    },
    {
      "cell_type": "code",
      "metadata": {
        "id": "0u-KYONrgf0b"
      },
      "source": [
        "def cost_function(X,y,w,L):\n",
        "  hypothesis=np.dot(X,w.T)#calculating hypothesis of all instances\n",
        "  J=(1/(2*len(y)))*np.sum((hypothesis-y)**2)+((L/(2*len(y)))*np.sum(w**2))\n",
        "  return J\n"
      ],
      "execution_count": null,
      "outputs": []
    },
    {
      "cell_type": "code",
      "metadata": {
        "id": "NDyO7bkXi_vZ"
      },
      "source": [
        "def batch_gradient_descent(X,y,w,alpha,iters,Lambda_):\n",
        "  cost_hist=np.zeros(iters)#storing cost function value of each iteration\n",
        "  w_hist=np.zeros((iters,5))#for storing weight values at each iteration\n",
        "  for t in range(iters): \n",
        "    hw=np.dot(X,w.T)#constructing hypothesis\n",
        "    w=(w*(1-(alpha*Lambda_)))-(alpha/len(y))*(np.dot(hw-y,X))#updating the weight value \n",
        "    w_hist[t]=w #storing weight values\n",
        "    cost_hist[t]=cost_function(X,y,w,Lambda_)#storing the cost function value for that iteration\n",
        "  minpos=np.argmin(cost_hist)\n",
        "  w_best=w_hist[minpos]  \n",
        "  return w,cost_hist,w_hist,w_best,cost_hist[minpos]\n"
      ],
      "execution_count": null,
      "outputs": []
    },
    {
      "cell_type": "code",
      "metadata": {
        "id": "f1BL_jkZkkkt"
      },
      "source": [
        "def stochastic_gradient_descent(X,y,w,alpha,iters,Lambda_):\n",
        "  cost_hist=np.zeros(iters)#initialising cost function for each iteration \n",
        "  w_hist=np.zeros((iters,5))#for storing weight values at each iteration\n",
        "  for t in range(iters):\n",
        "    index=np.random.randint(len(y))#randomly selecting an index from the dataset\n",
        "    Ind_X=X[index:index+1]#selecting features of that index\n",
        "    Ind_Y=y[index:index+1]#selecting the true output of that index\n",
        "    w=(w*(1-(alpha*Lambda_)))-alpha*(Ind_X.T.dot(Ind_X.dot(w)-Ind_Y))#updation of weight value \n",
        "    w_hist[t]=w\n",
        "    cost_hist[t]=cost_function(X,y,w,Lambda_)\n",
        "  minpos=np.argmin(cost_hist)\n",
        "  w_best=w_hist[minpos]  \n",
        "  return w,cost_hist,w_hist,w_best,cost_hist[minpos]"
      ],
      "execution_count": null,
      "outputs": []
    },
    {
      "cell_type": "code",
      "metadata": {
        "id": "nTDlQku3k9Rk"
      },
      "source": [
        "def minibatch_gradient_descent(X,y,w,alpha,iters,batch_size,Lambda_):\n",
        "  cost_hist=np.zeros(iters)#initialising cost function for each iteration \n",
        "  w_hist=np.zeros((iters,5))#for storing weight values at each iteration\n",
        "  for t in range(iters):\n",
        "    index=np.random.randint(len(y))#randomly selecting an index from the dataset\n",
        "    Ind_X=X[index:index+batch_size]#selecting features from that index to index+batchsize-1\n",
        "    Ind_Y=y[index:index+batch_size]#selecting the true outputs from that index to index+batch_size-1\n",
        "    w=(w*(1-(alpha*Lambda_)))-(alpha/batch_size)*(Ind_X.T.dot(Ind_X.dot(w)-Ind_Y))#updating thw weight value \n",
        "    w_hist[t]=w\n",
        "    cost_hist[t]=cost_function(X,y,w,Lambda_) \n",
        "  minpos=np.argmin(cost_hist)\n",
        "  w_best=w_hist[minpos]\n",
        "  return w,cost_hist,w_hist,w_best,cost_hist[minpos]"
      ],
      "execution_count": null,
      "outputs": []
    },
    {
      "cell_type": "code",
      "metadata": {
        "id": "HrFerKPGIeCq"
      },
      "source": [
        "#For mean square error\n",
        "def mean_square_error(y_pred,y_actual):\n",
        "  mse=(1/len(y_actual))*(np.sum(y_pred-y_actual)**2)\n",
        "  return mse\n",
        "  "
      ],
      "execution_count": null,
      "outputs": []
    },
    {
      "cell_type": "code",
      "metadata": {
        "id": "k57bU2ruJ1q3"
      },
      "source": [
        "#For mean absolute error\n",
        "def mean_absolute_error(y_pred,y_actual):\n",
        "  mae=(1/len(y_actual))*np.sum(np.absolute(y_pred-y_actual)) \n",
        "  return mae"
      ],
      "execution_count": null,
      "outputs": []
    },
    {
      "cell_type": "code",
      "metadata": {
        "id": "0h8K0NnWLkvB"
      },
      "source": [
        "#for correlation coefficient \n",
        "def correlation_coefficient(y_pred,y_actual):\n",
        "  y_pred_mean=(1/len(y_pred))*(np.sum(y_pred))\n",
        "  y_actual_mean=(1/len(y_actual))*(np.sum(y_actual))\n",
        "  cc=(np.sum((y_actual-y_actual_mean)*(y_pred-y_pred_mean)))/(np.sqrt(np.sum((y_actual-y_actual_mean)**2))*np.sqrt(np.sum((y_pred-y_pred_mean)**2)))\n",
        "  return cc\n"
      ],
      "execution_count": null,
      "outputs": []
    },
    {
      "cell_type": "code",
      "metadata": {
        "colab": {
          "base_uri": "https://localhost:8080/",
          "height": 300
        },
        "id": "M-3ZT8vilTJK",
        "outputId": "873a663c-753e-4f50-abec-26a97b1dc5dc"
      },
      "source": [
        "data=pd.read_excel('/content/drive/MyDrive/Assignment1NNFL/Copy of data_q2_q3.xlsx')\n",
        "data.describe()"
      ],
      "execution_count": null,
      "outputs": [
        {
          "output_type": "execute_result",
          "data": {
            "text/html": [
              "<div>\n",
              "<style scoped>\n",
              "    .dataframe tbody tr th:only-of-type {\n",
              "        vertical-align: middle;\n",
              "    }\n",
              "\n",
              "    .dataframe tbody tr th {\n",
              "        vertical-align: top;\n",
              "    }\n",
              "\n",
              "    .dataframe thead th {\n",
              "        text-align: right;\n",
              "    }\n",
              "</style>\n",
              "<table border=\"1\" class=\"dataframe\">\n",
              "  <thead>\n",
              "    <tr style=\"text-align: right;\">\n",
              "      <th></th>\n",
              "      <th>Feat1</th>\n",
              "      <th>Feat2</th>\n",
              "      <th>Feat3</th>\n",
              "      <th>Feat4</th>\n",
              "      <th>Output</th>\n",
              "    </tr>\n",
              "  </thead>\n",
              "  <tbody>\n",
              "    <tr>\n",
              "      <th>count</th>\n",
              "      <td>115.00000</td>\n",
              "      <td>115.000000</td>\n",
              "      <td>115.000000</td>\n",
              "      <td>115.000000</td>\n",
              "      <td>115.000000</td>\n",
              "    </tr>\n",
              "    <tr>\n",
              "      <th>mean</th>\n",
              "      <td>0.16287</td>\n",
              "      <td>0.075435</td>\n",
              "      <td>3.117391</td>\n",
              "      <td>4.795652</td>\n",
              "      <td>1.913043</td>\n",
              "    </tr>\n",
              "    <tr>\n",
              "      <th>std</th>\n",
              "      <td>0.06475</td>\n",
              "      <td>0.050217</td>\n",
              "      <td>1.284746</td>\n",
              "      <td>0.579699</td>\n",
              "      <td>0.533035</td>\n",
              "    </tr>\n",
              "    <tr>\n",
              "      <th>min</th>\n",
              "      <td>0.03500</td>\n",
              "      <td>0.025000</td>\n",
              "      <td>1.500000</td>\n",
              "      <td>4.210000</td>\n",
              "      <td>0.800000</td>\n",
              "    </tr>\n",
              "    <tr>\n",
              "      <th>25%</th>\n",
              "      <td>0.12500</td>\n",
              "      <td>0.025000</td>\n",
              "      <td>2.000000</td>\n",
              "      <td>4.400000</td>\n",
              "      <td>1.800000</td>\n",
              "    </tr>\n",
              "    <tr>\n",
              "      <th>50%</th>\n",
              "      <td>0.17500</td>\n",
              "      <td>0.125000</td>\n",
              "      <td>3.000000</td>\n",
              "      <td>4.680000</td>\n",
              "      <td>2.200000</td>\n",
              "    </tr>\n",
              "    <tr>\n",
              "      <th>75%</th>\n",
              "      <td>0.19500</td>\n",
              "      <td>0.125000</td>\n",
              "      <td>4.000000</td>\n",
              "      <td>4.970000</td>\n",
              "      <td>2.200000</td>\n",
              "    </tr>\n",
              "    <tr>\n",
              "      <th>max</th>\n",
              "      <td>0.26000</td>\n",
              "      <td>0.125000</td>\n",
              "      <td>5.000000</td>\n",
              "      <td>5.740000</td>\n",
              "      <td>2.300000</td>\n",
              "    </tr>\n",
              "  </tbody>\n",
              "</table>\n",
              "</div>"
            ],
            "text/plain": [
              "           Feat1       Feat2       Feat3       Feat4      Output\n",
              "count  115.00000  115.000000  115.000000  115.000000  115.000000\n",
              "mean     0.16287    0.075435    3.117391    4.795652    1.913043\n",
              "std      0.06475    0.050217    1.284746    0.579699    0.533035\n",
              "min      0.03500    0.025000    1.500000    4.210000    0.800000\n",
              "25%      0.12500    0.025000    2.000000    4.400000    1.800000\n",
              "50%      0.17500    0.125000    3.000000    4.680000    2.200000\n",
              "75%      0.19500    0.125000    4.000000    4.970000    2.200000\n",
              "max      0.26000    0.125000    5.000000    5.740000    2.300000"
            ]
          },
          "metadata": {},
          "execution_count": 56
        }
      ]
    },
    {
      "cell_type": "code",
      "metadata": {
        "colab": {
          "base_uri": "https://localhost:8080/"
        },
        "id": "LdwikWT5oGJK",
        "outputId": "7bdfb1d2-75df-4823-c4eb-84e411ed47c5"
      },
      "source": [
        "data.columns"
      ],
      "execution_count": null,
      "outputs": [
        {
          "output_type": "execute_result",
          "data": {
            "text/plain": [
              "Index(['Feat1', 'Feat2', 'Feat3', 'Feat4', 'Output'], dtype='object')"
            ]
          },
          "metadata": {},
          "execution_count": 57
        }
      ]
    },
    {
      "cell_type": "code",
      "metadata": {
        "colab": {
          "base_uri": "https://localhost:8080/",
          "height": 297
        },
        "id": "t66aMrqioNcy",
        "outputId": "eb55c07d-05fb-472a-bbb3-536183faf79d"
      },
      "source": [
        "data.plot(x='Feat1', y='Output', kind='scatter')"
      ],
      "execution_count": null,
      "outputs": [
        {
          "output_type": "execute_result",
          "data": {
            "text/plain": [
              "<matplotlib.axes._subplots.AxesSubplot at 0x7f69cac313d0>"
            ]
          },
          "metadata": {},
          "execution_count": 58
        },
        {
          "output_type": "display_data",
          "data": {
            "image/png": "[encoded data removed]",
            "text/plain": [
              "<Figure size 432x288 with 1 Axes>"
            ]
          },
          "metadata": {
            "needs_background": "light"
          }
        }
      ]
    },
    {
      "cell_type": "code",
      "metadata": {
        "colab": {
          "base_uri": "https://localhost:8080/",
          "height": 297
        },
        "id": "Lx-kIas_oS0H",
        "outputId": "1c9828c5-26ba-47de-b0e7-d0785a01a2ca"
      },
      "source": [
        "data.plot(x='Feat2', y='Output', kind='scatter')"
      ],
      "execution_count": null,
      "outputs": [
        {
          "output_type": "execute_result",
          "data": {
            "text/plain": [
              "<matplotlib.axes._subplots.AxesSubplot at 0x7f69cab63050>"
            ]
          },
          "metadata": {},
          "execution_count": 59
        },
        {
          "output_type": "display_data",
          "data": {
            "image/png": "[encoded data removed]",
            "text/plain": [
              "<Figure size 432x288 with 1 Axes>"
            ]
          },
          "metadata": {
            "needs_background": "light"
          }
        }
      ]
    },
    {
      "cell_type": "code",
      "metadata": {
        "colab": {
          "base_uri": "https://localhost:8080/",
          "height": 297
        },
        "id": "IW-gXmSuoUqp",
        "outputId": "a6987dc3-455f-4965-d4d1-67c3a2a4222a"
      },
      "source": [
        "data.plot(x='Feat3', y='Output', kind='scatter')"
      ],
      "execution_count": null,
      "outputs": [
        {
          "output_type": "execute_result",
          "data": {
            "text/plain": [
              "<matplotlib.axes._subplots.AxesSubplot at 0x7f69caac7390>"
            ]
          },
          "metadata": {},
          "execution_count": 60
        },
        {
          "output_type": "display_data",
          "data": {
            "image/png": "[encoded data removed]",
            "text/plain": [
              "<Figure size 432x288 with 1 Axes>"
            ]
          },
          "metadata": {
            "needs_background": "light"
          }
        }
      ]
    },
    {
      "cell_type": "code",
      "metadata": {
        "colab": {
          "base_uri": "https://localhost:8080/",
          "height": 297
        },
        "id": "7D3ZiA0toWSz",
        "outputId": "64a10591-76e8-4cb5-e0d0-cd84fd9fb6c6"
      },
      "source": [
        "data.plot(x='Feat4', y='Output', kind='scatter')"
      ],
      "execution_count": null,
      "outputs": [
        {
          "output_type": "execute_result",
          "data": {
            "text/plain": [
              "<matplotlib.axes._subplots.AxesSubplot at 0x7f69caa3c190>"
            ]
          },
          "metadata": {},
          "execution_count": 61
        },
        {
          "output_type": "display_data",
          "data": {
            "image/png": "[encoded data removed]",
            "text/plain": [
              "<Figure size 432x288 with 1 Axes>"
            ]
          },
          "metadata": {
            "needs_background": "light"
          }
        }
      ]
    },
    {
      "cell_type": "code",
      "metadata": {
        "id": "OrakkQfroYP_"
      },
      "source": [
        ""
      ],
      "execution_count": null,
      "outputs": []
    },
    {
      "cell_type": "code",
      "metadata": {
        "id": "j6FeVOZOtIjJ"
      },
      "source": [
        "data=data.sample(frac=1, random_state=50)\n",
        "train,validate,test= np.split(data,[int(.7*len(data)),int(.8*len(data))])"
      ],
      "execution_count": null,
      "outputs": []
    },
    {
      "cell_type": "code",
      "metadata": {
        "colab": {
          "base_uri": "https://localhost:8080/"
        },
        "id": "TAjkuIdUut_y",
        "outputId": "c7bfba0c-68e4-4fed-8fcb-436b9c82fff3"
      },
      "source": [
        "print(train.shape)\n",
        "print(validate.shape)\n",
        "print(test.shape)"
      ],
      "execution_count": null,
      "outputs": [
        {
          "output_type": "stream",
          "name": "stdout",
          "text": [
            "(80, 5)\n",
            "(12, 5)\n",
            "(23, 5)\n"
          ]
        }
      ]
    },
    {
      "cell_type": "code",
      "metadata": {
        "colab": {
          "base_uri": "https://localhost:8080/"
        },
        "id": "DWw6pYNWvXF4",
        "outputId": "4d5118cc-5faf-4677-e1e2-647e5eaeb324"
      },
      "source": [
        "train=np.array(train) \n",
        "print(train)\n"
      ],
      "execution_count": null,
      "outputs": [
        {
          "output_type": "stream",
          "name": "stdout",
          "text": [
            "[[0.245 0.125 5.    5.74  2.2  ]\n",
            " [0.245 0.025 1.5   5.74  2.2  ]\n",
            " [0.035 0.125 5.    4.68  0.8  ]\n",
            " [0.06  0.025 4.    4.68  0.9  ]\n",
            " [0.175 0.025 5.    4.21  1.8  ]\n",
            " [0.035 0.025 1.5   4.68  0.8  ]\n",
            " [0.26  0.025 2.    4.4   2.2  ]\n",
            " [0.245 0.125 1.5   5.74  2.2  ]\n",
            " [0.06  0.125 2.    4.68  0.9  ]\n",
            " [0.26  0.025 1.5   4.4   2.2  ]\n",
            " [0.035 0.025 3.    4.68  0.8  ]\n",
            " [0.235 0.125 2.    4.21  2.2  ]\n",
            " [0.13  0.025 5.    4.21  1.2  ]\n",
            " [0.155 0.125 5.    4.97  2.3  ]\n",
            " [0.125 0.125 1.5   5.74  2.2  ]\n",
            " [0.035 0.125 4.    4.68  0.8  ]\n",
            " [0.13  0.125 1.5   4.21  1.2  ]\n",
            " [0.06  0.025 5.    4.68  0.9  ]\n",
            " [0.185 0.125 5.    5.74  2.3  ]\n",
            " [0.18  0.125 1.5   4.4   2.2  ]\n",
            " [0.235 0.125 1.5   4.21  2.2  ]\n",
            " [0.125 0.125 4.    4.4   2.3  ]\n",
            " [0.155 0.125 4.    4.97  2.3  ]\n",
            " [0.18  0.125 5.    4.4   2.2  ]\n",
            " [0.245 0.025 2.    5.74  2.2  ]\n",
            " [0.125 0.125 2.    5.74  2.2  ]\n",
            " [0.195 0.025 4.    4.97  2.2  ]\n",
            " [0.235 0.025 4.    4.21  2.2  ]\n",
            " [0.155 0.025 5.    4.97  2.3  ]\n",
            " [0.195 0.125 5.    4.97  2.2  ]\n",
            " [0.125 0.125 4.    5.74  2.2  ]\n",
            " [0.175 0.125 3.    4.21  1.8  ]\n",
            " [0.13  0.125 4.    4.21  1.2  ]\n",
            " [0.125 0.025 4.    4.4   2.3  ]\n",
            " [0.18  0.025 4.    4.4   2.2  ]\n",
            " [0.155 0.125 3.    4.97  2.3  ]\n",
            " [0.125 0.025 5.    5.74  2.2  ]\n",
            " [0.18  0.025 2.    4.4   2.2  ]\n",
            " [0.175 0.025 2.    4.21  1.8  ]\n",
            " [0.13  0.025 3.    4.21  1.2  ]\n",
            " [0.06  0.025 1.5   4.68  0.9  ]\n",
            " [0.235 0.125 4.    4.21  2.2  ]\n",
            " [0.125 0.025 3.    4.4   2.3  ]\n",
            " [0.035 0.025 2.    4.68  0.8  ]\n",
            " [0.185 0.125 3.    5.74  2.3  ]\n",
            " [0.245 0.125 3.    5.74  2.2  ]\n",
            " [0.125 0.025 4.    5.74  2.2  ]\n",
            " [0.175 0.125 5.    4.21  1.8  ]\n",
            " [0.185 0.025 4.    5.74  2.3  ]\n",
            " [0.155 0.025 1.5   4.97  2.3  ]\n",
            " [0.195 0.025 2.    4.97  2.2  ]\n",
            " [0.175 0.125 1.5   4.21  1.8  ]\n",
            " [0.175 0.125 2.    4.21  1.8  ]\n",
            " [0.06  0.125 5.    4.68  0.9  ]\n",
            " [0.13  0.125 2.    4.21  1.2  ]\n",
            " [0.175 0.025 1.5   4.21  1.8  ]\n",
            " [0.26  0.125 2.    4.4   2.2  ]\n",
            " [0.125 0.025 5.    4.4   2.3  ]\n",
            " [0.175 0.025 3.    4.21  1.8  ]\n",
            " [0.125 0.025 3.    5.74  2.2  ]\n",
            " [0.195 0.125 4.    4.97  2.2  ]\n",
            " [0.155 0.125 2.    4.97  2.3  ]\n",
            " [0.13  0.125 3.    4.21  1.2  ]\n",
            " [0.185 0.025 2.    5.74  2.3  ]\n",
            " [0.245 0.125 4.    5.74  2.2  ]\n",
            " [0.185 0.025 3.    5.74  2.3  ]\n",
            " [0.035 0.125 2.    4.68  0.8  ]\n",
            " [0.125 0.125 3.    4.4   2.3  ]\n",
            " [0.06  0.125 1.5   4.68  0.9  ]\n",
            " [0.18  0.125 3.    4.4   2.2  ]\n",
            " [0.125 0.125 5.    4.4   2.3  ]\n",
            " [0.195 0.025 1.5   4.97  2.2  ]\n",
            " [0.13  0.025 4.    4.21  1.2  ]\n",
            " [0.155 0.025 2.    4.97  2.3  ]\n",
            " [0.06  0.125 3.    4.68  0.9  ]\n",
            " [0.235 0.025 1.5   4.21  2.2  ]\n",
            " [0.235 0.125 5.    4.21  2.2  ]\n",
            " [0.175 0.025 4.    4.21  1.8  ]\n",
            " [0.18  0.125 2.    4.4   2.2  ]\n",
            " [0.125 0.125 1.5   4.4   2.3  ]]\n"
          ]
        }
      ]
    },
    {
      "cell_type": "code",
      "metadata": {
        "colab": {
          "base_uri": "https://localhost:8080/"
        },
        "id": "ydAP2ZfiThye",
        "outputId": "82858a35-afbe-4e00-a8d2-df0cfbfffaba"
      },
      "source": [
        "validate=np.array(validate) \n",
        "print(validate)"
      ],
      "execution_count": null,
      "outputs": [
        {
          "output_type": "stream",
          "name": "stdout",
          "text": [
            "[[0.185 0.025 5.    5.74  2.3  ]\n",
            " [0.035 0.025 5.    4.68  0.8  ]\n",
            " [0.125 0.025 2.    4.4   2.3  ]\n",
            " [0.245 0.025 3.    5.74  2.2  ]\n",
            " [0.18  0.125 4.    4.4   2.2  ]\n",
            " [0.235 0.125 3.    4.21  2.2  ]\n",
            " [0.125 0.125 3.    5.74  2.2  ]\n",
            " [0.06  0.025 3.    4.68  0.9  ]\n",
            " [0.13  0.025 2.    4.21  1.2  ]\n",
            " [0.185 0.125 2.    5.74  2.3  ]\n",
            " [0.125 0.125 5.    5.74  2.2  ]\n",
            " [0.245 0.025 4.    5.74  2.2  ]]\n"
          ]
        }
      ]
    },
    {
      "cell_type": "code",
      "metadata": {
        "colab": {
          "base_uri": "https://localhost:8080/"
        },
        "id": "BqTR1g3ITj_u",
        "outputId": "74c28c52-a40e-4482-921c-4343251f7cd9"
      },
      "source": [
        "test=np.array(test) \n",
        "print(test)"
      ],
      "execution_count": null,
      "outputs": [
        {
          "output_type": "stream",
          "name": "stdout",
          "text": [
            "[[0.195 0.125 3.    4.97  2.2  ]\n",
            " [0.26  0.025 4.    4.4   2.2  ]\n",
            " [0.185 0.025 1.5   5.74  2.3  ]\n",
            " [0.26  0.025 5.    4.4   2.2  ]\n",
            " [0.26  0.125 1.5   4.4   2.2  ]\n",
            " [0.125 0.025 1.5   5.74  2.2  ]\n",
            " [0.035 0.025 4.    4.68  0.8  ]\n",
            " [0.235 0.025 3.    4.21  2.2  ]\n",
            " [0.035 0.125 1.5   4.68  0.8  ]\n",
            " [0.26  0.125 4.    4.4   2.2  ]\n",
            " [0.195 0.025 3.    4.97  2.2  ]\n",
            " [0.195 0.125 2.    4.97  2.2  ]\n",
            " [0.245 0.125 2.    5.74  2.2  ]\n",
            " [0.18  0.025 3.    4.4   2.2  ]\n",
            " [0.125 0.025 1.5   4.4   2.3  ]\n",
            " [0.235 0.025 5.    4.21  2.2  ]\n",
            " [0.195 0.125 1.5   4.97  2.2  ]\n",
            " [0.26  0.125 3.    4.4   2.2  ]\n",
            " [0.185 0.125 4.    5.74  2.3  ]\n",
            " [0.18  0.025 5.    4.4   2.2  ]\n",
            " [0.155 0.025 4.    4.97  2.3  ]\n",
            " [0.26  0.125 5.    4.4   2.2  ]\n",
            " [0.13  0.025 1.5   4.21  1.2  ]]\n"
          ]
        }
      ]
    },
    {
      "cell_type": "code",
      "metadata": {
        "id": "t3I0-oOTTlTB"
      },
      "source": [
        "X_train=train[:,0:4]\n",
        "m=X_train.shape[0]\n",
        "xmin=np.min(X_train,axis=0)\n",
        "xmax=np.max(X_train,axis=0)\n",
        "X_train=(X_train-xmin)/(xmax-xmin)#performing normalization on input features \n",
        "pp=np.ones([m,1])\n",
        "X_train=np.append(pp,X_train,axis=1)"
      ],
      "execution_count": null,
      "outputs": []
    },
    {
      "cell_type": "code",
      "metadata": {
        "colab": {
          "base_uri": "https://localhost:8080/"
        },
        "id": "9FJvjBP4UHRi",
        "outputId": "54652d7a-d4c1-493c-b5dc-e48cc25a2246"
      },
      "source": [
        "X_train"
      ],
      "execution_count": null,
      "outputs": [
        {
          "output_type": "execute_result",
          "data": {
            "text/plain": [
              "array([[1.        , 0.93333333, 1.        , 1.        , 1.        ],\n",
              "       [1.        , 0.93333333, 0.        , 0.        , 1.        ],\n",
              "       [1.        , 0.        , 1.        , 1.        , 0.30718954],\n",
              "       [1.        , 0.11111111, 0.        , 0.71428571, 0.30718954],\n",
              "       [1.        , 0.62222222, 0.        , 1.        , 0.        ],\n",
              "       [1.        , 0.        , 0.        , 0.        , 0.30718954],\n",
              "       [1.        , 1.        , 0.        , 0.14285714, 0.12418301],\n",
              "       [1.        , 0.93333333, 1.        , 0.        , 1.        ],\n",
              "       [1.        , 0.11111111, 1.        , 0.14285714, 0.30718954],\n",
              "       [1.        , 1.        , 0.        , 0.        , 0.12418301],\n",
              "       [1.        , 0.        , 0.        , 0.42857143, 0.30718954],\n",
              "       [1.        , 0.88888889, 1.        , 0.14285714, 0.        ],\n",
              "       [1.        , 0.42222222, 0.        , 1.        , 0.        ],\n",
              "       [1.        , 0.53333333, 1.        , 1.        , 0.49673203],\n",
              "       [1.        , 0.4       , 1.        , 0.        , 1.        ],\n",
              "       [1.        , 0.        , 1.        , 0.71428571, 0.30718954],\n",
              "       [1.        , 0.42222222, 1.        , 0.        , 0.        ],\n",
              "       [1.        , 0.11111111, 0.        , 1.        , 0.30718954],\n",
              "       [1.        , 0.66666667, 1.        , 1.        , 1.        ],\n",
              "       [1.        , 0.64444444, 1.        , 0.        , 0.12418301],\n",
              "       [1.        , 0.88888889, 1.        , 0.        , 0.        ],\n",
              "       [1.        , 0.4       , 1.        , 0.71428571, 0.12418301],\n",
              "       [1.        , 0.53333333, 1.        , 0.71428571, 0.49673203],\n",
              "       [1.        , 0.64444444, 1.        , 1.        , 0.12418301],\n",
              "       [1.        , 0.93333333, 0.        , 0.14285714, 1.        ],\n",
              "       [1.        , 0.4       , 1.        , 0.14285714, 1.        ],\n",
              "       [1.        , 0.71111111, 0.        , 0.71428571, 0.49673203],\n",
              "       [1.        , 0.88888889, 0.        , 0.71428571, 0.        ],\n",
              "       [1.        , 0.53333333, 0.        , 1.        , 0.49673203],\n",
              "       [1.        , 0.71111111, 1.        , 1.        , 0.49673203],\n",
              "       [1.        , 0.4       , 1.        , 0.71428571, 1.        ],\n",
              "       [1.        , 0.62222222, 1.        , 0.42857143, 0.        ],\n",
              "       [1.        , 0.42222222, 1.        , 0.71428571, 0.        ],\n",
              "       [1.        , 0.4       , 0.        , 0.71428571, 0.12418301],\n",
              "       [1.        , 0.64444444, 0.        , 0.71428571, 0.12418301],\n",
              "       [1.        , 0.53333333, 1.        , 0.42857143, 0.49673203],\n",
              "       [1.        , 0.4       , 0.        , 1.        , 1.        ],\n",
              "       [1.        , 0.64444444, 0.        , 0.14285714, 0.12418301],\n",
              "       [1.        , 0.62222222, 0.        , 0.14285714, 0.        ],\n",
              "       [1.        , 0.42222222, 0.        , 0.42857143, 0.        ],\n",
              "       [1.        , 0.11111111, 0.        , 0.        , 0.30718954],\n",
              "       [1.        , 0.88888889, 1.        , 0.71428571, 0.        ],\n",
              "       [1.        , 0.4       , 0.        , 0.42857143, 0.12418301],\n",
              "       [1.        , 0.        , 0.        , 0.14285714, 0.30718954],\n",
              "       [1.        , 0.66666667, 1.        , 0.42857143, 1.        ],\n",
              "       [1.        , 0.93333333, 1.        , 0.42857143, 1.        ],\n",
              "       [1.        , 0.4       , 0.        , 0.71428571, 1.        ],\n",
              "       [1.        , 0.62222222, 1.        , 1.        , 0.        ],\n",
              "       [1.        , 0.66666667, 0.        , 0.71428571, 1.        ],\n",
              "       [1.        , 0.53333333, 0.        , 0.        , 0.49673203],\n",
              "       [1.        , 0.71111111, 0.        , 0.14285714, 0.49673203],\n",
              "       [1.        , 0.62222222, 1.        , 0.        , 0.        ],\n",
              "       [1.        , 0.62222222, 1.        , 0.14285714, 0.        ],\n",
              "       [1.        , 0.11111111, 1.        , 1.        , 0.30718954],\n",
              "       [1.        , 0.42222222, 1.        , 0.14285714, 0.        ],\n",
              "       [1.        , 0.62222222, 0.        , 0.        , 0.        ],\n",
              "       [1.        , 1.        , 1.        , 0.14285714, 0.12418301],\n",
              "       [1.        , 0.4       , 0.        , 1.        , 0.12418301],\n",
              "       [1.        , 0.62222222, 0.        , 0.42857143, 0.        ],\n",
              "       [1.        , 0.4       , 0.        , 0.42857143, 1.        ],\n",
              "       [1.        , 0.71111111, 1.        , 0.71428571, 0.49673203],\n",
              "       [1.        , 0.53333333, 1.        , 0.14285714, 0.49673203],\n",
              "       [1.        , 0.42222222, 1.        , 0.42857143, 0.        ],\n",
              "       [1.        , 0.66666667, 0.        , 0.14285714, 1.        ],\n",
              "       [1.        , 0.93333333, 1.        , 0.71428571, 1.        ],\n",
              "       [1.        , 0.66666667, 0.        , 0.42857143, 1.        ],\n",
              "       [1.        , 0.        , 1.        , 0.14285714, 0.30718954],\n",
              "       [1.        , 0.4       , 1.        , 0.42857143, 0.12418301],\n",
              "       [1.        , 0.11111111, 1.        , 0.        , 0.30718954],\n",
              "       [1.        , 0.64444444, 1.        , 0.42857143, 0.12418301],\n",
              "       [1.        , 0.4       , 1.        , 1.        , 0.12418301],\n",
              "       [1.        , 0.71111111, 0.        , 0.        , 0.49673203],\n",
              "       [1.        , 0.42222222, 0.        , 0.71428571, 0.        ],\n",
              "       [1.        , 0.53333333, 0.        , 0.14285714, 0.49673203],\n",
              "       [1.        , 0.11111111, 1.        , 0.42857143, 0.30718954],\n",
              "       [1.        , 0.88888889, 0.        , 0.        , 0.        ],\n",
              "       [1.        , 0.88888889, 1.        , 1.        , 0.        ],\n",
              "       [1.        , 0.62222222, 0.        , 0.71428571, 0.        ],\n",
              "       [1.        , 0.64444444, 1.        , 0.14285714, 0.12418301],\n",
              "       [1.        , 0.4       , 1.        , 0.        , 0.12418301]])"
            ]
          },
          "metadata": {},
          "execution_count": 68
        }
      ]
    },
    {
      "cell_type": "code",
      "metadata": {
        "id": "7gHtNaBKVmkF"
      },
      "source": [
        "y_train=train[:,4]#true outputs of the instances\n",
        "ymin_train=np.min(y_train,axis=0)#taking minimum value\n",
        "ymax_train=np.max(y_train,axis=0)#taking maximum value\n",
        "y_train=(y_train-ymin_train)/(ymax_train-ymin_train)#normalising output"
      ],
      "execution_count": null,
      "outputs": []
    },
    {
      "cell_type": "code",
      "metadata": {
        "colab": {
          "base_uri": "https://localhost:8080/"
        },
        "id": "m55OQ0VIXkT_",
        "outputId": "c42b7288-e6d6-454d-e1f9-abe0622708b9"
      },
      "source": [
        "y_train"
      ],
      "execution_count": null,
      "outputs": [
        {
          "output_type": "execute_result",
          "data": {
            "text/plain": [
              "array([0.93333333, 0.93333333, 0.        , 0.06666667, 0.66666667,\n",
              "       0.        , 0.93333333, 0.93333333, 0.06666667, 0.93333333,\n",
              "       0.        , 0.93333333, 0.26666667, 1.        , 0.93333333,\n",
              "       0.        , 0.26666667, 0.06666667, 1.        , 0.93333333,\n",
              "       0.93333333, 1.        , 1.        , 0.93333333, 0.93333333,\n",
              "       0.93333333, 0.93333333, 0.93333333, 1.        , 0.93333333,\n",
              "       0.93333333, 0.66666667, 0.26666667, 1.        , 0.93333333,\n",
              "       1.        , 0.93333333, 0.93333333, 0.66666667, 0.26666667,\n",
              "       0.06666667, 0.93333333, 1.        , 0.        , 1.        ,\n",
              "       0.93333333, 0.93333333, 0.66666667, 1.        , 1.        ,\n",
              "       0.93333333, 0.66666667, 0.66666667, 0.06666667, 0.26666667,\n",
              "       0.66666667, 0.93333333, 1.        , 0.66666667, 0.93333333,\n",
              "       0.93333333, 1.        , 0.26666667, 1.        , 0.93333333,\n",
              "       1.        , 0.        , 1.        , 0.06666667, 0.93333333,\n",
              "       1.        , 0.93333333, 0.26666667, 1.        , 0.06666667,\n",
              "       0.93333333, 0.93333333, 0.66666667, 0.93333333, 1.        ])"
            ]
          },
          "metadata": {},
          "execution_count": 70
        }
      ]
    },
    {
      "cell_type": "code",
      "metadata": {
        "colab": {
          "base_uri": "https://localhost:8080/"
        },
        "id": "36hhwJtiXpCI",
        "outputId": "d6632b8d-963f-498c-a5c9-22bae0d9b539"
      },
      "source": [
        "w=np.zeros(X_train.shape[1]) \n",
        "w"
      ],
      "execution_count": null,
      "outputs": [
        {
          "output_type": "execute_result",
          "data": {
            "text/plain": [
              "array([0., 0., 0., 0., 0.])"
            ]
          },
          "metadata": {},
          "execution_count": 71
        }
      ]
    },
    {
      "cell_type": "code",
      "metadata": {
        "id": "BYRa1-JeDPl3"
      },
      "source": [
        "iters_list=[500,1000,1500,2000,5000,10000]\n",
        "alpha_List=np.linspace(0.05,0.06,num=10)\n",
        "Lambda_List=np.linspace(0.005,0.006,num=10)"
      ],
      "execution_count": null,
      "outputs": []
    },
    {
      "cell_type": "code",
      "metadata": {
        "id": "p_dkX3qc7AR8"
      },
      "source": [
        "#grid search for best alpha,lambda and weights\n",
        "  \n",
        "def grid_search_bgd(X_train,y_train,alpha_List,Lambda_List,iters_list):\n",
        "  cost_minimum=math.inf\n",
        "  alpha_best=0\n",
        "  Lambda_best=0  \n",
        "  iters_best=0\n",
        "  w_best=np.zeros(X_train.shape[1]) \n",
        "  cost_hist_best=[] \n",
        "  for iters in iters_list: \n",
        "    \n",
        "    for alpha in alpha_List:\n",
        "      for Lambda_ in Lambda_List:\n",
        "        w_batch_train,cost_hist_batch_train,w_batch_hist_train,w_batch_best,cost_batch_min=batch_gradient_descent(X_train,y_train,w,alpha,iters,Lambda_)\n",
        "        if(cost_batch_min<cost_minimum): \n",
        "          w_best=w_batch_best\n",
        "          alpha_best=alpha\n",
        "          Lambda_best=Lambda_  \n",
        "          iters_best=iters \n",
        "          cost_hist_best=cost_hist_batch_train.tolist() \n",
        "          cost_minimum=cost_batch_min\n",
        "  return w_best,alpha_best,Lambda_best,iters_best,cost_hist_best      \n",
        "\n",
        "\n",
        "\n",
        "\n",
        "\n",
        "\n"
      ],
      "execution_count": null,
      "outputs": []
    },
    {
      "cell_type": "code",
      "metadata": {
        "id": "MttlQlB-uHiR"
      },
      "source": [
        "#grid search for sgd\n",
        "def grid_search_sgd(X_train,y_train,alpha_List,Lambda_List,iters_list):\n",
        "  cost_minimum=math.inf\n",
        "  alpha_best=0\n",
        "  Lambda_best=0  \n",
        "  iters_best=0\n",
        "  w_best=np.zeros(X_train.shape[1]) \n",
        "  cost_hist_best=[] \n",
        "  for iters in iters_list: \n",
        "    \n",
        "    for alpha in alpha_List:\n",
        "      for Lambda_ in Lambda_List:\n",
        "        w_stoch_train,cost_hist_stoch_train,w_stoch_hist_train,w_stoch_best,cost_stoch_min=stochastic_gradient_descent(X_train,y_train,w,alpha,iters,Lambda_)\n",
        "        if(cost_stoch_min<cost_minimum): \n",
        "          w_best=w_stoch_best\n",
        "          alpha_best=alpha\n",
        "          Lambda_best=Lambda_  \n",
        "          iters_best=iters \n",
        "          cost_hist_best=cost_hist_stoch_train.tolist() \n",
        "          cost_minimum=cost_stoch_min\n",
        "  return w_best,alpha_best,Lambda_best,iters_best,cost_hist_best"
      ],
      "execution_count": null,
      "outputs": []
    },
    {
      "cell_type": "code",
      "metadata": {
        "id": "SiEZfg5iuH8D"
      },
      "source": [
        "#grid search for mbgd\n",
        "#batch_size_list=[2,4,6,8]\n",
        "def grid_search_mbgd(X_train,y_train,alpha_List,Lambda_List,iters_list):\n",
        "  cost_minimum=math.inf\n",
        "  alpha_best=0\n",
        "  Lambda_best=0  \n",
        "  iters_best=0\n",
        "  w_best=np.zeros(X_train.shape[1]) \n",
        "  cost_hist_best=[] \n",
        "  #for batch_size in batch_size_list:\n",
        "  for iters in iters_list: \n",
        "      \n",
        "    for alpha in alpha_List:\n",
        "        for Lambda_ in Lambda_List:\n",
        "          w_mini_train,cost_hist_mini_train,w_mini_hist_train,w_mini_best,cost_mini_min=minibatch_gradient_descent(X_train,y_train,w,alpha,iters,5,Lambda_)\n",
        "          if(cost_mini_min<cost_minimum): \n",
        "            w_best=w_mini_best\n",
        "            alpha_best=alpha\n",
        "            Lambda_best=Lambda_  \n",
        "            iters_best=iters \n",
        "            cost_hist_best=cost_hist_mini_train.tolist() \n",
        "            cost_minimum=cost_mini_min\n",
        "  return w_best,alpha_best,Lambda_best,iters_best,cost_hist_best"
      ],
      "execution_count": null,
      "outputs": []
    },
    {
      "cell_type": "code",
      "metadata": {
        "id": "HX6lzFUWXxco"
      },
      "source": [
        "#alpha=0.05\n",
        "#iters=1500 \n",
        "#Lambda_=0.005\n",
        "#w_batch_train,cost_hist_batch_train,w_batch_hist_train,w_batch_best,cost_batch_min=batch_gradient_descent(X_train,y_train,w,alpha,iters,Lambda_) \n",
        "w_best_batch,alpha_best_batch,Lambda_best_batch,iters_best_batch,cost_hist_best_batch=grid_search_bgd(X_train,y_train,alpha_List,Lambda_List,iters_list) \n"
      ],
      "execution_count": null,
      "outputs": []
    },
    {
      "cell_type": "code",
      "metadata": {
        "colab": {
          "base_uri": "https://localhost:8080/",
          "height": 265
        },
        "id": "xMoqPFptaASx",
        "outputId": "2b3cfe9d-4ffc-4384-cb50-96c7ac2772a1"
      },
      "source": [
        "plt.plot(range(iters_best_batch),cost_hist_best_batch)\n",
        "plt.show()"
      ],
      "execution_count": null,
      "outputs": [
        {
          "output_type": "display_data",
          "data": {
            "image/png": "[encoded data removed]",
            "text/plain": [
              "<Figure size 432x288 with 1 Axes>"
            ]
          },
          "metadata": {
            "needs_background": "light"
          }
        }
      ]
    },
    {
      "cell_type": "code",
      "metadata": {
        "id": "sx8z65bPaFDX"
      },
      "source": [
        "#alpha=0.05\n",
        "#iters=1500 \n",
        "#Lambda_=0.005\n",
        "#w_stoch_train,cost_hist_stoch_train,w_stoch_hist_train,w_stoch_best,cost_stoch_min=stochastic_gradient_descent(X_train,y_train,w,alpha,iters,Lambda_)\n",
        "w_best_stoch,alpha_best_stoch,Lambda_best_stoch,iters_best_stoch,cost_hist_best_stoch=grid_search_sgd(X_train,y_train,alpha_List,Lambda_List,iters_list) \n"
      ],
      "execution_count": null,
      "outputs": []
    },
    {
      "cell_type": "code",
      "metadata": {
        "colab": {
          "base_uri": "https://localhost:8080/",
          "height": 268
        },
        "id": "KMGIztzmbJOz",
        "outputId": "fb942fda-b97d-4e70-d6cd-3b905a29feca"
      },
      "source": [
        "plt.plot(range(iters_best_stoch),cost_hist_best_stoch)\n",
        "plt.show()"
      ],
      "execution_count": null,
      "outputs": [
        {
          "output_type": "display_data",
          "data": {
            "image/png": "[encoded data removed]",
            "text/plain": [
              "<Figure size 432x288 with 1 Axes>"
            ]
          },
          "metadata": {
            "needs_background": "light"
          }
        }
      ]
    },
    {
      "cell_type": "code",
      "metadata": {
        "id": "TodssXBzbOKj"
      },
      "source": [
        "#alpha=0.05\n",
        "#iters=1500 \n",
        "#Lambda_=0.005\n",
        "#w_mini_train,cost_hist_mini_train,w_mini_hist_train,w_mini_best,cost_mini_min=minibatch_gradient_descent(X_train,y_train,w,alpha,iters,5,Lambda_)\n",
        "w_best_mini,alpha_best_mini,Lambda_best_mini,iters_best_mini,cost_hist_best_mini=grid_search_mbgd(X_train,y_train,alpha_List,Lambda_List,iters_list)"
      ],
      "execution_count": null,
      "outputs": []
    },
    {
      "cell_type": "code",
      "metadata": {
        "colab": {
          "base_uri": "https://localhost:8080/",
          "height": 265
        },
        "id": "CogSjSMrbn3H",
        "outputId": "dd27fd95-c439-453a-b0d1-b479ae74c730"
      },
      "source": [
        "plt.plot(range(iters_best_mini),cost_hist_best_mini)\n",
        "plt.show()"
      ],
      "execution_count": null,
      "outputs": [
        {
          "output_type": "display_data",
          "data": {
            "image/png": "[encoded data removed]",
            "text/plain": [
              "<Figure size 432x288 with 1 Axes>"
            ]
          },
          "metadata": {
            "needs_background": "light"
          }
        }
      ]
    },
    {
      "cell_type": "code",
      "metadata": {
        "id": "JWl5xHGrhHYN"
      },
      "source": [
        ""
      ],
      "execution_count": null,
      "outputs": []
    },
    {
      "cell_type": "code",
      "metadata": {
        "id": "babdrnGfbtEU"
      },
      "source": [
        "X_test=test[:,0:4]\n",
        "m=X_test.shape[0]\n",
        "xmin=np.min(X_test,axis=0)\n",
        "xmax=np.max(X_test,axis=0)\n",
        "X_test=(X_test-xmin)/(xmax-xmin)#performing normalization on input features \n",
        "pp=np.ones([m,1])\n",
        "X_test=np.append(pp,X_test,axis=1)\n"
      ],
      "execution_count": null,
      "outputs": []
    },
    {
      "cell_type": "code",
      "metadata": {
        "id": "utaEplgVyQZJ"
      },
      "source": [
        "y_test=test[:,4]#true outputs of the instances\n",
        "ymin_test=np.min(y_test,axis=0)#taking minimum value\n",
        "ymax_test=np.max(y_test,axis=0)#taking maximum value\n",
        "y_test=(y_test-ymin_test)/(ymax_test-ymin_test)#normalising output"
      ],
      "execution_count": null,
      "outputs": []
    },
    {
      "cell_type": "code",
      "metadata": {
        "id": "14GJ-3XX6jWa"
      },
      "source": [
        "X_validate=validate[:,0:4]\n",
        "m=X_validate.shape[0]\n",
        "xmin_validate=np.min(X_validate,axis=0)\n",
        "xmax_validate=np.max(X_validate,axis=0)\n",
        "X_validate=(X_validate-xmin_validate)/(xmax_validate-xmin_validate)#performing normalization on input features \n",
        "pp=np.ones([m,1])\n",
        "X_validate=np.append(pp,X_validate,axis=1)"
      ],
      "execution_count": null,
      "outputs": []
    },
    {
      "cell_type": "code",
      "metadata": {
        "id": "m5LFICgw6joq"
      },
      "source": [
        "y_validate=validate[:,4]#true outputs of the instances\n",
        "ymin_validate=np.min(y_validate,axis=0)#taking minimum value\n",
        "ymax_validate=np.max(y_validate,axis=0)#taking maximum value\n",
        "y_validate=(y_validate-ymin_validate)/(ymax_validate-ymin_validate)#normalising output"
      ],
      "execution_count": null,
      "outputs": []
    },
    {
      "cell_type": "code",
      "metadata": {
        "colab": {
          "base_uri": "https://localhost:8080/"
        },
        "id": "Q3YP3JUv7S7I",
        "outputId": "4a93e180-1e87-4088-8e4f-3de3d6cff526"
      },
      "source": [
        "y_validate"
      ],
      "execution_count": null,
      "outputs": [
        {
          "output_type": "execute_result",
          "data": {
            "text/plain": [
              "array([1.        , 0.        , 1.        , 0.93333333, 0.93333333,\n",
              "       0.93333333, 0.93333333, 0.06666667, 0.26666667, 1.        ,\n",
              "       0.93333333, 0.93333333])"
            ]
          },
          "metadata": {},
          "execution_count": 86
        }
      ]
    },
    {
      "cell_type": "code",
      "metadata": {
        "colab": {
          "base_uri": "https://localhost:8080/"
        },
        "id": "B0oiWuEm5jnB",
        "outputId": "dc25f417-4b45-4471-ab0c-ac4be63cd19b"
      },
      "source": [
        "y_test"
      ],
      "execution_count": null,
      "outputs": [
        {
          "output_type": "execute_result",
          "data": {
            "text/plain": [
              "array([0.93333333, 0.93333333, 1.        , 0.93333333, 0.93333333,\n",
              "       0.93333333, 0.        , 0.93333333, 0.        , 0.93333333,\n",
              "       0.93333333, 0.93333333, 0.93333333, 0.93333333, 1.        ,\n",
              "       0.93333333, 0.93333333, 0.93333333, 1.        , 0.93333333,\n",
              "       1.        , 0.93333333, 0.26666667])"
            ]
          },
          "metadata": {},
          "execution_count": 87
        }
      ]
    },
    {
      "cell_type": "code",
      "metadata": {
        "id": "PBE_h0pTz_Y0"
      },
      "source": [
        "#testing models against test data \n",
        "def predict(X_test,y_test,weights):\n",
        "  hypothesis=X_test@weights\n",
        "  y_pred=hypothesis\n",
        "  #printing predicted and actual output\n",
        "  for i in range(X_test.shape[0]):\n",
        "        print(\"Predicted: {0}  Actual:{1}\".format(y_pred[i],(y_test[i])))\n",
        "  return y_pred"
      ],
      "execution_count": null,
      "outputs": []
    },
    {
      "cell_type": "code",
      "metadata": {
        "colab": {
          "base_uri": "https://localhost:8080/"
        },
        "id": "ppFvdgWT6h5i",
        "outputId": "5d11bdd1-9c27-459d-a302-ed70e51898b6"
      },
      "source": [
        "#for tuning batch gradient descent\n",
        "y_validate_batch=predict(X_validate,y_validate,w_best_batch) \n",
        "print('Mean absolute error is ',mean_absolute_error(y_validate_batch,y_validate)) \n",
        "print('Mean square error is',mean_square_error(y_validate_batch,y_validate))\n",
        "print('Correlation coefficient is', correlation_coefficient(y_validate_batch,y_validate))"
      ],
      "execution_count": null,
      "outputs": [
        {
          "output_type": "stream",
          "name": "stdout",
          "text": [
            "Predicted: 1.0610141813139942  Actual:1.0\n",
            "Predicted: 0.26121818143986436  Actual:0.0\n",
            "Predicted: 0.5270306113668664  Actual:1.0\n",
            "Predicted: 1.2658908249784553  Actual:0.9333333333333336\n",
            "Predicted: 0.8152919931675596  Actual:0.9333333333333336\n",
            "Predicted: 0.9966810898280278  Actual:0.9333333333333336\n",
            "Predicted: 0.752164679460084  Actual:0.9333333333333336\n",
            "Predicted: 0.3161363315535875  Actual:0.06666666666666667\n",
            "Predicted: 0.5202908184518252  Actual:0.26666666666666666\n",
            "Predicted: 0.9831388529072327  Actual:1.0\n",
            "Predicted: 0.8043597390254593  Actual:0.9333333333333336\n",
            "Predicted: 1.2919883547611428  Actual:0.9333333333333336\n",
            "Mean absolute error is  0.20815838108886348\n",
            "Mean square error is 0.03650624787466818\n",
            "Correlation coefficient is 0.7699397049418063\n"
          ]
        }
      ]
    },
    {
      "cell_type": "code",
      "metadata": {
        "colab": {
          "base_uri": "https://localhost:8080/"
        },
        "id": "7G9EOIp_79oT",
        "outputId": "b4166cbf-5f67-4fec-ba40-43d91bd4748f"
      },
      "source": [
        "#for tuning stochastic gradient descent\n",
        "y_validate_stoch=predict(X_validate,y_validate,w_best_stoch) \n",
        "print('Mean absolute error is ',mean_absolute_error(y_validate_stoch,y_validate)) \n",
        "print('Mean square error is',mean_square_error(y_validate_stoch,y_validate))\n",
        "print('Correlation coefficient is', correlation_coefficient(y_validate_stoch,y_validate))"
      ],
      "execution_count": null,
      "outputs": [
        {
          "output_type": "stream",
          "name": "stdout",
          "text": [
            "Predicted: 1.0799602118248548  Actual:1.0\n",
            "Predicted: 0.24052710488377327  Actual:0.0\n",
            "Predicted: 0.5204636838705872  Actual:1.0\n",
            "Predicted: 1.294543996159997  Actual:0.9333333333333336\n",
            "Predicted: 0.8232478054835172  Actual:0.9333333333333336\n",
            "Predicted: 1.015524968727591  Actual:0.9333333333333336\n",
            "Predicted: 0.7455388248339573  Actual:0.9333333333333336\n",
            "Predicted: 0.29628936707170705  Actual:0.06666666666666667\n",
            "Predicted: 0.5146937994343995  Actual:0.26666666666666666\n",
            "Predicted: 0.9889634502705636  Actual:1.0\n",
            "Predicted: 0.8032205070368864  Actual:0.9333333333333336\n",
            "Predicted: 1.3233848372614614  Actual:0.9333333333333336\n",
            "Mean absolute error is  0.2125130567112449\n",
            "Mean square error is 0.04236708078202054\n",
            "Correlation coefficient is 0.7672085625090407\n"
          ]
        }
      ]
    },
    {
      "cell_type": "code",
      "metadata": {
        "colab": {
          "base_uri": "https://localhost:8080/"
        },
        "id": "sJQQghow7968",
        "outputId": "b8649d2b-6170-4558-a84a-00cad6103eee"
      },
      "source": [
        "y_validate_mini=predict(X_validate,y_validate,w_best_mini) \n",
        "print('Mean absolute error is ',mean_absolute_error(y_validate_mini,y_validate)) \n",
        "print('Mean square error is',mean_square_error(y_validate_mini,y_validate))\n",
        "print('Correlation coefficient is', correlation_coefficient(y_validate_mini,y_validate))"
      ],
      "execution_count": null,
      "outputs": [
        {
          "output_type": "stream",
          "name": "stdout",
          "text": [
            "Predicted: 1.075884044054501  Actual:1.0\n",
            "Predicted: 0.23972951781305535  Actual:0.0\n",
            "Predicted: 0.5187036757035824  Actual:1.0\n",
            "Predicted: 1.2910158262758544  Actual:0.9333333333333336\n",
            "Predicted: 0.8157550484517271  Actual:0.9333333333333336\n",
            "Predicted: 1.0054230427625812  Actual:0.9333333333333336\n",
            "Predicted: 0.7525456448118107  Actual:0.9333333333333336\n",
            "Predicted: 0.29838101588473226  Actual:0.06666666666666667\n",
            "Predicted: 0.5113884736753734  Actual:0.26666666666666666\n",
            "Predicted: 0.9942374937650672  Actual:1.0\n",
            "Predicted: 0.8056657782756169  Actual:0.9333333333333336\n",
            "Predicted: 1.3175758930077575  Actual:0.9333333333333336\n",
            "Mean absolute error is  0.20992973659439312\n",
            "Mean square error is 0.04001753005740072\n",
            "Correlation coefficient is 0.7690595768987303\n"
          ]
        }
      ]
    },
    {
      "cell_type": "code",
      "metadata": {
        "colab": {
          "base_uri": "https://localhost:8080/"
        },
        "id": "22rpQkP300nq",
        "outputId": "e083c688-9c1b-4e84-a87c-c68e45e71e1f"
      },
      "source": [
        "y_pred_batch=predict(X_test,y_test,w_best_batch) \n",
        "print('Mean absolute error is ',mean_absolute_error(y_pred_batch,y_test)) \n",
        "print('Mean square error is',mean_square_error(y_pred_batch,y_test))\n",
        "print('Correlation coefficient is', correlation_coefficient(y_pred_batch,y_test))"
      ],
      "execution_count": null,
      "outputs": [
        {
          "output_type": "stream",
          "name": "stdout",
          "text": [
            "Predicted: 0.8997044946959327  Actual:0.9333333333333336\n",
            "Predicted: 1.0970972959322982  Actual:0.9333333333333336\n",
            "Predicted: 0.9398763080942918  Actual:1.0\n",
            "Predicted: 1.119466607174602  Actual:0.9333333333333336\n",
            "Predicted: 1.0415912787678405  Actual:0.9333333333333336\n",
            "Predicted: 0.6999427184131113  Actual:0.9333333333333336\n",
            "Predicted: 0.23884887019756068  Actual:0.0\n",
            "Predicted: 0.9465932208053085  Actual:0.9333333333333336\n",
            "Predicted: 0.18334285303310288  Actual:0.0\n",
            "Predicted: 1.0975145568735998  Actual:0.9333333333333336\n",
            "Predicted: 0.8992872337546314  Actual:0.9333333333333336\n",
            "Predicted: 0.8773351834536292  Actual:0.9333333333333336\n",
            "Predicted: 1.1914118143379258  Actual:0.9333333333333336\n",
            "Predicted: 0.7548165317817538  Actual:0.9333333333333336\n",
            "Predicted: 0.5013234410438827  Actual:1.0\n",
            "Predicted: 0.9913318432899159  Actual:0.9333333333333336\n",
            "Predicted: 0.8661505278324773  Actual:0.9333333333333336\n",
            "Predicted: 1.075145245631296  Actual:0.9333333333333336\n",
            "Predicted: 0.9962168471413526  Actual:1.0\n",
            "Predicted: 0.7995551542663611  Actual:0.9333333333333336\n",
            "Predicted: 0.7617008185428146  Actual:1.0\n",
            "Predicted: 1.1198838681159036  Actual:0.9333333333333336\n",
            "Predicted: 0.49315547199978693  Actual:0.26666666666666666\n",
            "Mean absolute error is  0.15070175364372035\n",
            "Mean square error is 0.006656938007932634\n",
            "Correlation coefficient is 0.7872432921151837\n"
          ]
        }
      ]
    },
    {
      "cell_type": "code",
      "metadata": {
        "colab": {
          "base_uri": "https://localhost:8080/"
        },
        "id": "KPJ2TM2U1OFn",
        "outputId": "fe896feb-2b59-40bb-f741-f4139e08a60d"
      },
      "source": [
        "y_pred_stoch=predict(X_test,y_test,w_best_stoch) \n",
        "print('Mean absolute error is ',mean_absolute_error(y_pred_stoch,y_test)) \n",
        "print('Mean square error is',mean_square_error(y_pred_stoch,y_test))\n",
        "print('Correlation coefficient is', correlation_coefficient(y_pred_stoch,y_test))"
      ],
      "execution_count": null,
      "outputs": [
        {
          "output_type": "stream",
          "name": "stdout",
          "text": [
            "Predicted: 0.9076868416675867  Actual:0.9333333333333336\n",
            "Predicted: 1.1267964193070101  Actual:0.9333333333333336\n",
            "Predicted: 0.9480601107641159  Actual:1.0\n",
            "Predicted: 1.1515171402511226  Actual:0.9333333333333336\n",
            "Predicted: 1.0605203786968316  Actual:0.9333333333333336\n",
            "Predicted: 0.693945675328583  Actual:0.9333333333333336\n",
            "Predicted: 0.21580638393966078  Actual:0.0\n",
            "Predicted: 0.9677360102837321  Actual:0.9333333333333336\n",
            "Predicted: 0.14953034332948223  Actual:0.0\n",
            "Predicted: 1.1223221810571127  Actual:0.9333333333333336\n",
            "Predicted: 0.9121610799174842  Actual:0.9333333333333336\n",
            "Predicted: 0.8829661207234742  Actual:0.9333333333333336\n",
            "Predicted: 1.2100606684218078  Actual:0.9333333333333336\n",
            "Predicted: 0.7632564511155205  Actual:0.9333333333333336\n",
            "Predicted: 0.4932371372167799  Actual:1.0\n",
            "Predicted: 1.017177452171957  Actual:0.9333333333333336\n",
            "Predicted: 0.8706057602514181  Actual:0.9333333333333336\n",
            "Predicted: 1.0976014601130004  Actual:0.9333333333333336\n",
            "Predicted: 1.0053876748744996  Actual:1.0\n",
            "Predicted: 0.8126978930037454  Actual:0.9333333333333336\n",
            "Predicted: 0.767472177237908  Actual:1.0\n",
            "Predicted: 1.1470429020012252  Actual:0.9333333333333336\n",
            "Predicted: 0.48595466685538086  Actual:0.26666666666666666\n",
            "Mean absolute error is  0.15530570003229882\n",
            "Mean square error is 0.016154025292184352\n",
            "Correlation coefficient is 0.7866332705929189\n"
          ]
        }
      ]
    },
    {
      "cell_type": "code",
      "metadata": {
        "colab": {
          "base_uri": "https://localhost:8080/"
        },
        "id": "tkzcpLHW3sw_",
        "outputId": "5989f5aa-7185-4ad5-f5a9-c9d052375b20"
      },
      "source": [
        "y_pred_mini=predict(X_test,y_test,w_best_mini) \n",
        "print('Mean absolute error is ',mean_absolute_error(y_pred_mini,y_test)) \n",
        "print('Mean square error is',mean_square_error(y_pred_mini,y_test))\n",
        "print('Correlation coefficient is', correlation_coefficient(y_pred_mini,y_test))"
      ],
      "execution_count": null,
      "outputs": [
        {
          "output_type": "stream",
          "name": "stdout",
          "text": [
            "Predicted: 0.9051659066867205  Actual:0.9333333333333336\n",
            "Predicted: 1.1121219357851226  Actual:0.9333333333333336\n",
            "Predicted: 0.9514951912445984  Actual:1.0\n",
            "Predicted: 1.134887707269611  Actual:0.9333333333333336\n",
            "Predicted: 1.0532411569801772  Actual:0.9333333333333336\n",
            "Predicted: 0.7011267366051162  Actual:0.9333333333333336\n",
            "Predicted: 0.21696374632856696  Actual:0.0\n",
            "Predicted: 0.9553664465322108  Actual:0.9333333333333336\n",
            "Predicted: 0.15808296752362155  Actual:0.0\n",
            "Predicted: 1.110155585691398  Actual:0.9333333333333336\n",
            "Predicted: 0.907132256780445  Actual:0.9333333333333336\n",
            "Predicted: 0.8824001352022321  Actual:0.9333333333333336\n",
            "Predicted: 1.2112801815326004  Actual:0.9333333333333336\n",
            "Predicted: 0.7555315581146578  Actual:0.9333333333333336\n",
            "Predicted: 0.49187848413506646  Actual:1.0\n",
            "Predicted: 1.0008979895011876  Actual:0.9333333333333336\n",
            "Predicted: 0.8710172494599879  Actual:0.9333333333333336\n",
            "Predicted: 1.0873898142069096  Actual:0.9333333333333336\n",
            "Predicted: 1.0064432698620949  Actual:1.0\n",
            "Predicted: 0.8010631010836345  Actual:0.9333333333333336\n",
            "Predicted: 0.7629857251719452  Actual:1.0\n",
            "Predicted: 1.1329213571758865  Actual:0.9333333333333336\n",
            "Predicted: 0.4830729936863844  Actual:0.26666666666666666\n",
            "Mean absolute error is  0.15216067279382756\n",
            "Mean square error is 0.010551127777094934\n",
            "Correlation coefficient is 0.7885836443647367\n"
          ]
        }
      ]
    },
    {
      "cell_type": "code",
      "metadata": {
        "id": "Wags8Wg537uq"
      },
      "source": [
        ""
      ],
      "execution_count": null,
      "outputs": []
    }
  ]
}