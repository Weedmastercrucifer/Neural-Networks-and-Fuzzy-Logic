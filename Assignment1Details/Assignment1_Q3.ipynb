{
  "nbformat": 4,
  "nbformat_minor": 0,
  "metadata": {
    "colab": {
      "name": "Assignment1_Q3.ipynb",
      "provenance": [],
      "mount_file_id": "1tadWxfy5fBqiU6O0RG1i0pOHpU2be82H",
      "authorship_tag": "ABX9TyPgTypR6Ml78U1kFWrkaXYs",
      "include_colab_link": true
    },
    "kernelspec": {
      "display_name": "Python 3",
      "name": "python3"
    },
    "language_info": {
      "name": "python"
    }
  },
  "cells": [
    {
      "cell_type": "markdown",
      "metadata": {
        "id": "view-in-github",
        "colab_type": "text"
      },
      "source": [
        "<a href=\"https://colab.research.google.com/github/Weedmastercrucifer/Neural-Networks-and-Fuzzy-Logic/blob/main/Assignment1Details/Assignment1_Q3.ipynb\" target=\"_parent\"><img src=\"https://colab.research.google.com/assets/colab-badge.svg\" alt=\"Open In Colab\"/></a>"
      ]
    },
    {
      "cell_type": "code",
      "metadata": {
        "id": "QHBH3sxYYeWL"
      },
      "source": [
        "import pandas as pd\n",
        "import numpy as np\n",
        "import matplotlib.pyplot as plt \n",
        "import math"
      ],
      "execution_count": null,
      "outputs": []
    },
    {
      "cell_type": "markdown",
      "metadata": {
        "id": "1IaVHSwg1UJY"
      },
      "source": [
        "Assignment 1 Q3"
      ]
    },
    {
      "cell_type": "code",
      "metadata": {
        "id": "4M6uSc-QY3fW"
      },
      "source": [
        "def cost_function(X,y,w,L):\n",
        "  hypothesis=np.dot(X,w.T)#calculating hypothesis of all instances\n",
        "  J=(1/(2*len(y)))*np.sum((hypothesis-y)**2)+((L/(2*len(y)))*np.sum(abs(w)))\n",
        "  return J"
      ],
      "execution_count": null,
      "outputs": []
    },
    {
      "cell_type": "code",
      "metadata": {
        "id": "O9a8Q0iXfeMd"
      },
      "source": [
        "#For mean square error\n",
        "def mean_square_error(y_pred,y_actual):\n",
        "  mse=(1/len(y_actual))*(np.sum(y_pred-y_actual)**2)\n",
        "  return mse"
      ],
      "execution_count": null,
      "outputs": []
    },
    {
      "cell_type": "code",
      "metadata": {
        "id": "ssbY4LZpgBdh"
      },
      "source": [
        "#For mean absolute error\n",
        "def mean_absolute_error(y_pred,y_actual):\n",
        "  mae=(1/len(y_actual))*np.sum(np.absolute(y_pred-y_actual)) \n",
        "  return mae"
      ],
      "execution_count": null,
      "outputs": []
    },
    {
      "cell_type": "code",
      "metadata": {
        "id": "Y4pGZF_9gT5W"
      },
      "source": [
        "#for correlation coefficient \n",
        "def correlation_coefficient(y_pred,y_actual):\n",
        "  y_pred_mean=(1/len(y_pred))*(np.sum(y_pred))\n",
        "  y_actual_mean=(1/len(y_actual))*(np.sum(y_actual))\n",
        "  cc=(np.sum((y_actual-y_actual_mean)*(y_pred-y_pred_mean)))/(np.sqrt(np.sum((y_actual-y_actual_mean)**2))*np.sqrt(np.sum((y_pred-y_pred_mean)**2)))\n",
        "  return cc"
      ],
      "execution_count": null,
      "outputs": []
    },
    {
      "cell_type": "code",
      "metadata": {
        "id": "ehvk-iQOgXGt"
      },
      "source": [
        "def batch_gradient_descent(X,y,w,alpha,iters,Lambda_):\n",
        "  cost_hist=np.zeros(iters)#storing cost function value of each iteration\n",
        "  w_hist=np.zeros((iters,5))#for storing weight values at each iteration\n",
        "  for t in range(iters): \n",
        "    hw=np.dot(X,w.T)#constructing hypothesis \n",
        "    w=w-((alpha*Lambda_)/2)*np.sign(w)-(alpha/(len(y)))*(np.dot(hw-y,X))\n",
        "    w_hist[t]=w#storing w values of each iteration\n",
        "    cost_hist[t]=cost_function(X,y,w,Lambda_)#storing cost function value of that iteration\n",
        "  minpos=np.argmin(cost_hist)\n",
        "  w_best=w_hist[minpos]\n",
        "  return w,cost_hist,w_hist,w_best,cost_hist[minpos] "
      ],
      "execution_count": null,
      "outputs": []
    },
    {
      "cell_type": "code",
      "metadata": {
        "id": "4M60rBgvrqMZ"
      },
      "source": [
        "def stochastic_gradient_descent(X,y,w,alpha,iters,Lambda_):\n",
        "  cost_hist=np.zeros(iters)#initialising cost function for each iteration \n",
        "  w_hist=np.zeros((iters,5))#for storing weight values at each iteration\n",
        "  for t in range(iters):\n",
        "    index=np.random.randint(len(y))#randomly selecting an index from the dataset\n",
        "    Ind_X=X[index:index+1]#selecting features of that index\n",
        "    Ind_Y=y[index:index+1]#selecting the true output of that index \n",
        "    w=w-((alpha*Lambda_)/2)*np.sign(w)-alpha*(Ind_X.T.dot(Ind_X.dot(w)-Ind_Y)) \n",
        "    w_hist[t]=w\n",
        "    cost_hist[t]=cost_function(X,y,w,Lambda_)\n",
        "  minpos=np.argmin(cost_hist)\n",
        "  w_best=w_hist[minpos]  \n",
        "  return w,cost_hist,w_hist,w_best,cost_hist[minpos]"
      ],
      "execution_count": null,
      "outputs": []
    },
    {
      "cell_type": "code",
      "metadata": {
        "id": "kXbJVYAfsd7O"
      },
      "source": [
        "def minibatch_gradient_descent(X,y,w,alpha,iters,batch_size,Lambda_):\n",
        "  cost_hist=np.zeros(iters)#initialising cost function for each iteration \n",
        "  w_hist=np.zeros((iters,5))#for storing weight values at each iteration\n",
        "  for t in range(iters):\n",
        "    index=np.random.randint(len(y))#randomly selecting an index from the dataset\n",
        "    Ind_X=X[index:index+batch_size]#selecting features from that index to index+batchsize-1\n",
        "    Ind_Y=y[index:index+batch_size]#selecting the true outputs from that index to index+batch_size-1 \n",
        "    w=w-((alpha*Lambda_)/2)*np.sign(w)-(alpha/batch_size)*(Ind_X.T.dot(Ind_X.dot(w)-Ind_Y))#updating thw weight value \n",
        "    w_hist[t]=w\n",
        "    cost_hist[t]=cost_function(X,y,w,Lambda_)\n",
        "  minpos=np.argmin(cost_hist)\n",
        "  w_best=w_hist[minpos]  \n",
        "  return w,cost_hist,w_hist,w_best,cost_hist[minpos]  \n"
      ],
      "execution_count": null,
      "outputs": []
    },
    {
      "cell_type": "code",
      "metadata": {
        "id": "UPTrQFdXf7Pq"
      },
      "source": [
        "iters_list=[500,1000,1500,2000,5000,10000]\n",
        "alpha_List=np.linspace(0.05,0.06,num=10)\n",
        "Lambda_List=np.linspace(0.005,0.006,num=10) \n"
      ],
      "execution_count": null,
      "outputs": []
    },
    {
      "cell_type": "code",
      "metadata": {
        "id": "nqUgTNXUgDaD"
      },
      "source": [
        "#grid search for best alpha,lambda and weights\n",
        "  \n",
        "def grid_search_bgd(X_train,y_train,alpha_List,Lambda_List,iters_list):\n",
        "  cost_minimum=math.inf\n",
        "  alpha_best=0\n",
        "  Lambda_best=0  \n",
        "  iters_best=0\n",
        "  w_best=np.zeros(X_train.shape[1]) \n",
        "  cost_hist_best=[] \n",
        "  for iters in iters_list: \n",
        "    \n",
        "    for alpha in alpha_List:\n",
        "      for Lambda_ in Lambda_List:\n",
        "        w_batch_train,cost_hist_batch_train,w_batch_hist_train,w_batch_best,cost_batch_min=batch_gradient_descent(X_train,y_train,w,alpha,iters,Lambda_)\n",
        "        if(cost_batch_min<cost_minimum): \n",
        "          w_best=w_batch_best\n",
        "          alpha_best=alpha\n",
        "          Lambda_best=Lambda_  \n",
        "          iters_best=iters \n",
        "          cost_hist_best=cost_hist_batch_train.tolist() \n",
        "          cost_minimum=cost_batch_min\n",
        "  return w_best,alpha_best,Lambda_best,iters_best,cost_hist_best"
      ],
      "execution_count": null,
      "outputs": []
    },
    {
      "cell_type": "code",
      "metadata": {
        "id": "NdYvUd_sf7lk"
      },
      "source": [
        "#grid search for sgd\n",
        "def grid_search_sgd(X_train,y_train,alpha_List,Lambda_List,iters_list):\n",
        "  cost_minimum=math.inf\n",
        "  alpha_best=0\n",
        "  Lambda_best=0  \n",
        "  iters_best=0\n",
        "  w_best=np.zeros(X_train.shape[1]) \n",
        "  cost_hist_best=[] \n",
        "  for iters in iters_list: \n",
        "    \n",
        "    for alpha in alpha_List:\n",
        "      for Lambda_ in Lambda_List:\n",
        "        w_stoch_train,cost_hist_stoch_train,w_stoch_hist_train,w_stoch_best,cost_stoch_min=stochastic_gradient_descent(X_train,y_train,w,alpha,iters,Lambda_)\n",
        "        if(cost_stoch_min<cost_minimum): \n",
        "          w_best=w_stoch_best\n",
        "          alpha_best=alpha\n",
        "          Lambda_best=Lambda_  \n",
        "          iters_best=iters \n",
        "          cost_hist_best=cost_hist_stoch_train.tolist() \n",
        "          cost_minimum=cost_stoch_min\n",
        "  return w_best,alpha_best,Lambda_best,iters_best,cost_hist_best"
      ],
      "execution_count": null,
      "outputs": []
    },
    {
      "cell_type": "code",
      "metadata": {
        "id": "tBhOwgA1f72v"
      },
      "source": [
        "#grid search for mbgd\n",
        "#batch_size_list=[2,4,6,8]\n",
        "def grid_search_mbgd(X_train,y_train,alpha_List,Lambda_List,iters_list):\n",
        "  cost_minimum=math.inf\n",
        "  alpha_best=0\n",
        "  Lambda_best=0  \n",
        "  iters_best=0\n",
        "  w_best=np.zeros(X_train.shape[1]) \n",
        "  cost_hist_best=[] \n",
        "  \n",
        "  for iters in iters_list: \n",
        "      \n",
        "      for alpha in alpha_List:\n",
        "        for Lambda_ in Lambda_List:\n",
        "          w_mini_train,cost_hist_mini_train,w_mini_hist_train,w_mini_best,cost_mini_min=minibatch_gradient_descent(X_train,y_train,w,alpha,iters,5,Lambda_)\n",
        "          if(cost_mini_min<cost_minimum): \n",
        "            w_best=w_mini_best\n",
        "            alpha_best=alpha\n",
        "            Lambda_best=Lambda_  \n",
        "            iters_best=iters \n",
        "            cost_hist_best=cost_hist_mini_train.tolist() \n",
        "            cost_minimum=cost_mini_min\n",
        "  return w_best,alpha_best,Lambda_best,iters_best,cost_hist_best"
      ],
      "execution_count": null,
      "outputs": []
    },
    {
      "cell_type": "code",
      "metadata": {
        "colab": {
          "base_uri": "https://localhost:8080/",
          "height": 300
        },
        "id": "R8YQuT7VtVTy",
        "outputId": "d06aac4c-1860-4110-a86c-292ffead4d33"
      },
      "source": [
        "data=pd.read_excel('/content/drive/MyDrive/Assignment1NNFL/Copy of data_q2_q3.xlsx')\n",
        "data.describe()"
      ],
      "execution_count": null,
      "outputs": [
        {
          "output_type": "execute_result",
          "data": {
            "text/html": [
              "<div>\n",
              "<style scoped>\n",
              "    .dataframe tbody tr th:only-of-type {\n",
              "        vertical-align: middle;\n",
              "    }\n",
              "\n",
              "    .dataframe tbody tr th {\n",
              "        vertical-align: top;\n",
              "    }\n",
              "\n",
              "    .dataframe thead th {\n",
              "        text-align: right;\n",
              "    }\n",
              "</style>\n",
              "<table border=\"1\" class=\"dataframe\">\n",
              "  <thead>\n",
              "    <tr style=\"text-align: right;\">\n",
              "      <th></th>\n",
              "      <th>Feat1</th>\n",
              "      <th>Feat2</th>\n",
              "      <th>Feat3</th>\n",
              "      <th>Feat4</th>\n",
              "      <th>Output</th>\n",
              "    </tr>\n",
              "  </thead>\n",
              "  <tbody>\n",
              "    <tr>\n",
              "      <th>count</th>\n",
              "      <td>115.00000</td>\n",
              "      <td>115.000000</td>\n",
              "      <td>115.000000</td>\n",
              "      <td>115.000000</td>\n",
              "      <td>115.000000</td>\n",
              "    </tr>\n",
              "    <tr>\n",
              "      <th>mean</th>\n",
              "      <td>0.16287</td>\n",
              "      <td>0.075435</td>\n",
              "      <td>3.117391</td>\n",
              "      <td>4.795652</td>\n",
              "      <td>1.913043</td>\n",
              "    </tr>\n",
              "    <tr>\n",
              "      <th>std</th>\n",
              "      <td>0.06475</td>\n",
              "      <td>0.050217</td>\n",
              "      <td>1.284746</td>\n",
              "      <td>0.579699</td>\n",
              "      <td>0.533035</td>\n",
              "    </tr>\n",
              "    <tr>\n",
              "      <th>min</th>\n",
              "      <td>0.03500</td>\n",
              "      <td>0.025000</td>\n",
              "      <td>1.500000</td>\n",
              "      <td>4.210000</td>\n",
              "      <td>0.800000</td>\n",
              "    </tr>\n",
              "    <tr>\n",
              "      <th>25%</th>\n",
              "      <td>0.12500</td>\n",
              "      <td>0.025000</td>\n",
              "      <td>2.000000</td>\n",
              "      <td>4.400000</td>\n",
              "      <td>1.800000</td>\n",
              "    </tr>\n",
              "    <tr>\n",
              "      <th>50%</th>\n",
              "      <td>0.17500</td>\n",
              "      <td>0.125000</td>\n",
              "      <td>3.000000</td>\n",
              "      <td>4.680000</td>\n",
              "      <td>2.200000</td>\n",
              "    </tr>\n",
              "    <tr>\n",
              "      <th>75%</th>\n",
              "      <td>0.19500</td>\n",
              "      <td>0.125000</td>\n",
              "      <td>4.000000</td>\n",
              "      <td>4.970000</td>\n",
              "      <td>2.200000</td>\n",
              "    </tr>\n",
              "    <tr>\n",
              "      <th>max</th>\n",
              "      <td>0.26000</td>\n",
              "      <td>0.125000</td>\n",
              "      <td>5.000000</td>\n",
              "      <td>5.740000</td>\n",
              "      <td>2.300000</td>\n",
              "    </tr>\n",
              "  </tbody>\n",
              "</table>\n",
              "</div>"
            ],
            "text/plain": [
              "           Feat1       Feat2       Feat3       Feat4      Output\n",
              "count  115.00000  115.000000  115.000000  115.000000  115.000000\n",
              "mean     0.16287    0.075435    3.117391    4.795652    1.913043\n",
              "std      0.06475    0.050217    1.284746    0.579699    0.533035\n",
              "min      0.03500    0.025000    1.500000    4.210000    0.800000\n",
              "25%      0.12500    0.025000    2.000000    4.400000    1.800000\n",
              "50%      0.17500    0.125000    3.000000    4.680000    2.200000\n",
              "75%      0.19500    0.125000    4.000000    4.970000    2.200000\n",
              "max      0.26000    0.125000    5.000000    5.740000    2.300000"
            ]
          },
          "metadata": {},
          "execution_count": 52
        }
      ]
    },
    {
      "cell_type": "code",
      "metadata": {
        "id": "2nNMP0C-tZeL"
      },
      "source": [
        "data=data.sample(frac=1, random_state=50)\n",
        "train,validate,test= np.split(data,[int(.7*len(data)),int(.8*len(data))])"
      ],
      "execution_count": null,
      "outputs": []
    },
    {
      "cell_type": "code",
      "metadata": {
        "colab": {
          "base_uri": "https://localhost:8080/"
        },
        "id": "7vsrhmPFtiYx",
        "outputId": "931d1c34-c472-49ce-a79d-7c08c5ea9d79"
      },
      "source": [
        "print(train.shape)\n",
        "print(validate.shape)\n",
        "print(test.shape)"
      ],
      "execution_count": null,
      "outputs": [
        {
          "output_type": "stream",
          "name": "stdout",
          "text": [
            "(80, 5)\n",
            "(12, 5)\n",
            "(23, 5)\n"
          ]
        }
      ]
    },
    {
      "cell_type": "code",
      "metadata": {
        "colab": {
          "base_uri": "https://localhost:8080/"
        },
        "id": "UOXgR3R5tlry",
        "outputId": "18cc7b13-9754-4c09-d3eb-8253c3cf81de"
      },
      "source": [
        "train=np.array(train) \n",
        "print(train)  \n",
        "validate=np.array(validate) \n",
        "print(validate)\n",
        "test=np.array(test) \n",
        "print(test)\n"
      ],
      "execution_count": null,
      "outputs": [
        {
          "output_type": "stream",
          "name": "stdout",
          "text": [
            "[[0.245 0.125 5.    5.74  2.2  ]\n",
            " [0.245 0.025 1.5   5.74  2.2  ]\n",
            " [0.035 0.125 5.    4.68  0.8  ]\n",
            " [0.06  0.025 4.    4.68  0.9  ]\n",
            " [0.175 0.025 5.    4.21  1.8  ]\n",
            " [0.035 0.025 1.5   4.68  0.8  ]\n",
            " [0.26  0.025 2.    4.4   2.2  ]\n",
            " [0.245 0.125 1.5   5.74  2.2  ]\n",
            " [0.06  0.125 2.    4.68  0.9  ]\n",
            " [0.26  0.025 1.5   4.4   2.2  ]\n",
            " [0.035 0.025 3.    4.68  0.8  ]\n",
            " [0.235 0.125 2.    4.21  2.2  ]\n",
            " [0.13  0.025 5.    4.21  1.2  ]\n",
            " [0.155 0.125 5.    4.97  2.3  ]\n",
            " [0.125 0.125 1.5   5.74  2.2  ]\n",
            " [0.035 0.125 4.    4.68  0.8  ]\n",
            " [0.13  0.125 1.5   4.21  1.2  ]\n",
            " [0.06  0.025 5.    4.68  0.9  ]\n",
            " [0.185 0.125 5.    5.74  2.3  ]\n",
            " [0.18  0.125 1.5   4.4   2.2  ]\n",
            " [0.235 0.125 1.5   4.21  2.2  ]\n",
            " [0.125 0.125 4.    4.4   2.3  ]\n",
            " [0.155 0.125 4.    4.97  2.3  ]\n",
            " [0.18  0.125 5.    4.4   2.2  ]\n",
            " [0.245 0.025 2.    5.74  2.2  ]\n",
            " [0.125 0.125 2.    5.74  2.2  ]\n",
            " [0.195 0.025 4.    4.97  2.2  ]\n",
            " [0.235 0.025 4.    4.21  2.2  ]\n",
            " [0.155 0.025 5.    4.97  2.3  ]\n",
            " [0.195 0.125 5.    4.97  2.2  ]\n",
            " [0.125 0.125 4.    5.74  2.2  ]\n",
            " [0.175 0.125 3.    4.21  1.8  ]\n",
            " [0.13  0.125 4.    4.21  1.2  ]\n",
            " [0.125 0.025 4.    4.4   2.3  ]\n",
            " [0.18  0.025 4.    4.4   2.2  ]\n",
            " [0.155 0.125 3.    4.97  2.3  ]\n",
            " [0.125 0.025 5.    5.74  2.2  ]\n",
            " [0.18  0.025 2.    4.4   2.2  ]\n",
            " [0.175 0.025 2.    4.21  1.8  ]\n",
            " [0.13  0.025 3.    4.21  1.2  ]\n",
            " [0.06  0.025 1.5   4.68  0.9  ]\n",
            " [0.235 0.125 4.    4.21  2.2  ]\n",
            " [0.125 0.025 3.    4.4   2.3  ]\n",
            " [0.035 0.025 2.    4.68  0.8  ]\n",
            " [0.185 0.125 3.    5.74  2.3  ]\n",
            " [0.245 0.125 3.    5.74  2.2  ]\n",
            " [0.125 0.025 4.    5.74  2.2  ]\n",
            " [0.175 0.125 5.    4.21  1.8  ]\n",
            " [0.185 0.025 4.    5.74  2.3  ]\n",
            " [0.155 0.025 1.5   4.97  2.3  ]\n",
            " [0.195 0.025 2.    4.97  2.2  ]\n",
            " [0.175 0.125 1.5   4.21  1.8  ]\n",
            " [0.175 0.125 2.    4.21  1.8  ]\n",
            " [0.06  0.125 5.    4.68  0.9  ]\n",
            " [0.13  0.125 2.    4.21  1.2  ]\n",
            " [0.175 0.025 1.5   4.21  1.8  ]\n",
            " [0.26  0.125 2.    4.4   2.2  ]\n",
            " [0.125 0.025 5.    4.4   2.3  ]\n",
            " [0.175 0.025 3.    4.21  1.8  ]\n",
            " [0.125 0.025 3.    5.74  2.2  ]\n",
            " [0.195 0.125 4.    4.97  2.2  ]\n",
            " [0.155 0.125 2.    4.97  2.3  ]\n",
            " [0.13  0.125 3.    4.21  1.2  ]\n",
            " [0.185 0.025 2.    5.74  2.3  ]\n",
            " [0.245 0.125 4.    5.74  2.2  ]\n",
            " [0.185 0.025 3.    5.74  2.3  ]\n",
            " [0.035 0.125 2.    4.68  0.8  ]\n",
            " [0.125 0.125 3.    4.4   2.3  ]\n",
            " [0.06  0.125 1.5   4.68  0.9  ]\n",
            " [0.18  0.125 3.    4.4   2.2  ]\n",
            " [0.125 0.125 5.    4.4   2.3  ]\n",
            " [0.195 0.025 1.5   4.97  2.2  ]\n",
            " [0.13  0.025 4.    4.21  1.2  ]\n",
            " [0.155 0.025 2.    4.97  2.3  ]\n",
            " [0.06  0.125 3.    4.68  0.9  ]\n",
            " [0.235 0.025 1.5   4.21  2.2  ]\n",
            " [0.235 0.125 5.    4.21  2.2  ]\n",
            " [0.175 0.025 4.    4.21  1.8  ]\n",
            " [0.18  0.125 2.    4.4   2.2  ]\n",
            " [0.125 0.125 1.5   4.4   2.3  ]]\n",
            "[[0.185 0.025 5.    5.74  2.3  ]\n",
            " [0.035 0.025 5.    4.68  0.8  ]\n",
            " [0.125 0.025 2.    4.4   2.3  ]\n",
            " [0.245 0.025 3.    5.74  2.2  ]\n",
            " [0.18  0.125 4.    4.4   2.2  ]\n",
            " [0.235 0.125 3.    4.21  2.2  ]\n",
            " [0.125 0.125 3.    5.74  2.2  ]\n",
            " [0.06  0.025 3.    4.68  0.9  ]\n",
            " [0.13  0.025 2.    4.21  1.2  ]\n",
            " [0.185 0.125 2.    5.74  2.3  ]\n",
            " [0.125 0.125 5.    5.74  2.2  ]\n",
            " [0.245 0.025 4.    5.74  2.2  ]]\n",
            "[[0.195 0.125 3.    4.97  2.2  ]\n",
            " [0.26  0.025 4.    4.4   2.2  ]\n",
            " [0.185 0.025 1.5   5.74  2.3  ]\n",
            " [0.26  0.025 5.    4.4   2.2  ]\n",
            " [0.26  0.125 1.5   4.4   2.2  ]\n",
            " [0.125 0.025 1.5   5.74  2.2  ]\n",
            " [0.035 0.025 4.    4.68  0.8  ]\n",
            " [0.235 0.025 3.    4.21  2.2  ]\n",
            " [0.035 0.125 1.5   4.68  0.8  ]\n",
            " [0.26  0.125 4.    4.4   2.2  ]\n",
            " [0.195 0.025 3.    4.97  2.2  ]\n",
            " [0.195 0.125 2.    4.97  2.2  ]\n",
            " [0.245 0.125 2.    5.74  2.2  ]\n",
            " [0.18  0.025 3.    4.4   2.2  ]\n",
            " [0.125 0.025 1.5   4.4   2.3  ]\n",
            " [0.235 0.025 5.    4.21  2.2  ]\n",
            " [0.195 0.125 1.5   4.97  2.2  ]\n",
            " [0.26  0.125 3.    4.4   2.2  ]\n",
            " [0.185 0.125 4.    5.74  2.3  ]\n",
            " [0.18  0.025 5.    4.4   2.2  ]\n",
            " [0.155 0.025 4.    4.97  2.3  ]\n",
            " [0.26  0.125 5.    4.4   2.2  ]\n",
            " [0.13  0.025 1.5   4.21  1.2  ]]\n"
          ]
        }
      ]
    },
    {
      "cell_type": "code",
      "metadata": {
        "id": "Afxa_1F8tzFq"
      },
      "source": [
        "X_train=train[:,0:4]\n",
        "m=X_train.shape[0]\n",
        "xmin=np.min(X_train,axis=0)\n",
        "xmax=np.max(X_train,axis=0)\n",
        "X_train=(X_train-xmin)/(xmax-xmin)#performing normalization on input features \n",
        "pp=np.ones([m,1])\n",
        "X_train=np.append(pp,X_train,axis=1)"
      ],
      "execution_count": null,
      "outputs": []
    },
    {
      "cell_type": "code",
      "metadata": {
        "colab": {
          "base_uri": "https://localhost:8080/"
        },
        "id": "YEJMeqFst3dp",
        "outputId": "158f3615-9eba-4ee7-a456-82481c3eda55"
      },
      "source": [
        "X_train"
      ],
      "execution_count": null,
      "outputs": [
        {
          "output_type": "execute_result",
          "data": {
            "text/plain": [
              "array([[1.        , 0.93333333, 1.        , 1.        , 1.        ],\n",
              "       [1.        , 0.93333333, 0.        , 0.        , 1.        ],\n",
              "       [1.        , 0.        , 1.        , 1.        , 0.30718954],\n",
              "       [1.        , 0.11111111, 0.        , 0.71428571, 0.30718954],\n",
              "       [1.        , 0.62222222, 0.        , 1.        , 0.        ],\n",
              "       [1.        , 0.        , 0.        , 0.        , 0.30718954],\n",
              "       [1.        , 1.        , 0.        , 0.14285714, 0.12418301],\n",
              "       [1.        , 0.93333333, 1.        , 0.        , 1.        ],\n",
              "       [1.        , 0.11111111, 1.        , 0.14285714, 0.30718954],\n",
              "       [1.        , 1.        , 0.        , 0.        , 0.12418301],\n",
              "       [1.        , 0.        , 0.        , 0.42857143, 0.30718954],\n",
              "       [1.        , 0.88888889, 1.        , 0.14285714, 0.        ],\n",
              "       [1.        , 0.42222222, 0.        , 1.        , 0.        ],\n",
              "       [1.        , 0.53333333, 1.        , 1.        , 0.49673203],\n",
              "       [1.        , 0.4       , 1.        , 0.        , 1.        ],\n",
              "       [1.        , 0.        , 1.        , 0.71428571, 0.30718954],\n",
              "       [1.        , 0.42222222, 1.        , 0.        , 0.        ],\n",
              "       [1.        , 0.11111111, 0.        , 1.        , 0.30718954],\n",
              "       [1.        , 0.66666667, 1.        , 1.        , 1.        ],\n",
              "       [1.        , 0.64444444, 1.        , 0.        , 0.12418301],\n",
              "       [1.        , 0.88888889, 1.        , 0.        , 0.        ],\n",
              "       [1.        , 0.4       , 1.        , 0.71428571, 0.12418301],\n",
              "       [1.        , 0.53333333, 1.        , 0.71428571, 0.49673203],\n",
              "       [1.        , 0.64444444, 1.        , 1.        , 0.12418301],\n",
              "       [1.        , 0.93333333, 0.        , 0.14285714, 1.        ],\n",
              "       [1.        , 0.4       , 1.        , 0.14285714, 1.        ],\n",
              "       [1.        , 0.71111111, 0.        , 0.71428571, 0.49673203],\n",
              "       [1.        , 0.88888889, 0.        , 0.71428571, 0.        ],\n",
              "       [1.        , 0.53333333, 0.        , 1.        , 0.49673203],\n",
              "       [1.        , 0.71111111, 1.        , 1.        , 0.49673203],\n",
              "       [1.        , 0.4       , 1.        , 0.71428571, 1.        ],\n",
              "       [1.        , 0.62222222, 1.        , 0.42857143, 0.        ],\n",
              "       [1.        , 0.42222222, 1.        , 0.71428571, 0.        ],\n",
              "       [1.        , 0.4       , 0.        , 0.71428571, 0.12418301],\n",
              "       [1.        , 0.64444444, 0.        , 0.71428571, 0.12418301],\n",
              "       [1.        , 0.53333333, 1.        , 0.42857143, 0.49673203],\n",
              "       [1.        , 0.4       , 0.        , 1.        , 1.        ],\n",
              "       [1.        , 0.64444444, 0.        , 0.14285714, 0.12418301],\n",
              "       [1.        , 0.62222222, 0.        , 0.14285714, 0.        ],\n",
              "       [1.        , 0.42222222, 0.        , 0.42857143, 0.        ],\n",
              "       [1.        , 0.11111111, 0.        , 0.        , 0.30718954],\n",
              "       [1.        , 0.88888889, 1.        , 0.71428571, 0.        ],\n",
              "       [1.        , 0.4       , 0.        , 0.42857143, 0.12418301],\n",
              "       [1.        , 0.        , 0.        , 0.14285714, 0.30718954],\n",
              "       [1.        , 0.66666667, 1.        , 0.42857143, 1.        ],\n",
              "       [1.        , 0.93333333, 1.        , 0.42857143, 1.        ],\n",
              "       [1.        , 0.4       , 0.        , 0.71428571, 1.        ],\n",
              "       [1.        , 0.62222222, 1.        , 1.        , 0.        ],\n",
              "       [1.        , 0.66666667, 0.        , 0.71428571, 1.        ],\n",
              "       [1.        , 0.53333333, 0.        , 0.        , 0.49673203],\n",
              "       [1.        , 0.71111111, 0.        , 0.14285714, 0.49673203],\n",
              "       [1.        , 0.62222222, 1.        , 0.        , 0.        ],\n",
              "       [1.        , 0.62222222, 1.        , 0.14285714, 0.        ],\n",
              "       [1.        , 0.11111111, 1.        , 1.        , 0.30718954],\n",
              "       [1.        , 0.42222222, 1.        , 0.14285714, 0.        ],\n",
              "       [1.        , 0.62222222, 0.        , 0.        , 0.        ],\n",
              "       [1.        , 1.        , 1.        , 0.14285714, 0.12418301],\n",
              "       [1.        , 0.4       , 0.        , 1.        , 0.12418301],\n",
              "       [1.        , 0.62222222, 0.        , 0.42857143, 0.        ],\n",
              "       [1.        , 0.4       , 0.        , 0.42857143, 1.        ],\n",
              "       [1.        , 0.71111111, 1.        , 0.71428571, 0.49673203],\n",
              "       [1.        , 0.53333333, 1.        , 0.14285714, 0.49673203],\n",
              "       [1.        , 0.42222222, 1.        , 0.42857143, 0.        ],\n",
              "       [1.        , 0.66666667, 0.        , 0.14285714, 1.        ],\n",
              "       [1.        , 0.93333333, 1.        , 0.71428571, 1.        ],\n",
              "       [1.        , 0.66666667, 0.        , 0.42857143, 1.        ],\n",
              "       [1.        , 0.        , 1.        , 0.14285714, 0.30718954],\n",
              "       [1.        , 0.4       , 1.        , 0.42857143, 0.12418301],\n",
              "       [1.        , 0.11111111, 1.        , 0.        , 0.30718954],\n",
              "       [1.        , 0.64444444, 1.        , 0.42857143, 0.12418301],\n",
              "       [1.        , 0.4       , 1.        , 1.        , 0.12418301],\n",
              "       [1.        , 0.71111111, 0.        , 0.        , 0.49673203],\n",
              "       [1.        , 0.42222222, 0.        , 0.71428571, 0.        ],\n",
              "       [1.        , 0.53333333, 0.        , 0.14285714, 0.49673203],\n",
              "       [1.        , 0.11111111, 1.        , 0.42857143, 0.30718954],\n",
              "       [1.        , 0.88888889, 0.        , 0.        , 0.        ],\n",
              "       [1.        , 0.88888889, 1.        , 1.        , 0.        ],\n",
              "       [1.        , 0.62222222, 0.        , 0.71428571, 0.        ],\n",
              "       [1.        , 0.64444444, 1.        , 0.14285714, 0.12418301],\n",
              "       [1.        , 0.4       , 1.        , 0.        , 0.12418301]])"
            ]
          },
          "metadata": {},
          "execution_count": 57
        }
      ]
    },
    {
      "cell_type": "code",
      "metadata": {
        "id": "ccJfprHXt6wY"
      },
      "source": [
        "y_train=train[:,4]#true outputs of the instances\n",
        "ymin_train=np.min(y_train,axis=0)#taking minimum value\n",
        "ymax_train=np.max(y_train,axis=0)#taking maximum value\n",
        "y_train=(y_train-ymin_train)/(ymax_train-ymin_train)#normalising output"
      ],
      "execution_count": null,
      "outputs": []
    },
    {
      "cell_type": "code",
      "metadata": {
        "colab": {
          "base_uri": "https://localhost:8080/"
        },
        "id": "uhTJ4a53uAf9",
        "outputId": "1d77de10-7337-48dc-beba-3ae5227f492f"
      },
      "source": [
        "y_train"
      ],
      "execution_count": null,
      "outputs": [
        {
          "output_type": "execute_result",
          "data": {
            "text/plain": [
              "array([0.93333333, 0.93333333, 0.        , 0.06666667, 0.66666667,\n",
              "       0.        , 0.93333333, 0.93333333, 0.06666667, 0.93333333,\n",
              "       0.        , 0.93333333, 0.26666667, 1.        , 0.93333333,\n",
              "       0.        , 0.26666667, 0.06666667, 1.        , 0.93333333,\n",
              "       0.93333333, 1.        , 1.        , 0.93333333, 0.93333333,\n",
              "       0.93333333, 0.93333333, 0.93333333, 1.        , 0.93333333,\n",
              "       0.93333333, 0.66666667, 0.26666667, 1.        , 0.93333333,\n",
              "       1.        , 0.93333333, 0.93333333, 0.66666667, 0.26666667,\n",
              "       0.06666667, 0.93333333, 1.        , 0.        , 1.        ,\n",
              "       0.93333333, 0.93333333, 0.66666667, 1.        , 1.        ,\n",
              "       0.93333333, 0.66666667, 0.66666667, 0.06666667, 0.26666667,\n",
              "       0.66666667, 0.93333333, 1.        , 0.66666667, 0.93333333,\n",
              "       0.93333333, 1.        , 0.26666667, 1.        , 0.93333333,\n",
              "       1.        , 0.        , 1.        , 0.06666667, 0.93333333,\n",
              "       1.        , 0.93333333, 0.26666667, 1.        , 0.06666667,\n",
              "       0.93333333, 0.93333333, 0.66666667, 0.93333333, 1.        ])"
            ]
          },
          "metadata": {},
          "execution_count": 59
        }
      ]
    },
    {
      "cell_type": "code",
      "metadata": {
        "colab": {
          "base_uri": "https://localhost:8080/"
        },
        "id": "d0PhJMCFuDUu",
        "outputId": "51006efd-3e0d-4d3a-e683-250e696af1f0"
      },
      "source": [
        "w=np.zeros(X_train.shape[1]) \n",
        "w"
      ],
      "execution_count": null,
      "outputs": [
        {
          "output_type": "execute_result",
          "data": {
            "text/plain": [
              "array([0., 0., 0., 0., 0.])"
            ]
          },
          "metadata": {},
          "execution_count": 60
        }
      ]
    },
    {
      "cell_type": "code",
      "metadata": {
        "id": "1ilEdymkuH9J"
      },
      "source": [
        "#alpha=0.05\n",
        "#iters=1500 \n",
        "#Lambda_=0.005\n",
        "#w_batch_train,cost_hist_batch_train,w_batch_hist_train=batch_gradient_descent(X_train,y_train,w,alpha,iters,Lambda_) \n",
        "w_best_batch,alpha_best_batch,Lambda_best_batch,iters_best_batch,cost_hist_best_batch=grid_search_bgd(X_train,y_train,alpha_List,Lambda_List,iters_list) \n"
      ],
      "execution_count": null,
      "outputs": []
    },
    {
      "cell_type": "code",
      "metadata": {
        "colab": {
          "base_uri": "https://localhost:8080/",
          "height": 265
        },
        "id": "XWyS6KCOuLnn",
        "outputId": "1fc65012-a2e3-41e5-db5f-95e43fafa9fb"
      },
      "source": [
        "plt.plot(range(iters_best_batch),cost_hist_best_batch)\n",
        "plt.show()"
      ],
      "execution_count": null,
      "outputs": [
        {
          "output_type": "display_data",
          "data": {
            "image/png": "[encoded data removed]",
            "text/plain": [
              "<Figure size 432x288 with 1 Axes>"
            ]
          },
          "metadata": {
            "needs_background": "light"
          }
        }
      ]
    },
    {
      "cell_type": "code",
      "metadata": {
        "id": "C_RCTYhkuOot"
      },
      "source": [
        "#alpha=0.05\n",
        "#iters=1500 \n",
        "#Lambda_=0.005\n",
        "#w_stoch_train,cost_hist_stoch_train,w_stoch_hist_train=stochastic_gradient_descent(X_train,y_train,w,alpha,iters,Lambda_) \n",
        "w_best_stoch,alpha_best_stoch,Lambda_best_stoch,iters_best_stoch,cost_hist_best_stoch=grid_search_sgd(X_train,y_train,alpha_List,Lambda_List,iters_list)"
      ],
      "execution_count": null,
      "outputs": []
    },
    {
      "cell_type": "code",
      "metadata": {
        "colab": {
          "base_uri": "https://localhost:8080/",
          "height": 265
        },
        "id": "VNlc2zcRuUBV",
        "outputId": "6ad1bc79-7da0-4497-84c0-3b9012b58acc"
      },
      "source": [
        "plt.plot(range(iters_best_stoch),cost_hist_best_stoch)\n",
        "plt.show()"
      ],
      "execution_count": null,
      "outputs": [
        {
          "output_type": "display_data",
          "data": {
            "image/png": "[encoded data removed]",
            "text/plain": [
              "<Figure size 432x288 with 1 Axes>"
            ]
          },
          "metadata": {
            "needs_background": "light"
          }
        }
      ]
    },
    {
      "cell_type": "code",
      "metadata": {
        "id": "NerwbpDtuXLP"
      },
      "source": [
        "#alpha=0.05\n",
        "#iters=1500 \n",
        "#Lambda_=0.005\n",
        "#w_mini_train,cost_hist_mini_train,w_mini_hist_train=minibatch_gradient_descent(X_train,y_train,w,alpha,iters,5,Lambda_)\n",
        "w_best_mini,alpha_best_mini,Lambda_best_mini,iters_best_mini,cost_hist_best_mini=grid_search_mbgd(X_train,y_train,alpha_List,Lambda_List,iters_list)"
      ],
      "execution_count": null,
      "outputs": []
    },
    {
      "cell_type": "code",
      "metadata": {
        "colab": {
          "base_uri": "https://localhost:8080/",
          "height": 265
        },
        "id": "GZv_x7rwucfp",
        "outputId": "15df21f2-131d-43af-d1fa-e9cfde71893d"
      },
      "source": [
        "plt.plot(range(iters_best_mini),cost_hist_best_mini)\n",
        "plt.show()"
      ],
      "execution_count": null,
      "outputs": [
        {
          "output_type": "display_data",
          "data": {
            "image/png": "[encoded data removed]",
            "text/plain": [
              "<Figure size 432x288 with 1 Axes>"
            ]
          },
          "metadata": {
            "needs_background": "light"
          }
        }
      ]
    },
    {
      "cell_type": "code",
      "metadata": {
        "id": "tC58URCUue-v"
      },
      "source": [
        "X_test=test[:,0:4]\n",
        "m=X_test.shape[0]\n",
        "xmin=np.min(X_test,axis=0)\n",
        "xmax=np.max(X_test,axis=0)\n",
        "X_test=(X_test-xmin)/(xmax-xmin)#performing normalization on input features \n",
        "pp=np.ones([m,1])\n",
        "X_test=np.append(pp,X_test,axis=1)"
      ],
      "execution_count": null,
      "outputs": []
    },
    {
      "cell_type": "code",
      "metadata": {
        "id": "WW5mBDGwiyrY"
      },
      "source": [
        "y_test=test[:,4]#true outputs of the instances\n",
        "ymin_test=np.min(y_test,axis=0)#taking minimum value\n",
        "ymax_test=np.max(y_test,axis=0)#taking maximum value\n",
        "y_test=(y_test-ymin_test)/(ymax_test-ymin_test)#normalising output"
      ],
      "execution_count": null,
      "outputs": []
    },
    {
      "cell_type": "code",
      "metadata": {
        "colab": {
          "base_uri": "https://localhost:8080/"
        },
        "id": "HtINIh_Zi7jv",
        "outputId": "db6a2ece-5174-428b-a470-f5a497f750c5"
      },
      "source": [
        "y_test"
      ],
      "execution_count": null,
      "outputs": [
        {
          "output_type": "execute_result",
          "data": {
            "text/plain": [
              "array([0.93333333, 0.93333333, 1.        , 0.93333333, 0.93333333,\n",
              "       0.93333333, 0.        , 0.93333333, 0.        , 0.93333333,\n",
              "       0.93333333, 0.93333333, 0.93333333, 0.93333333, 1.        ,\n",
              "       0.93333333, 0.93333333, 0.93333333, 1.        , 0.93333333,\n",
              "       1.        , 0.93333333, 0.26666667])"
            ]
          },
          "metadata": {},
          "execution_count": 69
        }
      ]
    },
    {
      "cell_type": "code",
      "metadata": {
        "id": "d3D4OGqEjBdO"
      },
      "source": [
        "#testing models against test data and validation data\n",
        "def predict(X_test,y_test,weights):\n",
        "  hypothesis=X_test@weights\n",
        "  y_pred=hypothesis\n",
        "  #printing predicted and actual output\n",
        "  for i in range(X_test.shape[0]):\n",
        "        print(\"Predicted: {0}  Actual:{1}\".format(y_pred[i],(y_test[i])))\n",
        "  return y_pred"
      ],
      "execution_count": null,
      "outputs": []
    },
    {
      "cell_type": "code",
      "metadata": {
        "id": "umw3VldMjCQ7"
      },
      "source": [
        "X_validate=validate[:,0:4]\n",
        "m=X_validate.shape[0]\n",
        "xmin_validate=np.min(X_validate,axis=0)\n",
        "xmax_validate=np.max(X_validate,axis=0)\n",
        "X_validate=(X_validate-xmin_validate)/(xmax_validate-xmin_validate)#performing normalization on input features \n",
        "pp=np.ones([m,1])\n",
        "X_validate=np.append(pp,X_validate,axis=1)"
      ],
      "execution_count": null,
      "outputs": []
    },
    {
      "cell_type": "code",
      "metadata": {
        "id": "CqygyY4p8m8G"
      },
      "source": [
        "y_validate=validate[:,4]#true outputs of the instances\n",
        "ymin_validate=np.min(y_validate,axis=0)#taking minimum value\n",
        "ymax_validate=np.max(y_validate,axis=0)#taking maximum value\n",
        "y_validate=(y_validate-ymin_validate)/(ymax_validate-ymin_validate)#normalising output"
      ],
      "execution_count": null,
      "outputs": []
    },
    {
      "cell_type": "code",
      "metadata": {
        "colab": {
          "base_uri": "https://localhost:8080/"
        },
        "id": "c1TXPIj18rUj",
        "outputId": "7658c15d-2bf5-43ed-d33b-deec7b0c6f86"
      },
      "source": [
        "#for tuning batch gradient descent\n",
        "y_validate_batch=predict(X_validate,y_validate,w_best_batch) \n",
        "print('Mean absolute error is ',mean_absolute_error(y_validate_batch,y_validate)) \n",
        "print('Mean square error is',mean_square_error(y_validate_batch,y_validate))\n",
        "print('Correlation coefficient is', correlation_coefficient(y_validate_batch,y_validate))"
      ],
      "execution_count": null,
      "outputs": [
        {
          "output_type": "stream",
          "name": "stdout",
          "text": [
            "Predicted: 1.0583185128572332  Actual:1.0\n",
            "Predicted: 0.23493082747588184  Actual:0.0\n",
            "Predicted: 0.5254125640228575  Actual:1.0\n",
            "Predicted: 1.2786854191957926  Actual:0.9333333333333336\n",
            "Predicted: 0.8202209672397128  Actual:0.9333333333333336\n",
            "Predicted: 1.0151648855238014  Actual:0.9333333333333336\n",
            "Predicted: 0.7415317830716407  Actual:0.9333333333333336\n",
            "Predicted: 0.29856789084088875  Actual:0.06666666666666667\n",
            "Predicted: 0.5206131188670647  Actual:0.26666666666666666\n",
            "Predicted: 0.9860551016468225  Actual:1.0\n",
            "Predicted: 0.7898446075448855  Actual:0.9333333333333336\n",
            "Predicted: 1.302841831432415  Actual:0.9333333333333336\n",
            "Mean absolute error is  0.2093936774444854\n",
            "Mean square error is 0.03401122155711686\n",
            "Correlation coefficient is 0.7707817548613071\n"
          ]
        }
      ]
    },
    {
      "cell_type": "code",
      "metadata": {
        "colab": {
          "base_uri": "https://localhost:8080/"
        },
        "id": "cU_JXHNR8rl0",
        "outputId": "7d6fa6d2-31fd-4bfc-d05f-247d47cfc1ed"
      },
      "source": [
        "#for tuning stochastic gradient descent\n",
        "y_validate_stoch=predict(X_validate,y_validate,w_best_stoch) \n",
        "print('Mean absolute error is ',mean_absolute_error(y_validate_stoch,y_validate)) \n",
        "print('Mean square error is',mean_square_error(y_validate_stoch,y_validate))\n",
        "print('Correlation coefficient is', correlation_coefficient(y_validate_stoch,y_validate))"
      ],
      "execution_count": null,
      "outputs": [
        {
          "output_type": "stream",
          "name": "stdout",
          "text": [
            "Predicted: 1.0755859596347217  Actual:1.0\n",
            "Predicted: 0.23854256915246888  Actual:0.0\n",
            "Predicted: 0.5220525798734528  Actual:1.0\n",
            "Predicted: 1.291885520558443  Actual:0.9333333333333336\n",
            "Predicted: 0.8270997209732193  Actual:0.9333333333333336\n",
            "Predicted: 1.0211457049308625  Actual:0.9333333333333336\n",
            "Predicted: 0.7446734648395291  Actual:0.9333333333333336\n",
            "Predicted: 0.29569508105072606  Actual:0.06666666666666667\n",
            "Predicted: 0.5170076124975418  Actual:0.26666666666666666\n",
            "Predicted: 0.9892350016089304  Actual:1.0\n",
            "Predicted: 0.801197416530889  Actual:0.9333333333333336\n",
            "Predicted: 1.3201474964041229  Actual:0.9333333333333336\n",
            "Mean absolute error is  0.21186820225579434\n",
            "Mean square error is 0.04211902352881706\n",
            "Correlation coefficient is 0.7687337327877359\n"
          ]
        }
      ]
    },
    {
      "cell_type": "code",
      "metadata": {
        "colab": {
          "base_uri": "https://localhost:8080/"
        },
        "id": "o6fDvJG_8r2c",
        "outputId": "35dd1777-c99e-495a-f7e8-0c141f86cb73"
      },
      "source": [
        "#for tuning minibatch gradient descent\n",
        "y_validate_mini=predict(X_validate,y_validate,w_best_mini) \n",
        "print('Mean absolute error is ',mean_absolute_error(y_validate_mini,y_validate)) \n",
        "print('Mean square error is',mean_square_error(y_validate_mini,y_validate))\n",
        "print('Correlation coefficient is', correlation_coefficient(y_validate_mini,y_validate))"
      ],
      "execution_count": null,
      "outputs": [
        {
          "output_type": "stream",
          "name": "stdout",
          "text": [
            "Predicted: 1.0788412287255844  Actual:1.0\n",
            "Predicted: 0.23498533538236482  Actual:0.0\n",
            "Predicted: 0.5206907905493768  Actual:1.0\n",
            "Predicted: 1.2975428142312355  Actual:0.9333333333333336\n",
            "Predicted: 0.8244232166501054  Actual:0.9333333333333336\n",
            "Predicted: 1.0189623542451212  Actual:0.9333333333333336\n",
            "Predicted: 0.7490935106018993  Actual:0.9333333333333336\n",
            "Predicted: 0.2941936611720581  Actual:0.06666666666666667\n",
            "Predicted: 0.5147401298395913  Actual:0.26666666666666666\n",
            "Predicted: 0.9951528116826885  Actual:1.0\n",
            "Predicted: 0.8038089417521758  Actual:0.9333333333333336\n",
            "Predicted: 1.3249005298063736  Actual:0.9333333333333336\n",
            "Mean absolute error is  0.2114719540693958\n",
            "Mean square error is 0.0436815736178294\n",
            "Correlation coefficient is 0.7691150297066222\n"
          ]
        }
      ]
    },
    {
      "cell_type": "code",
      "metadata": {
        "colab": {
          "base_uri": "https://localhost:8080/"
        },
        "id": "cNWVhUhCjCiu",
        "outputId": "419ed3bb-e3a7-4413-d502-9d7740344f1b"
      },
      "source": [
        "y_pred_batch=predict(X_test,y_test,w_best_batch) \n",
        "print('Mean absolute error is ',mean_absolute_error(y_pred_batch,y_test)) \n",
        "print('Mean square error is',mean_square_error(y_pred_batch,y_test))\n",
        "print('Correlation coefficient is', correlation_coefficient(y_pred_batch,y_test))"
      ],
      "execution_count": null,
      "outputs": [
        {
          "output_type": "stream",
          "name": "stdout",
          "text": [
            "Predicted: 0.9039393024663233  Actual:0.9333333333333336\n",
            "Predicted: 1.1145357661535142  Actual:0.9333333333333336\n",
            "Predicted: 0.9410693210120652  Actual:1.0\n",
            "Predicted: 1.1352412623563335  Actual:0.9333333333333336\n",
            "Predicted: 1.062977851145923  Actual:0.9333333333333336\n",
            "Predicted: 0.6903015722543812  Actual:0.9333333333333336\n",
            "Predicted: 0.2142253312730626  Actual:0.0\n",
            "Predicted: 0.9621542852448834  Actual:0.9333333333333336\n",
            "Predicted: 0.16266741626547115  Actual:0.0\n",
            "Predicted: 1.1147415916529708  Actual:0.9333333333333336\n",
            "Predicted: 0.9037334769668667  Actual:0.9333333333333336\n",
            "Predicted: 0.883233806263504  Actual:0.9333333333333336\n",
            "Predicted: 1.2023956433706153  Actual:0.9333333333333336\n",
            "Predicted: 0.7594732716071162  Actual:0.9333333333333336\n",
            "Predicted: 0.498544590941677  Actual:1.0\n",
            "Predicted: 1.0035652776505217  Actual:0.9333333333333336\n",
            "Predicted: 0.8728810581620944  Actual:0.9333333333333336\n",
            "Predicted: 1.0940360954501518  Actual:0.9333333333333336\n",
            "Predicted: 0.9930388870185698  Actual:1.0\n",
            "Predicted: 0.8008842640127546  Actual:0.9333333333333336\n",
            "Predicted: 0.7572604739978964  Actual:1.0\n",
            "Predicted: 1.13544708785579  Actual:0.9333333333333336\n",
            "Predicted: 0.49225248061470755  Actual:0.26666666666666666\n",
            "Mean absolute error is  0.15463246656510274\n",
            "Mean square error is 0.01080878580081473\n",
            "Correlation coefficient is 0.7857944742951534\n"
          ]
        }
      ]
    },
    {
      "cell_type": "code",
      "metadata": {
        "colab": {
          "base_uri": "https://localhost:8080/"
        },
        "id": "pd74x3uUjGWx",
        "outputId": "7c0cb1c0-89d6-464e-fc08-8b39e344dfbd"
      },
      "source": [
        "y_pred_stoch=predict(X_test,y_test,w_best_stoch) \n",
        "print('Mean absolute error is ',mean_absolute_error(y_pred_stoch,y_test)) \n",
        "print('Mean square error is',mean_square_error(y_pred_stoch,y_test))\n",
        "print('Correlation coefficient is', correlation_coefficient(y_pred_stoch,y_test))"
      ],
      "execution_count": null,
      "outputs": [
        {
          "output_type": "stream",
          "name": "stdout",
          "text": [
            "Predicted: 0.9099572960061988  Actual:0.9333333333333336\n",
            "Predicted: 1.1282609819157867  Actual:0.9333333333333336\n",
            "Predicted: 0.9453294466618348  Actual:1.0\n",
            "Predicted: 1.1524855326406551  Actual:0.9333333333333336\n",
            "Predicted: 1.0661345746148638  Actual:0.9333333333333336\n",
            "Predicted: 0.6906941682210923  Actual:0.9333333333333336\n",
            "Predicted: 0.21431801842760032  Actual:0.0\n",
            "Predicted: 0.970158138413441  Actual:0.9333333333333336\n",
            "Predicted: 0.1521916111266775  Actual:0.0\n",
            "Predicted: 1.1266959514270354  Actual:0.9333333333333336\n",
            "Predicted: 0.9115223264949501  Actual:0.9333333333333336\n",
            "Predicted: 0.8857327452813303  Actual:0.9333333333333336\n",
            "Predicted: 1.21051196997626  Actual:0.9333333333333336\n",
            "Predicted: 0.7645227266032614  Actual:0.9333333333333336\n",
            "Predicted: 0.4947702286119447  Actual:1.0\n",
            "Predicted: 1.0186072398631782  Actual:0.9333333333333336\n",
            "Predicted: 0.873620469918896  Actual:0.9333333333333336\n",
            "Predicted: 1.1024714007021668  Actual:0.9333333333333336\n",
            "Predicted: 1.004325792985255  Actual:1.0\n",
            "Predicted: 0.8129718280529986  Actual:0.9333333333333336\n",
            "Predicted: 0.7659900249259903  Actual:1.0\n",
            "Predicted: 1.1509205021519038  Actual:0.9333333333333336\n",
            "Predicted: 0.4882095750548388  Actual:0.26666666666666666\n",
            "Mean absolute error is  0.15638463892121002\n",
            "Mean square error is 0.017831105484635\n",
            "Correlation coefficient is 0.7850887026796797\n"
          ]
        }
      ]
    },
    {
      "cell_type": "code",
      "metadata": {
        "colab": {
          "base_uri": "https://localhost:8080/"
        },
        "id": "aDDoo9NQjL3Q",
        "outputId": "5b2d0745-6a15-4c7d-8d9c-e27144c847f9"
      },
      "source": [
        "y_pred_mini=predict(X_test,y_test,w_best_mini) \n",
        "print('Mean absolute error is ',mean_absolute_error(y_pred_mini,y_test)) \n",
        "print('Mean square error is',mean_square_error(y_pred_mini,y_test))\n",
        "print('Correlation coefficient is', correlation_coefficient(y_pred_mini,y_test))"
      ],
      "execution_count": null,
      "outputs": [
        {
          "output_type": "stream",
          "name": "stdout",
          "text": [
            "Predicted: 0.9108350120688921  Actual:0.9333333333333336\n",
            "Predicted: 1.1261485000936706  Actual:0.9333333333333336\n",
            "Predicted: 0.9511985792241819  Actual:1.0\n",
            "Predicted: 1.1495979705866464  Actual:0.9333333333333336\n",
            "Predicted: 1.0659095535437502  Actual:0.9333333333333336\n",
            "Predicted: 0.6960093636786497  Actual:0.9333333333333336\n",
            "Predicted: 0.2115358648893892  Actual:0.0\n",
            "Predicted: 0.9676347776922771  Actual:0.9333333333333336\n",
            "Predicted: 0.15129691833946873  Actual:0.0\n",
            "Predicted: 1.1245332297761892  Actual:0.9333333333333336\n",
            "Predicted: 0.9124502823863734  Actual:0.9333333333333336\n",
            "Predicted: 0.8873855415759164  Actual:0.9333333333333336\n",
            "Predicted: 1.2164972596987205  Actual:0.9333333333333336\n",
            "Predicted: 0.762446742206652  Actual:0.9333333333333336\n",
            "Predicted: 0.49334908888378415  Actual:1.0\n",
            "Predicted: 1.0145337186782284  Actual:0.9333333333333336\n",
            "Predicted: 0.8756608063294287  Actual:0.9333333333333336\n",
            "Predicted: 1.1010837592832137  Actual:0.9333333333333336\n",
            "Predicted: 1.0082069851391398  Actual:1.0\n",
            "Predicted: 0.8093456831926032  Actual:0.9333333333333336\n",
            "Predicted: 0.7657736091823276  Actual:1.0\n",
            "Predicted: 1.147982700269165  Actual:0.9333333333333336\n",
            "Predicted: 0.4858794447481323  Actual:0.26666666666666666\n",
            "Mean absolute error is  0.1553501148119934\n",
            "Mean square error is 0.017547836279084777\n",
            "Correlation coefficient is 0.7866114896875891\n"
          ]
        }
      ]
    }
  ]
}