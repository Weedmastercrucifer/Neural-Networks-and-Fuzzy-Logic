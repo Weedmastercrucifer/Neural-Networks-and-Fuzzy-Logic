{
  "nbformat": 4,
  "nbformat_minor": 0,
  "metadata": {
    "colab": {
      "name": "Assignment1_Q4.ipynb",
      "provenance": [],
      "mount_file_id": "13VkID-abdjzGBJwvedxy01PfSeCOdqk8",
      "authorship_tag": "ABX9TyOxfbTz76ugAEfNa9/PPLiw",
      "include_colab_link": true
    },
    "kernelspec": {
      "name": "python3",
      "display_name": "Python 3"
    },
    "language_info": {
      "name": "python"
    }
  },
  "cells": [
    {
      "cell_type": "markdown",
      "metadata": {
        "id": "view-in-github",
        "colab_type": "text"
      },
      "source": [
        "<a href=\"https://colab.research.google.com/github/Weedmastercrucifer/Neural-Networks-and-Fuzzy-Logic/blob/main/Assignment1Details/Assignment1_Q4.ipynb\" target=\"_parent\"><img src=\"https://colab.research.google.com/assets/colab-badge.svg\" alt=\"Open In Colab\"/></a>"
      ]
    },
    {
      "cell_type": "code",
      "metadata": {
        "id": "1cNpsBOKNN-Z"
      },
      "source": [
        "import pandas as pd\n",
        "import numpy as np\n",
        "import matplotlib.pyplot as plt"
      ],
      "execution_count": null,
      "outputs": []
    },
    {
      "cell_type": "markdown",
      "metadata": {
        "id": "vi4uTty71c7P"
      },
      "source": [
        "Assignment 1 Q4"
      ]
    },
    {
      "cell_type": "code",
      "metadata": {
        "colab": {
          "base_uri": "https://localhost:8080/",
          "height": 337
        },
        "id": "q7C2PkTFPRDd",
        "outputId": "ccdb4e8c-aac2-49ea-8586-2f3f26b32109"
      },
      "source": [
        "data=pd.read_excel('/content/drive/MyDrive/Assignment1NNFL/Copy of data_q4_q5.xlsx') \n",
        "data.describe()"
      ],
      "execution_count": null,
      "outputs": [
        {
          "output_type": "execute_result",
          "data": {
            "text/html": [
              "<div>\n",
              "<style scoped>\n",
              "    .dataframe tbody tr th:only-of-type {\n",
              "        vertical-align: middle;\n",
              "    }\n",
              "\n",
              "    .dataframe tbody tr th {\n",
              "        vertical-align: top;\n",
              "    }\n",
              "\n",
              "    .dataframe thead th {\n",
              "        text-align: right;\n",
              "    }\n",
              "</style>\n",
              "<table border=\"1\" class=\"dataframe\">\n",
              "  <thead>\n",
              "    <tr style=\"text-align: right;\">\n",
              "      <th></th>\n",
              "      <th>radius_mean</th>\n",
              "      <th>texture_mean</th>\n",
              "      <th>perimeter_mean</th>\n",
              "      <th>area_mean</th>\n",
              "      <th>smoothness_mean</th>\n",
              "      <th>compactness_mean</th>\n",
              "      <th>concavity_mean</th>\n",
              "      <th>concave points_mean</th>\n",
              "      <th>symmetry_mean</th>\n",
              "      <th>fractal_dimension_mean</th>\n",
              "      <th>radius_se</th>\n",
              "      <th>texture_se</th>\n",
              "      <th>perimeter_se</th>\n",
              "      <th>area_se</th>\n",
              "      <th>smoothness_se</th>\n",
              "      <th>compactness_se</th>\n",
              "      <th>concavity_se</th>\n",
              "      <th>concave points_se</th>\n",
              "      <th>symmetry_se</th>\n",
              "      <th>fractal_dimension_se</th>\n",
              "      <th>radius_worst</th>\n",
              "      <th>texture_worst</th>\n",
              "      <th>perimeter_worst</th>\n",
              "      <th>area_worst</th>\n",
              "      <th>smoothness_worst</th>\n",
              "      <th>compactness_worst</th>\n",
              "      <th>concavity_worst</th>\n",
              "      <th>concave points_worst</th>\n",
              "      <th>symmetry_worst</th>\n",
              "      <th>fractal_dimension_worst</th>\n",
              "    </tr>\n",
              "  </thead>\n",
              "  <tbody>\n",
              "    <tr>\n",
              "      <th>count</th>\n",
              "      <td>569.000000</td>\n",
              "      <td>569.000000</td>\n",
              "      <td>569.000000</td>\n",
              "      <td>569.000000</td>\n",
              "      <td>569.000000</td>\n",
              "      <td>569.000000</td>\n",
              "      <td>569.000000</td>\n",
              "      <td>569.000000</td>\n",
              "      <td>569.000000</td>\n",
              "      <td>569.000000</td>\n",
              "      <td>569.000000</td>\n",
              "      <td>569.000000</td>\n",
              "      <td>569.000000</td>\n",
              "      <td>569.000000</td>\n",
              "      <td>569.000000</td>\n",
              "      <td>569.000000</td>\n",
              "      <td>569.000000</td>\n",
              "      <td>569.000000</td>\n",
              "      <td>569.000000</td>\n",
              "      <td>569.000000</td>\n",
              "      <td>569.000000</td>\n",
              "      <td>569.000000</td>\n",
              "      <td>569.000000</td>\n",
              "      <td>569.000000</td>\n",
              "      <td>569.000000</td>\n",
              "      <td>569.000000</td>\n",
              "      <td>569.000000</td>\n",
              "      <td>569.000000</td>\n",
              "      <td>569.000000</td>\n",
              "      <td>569.000000</td>\n",
              "    </tr>\n",
              "    <tr>\n",
              "      <th>mean</th>\n",
              "      <td>14.127292</td>\n",
              "      <td>19.289649</td>\n",
              "      <td>91.969033</td>\n",
              "      <td>654.889104</td>\n",
              "      <td>0.096360</td>\n",
              "      <td>0.104341</td>\n",
              "      <td>0.088799</td>\n",
              "      <td>0.048919</td>\n",
              "      <td>0.181162</td>\n",
              "      <td>0.062798</td>\n",
              "      <td>0.405172</td>\n",
              "      <td>1.216853</td>\n",
              "      <td>2.866059</td>\n",
              "      <td>40.337079</td>\n",
              "      <td>0.007041</td>\n",
              "      <td>0.025478</td>\n",
              "      <td>0.031894</td>\n",
              "      <td>0.011796</td>\n",
              "      <td>0.020542</td>\n",
              "      <td>0.003795</td>\n",
              "      <td>16.269190</td>\n",
              "      <td>25.677223</td>\n",
              "      <td>107.261213</td>\n",
              "      <td>880.583128</td>\n",
              "      <td>0.132369</td>\n",
              "      <td>0.254265</td>\n",
              "      <td>0.272188</td>\n",
              "      <td>0.114606</td>\n",
              "      <td>0.290076</td>\n",
              "      <td>0.083946</td>\n",
              "    </tr>\n",
              "    <tr>\n",
              "      <th>std</th>\n",
              "      <td>3.524049</td>\n",
              "      <td>4.301036</td>\n",
              "      <td>24.298981</td>\n",
              "      <td>351.914129</td>\n",
              "      <td>0.014064</td>\n",
              "      <td>0.052813</td>\n",
              "      <td>0.079720</td>\n",
              "      <td>0.038803</td>\n",
              "      <td>0.027414</td>\n",
              "      <td>0.007060</td>\n",
              "      <td>0.277313</td>\n",
              "      <td>0.551648</td>\n",
              "      <td>2.021855</td>\n",
              "      <td>45.491006</td>\n",
              "      <td>0.003003</td>\n",
              "      <td>0.017908</td>\n",
              "      <td>0.030186</td>\n",
              "      <td>0.006170</td>\n",
              "      <td>0.008266</td>\n",
              "      <td>0.002646</td>\n",
              "      <td>4.833242</td>\n",
              "      <td>6.146258</td>\n",
              "      <td>33.602542</td>\n",
              "      <td>569.356993</td>\n",
              "      <td>0.022832</td>\n",
              "      <td>0.157336</td>\n",
              "      <td>0.208624</td>\n",
              "      <td>0.065732</td>\n",
              "      <td>0.061867</td>\n",
              "      <td>0.018061</td>\n",
              "    </tr>\n",
              "    <tr>\n",
              "      <th>min</th>\n",
              "      <td>6.981000</td>\n",
              "      <td>9.710000</td>\n",
              "      <td>43.790000</td>\n",
              "      <td>143.500000</td>\n",
              "      <td>0.052630</td>\n",
              "      <td>0.019380</td>\n",
              "      <td>0.000000</td>\n",
              "      <td>0.000000</td>\n",
              "      <td>0.106000</td>\n",
              "      <td>0.049960</td>\n",
              "      <td>0.111500</td>\n",
              "      <td>0.360200</td>\n",
              "      <td>0.757000</td>\n",
              "      <td>6.802000</td>\n",
              "      <td>0.001713</td>\n",
              "      <td>0.002252</td>\n",
              "      <td>0.000000</td>\n",
              "      <td>0.000000</td>\n",
              "      <td>0.007882</td>\n",
              "      <td>0.000895</td>\n",
              "      <td>7.930000</td>\n",
              "      <td>12.020000</td>\n",
              "      <td>50.410000</td>\n",
              "      <td>185.200000</td>\n",
              "      <td>0.071170</td>\n",
              "      <td>0.027290</td>\n",
              "      <td>0.000000</td>\n",
              "      <td>0.000000</td>\n",
              "      <td>0.156500</td>\n",
              "      <td>0.055040</td>\n",
              "    </tr>\n",
              "    <tr>\n",
              "      <th>25%</th>\n",
              "      <td>11.700000</td>\n",
              "      <td>16.170000</td>\n",
              "      <td>75.170000</td>\n",
              "      <td>420.300000</td>\n",
              "      <td>0.086370</td>\n",
              "      <td>0.064920</td>\n",
              "      <td>0.029560</td>\n",
              "      <td>0.020310</td>\n",
              "      <td>0.161900</td>\n",
              "      <td>0.057700</td>\n",
              "      <td>0.232400</td>\n",
              "      <td>0.833900</td>\n",
              "      <td>1.606000</td>\n",
              "      <td>17.850000</td>\n",
              "      <td>0.005169</td>\n",
              "      <td>0.013080</td>\n",
              "      <td>0.015090</td>\n",
              "      <td>0.007638</td>\n",
              "      <td>0.015160</td>\n",
              "      <td>0.002248</td>\n",
              "      <td>13.010000</td>\n",
              "      <td>21.080000</td>\n",
              "      <td>84.110000</td>\n",
              "      <td>515.300000</td>\n",
              "      <td>0.116600</td>\n",
              "      <td>0.147200</td>\n",
              "      <td>0.114500</td>\n",
              "      <td>0.064930</td>\n",
              "      <td>0.250400</td>\n",
              "      <td>0.071460</td>\n",
              "    </tr>\n",
              "    <tr>\n",
              "      <th>50%</th>\n",
              "      <td>13.370000</td>\n",
              "      <td>18.840000</td>\n",
              "      <td>86.240000</td>\n",
              "      <td>551.100000</td>\n",
              "      <td>0.095870</td>\n",
              "      <td>0.092630</td>\n",
              "      <td>0.061540</td>\n",
              "      <td>0.033500</td>\n",
              "      <td>0.179200</td>\n",
              "      <td>0.061540</td>\n",
              "      <td>0.324200</td>\n",
              "      <td>1.108000</td>\n",
              "      <td>2.287000</td>\n",
              "      <td>24.530000</td>\n",
              "      <td>0.006380</td>\n",
              "      <td>0.020450</td>\n",
              "      <td>0.025890</td>\n",
              "      <td>0.010930</td>\n",
              "      <td>0.018730</td>\n",
              "      <td>0.003187</td>\n",
              "      <td>14.970000</td>\n",
              "      <td>25.410000</td>\n",
              "      <td>97.660000</td>\n",
              "      <td>686.500000</td>\n",
              "      <td>0.131300</td>\n",
              "      <td>0.211900</td>\n",
              "      <td>0.226700</td>\n",
              "      <td>0.099930</td>\n",
              "      <td>0.282200</td>\n",
              "      <td>0.080040</td>\n",
              "    </tr>\n",
              "    <tr>\n",
              "      <th>75%</th>\n",
              "      <td>15.780000</td>\n",
              "      <td>21.800000</td>\n",
              "      <td>104.100000</td>\n",
              "      <td>782.700000</td>\n",
              "      <td>0.105300</td>\n",
              "      <td>0.130400</td>\n",
              "      <td>0.130700</td>\n",
              "      <td>0.074000</td>\n",
              "      <td>0.195700</td>\n",
              "      <td>0.066120</td>\n",
              "      <td>0.478900</td>\n",
              "      <td>1.474000</td>\n",
              "      <td>3.357000</td>\n",
              "      <td>45.190000</td>\n",
              "      <td>0.008146</td>\n",
              "      <td>0.032450</td>\n",
              "      <td>0.042050</td>\n",
              "      <td>0.014710</td>\n",
              "      <td>0.023480</td>\n",
              "      <td>0.004558</td>\n",
              "      <td>18.790000</td>\n",
              "      <td>29.720000</td>\n",
              "      <td>125.400000</td>\n",
              "      <td>1084.000000</td>\n",
              "      <td>0.146000</td>\n",
              "      <td>0.339100</td>\n",
              "      <td>0.382900</td>\n",
              "      <td>0.161400</td>\n",
              "      <td>0.317900</td>\n",
              "      <td>0.092080</td>\n",
              "    </tr>\n",
              "    <tr>\n",
              "      <th>max</th>\n",
              "      <td>28.110000</td>\n",
              "      <td>39.280000</td>\n",
              "      <td>188.500000</td>\n",
              "      <td>2501.000000</td>\n",
              "      <td>0.163400</td>\n",
              "      <td>0.345400</td>\n",
              "      <td>0.426800</td>\n",
              "      <td>0.201200</td>\n",
              "      <td>0.304000</td>\n",
              "      <td>0.097440</td>\n",
              "      <td>2.873000</td>\n",
              "      <td>4.885000</td>\n",
              "      <td>21.980000</td>\n",
              "      <td>542.200000</td>\n",
              "      <td>0.031130</td>\n",
              "      <td>0.135400</td>\n",
              "      <td>0.396000</td>\n",
              "      <td>0.052790</td>\n",
              "      <td>0.078950</td>\n",
              "      <td>0.029840</td>\n",
              "      <td>36.040000</td>\n",
              "      <td>49.540000</td>\n",
              "      <td>251.200000</td>\n",
              "      <td>4254.000000</td>\n",
              "      <td>0.222600</td>\n",
              "      <td>1.058000</td>\n",
              "      <td>1.252000</td>\n",
              "      <td>0.291000</td>\n",
              "      <td>0.663800</td>\n",
              "      <td>0.207500</td>\n",
              "    </tr>\n",
              "  </tbody>\n",
              "</table>\n",
              "</div>"
            ],
            "text/plain": [
              "       radius_mean  texture_mean  ...  symmetry_worst  fractal_dimension_worst\n",
              "count   569.000000    569.000000  ...      569.000000               569.000000\n",
              "mean     14.127292     19.289649  ...        0.290076                 0.083946\n",
              "std       3.524049      4.301036  ...        0.061867                 0.018061\n",
              "min       6.981000      9.710000  ...        0.156500                 0.055040\n",
              "25%      11.700000     16.170000  ...        0.250400                 0.071460\n",
              "50%      13.370000     18.840000  ...        0.282200                 0.080040\n",
              "75%      15.780000     21.800000  ...        0.317900                 0.092080\n",
              "max      28.110000     39.280000  ...        0.663800                 0.207500\n",
              "\n",
              "[8 rows x 30 columns]"
            ]
          },
          "metadata": {},
          "execution_count": 312
        }
      ]
    },
    {
      "cell_type": "code",
      "metadata": {
        "id": "WM_lMTCAT9v2"
      },
      "source": [
        ""
      ],
      "execution_count": null,
      "outputs": []
    },
    {
      "cell_type": "code",
      "metadata": {
        "id": "bcQswGLpUzG1"
      },
      "source": [
        "data=data.sample(frac=1, random_state=50)#randomising data\n",
        "train,validate,test= np.split(data,[int(.7*len(data)),int(.8*len(data))])#splitting data into train validate and test"
      ],
      "execution_count": null,
      "outputs": []
    },
    {
      "cell_type": "code",
      "metadata": {
        "colab": {
          "base_uri": "https://localhost:8080/",
          "height": 243
        },
        "id": "zb0hqDlCVGyg",
        "outputId": "871abba2-5129-4d5b-dd8b-11f18be72316"
      },
      "source": [
        "data.head()\n",
        "\n"
      ],
      "execution_count": null,
      "outputs": [
        {
          "output_type": "execute_result",
          "data": {
            "text/html": [
              "<div>\n",
              "<style scoped>\n",
              "    .dataframe tbody tr th:only-of-type {\n",
              "        vertical-align: middle;\n",
              "    }\n",
              "\n",
              "    .dataframe tbody tr th {\n",
              "        vertical-align: top;\n",
              "    }\n",
              "\n",
              "    .dataframe thead th {\n",
              "        text-align: right;\n",
              "    }\n",
              "</style>\n",
              "<table border=\"1\" class=\"dataframe\">\n",
              "  <thead>\n",
              "    <tr style=\"text-align: right;\">\n",
              "      <th></th>\n",
              "      <th>radius_mean</th>\n",
              "      <th>texture_mean</th>\n",
              "      <th>perimeter_mean</th>\n",
              "      <th>area_mean</th>\n",
              "      <th>smoothness_mean</th>\n",
              "      <th>compactness_mean</th>\n",
              "      <th>concavity_mean</th>\n",
              "      <th>concave points_mean</th>\n",
              "      <th>symmetry_mean</th>\n",
              "      <th>fractal_dimension_mean</th>\n",
              "      <th>radius_se</th>\n",
              "      <th>texture_se</th>\n",
              "      <th>perimeter_se</th>\n",
              "      <th>area_se</th>\n",
              "      <th>smoothness_se</th>\n",
              "      <th>compactness_se</th>\n",
              "      <th>concavity_se</th>\n",
              "      <th>concave points_se</th>\n",
              "      <th>symmetry_se</th>\n",
              "      <th>fractal_dimension_se</th>\n",
              "      <th>radius_worst</th>\n",
              "      <th>texture_worst</th>\n",
              "      <th>perimeter_worst</th>\n",
              "      <th>area_worst</th>\n",
              "      <th>smoothness_worst</th>\n",
              "      <th>compactness_worst</th>\n",
              "      <th>concavity_worst</th>\n",
              "      <th>concave points_worst</th>\n",
              "      <th>symmetry_worst</th>\n",
              "      <th>fractal_dimension_worst</th>\n",
              "      <th>diagnosis</th>\n",
              "    </tr>\n",
              "  </thead>\n",
              "  <tbody>\n",
              "    <tr>\n",
              "      <th>356</th>\n",
              "      <td>13.05</td>\n",
              "      <td>18.59</td>\n",
              "      <td>85.09</td>\n",
              "      <td>512.0</td>\n",
              "      <td>0.10820</td>\n",
              "      <td>0.13040</td>\n",
              "      <td>0.096030</td>\n",
              "      <td>0.05603</td>\n",
              "      <td>0.2035</td>\n",
              "      <td>0.06501</td>\n",
              "      <td>0.3106</td>\n",
              "      <td>1.5100</td>\n",
              "      <td>2.590</td>\n",
              "      <td>21.57</td>\n",
              "      <td>0.007807</td>\n",
              "      <td>0.03932</td>\n",
              "      <td>0.051120</td>\n",
              "      <td>0.018760</td>\n",
              "      <td>0.02860</td>\n",
              "      <td>0.005715</td>\n",
              "      <td>14.19</td>\n",
              "      <td>24.85</td>\n",
              "      <td>94.22</td>\n",
              "      <td>591.2</td>\n",
              "      <td>0.1343</td>\n",
              "      <td>0.2658</td>\n",
              "      <td>0.25730</td>\n",
              "      <td>0.12580</td>\n",
              "      <td>0.3113</td>\n",
              "      <td>0.08317</td>\n",
              "      <td>B</td>\n",
              "    </tr>\n",
              "    <tr>\n",
              "      <th>556</th>\n",
              "      <td>10.16</td>\n",
              "      <td>19.59</td>\n",
              "      <td>64.73</td>\n",
              "      <td>311.7</td>\n",
              "      <td>0.10030</td>\n",
              "      <td>0.07504</td>\n",
              "      <td>0.005025</td>\n",
              "      <td>0.01116</td>\n",
              "      <td>0.1791</td>\n",
              "      <td>0.06331</td>\n",
              "      <td>0.2441</td>\n",
              "      <td>2.0900</td>\n",
              "      <td>1.648</td>\n",
              "      <td>16.80</td>\n",
              "      <td>0.012910</td>\n",
              "      <td>0.02222</td>\n",
              "      <td>0.004174</td>\n",
              "      <td>0.007082</td>\n",
              "      <td>0.02572</td>\n",
              "      <td>0.002278</td>\n",
              "      <td>10.65</td>\n",
              "      <td>22.88</td>\n",
              "      <td>67.88</td>\n",
              "      <td>347.3</td>\n",
              "      <td>0.1265</td>\n",
              "      <td>0.1200</td>\n",
              "      <td>0.01005</td>\n",
              "      <td>0.02232</td>\n",
              "      <td>0.2262</td>\n",
              "      <td>0.06742</td>\n",
              "      <td>B</td>\n",
              "    </tr>\n",
              "    <tr>\n",
              "      <th>283</th>\n",
              "      <td>16.24</td>\n",
              "      <td>18.77</td>\n",
              "      <td>108.80</td>\n",
              "      <td>805.1</td>\n",
              "      <td>0.10660</td>\n",
              "      <td>0.18020</td>\n",
              "      <td>0.194800</td>\n",
              "      <td>0.09052</td>\n",
              "      <td>0.1876</td>\n",
              "      <td>0.06684</td>\n",
              "      <td>0.2873</td>\n",
              "      <td>0.9173</td>\n",
              "      <td>2.464</td>\n",
              "      <td>28.09</td>\n",
              "      <td>0.004563</td>\n",
              "      <td>0.03481</td>\n",
              "      <td>0.038720</td>\n",
              "      <td>0.012090</td>\n",
              "      <td>0.01388</td>\n",
              "      <td>0.004081</td>\n",
              "      <td>18.55</td>\n",
              "      <td>25.09</td>\n",
              "      <td>126.90</td>\n",
              "      <td>1031.0</td>\n",
              "      <td>0.1365</td>\n",
              "      <td>0.4706</td>\n",
              "      <td>0.50260</td>\n",
              "      <td>0.17320</td>\n",
              "      <td>0.2770</td>\n",
              "      <td>0.10630</td>\n",
              "      <td>M</td>\n",
              "    </tr>\n",
              "    <tr>\n",
              "      <th>495</th>\n",
              "      <td>14.87</td>\n",
              "      <td>20.21</td>\n",
              "      <td>96.12</td>\n",
              "      <td>680.9</td>\n",
              "      <td>0.09587</td>\n",
              "      <td>0.08345</td>\n",
              "      <td>0.068240</td>\n",
              "      <td>0.04951</td>\n",
              "      <td>0.1487</td>\n",
              "      <td>0.05748</td>\n",
              "      <td>0.2323</td>\n",
              "      <td>1.6360</td>\n",
              "      <td>1.596</td>\n",
              "      <td>21.84</td>\n",
              "      <td>0.005415</td>\n",
              "      <td>0.01371</td>\n",
              "      <td>0.021530</td>\n",
              "      <td>0.011830</td>\n",
              "      <td>0.01959</td>\n",
              "      <td>0.001812</td>\n",
              "      <td>16.01</td>\n",
              "      <td>28.48</td>\n",
              "      <td>103.90</td>\n",
              "      <td>783.6</td>\n",
              "      <td>0.1216</td>\n",
              "      <td>0.1388</td>\n",
              "      <td>0.17000</td>\n",
              "      <td>0.10170</td>\n",
              "      <td>0.2369</td>\n",
              "      <td>0.06599</td>\n",
              "      <td>B</td>\n",
              "    </tr>\n",
              "    <tr>\n",
              "      <th>364</th>\n",
              "      <td>13.40</td>\n",
              "      <td>16.95</td>\n",
              "      <td>85.48</td>\n",
              "      <td>552.4</td>\n",
              "      <td>0.07937</td>\n",
              "      <td>0.05696</td>\n",
              "      <td>0.021810</td>\n",
              "      <td>0.01473</td>\n",
              "      <td>0.1650</td>\n",
              "      <td>0.05701</td>\n",
              "      <td>0.1584</td>\n",
              "      <td>0.6124</td>\n",
              "      <td>1.036</td>\n",
              "      <td>13.22</td>\n",
              "      <td>0.004394</td>\n",
              "      <td>0.01250</td>\n",
              "      <td>0.014510</td>\n",
              "      <td>0.005484</td>\n",
              "      <td>0.01291</td>\n",
              "      <td>0.002074</td>\n",
              "      <td>14.73</td>\n",
              "      <td>21.70</td>\n",
              "      <td>93.76</td>\n",
              "      <td>663.5</td>\n",
              "      <td>0.1213</td>\n",
              "      <td>0.1676</td>\n",
              "      <td>0.13640</td>\n",
              "      <td>0.06987</td>\n",
              "      <td>0.2741</td>\n",
              "      <td>0.07582</td>\n",
              "      <td>B</td>\n",
              "    </tr>\n",
              "  </tbody>\n",
              "</table>\n",
              "</div>"
            ],
            "text/plain": [
              "     radius_mean  texture_mean  ...  fractal_dimension_worst  diagnosis\n",
              "356        13.05         18.59  ...                  0.08317          B\n",
              "556        10.16         19.59  ...                  0.06742          B\n",
              "283        16.24         18.77  ...                  0.10630          M\n",
              "495        14.87         20.21  ...                  0.06599          B\n",
              "364        13.40         16.95  ...                  0.07582          B\n",
              "\n",
              "[5 rows x 31 columns]"
            ]
          },
          "metadata": {},
          "execution_count": 314
        }
      ]
    },
    {
      "cell_type": "code",
      "metadata": {
        "colab": {
          "base_uri": "https://localhost:8080/"
        },
        "id": "uapZN7pJaIuY",
        "outputId": "6c1f9ebf-10c1-45e5-bf69-d408f2be8897"
      },
      "source": [
        "data.dtypes"
      ],
      "execution_count": null,
      "outputs": [
        {
          "output_type": "execute_result",
          "data": {
            "text/plain": [
              "radius_mean                float64\n",
              "texture_mean               float64\n",
              "perimeter_mean             float64\n",
              "area_mean                  float64\n",
              "smoothness_mean            float64\n",
              "compactness_mean           float64\n",
              "concavity_mean             float64\n",
              "concave points_mean        float64\n",
              "symmetry_mean              float64\n",
              "fractal_dimension_mean     float64\n",
              "radius_se                  float64\n",
              "texture_se                 float64\n",
              "perimeter_se               float64\n",
              "area_se                    float64\n",
              "smoothness_se              float64\n",
              "compactness_se             float64\n",
              "concavity_se               float64\n",
              "concave points_se          float64\n",
              "symmetry_se                float64\n",
              "fractal_dimension_se       float64\n",
              "radius_worst               float64\n",
              "texture_worst              float64\n",
              "perimeter_worst            float64\n",
              "area_worst                 float64\n",
              "smoothness_worst           float64\n",
              "compactness_worst          float64\n",
              "concavity_worst            float64\n",
              "concave points_worst       float64\n",
              "symmetry_worst             float64\n",
              "fractal_dimension_worst    float64\n",
              "diagnosis                   object\n",
              "dtype: object"
            ]
          },
          "metadata": {},
          "execution_count": 315
        }
      ]
    },
    {
      "cell_type": "code",
      "metadata": {
        "colab": {
          "base_uri": "https://localhost:8080/"
        },
        "id": "2nfBQKLCaj06",
        "outputId": "39bcbe21-0fc1-4bf1-84f7-44d860bcef24"
      },
      "source": [
        "data['diagnosis'].astype(str)"
      ],
      "execution_count": null,
      "outputs": [
        {
          "output_type": "execute_result",
          "data": {
            "text/plain": [
              "356    B\n",
              "556    B\n",
              "283    M\n",
              "495    B\n",
              "364    B\n",
              "      ..\n",
              "70     M\n",
              "132    M\n",
              "289    B\n",
              "109    B\n",
              "480    B\n",
              "Name: diagnosis, Length: 569, dtype: object"
            ]
          },
          "metadata": {},
          "execution_count": 316
        }
      ]
    },
    {
      "cell_type": "code",
      "metadata": {
        "colab": {
          "base_uri": "https://localhost:8080/"
        },
        "id": "gfq5Vuo7VTdL",
        "outputId": "62b0fa45-865a-4a03-afd3-6e6663954ace"
      },
      "source": [
        "print(train.shape)\n",
        "print(validate.shape)\n",
        "print(test.shape)"
      ],
      "execution_count": null,
      "outputs": [
        {
          "output_type": "stream",
          "name": "stdout",
          "text": [
            "(398, 31)\n",
            "(57, 31)\n",
            "(114, 31)\n"
          ]
        }
      ]
    },
    {
      "cell_type": "code",
      "metadata": {
        "colab": {
          "base_uri": "https://localhost:8080/"
        },
        "id": "V2W8RuWlWVWS",
        "outputId": "ba06c76a-09fe-4831-cf5f-a00ff0eb9e49"
      },
      "source": [
        "#converting to array for slicing\n",
        "train=np.array(train) \n",
        "print(train) \n",
        "validate=np.array(validate) \n",
        "print(validate)\n",
        "test=np.array(test) \n",
        "print(test)"
      ],
      "execution_count": null,
      "outputs": [
        {
          "output_type": "stream",
          "name": "stdout",
          "text": [
            "[[13.05 18.59 85.09 ... 0.3113 0.08317 'B']\n",
            " [10.16 19.59 64.73 ... 0.2262 0.06742 'B']\n",
            " [16.24 18.77 108.8 ... 0.277 0.1063 'M']\n",
            " ...\n",
            " [14.53 19.34 94.25 ... 0.2471 0.07463 'B']\n",
            " [12.54 16.32 81.25 ... 0.3155 0.07538 'B']\n",
            " [12.99 14.23 84.08 ... 0.2432 0.1009 'B']]\n",
            "[[11.57 19.04 74.2 ... 0.3035 0.08284 'B']\n",
            " [12.3 15.9 78.83 ... 0.2482 0.06306 'B']\n",
            " [12.83 15.73 82.89 ... 0.3006 0.07802 'B']\n",
            " ...\n",
            " [15.22 30.62 103.4 ... 0.4089 0.1409 'M']\n",
            " [19.59 25.0 127.7 ... 0.2293 0.06091 'M']\n",
            " [10.48 14.98 67.49 ... 0.302 0.09646 'B']]\n",
            "[[18.81 19.98 120.9 ... 0.2567 0.05737 'M']\n",
            " [15.46 19.48 101.7 ... 0.2837 0.08019 'M']\n",
            " [9.333 21.94 59.01 ... 0.2435 0.07393 'B']\n",
            " ...\n",
            " [11.37 18.89 72.17 ... 0.3267 0.06994 'B']\n",
            " [11.34 21.26 72.48 ... 0.2829 0.08832 'B']\n",
            " [12.16 18.03 78.29 ... 0.2406 0.07729 'B']]\n"
          ]
        }
      ]
    },
    {
      "cell_type": "code",
      "metadata": {
        "colab": {
          "base_uri": "https://localhost:8080/"
        },
        "id": "bHMSloUkVa8x",
        "outputId": "70a50141-421c-42fd-d39c-366bbfd131dc"
      },
      "source": [
        "X_train=train[:,0:30]\n",
        "m=X_train.shape[0]\n",
        "xmin=np.min(X_train,axis=0)\n",
        "xmax=np.max(X_train,axis=0)\n",
        "X_train=(X_train-xmin)/(xmax-xmin)#performing normalization on input features \n",
        "pp=np.ones([m,1])\n",
        "X_train=np.append(pp,X_train,axis=1) \n",
        "print(X_train.shape)"
      ],
      "execution_count": null,
      "outputs": [
        {
          "output_type": "stream",
          "name": "stdout",
          "text": [
            "(398, 31)\n"
          ]
        }
      ]
    },
    {
      "cell_type": "code",
      "metadata": {
        "colab": {
          "base_uri": "https://localhost:8080/"
        },
        "id": "0nKbAyWYV42V",
        "outputId": "51c8e4c5-96c9-4a9e-ec9e-364f5c1a1b8d"
      },
      "source": [
        "y_train=train[:,30]#true outputs of the instances \n",
        "y_train"
      ],
      "execution_count": null,
      "outputs": [
        {
          "output_type": "execute_result",
          "data": {
            "text/plain": [
              "array(['B', 'B', 'M', 'B', 'B', 'B', 'B', 'B', 'B', 'B', 'B', 'B', 'B',\n",
              "       'B', 'B', 'B', 'B', 'M', 'M', 'M', 'B', 'B', 'B', 'B', 'B', 'B',\n",
              "       'M', 'B', 'B', 'M', 'B', 'B', 'M', 'M', 'B', 'B', 'B', 'B', 'B',\n",
              "       'B', 'B', 'M', 'M', 'B', 'B', 'B', 'B', 'M', 'B', 'M', 'B', 'M',\n",
              "       'B', 'B', 'B', 'M', 'M', 'B', 'B', 'B', 'B', 'M', 'B', 'B', 'M',\n",
              "       'B', 'B', 'B', 'B', 'M', 'M', 'B', 'M', 'B', 'M', 'M', 'B', 'B',\n",
              "       'M', 'B', 'M', 'B', 'B', 'B', 'M', 'M', 'M', 'B', 'B', 'M', 'M',\n",
              "       'M', 'M', 'B', 'B', 'M', 'B', 'B', 'M', 'B', 'B', 'B', 'B', 'B',\n",
              "       'B', 'M', 'M', 'B', 'M', 'M', 'B', 'M', 'M', 'B', 'B', 'B', 'M',\n",
              "       'B', 'M', 'M', 'B', 'B', 'M', 'B', 'B', 'B', 'M', 'M', 'M', 'M',\n",
              "       'B', 'M', 'B', 'M', 'M', 'B', 'B', 'B', 'B', 'M', 'B', 'M', 'M',\n",
              "       'B', 'B', 'B', 'B', 'B', 'B', 'M', 'B', 'M', 'M', 'B', 'B', 'B',\n",
              "       'B', 'B', 'B', 'M', 'B', 'B', 'B', 'B', 'B', 'B', 'M', 'B', 'B',\n",
              "       'B', 'M', 'M', 'B', 'M', 'B', 'B', 'M', 'M', 'M', 'M', 'B', 'B',\n",
              "       'B', 'B', 'M', 'B', 'M', 'B', 'B', 'B', 'B', 'B', 'M', 'M', 'B',\n",
              "       'M', 'M', 'B', 'M', 'B', 'M', 'B', 'B', 'M', 'M', 'M', 'B', 'B',\n",
              "       'M', 'M', 'M', 'M', 'B', 'B', 'B', 'M', 'B', 'B', 'B', 'M', 'M',\n",
              "       'M', 'M', 'B', 'M', 'M', 'M', 'B', 'M', 'B', 'B', 'B', 'B', 'M',\n",
              "       'B', 'B', 'B', 'B', 'B', 'M', 'B', 'B', 'B', 'M', 'M', 'B', 'B',\n",
              "       'B', 'B', 'M', 'M', 'M', 'B', 'B', 'B', 'B', 'B', 'B', 'M', 'B',\n",
              "       'B', 'M', 'B', 'B', 'B', 'B', 'M', 'B', 'B', 'B', 'B', 'M', 'M',\n",
              "       'M', 'B', 'B', 'B', 'B', 'B', 'M', 'M', 'M', 'B', 'B', 'B', 'M',\n",
              "       'B', 'B', 'B', 'B', 'M', 'M', 'B', 'B', 'M', 'B', 'B', 'M', 'M',\n",
              "       'M', 'M', 'M', 'M', 'M', 'M', 'B', 'B', 'M', 'M', 'B', 'B', 'M',\n",
              "       'M', 'M', 'B', 'B', 'B', 'M', 'B', 'M', 'B', 'M', 'M', 'B', 'B',\n",
              "       'M', 'M', 'B', 'B', 'B', 'B', 'M', 'B', 'B', 'M', 'B', 'B', 'M',\n",
              "       'M', 'B', 'B', 'B', 'B', 'B', 'B', 'B', 'B', 'B', 'B', 'M', 'B',\n",
              "       'B', 'B', 'B', 'M', 'B', 'B', 'B', 'M', 'B', 'M', 'M', 'B', 'B',\n",
              "       'B', 'B', 'M', 'M', 'B', 'M', 'B', 'M', 'M', 'B', 'B', 'B', 'B',\n",
              "       'M', 'M', 'B', 'B', 'B', 'M', 'B', 'B', 'B', 'B', 'M', 'B', 'M',\n",
              "       'B', 'B', 'B', 'B', 'B', 'B', 'B', 'B'], dtype=object)"
            ]
          },
          "metadata": {},
          "execution_count": 320
        }
      ]
    },
    {
      "cell_type": "code",
      "metadata": {
        "colab": {
          "base_uri": "https://localhost:8080/"
        },
        "id": "3FZnc1C9W6Y7",
        "outputId": "70656239-87d7-4eee-eba0-60ec8dc53ca4"
      },
      "source": [
        "y_train=np.where(y_train=='B',0,1) \n",
        "y_train"
      ],
      "execution_count": null,
      "outputs": [
        {
          "output_type": "execute_result",
          "data": {
            "text/plain": [
              "array([0, 0, 1, 0, 0, 0, 0, 0, 0, 0, 0, 0, 0, 0, 0, 0, 0, 1, 1, 1, 0, 0,\n",
              "       0, 0, 0, 0, 1, 0, 0, 1, 0, 0, 1, 1, 0, 0, 0, 0, 0, 0, 0, 1, 1, 0,\n",
              "       0, 0, 0, 1, 0, 1, 0, 1, 0, 0, 0, 1, 1, 0, 0, 0, 0, 1, 0, 0, 1, 0,\n",
              "       0, 0, 0, 1, 1, 0, 1, 0, 1, 1, 0, 0, 1, 0, 1, 0, 0, 0, 1, 1, 1, 0,\n",
              "       0, 1, 1, 1, 1, 0, 0, 1, 0, 0, 1, 0, 0, 0, 0, 0, 0, 1, 1, 0, 1, 1,\n",
              "       0, 1, 1, 0, 0, 0, 1, 0, 1, 1, 0, 0, 1, 0, 0, 0, 1, 1, 1, 1, 0, 1,\n",
              "       0, 1, 1, 0, 0, 0, 0, 1, 0, 1, 1, 0, 0, 0, 0, 0, 0, 1, 0, 1, 1, 0,\n",
              "       0, 0, 0, 0, 0, 1, 0, 0, 0, 0, 0, 0, 1, 0, 0, 0, 1, 1, 0, 1, 0, 0,\n",
              "       1, 1, 1, 1, 0, 0, 0, 0, 1, 0, 1, 0, 0, 0, 0, 0, 1, 1, 0, 1, 1, 0,\n",
              "       1, 0, 1, 0, 0, 1, 1, 1, 0, 0, 1, 1, 1, 1, 0, 0, 0, 1, 0, 0, 0, 1,\n",
              "       1, 1, 1, 0, 1, 1, 1, 0, 1, 0, 0, 0, 0, 1, 0, 0, 0, 0, 0, 1, 0, 0,\n",
              "       0, 1, 1, 0, 0, 0, 0, 1, 1, 1, 0, 0, 0, 0, 0, 0, 1, 0, 0, 1, 0, 0,\n",
              "       0, 0, 1, 0, 0, 0, 0, 1, 1, 1, 0, 0, 0, 0, 0, 1, 1, 1, 0, 0, 0, 1,\n",
              "       0, 0, 0, 0, 1, 1, 0, 0, 1, 0, 0, 1, 1, 1, 1, 1, 1, 1, 1, 0, 0, 1,\n",
              "       1, 0, 0, 1, 1, 1, 0, 0, 0, 1, 0, 1, 0, 1, 1, 0, 0, 1, 1, 0, 0, 0,\n",
              "       0, 1, 0, 0, 1, 0, 0, 1, 1, 0, 0, 0, 0, 0, 0, 0, 0, 0, 0, 1, 0, 0,\n",
              "       0, 0, 1, 0, 0, 0, 1, 0, 1, 1, 0, 0, 0, 0, 1, 1, 0, 1, 0, 1, 1, 0,\n",
              "       0, 0, 0, 1, 1, 0, 0, 0, 1, 0, 0, 0, 0, 1, 0, 1, 0, 0, 0, 0, 0, 0,\n",
              "       0, 0])"
            ]
          },
          "metadata": {},
          "execution_count": 321
        }
      ]
    },
    {
      "cell_type": "code",
      "metadata": {
        "id": "whaxZ4dkbyCh"
      },
      "source": [
        "#sigmoid function\n",
        "def sigmoid(x): \n",
        " return 1.0/(1 + np.exp(-x))"
      ],
      "execution_count": null,
      "outputs": []
    },
    {
      "cell_type": "code",
      "metadata": {
        "id": "0VGw2C5ydUJO"
      },
      "source": [
        "#cost for an observation\n",
        "def logistic_loss(y_train,y_pred):\n",
        "  loss = -y_train * np.log(y_pred)\n",
        "  loss -= (1-y_train)*np.log(1-y_pred)\n",
        "  return loss"
      ],
      "execution_count": null,
      "outputs": []
    },
    {
      "cell_type": "code",
      "metadata": {
        "id": "vTyAgri3tBn5"
      },
      "source": [
        "def cost_function_no_regu(X,y,w):\n",
        "  hypothesis=sigmoid(np.dot(X,w.T).astype(float))\n",
        "  J=(1/(2*len(y)))*np.sum(logistic_loss(y,hypothesis))\n",
        "  return J"
      ],
      "execution_count": null,
      "outputs": []
    },
    {
      "cell_type": "code",
      "metadata": {
        "id": "hYTWFDcMvBnX"
      },
      "source": [
        "def batch_gradient_descent_no_regu(X,y,w,alpha,iters):\n",
        "  cost_hist=np.zeros(iters)#initialising cost function for each iteration \n",
        "  w_hist=np.zeros((iters,31))#for storing weight values at each iteration \n",
        "  for t in range(iters): \n",
        "    \n",
        "    hypothesis=sigmoid(np.dot(X,w.T).astype(float))\n",
        "    w=w-(alpha/len(y))*(np.dot(hypothesis-y,X))#updating the weight value\n",
        "    w_hist[t]=w\n",
        "    cost_hist[t]=cost_function_no_regu(X,y,w)#storing the cost function value for that iteration \n",
        "  minpos=np.argmin(cost_hist)\n",
        "  w_best=w_hist[minpos]\n",
        "  return w_best,cost_hist,w_hist  \n",
        "\n"
      ],
      "execution_count": null,
      "outputs": []
    },
    {
      "cell_type": "code",
      "metadata": {
        "id": "sfZzXZrNzAKY"
      },
      "source": [
        "def stochastic_gradient_descent_no_regu(X,y,w,alpha,iters):\n",
        "  cost_hist=np.zeros(iters)#initialising cost function for each iteration \n",
        "  w_hist=np.zeros((iters,31))#for storing weight values at each iteration \n",
        "  for t in range(iters):\n",
        "    index=np.random.randint(len(y))#randomly selecting an index from the dataset\n",
        "    Ind_X=X[index:index+1]#selecting features of that index\n",
        "    Ind_Y=y[index:index+1]#selecting the true output of that index \n",
        "    w=w-alpha*(Ind_X.T.dot(sigmoid(np.dot(Ind_X,w.T).astype(float))-Ind_Y))#updating weight value\n",
        "    w_hist[t]=w\n",
        "    cost_hist[t]=cost_function_no_regu(X,y,w)\n",
        "  minpos=np.argmin(cost_hist)\n",
        "  w_best=w_hist[minpos] \n",
        "\n",
        "  return w_best,cost_hist,w_hist  "
      ],
      "execution_count": null,
      "outputs": []
    },
    {
      "cell_type": "code",
      "metadata": {
        "id": "53IQzdaH0R8n"
      },
      "source": [
        "def minibatch_gradient_descent_no_regu(X,y,w,alpha,iters,batch_size):\n",
        "  cost_hist=np.zeros(iters)#initialising cost function for each iteration \n",
        "  w_hist=np.zeros((iters,31))#for storing weight values at each iteration\n",
        "  for t in range(iters):\n",
        "    index=np.random.randint(len(y))#randomly selecting an index from the dataset\n",
        "    Ind_X=X[index:index+batch_size]#selecting features from that index to index+batchsize-1\n",
        "    Ind_Y=y[index:index+batch_size]#selecting the true outputs from that index to index+batch_size-1\n",
        "    w=w-(alpha/batch_size)*(Ind_X.T.dot(sigmoid(np.dot(Ind_X,w.T).astype(float))-Ind_Y))#updating weight value\n",
        "    w_hist[t]=w\n",
        "    cost_hist[t]=cost_function_no_regu(X,y,w)\n",
        "  minpos=np.argmin(cost_hist)\n",
        "  w_best=w_hist[minpos]\n",
        "  return w_best,cost_hist,w_hist"
      ],
      "execution_count": null,
      "outputs": []
    },
    {
      "cell_type": "code",
      "metadata": {
        "id": "Bs-6L0Fp0kPi"
      },
      "source": [
        "w=np.zeros(X_train.shape[1])\n",
        "alpha=0.05\n",
        "iters=1500\n",
        "w_batch_no_regu,cost_hist_batch_no_regu,w_batch_hist_no_regu=batch_gradient_descent_no_regu(X_train,y_train,w,alpha,iters)"
      ],
      "execution_count": null,
      "outputs": []
    },
    {
      "cell_type": "code",
      "metadata": {
        "colab": {
          "base_uri": "https://localhost:8080/",
          "height": 265
        },
        "id": "UMiyhYIm1Pot",
        "outputId": "115c3734-baab-4812-b173-ddfb913d5c06"
      },
      "source": [
        "plt.plot(range(iters),cost_hist_batch_no_regu)\n",
        "plt.show()"
      ],
      "execution_count": null,
      "outputs": [
        {
          "output_type": "display_data",
          "data": {
            "image/png": "[encoded data removed]",
            "text/plain": [
              "<Figure size 432x288 with 1 Axes>"
            ]
          },
          "metadata": {
            "needs_background": "light"
          }
        }
      ]
    },
    {
      "cell_type": "code",
      "metadata": {
        "colab": {
          "base_uri": "https://localhost:8080/"
        },
        "id": "gG2wJgOW3mxH",
        "outputId": "cc2da005-bf7e-4694-e0de-ff755fde0099"
      },
      "source": [
        "w_batch_no_regu"
      ],
      "execution_count": null,
      "outputs": [
        {
          "output_type": "execute_result",
          "data": {
            "text/plain": [
              "array([-3.25877854,  0.76921605,  0.14985659,  0.80130422,  0.83160593,\n",
              "       -0.49607366,  0.64438615,  1.18724945,  1.43524955, -0.19422449,\n",
              "       -0.80110808,  0.55113749, -0.45695091,  0.47211451,  0.47627337,\n",
              "       -0.41750902, -0.07035173, -0.08964784, -0.027792  , -0.53685334,\n",
              "       -0.29987616,  1.14987684,  0.42505838,  1.09966255,  0.98746259,\n",
              "        0.22223728,  0.68107597,  1.00518425,  1.44652054,  0.24633404,\n",
              "        0.06529649])"
            ]
          },
          "metadata": {},
          "execution_count": 330
        }
      ]
    },
    {
      "cell_type": "code",
      "metadata": {
        "id": "ckkEcIGH4I7f"
      },
      "source": [
        "alpha=0.05\n",
        "iters=1500\n",
        "w_stoch_no_regu,cost_hist_stoch_no_regu,w_stoch_hist_no_regu=stochastic_gradient_descent_no_regu(X_train,y_train,w,alpha,iters)"
      ],
      "execution_count": null,
      "outputs": []
    },
    {
      "cell_type": "code",
      "metadata": {
        "colab": {
          "base_uri": "https://localhost:8080/",
          "height": 265
        },
        "id": "xyphB31Z4bwz",
        "outputId": "6bb7be8c-46b9-4df7-979d-78b25fadf2c1"
      },
      "source": [
        "plt.plot(range(iters),cost_hist_stoch_no_regu)\n",
        "plt.show()"
      ],
      "execution_count": null,
      "outputs": [
        {
          "output_type": "display_data",
          "data": {
            "image/png": "[encoded data removed]",
            "text/plain": [
              "<Figure size 432x288 with 1 Axes>"
            ]
          },
          "metadata": {
            "needs_background": "light"
          }
        }
      ]
    },
    {
      "cell_type": "code",
      "metadata": {
        "colab": {
          "base_uri": "https://localhost:8080/"
        },
        "id": "4CnnkFUm5H8d",
        "outputId": "60990595-ec86-4ed2-ef8e-7c206135b74e"
      },
      "source": [
        "w_stoch_no_regu"
      ],
      "execution_count": null,
      "outputs": [
        {
          "output_type": "execute_result",
          "data": {
            "text/plain": [
              "array([-3.24606415,  0.80935177,  0.10140785,  0.83134066,  0.86468461,\n",
              "       -0.51531129,  0.57805084,  1.17909138,  1.43235754, -0.13704806,\n",
              "       -0.87323953,  0.52919657, -0.44617343,  0.44740673,  0.47695444,\n",
              "       -0.41146566, -0.18436026, -0.11741136, -0.06696365, -0.52470205,\n",
              "       -0.3669084 ,  1.20473465,  0.46137883,  1.13096424,  1.02932858,\n",
              "        0.21810898,  0.59660692,  1.02616647,  1.46898054,  0.32625315,\n",
              "        0.04667362])"
            ]
          },
          "metadata": {},
          "execution_count": 333
        }
      ]
    },
    {
      "cell_type": "code",
      "metadata": {
        "id": "nREUa5u05Vaz"
      },
      "source": [
        "alpha=0.05\n",
        "iters=1500\n",
        "w_mini_no_regu,cost_hist_mini_no_regu,w_mini_hist_no_regu=minibatch_gradient_descent_no_regu(X_train,y_train,w,alpha,iters,10)"
      ],
      "execution_count": null,
      "outputs": []
    },
    {
      "cell_type": "code",
      "metadata": {
        "colab": {
          "base_uri": "https://localhost:8080/",
          "height": 265
        },
        "id": "zbctFnK75uaA",
        "outputId": "fca59d0c-6daf-4b1a-a89c-df20e6a74168"
      },
      "source": [
        "plt.plot(range(iters),cost_hist_mini_no_regu)\n",
        "plt.show()"
      ],
      "execution_count": null,
      "outputs": [
        {
          "output_type": "display_data",
          "data": {
            "image/png": "[encoded data removed]",
            "text/plain": [
              "<Figure size 432x288 with 1 Axes>"
            ]
          },
          "metadata": {
            "needs_background": "light"
          }
        }
      ]
    },
    {
      "cell_type": "code",
      "metadata": {
        "id": "cZnEsBSW5yyY"
      },
      "source": [
        "def cost_function_L2_regu(X,y,w,L2): \n",
        "  hypothesis=sigmoid(np.dot(X,w.T).astype(float))\n",
        "  J=(1/(2*len(y)))*np.sum(logistic_loss(y,hypothesis))+((L2/(2*len(y)))*np.sum(w**2)) \n",
        "  return J\n",
        "\n"
      ],
      "execution_count": null,
      "outputs": []
    },
    {
      "cell_type": "code",
      "metadata": {
        "id": "d0bAqwOq7xh7"
      },
      "source": [
        "def batch_gradient_descent_L2_regu(X,y,w,alpha,iters,Lambda_):\n",
        "  cost_hist=np.zeros(iters)#storing cost function value of each iteration\n",
        "  w_hist=np.zeros((iters,31))#for storing weight values at each iteration\n",
        "  for t in range(iters): \n",
        "    hypothesis=sigmoid(np.dot(X,w.T).astype(float)) \n",
        "    w=(w*(1-(alpha*Lambda_)))-(alpha/len(y))*(np.dot(hypothesis-y,X))#updating the weight value\n",
        "    w_hist[t]=w\n",
        "    cost_hist[t]=cost_function_L2_regu(X,y,w,Lambda_)#storing the cost function value for that iteration\n",
        "  minpos=np.argmin(cost_hist)\n",
        "  w_best=w_hist[minpos]  \n",
        "  return w_best,cost_hist,w_hist\n",
        "\n"
      ],
      "execution_count": null,
      "outputs": []
    },
    {
      "cell_type": "code",
      "metadata": {
        "id": "CNGmUCZa8UK2"
      },
      "source": [
        "def stochastic_gradient_descent_L2_regu(X,y,w,alpha,iters,Lambda_):\n",
        "  cost_hist=np.zeros(iters)#initialising cost function for each iteration \n",
        "  w_hist=np.zeros((iters,31))#for storing weight values at each iteration \n",
        "  for t in range(iters):\n",
        "    index=np.random.randint(len(y))#randomly selecting an index from the dataset\n",
        "    Ind_X=X[index:index+1]#selecting features of that index\n",
        "    Ind_Y=y[index:index+1]#selecting the true output of that index \n",
        "    w=(w*(1-(alpha*Lambda_)))-alpha*(Ind_X.T.dot(sigmoid(np.dot(Ind_X,w.T).astype(float))-Ind_Y))#updating weight value\n",
        "    w_hist[t]=w\n",
        "    cost_hist[t]=cost_function_L2_regu(X,y,w,Lambda_)\n",
        "  minpos=np.argmin(cost_hist)\n",
        "  w_best=w_hist[minpos]  \n",
        "  return w_best,cost_hist,w_hist "
      ],
      "execution_count": null,
      "outputs": []
    },
    {
      "cell_type": "code",
      "metadata": {
        "id": "Bn637koO8iID"
      },
      "source": [
        "def minibatch_gradient_descent_L2_regu(X,y,w,alpha,iters,batch_size,Lambda_):\n",
        "  cost_hist=np.zeros(iters)#initialising cost function for each iteration \n",
        "  w_hist=np.zeros((iters,31))#for storing weight values at each iteration\n",
        "  for t in range(iters):\n",
        "    index=np.random.randint(len(y))#randomly selecting an index from the dataset\n",
        "    Ind_X=X[index:index+batch_size]#selecting features from that index to index+batchsize-1\n",
        "    Ind_Y=y[index:index+batch_size]#selecting the true outputs from that index to index+batch_size-1\n",
        "    w=(w*(1-(alpha*Lambda_)))-(alpha/batch_size)*(Ind_X.T.dot(sigmoid(np.dot(Ind_X,w.T).astype(float))-Ind_Y))#updating weight value\n",
        "    w_hist[t]=w\n",
        "    cost_hist[t]=cost_function_L2_regu(X,y,w,Lambda_)\n",
        "  minpos=np.argmin(cost_hist)\n",
        "  w_best=w_hist[minpos]  \n",
        "  return w_best,cost_hist,w_hist"
      ],
      "execution_count": null,
      "outputs": []
    },
    {
      "cell_type": "code",
      "metadata": {
        "id": "2HkDJMLx9Ccy"
      },
      "source": [
        "alpha=0.05\n",
        "iters=1500 \n",
        "Lambda_=0.005\n",
        "w_batch_L2_regu,cost_hist_batch_L2_regu,w_batch_hist_L2_regu=batch_gradient_descent_L2_regu(X_train,y_train,w,alpha,iters,Lambda_)"
      ],
      "execution_count": null,
      "outputs": []
    },
    {
      "cell_type": "code",
      "metadata": {
        "colab": {
          "base_uri": "https://localhost:8080/",
          "height": 265
        },
        "id": "Fuqyt0We9e85",
        "outputId": "5af746c0-cc15-4272-d622-5f0ad03dc9a1"
      },
      "source": [
        "plt.plot(range(iters),cost_hist_batch_L2_regu)\n",
        "plt.show()"
      ],
      "execution_count": null,
      "outputs": [
        {
          "output_type": "display_data",
          "data": {
            "image/png": "[encoded data removed]",
            "text/plain": [
              "<Figure size 432x288 with 1 Axes>"
            ]
          },
          "metadata": {
            "needs_background": "light"
          }
        }
      ]
    },
    {
      "cell_type": "code",
      "metadata": {
        "id": "KPKz4LIr9qi3"
      },
      "source": [
        "alpha=0.05\n",
        "iters=1500 \n",
        "Lambda_=0.005\n",
        "w_stoch_L2_regu,cost_hist_stoch_L2_regu,w_stoch_hist_L2_regu=stochastic_gradient_descent_L2_regu(X_train,y_train,w,alpha,iters,Lambda_)"
      ],
      "execution_count": null,
      "outputs": []
    },
    {
      "cell_type": "code",
      "metadata": {
        "colab": {
          "base_uri": "https://localhost:8080/",
          "height": 265
        },
        "id": "o7fDcz6c98qJ",
        "outputId": "c997b567-fa38-4a8a-d678-897354cb45ac"
      },
      "source": [
        "plt.plot(range(iters),cost_hist_stoch_L2_regu)\n",
        "plt.show()"
      ],
      "execution_count": null,
      "outputs": [
        {
          "output_type": "display_data",
          "data": {
            "image/png": "[encoded data removed]",
            "text/plain": [
              "<Figure size 432x288 with 1 Axes>"
            ]
          },
          "metadata": {
            "needs_background": "light"
          }
        }
      ]
    },
    {
      "cell_type": "code",
      "metadata": {
        "id": "ghYdWIfZ-Lul"
      },
      "source": [
        "alpha=0.05\n",
        "iters=1500 \n",
        "Lambda_=0.005\n",
        "w_mini_L2_regu,cost_hist_mini_L2_regu,w_mini_hist_L2_regu=minibatch_gradient_descent_L2_regu(X_train,y_train,w,alpha,iters,5,Lambda_)"
      ],
      "execution_count": null,
      "outputs": []
    },
    {
      "cell_type": "code",
      "metadata": {
        "colab": {
          "base_uri": "https://localhost:8080/",
          "height": 265
        },
        "id": "YyNvnhva-bTJ",
        "outputId": "e1179dc0-2728-4030-ea72-6cbc49843fff"
      },
      "source": [
        "plt.plot(range(iters),cost_hist_mini_L2_regu)\n",
        "plt.show()"
      ],
      "execution_count": null,
      "outputs": [
        {
          "output_type": "display_data",
          "data": {
            "image/png": "[encoded data removed]",
            "text/plain": [
              "<Figure size 432x288 with 1 Axes>"
            ]
          },
          "metadata": {
            "needs_background": "light"
          }
        }
      ]
    },
    {
      "cell_type": "code",
      "metadata": {
        "id": "8-dUlbIEKtnw"
      },
      "source": [
        "def cost_function_L1_regu(X,y,w,L1): \n",
        "  hypothesis=sigmoid(np.dot(X,w.T).astype(float))  \n",
        "  J=(1/(2*len(y)))*np.sum(logistic_loss(y,hypothesis))+((L1/(2*len(y)))*np.sum(abs(w))) \n",
        "  return J\n"
      ],
      "execution_count": null,
      "outputs": []
    },
    {
      "cell_type": "code",
      "metadata": {
        "id": "KzgY40NI-iw0"
      },
      "source": [
        "def batch_gradient_descent_L1_regu(X,y,w,alpha,iters,Lambda_): \n",
        "  cost_hist=np.zeros(iters)#storing cost function value of each iteration\n",
        "  w_hist=np.zeros((iters,31))#for storing weight values at each iteration\n",
        "  for t in range(iters): \n",
        "    hypothesis=sigmoid(np.dot(X,w.T).astype(float)) \n",
        "    w=w-((alpha*Lambda_)/2)*np.sign(w)-(alpha/len(y))*(np.dot(hypothesis-y,X))#updating the weight value \n",
        "    w_hist[t]=w\n",
        "    cost_hist[t]=cost_function_L1_regu(X,y,w,Lambda_)#storing the cost function value for that iteration\n",
        "  minpos=np.argmin(cost_hist)\n",
        "  w_best=w_hist[minpos]  \n",
        "  return w_best,cost_hist,w_hist\n"
      ],
      "execution_count": null,
      "outputs": []
    },
    {
      "cell_type": "code",
      "metadata": {
        "id": "PA1LVCzBLKv5"
      },
      "source": [
        "def stochastic_gradient_descent_L1_regu(X,y,w,alpha,iters,Lambda_):\n",
        "  cost_hist=np.zeros(iters)#initialising cost function for each iteration \n",
        "  w_hist=np.zeros((iters,31))#for storing weight values at each iteration \n",
        "  for t in range(iters):\n",
        "    index=np.random.randint(len(y))#randomly selecting an index from the dataset\n",
        "    Ind_X=X[index:index+1]#selecting features of that index\n",
        "    Ind_Y=y[index:index+1]#selecting the true output of that index \n",
        "    w=w-((alpha*Lambda_)/2)*np.sign(w) -alpha*(Ind_X.T.dot(sigmoid(np.dot(Ind_X,w.T).astype(float))-Ind_Y))#updating weight value \n",
        "    w_hist[t]=w\n",
        "    cost_hist[t]=cost_function_L1_regu(X,y,w,Lambda_)#storing the cost function value for that iteration\n",
        "  minpos=np.argmin(cost_hist)\n",
        "  w_best=w_hist[minpos]  \n",
        "  return w_best,cost_hist,w_hist"
      ],
      "execution_count": null,
      "outputs": []
    },
    {
      "cell_type": "code",
      "metadata": {
        "id": "hjO3NpeMLyc8"
      },
      "source": [
        "def minibatch_gradient_descent_L1_regu(X,y,w,alpha,iters,batch_size,Lambda_):\n",
        "  cost_hist=np.zeros(iters)#initialising cost function for each iteration \n",
        "  w_hist=np.zeros((iters,31))#for storing weight values at each iteration\n",
        "  for t in range(iters):\n",
        "    index=np.random.randint(len(y))#randomly selecting an index from the dataset\n",
        "    Ind_X=X[index:index+batch_size]#selecting features from that index to index+batchsize-1\n",
        "    Ind_Y=y[index:index+batch_size]#selecting the true outputs from that index to index+batch_size-1 \n",
        "    w=w-((alpha*Lambda_)/2)*np.sign(w)-(alpha/batch_size)*(Ind_X.T.dot(sigmoid(np.dot(Ind_X,w.T).astype(float))-Ind_Y))#updating weight value \n",
        "    w_hist[t]=w\n",
        "    cost_hist[t]=cost_function_L1_regu(X,y,w,Lambda_)#storing the cost function value for that iteration\n",
        "  minpos=np.argmin(cost_hist)\n",
        "  w_best=w_hist[minpos]  \n",
        "  return w_best,cost_hist,w_hist"
      ],
      "execution_count": null,
      "outputs": []
    },
    {
      "cell_type": "code",
      "metadata": {
        "id": "2WJ-ebMiMOhR"
      },
      "source": [
        "alpha=0.05\n",
        "iters=1500 \n",
        "Lambda_=0.005\n",
        "w_batch_L1_regu,cost_hist_batch_L1_regu,w_batch_hist_L1_regu=batch_gradient_descent_L1_regu(X_train,y_train,w,alpha,iters,Lambda_)"
      ],
      "execution_count": null,
      "outputs": []
    },
    {
      "cell_type": "code",
      "metadata": {
        "colab": {
          "base_uri": "https://localhost:8080/",
          "height": 265
        },
        "id": "P_z89VZRMYwh",
        "outputId": "239e01d0-6a3c-4149-e190-16a4d8ea2e9f"
      },
      "source": [
        "plt.plot(range(iters),cost_hist_batch_L1_regu)\n",
        "plt.show()"
      ],
      "execution_count": null,
      "outputs": [
        {
          "output_type": "display_data",
          "data": {
            "image/png": "[encoded data removed]",
            "text/plain": [
              "<Figure size 432x288 with 1 Axes>"
            ]
          },
          "metadata": {
            "needs_background": "light"
          }
        }
      ]
    },
    {
      "cell_type": "code",
      "metadata": {
        "id": "E00VLuFDM2Fc"
      },
      "source": [
        "alpha=0.05\n",
        "iters=1500 \n",
        "Lambda_=0.005\n",
        "w_stoch_L1_regu,cost_hist_stoch_L1_regu,w_stoch_hist_L1_regu=stochastic_gradient_descent_L1_regu(X_train,y_train,w,alpha,iters,Lambda_)"
      ],
      "execution_count": null,
      "outputs": []
    },
    {
      "cell_type": "code",
      "metadata": {
        "colab": {
          "base_uri": "https://localhost:8080/",
          "height": 265
        },
        "id": "lb0OBtHrNAh9",
        "outputId": "e6fc43c9-3714-4bb1-fc55-9549c1ef4d8f"
      },
      "source": [
        "plt.plot(range(iters),cost_hist_stoch_L1_regu)\n",
        "plt.show()"
      ],
      "execution_count": null,
      "outputs": [
        {
          "output_type": "display_data",
          "data": {
            "image/png": "[encoded data removed]",
            "text/plain": [
              "<Figure size 432x288 with 1 Axes>"
            ]
          },
          "metadata": {
            "needs_background": "light"
          }
        }
      ]
    },
    {
      "cell_type": "code",
      "metadata": {
        "id": "5kRIqdjpNQ9K"
      },
      "source": [
        "alpha=0.05\n",
        "iters=1500 \n",
        "Lambda_=0.005\n",
        "w_mini_L1_regu,cost_hist_mini_L1_regu,w_mini_hist_L1_regu=minibatch_gradient_descent_L1_regu(X_train,y_train,w,alpha,iters,5,Lambda_)"
      ],
      "execution_count": null,
      "outputs": []
    },
    {
      "cell_type": "code",
      "metadata": {
        "colab": {
          "base_uri": "https://localhost:8080/",
          "height": 265
        },
        "id": "fcv4CFVfNbLR",
        "outputId": "85e47171-0559-4595-974f-665857e84866"
      },
      "source": [
        "plt.plot(range(iters),cost_hist_mini_L1_regu)\n",
        "plt.show()"
      ],
      "execution_count": null,
      "outputs": [
        {
          "output_type": "display_data",
          "data": {
            "image/png": "[encoded data removed]",
            "text/plain": [
              "<Figure size 432x288 with 1 Axes>"
            ]
          },
          "metadata": {
            "needs_background": "light"
          }
        }
      ]
    },
    {
      "cell_type": "code",
      "metadata": {
        "colab": {
          "base_uri": "https://localhost:8080/"
        },
        "id": "eJ35aXZagqj4",
        "outputId": "0904a726-f1b4-498e-86f8-22a47dc1ddfc"
      },
      "source": [
        "X_test=test[:,0:30]\n",
        "m=X_test.shape[0]\n",
        "xmin=np.min(X_test,axis=0)\n",
        "xmax=np.max(X_test,axis=0)\n",
        "X_test=(X_test-xmin)/(xmax-xmin)#performing normalization on input features \n",
        "pp=np.ones([m,1])\n",
        "X_test=np.append(pp,X_test,axis=1) \n",
        "print(X_test.shape)"
      ],
      "execution_count": null,
      "outputs": [
        {
          "output_type": "stream",
          "name": "stdout",
          "text": [
            "(114, 31)\n"
          ]
        }
      ]
    },
    {
      "cell_type": "code",
      "metadata": {
        "colab": {
          "base_uri": "https://localhost:8080/"
        },
        "id": "o6jVYdWQhGq5",
        "outputId": "d52db0bf-1ec5-4999-f7be-480ad709f849"
      },
      "source": [
        "y_test=test[:,30]#true outputs of the instances \n",
        "y_test"
      ],
      "execution_count": null,
      "outputs": [
        {
          "output_type": "execute_result",
          "data": {
            "text/plain": [
              "array(['M', 'M', 'B', 'M', 'M', 'M', 'B', 'M', 'B', 'B', 'B', 'B', 'B',\n",
              "       'B', 'B', 'M', 'B', 'B', 'B', 'B', 'B', 'B', 'B', 'B', 'B', 'B',\n",
              "       'B', 'M', 'B', 'B', 'B', 'B', 'B', 'M', 'B', 'B', 'M', 'B', 'M',\n",
              "       'B', 'B', 'B', 'B', 'B', 'B', 'B', 'M', 'M', 'B', 'M', 'M', 'B',\n",
              "       'M', 'M', 'M', 'B', 'M', 'M', 'B', 'M', 'B', 'B', 'B', 'M', 'B',\n",
              "       'M', 'B', 'M', 'B', 'M', 'B', 'M', 'B', 'M', 'B', 'B', 'B', 'B',\n",
              "       'B', 'M', 'B', 'B', 'M', 'M', 'B', 'M', 'M', 'B', 'B', 'B', 'B',\n",
              "       'B', 'B', 'B', 'B', 'M', 'M', 'B', 'B', 'B', 'B', 'B', 'M', 'M',\n",
              "       'M', 'B', 'B', 'M', 'M', 'M', 'M', 'B', 'B', 'B'], dtype=object)"
            ]
          },
          "metadata": {},
          "execution_count": 357
        }
      ]
    },
    {
      "cell_type": "code",
      "metadata": {
        "colab": {
          "base_uri": "https://localhost:8080/"
        },
        "id": "NoV9KFAJhSpG",
        "outputId": "e1a9d0ac-b804-4988-bc36-6bc9267896e2"
      },
      "source": [
        "y_test=np.where(y_test=='B',0,1) \n",
        "y_test"
      ],
      "execution_count": null,
      "outputs": [
        {
          "output_type": "execute_result",
          "data": {
            "text/plain": [
              "array([1, 1, 0, 1, 1, 1, 0, 1, 0, 0, 0, 0, 0, 0, 0, 1, 0, 0, 0, 0, 0, 0,\n",
              "       0, 0, 0, 0, 0, 1, 0, 0, 0, 0, 0, 1, 0, 0, 1, 0, 1, 0, 0, 0, 0, 0,\n",
              "       0, 0, 1, 1, 0, 1, 1, 0, 1, 1, 1, 0, 1, 1, 0, 1, 0, 0, 0, 1, 0, 1,\n",
              "       0, 1, 0, 1, 0, 1, 0, 1, 0, 0, 0, 0, 0, 1, 0, 0, 1, 1, 0, 1, 1, 0,\n",
              "       0, 0, 0, 0, 0, 0, 0, 1, 1, 0, 0, 0, 0, 0, 1, 1, 1, 0, 0, 1, 1, 1,\n",
              "       1, 0, 0, 0])"
            ]
          },
          "metadata": {},
          "execution_count": 358
        }
      ]
    },
    {
      "cell_type": "code",
      "metadata": {
        "id": "Rc_vTzT6NhcD"
      },
      "source": [
        "#testing models against test data \n",
        "def predict(X_test,y_test,weights):\n",
        "  hypothesis=X_test@weights\n",
        "  y_pred=np.round(sigmoid(hypothesis.astype(float)))\n",
        "  #printing predicted and actual output\n",
        "  for i in range(X_test.shape[0]):\n",
        "        print(\"Predicted: {0}  Actual:{1}\".format(y_pred[i],round(y_test[i])))\n",
        "  return y_pred"
      ],
      "execution_count": null,
      "outputs": []
    },
    {
      "cell_type": "code",
      "metadata": {
        "id": "D50LR0YxizwF"
      },
      "source": [
        "def sas(y_pred, y_test):\n",
        "    tp = tn = fp = fn = 0 #initialising true positive, true negative, false positive and false negative\n",
        "    m = y_test.shape[0]\n",
        "    for i in range(m):\n",
        "        if y_pred[i] == 1:\n",
        "            if y_test[i] == 1:\n",
        "                tp+=1\n",
        "            else:\n",
        "                fp+=1\n",
        "        elif y_pred[i] == 0:\n",
        "            if y_test[i] == 0:\n",
        "                tn+=1\n",
        "            else:\n",
        "                fn+=1\n",
        "    se = tp/(tp+fn)\n",
        "    sp = tn/(tn+fp)\n",
        "    ac = (tn+tp)/m\n",
        "    print(\"Sensitivity: {0}, Specificity: {1} and Accuracy: {2}\".format(se,sp,ac))\n",
        "\n"
      ],
      "execution_count": null,
      "outputs": []
    },
    {
      "cell_type": "code",
      "metadata": {
        "id": "fXNdCfmJsRVF"
      },
      "source": [
        ""
      ],
      "execution_count": null,
      "outputs": []
    },
    {
      "cell_type": "code",
      "metadata": {
        "colab": {
          "base_uri": "https://localhost:8080/"
        },
        "id": "LV7JovkdiMFm",
        "outputId": "ddcfe0c3-9e2f-49b1-9a04-0a1d4fd6c0d5"
      },
      "source": [
        "#results of batch gradient with no regularization \n",
        "y_pred_batch_no_regu=predict(X_test,y_test,w_batch_no_regu)\n",
        "sas(y_pred_batch_no_regu,y_test)"
      ],
      "execution_count": null,
      "outputs": [
        {
          "output_type": "stream",
          "name": "stdout",
          "text": [
            "Predicted: 1.0  Actual:1\n",
            "Predicted: 1.0  Actual:1\n",
            "Predicted: 0.0  Actual:0\n",
            "Predicted: 1.0  Actual:1\n",
            "Predicted: 1.0  Actual:1\n",
            "Predicted: 1.0  Actual:1\n",
            "Predicted: 0.0  Actual:0\n",
            "Predicted: 1.0  Actual:1\n",
            "Predicted: 0.0  Actual:0\n",
            "Predicted: 0.0  Actual:0\n",
            "Predicted: 0.0  Actual:0\n",
            "Predicted: 0.0  Actual:0\n",
            "Predicted: 0.0  Actual:0\n",
            "Predicted: 0.0  Actual:0\n",
            "Predicted: 0.0  Actual:0\n",
            "Predicted: 1.0  Actual:1\n",
            "Predicted: 0.0  Actual:0\n",
            "Predicted: 0.0  Actual:0\n",
            "Predicted: 0.0  Actual:0\n",
            "Predicted: 0.0  Actual:0\n",
            "Predicted: 1.0  Actual:0\n",
            "Predicted: 0.0  Actual:0\n",
            "Predicted: 0.0  Actual:0\n",
            "Predicted: 0.0  Actual:0\n",
            "Predicted: 0.0  Actual:0\n",
            "Predicted: 0.0  Actual:0\n",
            "Predicted: 0.0  Actual:0\n",
            "Predicted: 1.0  Actual:1\n",
            "Predicted: 0.0  Actual:0\n",
            "Predicted: 0.0  Actual:0\n",
            "Predicted: 0.0  Actual:0\n",
            "Predicted: 0.0  Actual:0\n",
            "Predicted: 0.0  Actual:0\n",
            "Predicted: 1.0  Actual:1\n",
            "Predicted: 1.0  Actual:0\n",
            "Predicted: 1.0  Actual:0\n",
            "Predicted: 1.0  Actual:1\n",
            "Predicted: 0.0  Actual:0\n",
            "Predicted: 1.0  Actual:1\n",
            "Predicted: 0.0  Actual:0\n",
            "Predicted: 0.0  Actual:0\n",
            "Predicted: 1.0  Actual:0\n",
            "Predicted: 0.0  Actual:0\n",
            "Predicted: 0.0  Actual:0\n",
            "Predicted: 0.0  Actual:0\n",
            "Predicted: 0.0  Actual:0\n",
            "Predicted: 1.0  Actual:1\n",
            "Predicted: 1.0  Actual:1\n",
            "Predicted: 0.0  Actual:0\n",
            "Predicted: 1.0  Actual:1\n",
            "Predicted: 1.0  Actual:1\n",
            "Predicted: 1.0  Actual:0\n",
            "Predicted: 1.0  Actual:1\n",
            "Predicted: 1.0  Actual:1\n",
            "Predicted: 1.0  Actual:1\n",
            "Predicted: 0.0  Actual:0\n",
            "Predicted: 1.0  Actual:1\n",
            "Predicted: 1.0  Actual:1\n",
            "Predicted: 0.0  Actual:0\n",
            "Predicted: 1.0  Actual:1\n",
            "Predicted: 0.0  Actual:0\n",
            "Predicted: 0.0  Actual:0\n",
            "Predicted: 0.0  Actual:0\n",
            "Predicted: 1.0  Actual:1\n",
            "Predicted: 0.0  Actual:0\n",
            "Predicted: 1.0  Actual:1\n",
            "Predicted: 0.0  Actual:0\n",
            "Predicted: 1.0  Actual:1\n",
            "Predicted: 1.0  Actual:0\n",
            "Predicted: 1.0  Actual:1\n",
            "Predicted: 0.0  Actual:0\n",
            "Predicted: 1.0  Actual:1\n",
            "Predicted: 0.0  Actual:0\n",
            "Predicted: 1.0  Actual:1\n",
            "Predicted: 0.0  Actual:0\n",
            "Predicted: 0.0  Actual:0\n",
            "Predicted: 0.0  Actual:0\n",
            "Predicted: 0.0  Actual:0\n",
            "Predicted: 0.0  Actual:0\n",
            "Predicted: 1.0  Actual:1\n",
            "Predicted: 0.0  Actual:0\n",
            "Predicted: 0.0  Actual:0\n",
            "Predicted: 1.0  Actual:1\n",
            "Predicted: 1.0  Actual:1\n",
            "Predicted: 0.0  Actual:0\n",
            "Predicted: 1.0  Actual:1\n",
            "Predicted: 1.0  Actual:1\n",
            "Predicted: 0.0  Actual:0\n",
            "Predicted: 1.0  Actual:0\n",
            "Predicted: 0.0  Actual:0\n",
            "Predicted: 0.0  Actual:0\n",
            "Predicted: 0.0  Actual:0\n",
            "Predicted: 0.0  Actual:0\n",
            "Predicted: 0.0  Actual:0\n",
            "Predicted: 0.0  Actual:0\n",
            "Predicted: 1.0  Actual:1\n",
            "Predicted: 1.0  Actual:1\n",
            "Predicted: 0.0  Actual:0\n",
            "Predicted: 0.0  Actual:0\n",
            "Predicted: 0.0  Actual:0\n",
            "Predicted: 0.0  Actual:0\n",
            "Predicted: 0.0  Actual:0\n",
            "Predicted: 1.0  Actual:1\n",
            "Predicted: 1.0  Actual:1\n",
            "Predicted: 1.0  Actual:1\n",
            "Predicted: 1.0  Actual:0\n",
            "Predicted: 0.0  Actual:0\n",
            "Predicted: 1.0  Actual:1\n",
            "Predicted: 1.0  Actual:1\n",
            "Predicted: 1.0  Actual:1\n",
            "Predicted: 1.0  Actual:1\n",
            "Predicted: 0.0  Actual:0\n",
            "Predicted: 0.0  Actual:0\n",
            "Predicted: 0.0  Actual:0\n",
            "Sensitivity: 1.0, Specificity: 0.8904109589041096 and Accuracy: 0.9298245614035088\n"
          ]
        }
      ]
    },
    {
      "cell_type": "code",
      "metadata": {
        "colab": {
          "base_uri": "https://localhost:8080/"
        },
        "id": "rpAblRG2ieqB",
        "outputId": "2cec9423-40e5-4a6e-f30e-70bece8cc0c1"
      },
      "source": [
        "#results of batch gradient with L2 regularization \n",
        "y_pred_batch_L2_regu=predict(X_test,y_test,w_batch_L2_regu)\n",
        "sas(y_pred_batch_L2_regu,y_test)"
      ],
      "execution_count": null,
      "outputs": [
        {
          "output_type": "stream",
          "name": "stdout",
          "text": [
            "Predicted: 1.0  Actual:1\n",
            "Predicted: 1.0  Actual:1\n",
            "Predicted: 0.0  Actual:0\n",
            "Predicted: 1.0  Actual:1\n",
            "Predicted: 1.0  Actual:1\n",
            "Predicted: 1.0  Actual:1\n",
            "Predicted: 0.0  Actual:0\n",
            "Predicted: 1.0  Actual:1\n",
            "Predicted: 0.0  Actual:0\n",
            "Predicted: 0.0  Actual:0\n",
            "Predicted: 0.0  Actual:0\n",
            "Predicted: 0.0  Actual:0\n",
            "Predicted: 0.0  Actual:0\n",
            "Predicted: 0.0  Actual:0\n",
            "Predicted: 0.0  Actual:0\n",
            "Predicted: 1.0  Actual:1\n",
            "Predicted: 0.0  Actual:0\n",
            "Predicted: 0.0  Actual:0\n",
            "Predicted: 0.0  Actual:0\n",
            "Predicted: 0.0  Actual:0\n",
            "Predicted: 1.0  Actual:0\n",
            "Predicted: 0.0  Actual:0\n",
            "Predicted: 0.0  Actual:0\n",
            "Predicted: 0.0  Actual:0\n",
            "Predicted: 0.0  Actual:0\n",
            "Predicted: 0.0  Actual:0\n",
            "Predicted: 0.0  Actual:0\n",
            "Predicted: 1.0  Actual:1\n",
            "Predicted: 0.0  Actual:0\n",
            "Predicted: 0.0  Actual:0\n",
            "Predicted: 0.0  Actual:0\n",
            "Predicted: 0.0  Actual:0\n",
            "Predicted: 0.0  Actual:0\n",
            "Predicted: 1.0  Actual:1\n",
            "Predicted: 1.0  Actual:0\n",
            "Predicted: 1.0  Actual:0\n",
            "Predicted: 1.0  Actual:1\n",
            "Predicted: 0.0  Actual:0\n",
            "Predicted: 1.0  Actual:1\n",
            "Predicted: 0.0  Actual:0\n",
            "Predicted: 0.0  Actual:0\n",
            "Predicted: 1.0  Actual:0\n",
            "Predicted: 0.0  Actual:0\n",
            "Predicted: 0.0  Actual:0\n",
            "Predicted: 0.0  Actual:0\n",
            "Predicted: 0.0  Actual:0\n",
            "Predicted: 1.0  Actual:1\n",
            "Predicted: 1.0  Actual:1\n",
            "Predicted: 0.0  Actual:0\n",
            "Predicted: 1.0  Actual:1\n",
            "Predicted: 1.0  Actual:1\n",
            "Predicted: 1.0  Actual:0\n",
            "Predicted: 1.0  Actual:1\n",
            "Predicted: 1.0  Actual:1\n",
            "Predicted: 1.0  Actual:1\n",
            "Predicted: 0.0  Actual:0\n",
            "Predicted: 1.0  Actual:1\n",
            "Predicted: 1.0  Actual:1\n",
            "Predicted: 0.0  Actual:0\n",
            "Predicted: 1.0  Actual:1\n",
            "Predicted: 0.0  Actual:0\n",
            "Predicted: 0.0  Actual:0\n",
            "Predicted: 0.0  Actual:0\n",
            "Predicted: 1.0  Actual:1\n",
            "Predicted: 0.0  Actual:0\n",
            "Predicted: 1.0  Actual:1\n",
            "Predicted: 0.0  Actual:0\n",
            "Predicted: 1.0  Actual:1\n",
            "Predicted: 1.0  Actual:0\n",
            "Predicted: 1.0  Actual:1\n",
            "Predicted: 0.0  Actual:0\n",
            "Predicted: 1.0  Actual:1\n",
            "Predicted: 0.0  Actual:0\n",
            "Predicted: 1.0  Actual:1\n",
            "Predicted: 0.0  Actual:0\n",
            "Predicted: 0.0  Actual:0\n",
            "Predicted: 0.0  Actual:0\n",
            "Predicted: 0.0  Actual:0\n",
            "Predicted: 0.0  Actual:0\n",
            "Predicted: 1.0  Actual:1\n",
            "Predicted: 0.0  Actual:0\n",
            "Predicted: 0.0  Actual:0\n",
            "Predicted: 1.0  Actual:1\n",
            "Predicted: 1.0  Actual:1\n",
            "Predicted: 0.0  Actual:0\n",
            "Predicted: 1.0  Actual:1\n",
            "Predicted: 1.0  Actual:1\n",
            "Predicted: 0.0  Actual:0\n",
            "Predicted: 1.0  Actual:0\n",
            "Predicted: 0.0  Actual:0\n",
            "Predicted: 0.0  Actual:0\n",
            "Predicted: 0.0  Actual:0\n",
            "Predicted: 0.0  Actual:0\n",
            "Predicted: 0.0  Actual:0\n",
            "Predicted: 0.0  Actual:0\n",
            "Predicted: 1.0  Actual:1\n",
            "Predicted: 1.0  Actual:1\n",
            "Predicted: 0.0  Actual:0\n",
            "Predicted: 0.0  Actual:0\n",
            "Predicted: 0.0  Actual:0\n",
            "Predicted: 0.0  Actual:0\n",
            "Predicted: 0.0  Actual:0\n",
            "Predicted: 1.0  Actual:1\n",
            "Predicted: 1.0  Actual:1\n",
            "Predicted: 1.0  Actual:1\n",
            "Predicted: 1.0  Actual:0\n",
            "Predicted: 0.0  Actual:0\n",
            "Predicted: 1.0  Actual:1\n",
            "Predicted: 1.0  Actual:1\n",
            "Predicted: 1.0  Actual:1\n",
            "Predicted: 1.0  Actual:1\n",
            "Predicted: 0.0  Actual:0\n",
            "Predicted: 0.0  Actual:0\n",
            "Predicted: 0.0  Actual:0\n",
            "Sensitivity: 1.0, Specificity: 0.8904109589041096 and Accuracy: 0.9298245614035088\n"
          ]
        }
      ]
    },
    {
      "cell_type": "code",
      "metadata": {
        "colab": {
          "base_uri": "https://localhost:8080/"
        },
        "id": "88-X7w5hjYLZ",
        "outputId": "dd160e0c-5554-45c4-bffb-f9427dbccad2"
      },
      "source": [
        "#results of batch gradient with L1 regularization \n",
        "y_pred_batch_L1_regu=predict(X_test,y_test,w_batch_L1_regu)\n",
        "sas(y_pred_batch_L1_regu,y_test)"
      ],
      "execution_count": null,
      "outputs": [
        {
          "output_type": "stream",
          "name": "stdout",
          "text": [
            "Predicted: 1.0  Actual:1\n",
            "Predicted: 1.0  Actual:1\n",
            "Predicted: 0.0  Actual:0\n",
            "Predicted: 1.0  Actual:1\n",
            "Predicted: 1.0  Actual:1\n",
            "Predicted: 1.0  Actual:1\n",
            "Predicted: 0.0  Actual:0\n",
            "Predicted: 1.0  Actual:1\n",
            "Predicted: 0.0  Actual:0\n",
            "Predicted: 0.0  Actual:0\n",
            "Predicted: 0.0  Actual:0\n",
            "Predicted: 0.0  Actual:0\n",
            "Predicted: 0.0  Actual:0\n",
            "Predicted: 0.0  Actual:0\n",
            "Predicted: 0.0  Actual:0\n",
            "Predicted: 1.0  Actual:1\n",
            "Predicted: 0.0  Actual:0\n",
            "Predicted: 0.0  Actual:0\n",
            "Predicted: 0.0  Actual:0\n",
            "Predicted: 0.0  Actual:0\n",
            "Predicted: 1.0  Actual:0\n",
            "Predicted: 0.0  Actual:0\n",
            "Predicted: 0.0  Actual:0\n",
            "Predicted: 0.0  Actual:0\n",
            "Predicted: 0.0  Actual:0\n",
            "Predicted: 0.0  Actual:0\n",
            "Predicted: 0.0  Actual:0\n",
            "Predicted: 1.0  Actual:1\n",
            "Predicted: 0.0  Actual:0\n",
            "Predicted: 0.0  Actual:0\n",
            "Predicted: 0.0  Actual:0\n",
            "Predicted: 0.0  Actual:0\n",
            "Predicted: 0.0  Actual:0\n",
            "Predicted: 1.0  Actual:1\n",
            "Predicted: 0.0  Actual:0\n",
            "Predicted: 1.0  Actual:0\n",
            "Predicted: 1.0  Actual:1\n",
            "Predicted: 0.0  Actual:0\n",
            "Predicted: 1.0  Actual:1\n",
            "Predicted: 0.0  Actual:0\n",
            "Predicted: 0.0  Actual:0\n",
            "Predicted: 1.0  Actual:0\n",
            "Predicted: 0.0  Actual:0\n",
            "Predicted: 0.0  Actual:0\n",
            "Predicted: 0.0  Actual:0\n",
            "Predicted: 0.0  Actual:0\n",
            "Predicted: 1.0  Actual:1\n",
            "Predicted: 1.0  Actual:1\n",
            "Predicted: 0.0  Actual:0\n",
            "Predicted: 1.0  Actual:1\n",
            "Predicted: 1.0  Actual:1\n",
            "Predicted: 1.0  Actual:0\n",
            "Predicted: 1.0  Actual:1\n",
            "Predicted: 1.0  Actual:1\n",
            "Predicted: 1.0  Actual:1\n",
            "Predicted: 0.0  Actual:0\n",
            "Predicted: 1.0  Actual:1\n",
            "Predicted: 1.0  Actual:1\n",
            "Predicted: 0.0  Actual:0\n",
            "Predicted: 1.0  Actual:1\n",
            "Predicted: 0.0  Actual:0\n",
            "Predicted: 0.0  Actual:0\n",
            "Predicted: 0.0  Actual:0\n",
            "Predicted: 1.0  Actual:1\n",
            "Predicted: 0.0  Actual:0\n",
            "Predicted: 1.0  Actual:1\n",
            "Predicted: 0.0  Actual:0\n",
            "Predicted: 1.0  Actual:1\n",
            "Predicted: 1.0  Actual:0\n",
            "Predicted: 1.0  Actual:1\n",
            "Predicted: 0.0  Actual:0\n",
            "Predicted: 1.0  Actual:1\n",
            "Predicted: 1.0  Actual:0\n",
            "Predicted: 1.0  Actual:1\n",
            "Predicted: 0.0  Actual:0\n",
            "Predicted: 0.0  Actual:0\n",
            "Predicted: 0.0  Actual:0\n",
            "Predicted: 0.0  Actual:0\n",
            "Predicted: 0.0  Actual:0\n",
            "Predicted: 1.0  Actual:1\n",
            "Predicted: 0.0  Actual:0\n",
            "Predicted: 0.0  Actual:0\n",
            "Predicted: 1.0  Actual:1\n",
            "Predicted: 1.0  Actual:1\n",
            "Predicted: 0.0  Actual:0\n",
            "Predicted: 1.0  Actual:1\n",
            "Predicted: 1.0  Actual:1\n",
            "Predicted: 0.0  Actual:0\n",
            "Predicted: 1.0  Actual:0\n",
            "Predicted: 0.0  Actual:0\n",
            "Predicted: 0.0  Actual:0\n",
            "Predicted: 0.0  Actual:0\n",
            "Predicted: 0.0  Actual:0\n",
            "Predicted: 0.0  Actual:0\n",
            "Predicted: 0.0  Actual:0\n",
            "Predicted: 1.0  Actual:1\n",
            "Predicted: 1.0  Actual:1\n",
            "Predicted: 0.0  Actual:0\n",
            "Predicted: 0.0  Actual:0\n",
            "Predicted: 0.0  Actual:0\n",
            "Predicted: 0.0  Actual:0\n",
            "Predicted: 0.0  Actual:0\n",
            "Predicted: 1.0  Actual:1\n",
            "Predicted: 1.0  Actual:1\n",
            "Predicted: 1.0  Actual:1\n",
            "Predicted: 1.0  Actual:0\n",
            "Predicted: 0.0  Actual:0\n",
            "Predicted: 1.0  Actual:1\n",
            "Predicted: 1.0  Actual:1\n",
            "Predicted: 1.0  Actual:1\n",
            "Predicted: 1.0  Actual:1\n",
            "Predicted: 0.0  Actual:0\n",
            "Predicted: 0.0  Actual:0\n",
            "Predicted: 0.0  Actual:0\n",
            "Sensitivity: 1.0, Specificity: 0.8904109589041096 and Accuracy: 0.9298245614035088\n"
          ]
        }
      ]
    },
    {
      "cell_type": "code",
      "metadata": {
        "colab": {
          "base_uri": "https://localhost:8080/"
        },
        "id": "hTso9c3ljjli",
        "outputId": "72d39c8b-6e8c-452a-e442-583c7215e1e8"
      },
      "source": [
        "#results of stochastic gradient with no regularization \n",
        "y_pred_stoch_no_regu=predict(X_test,y_test,w_stoch_no_regu)    \n",
        "sas(y_pred_stoch_no_regu,y_test)"
      ],
      "execution_count": null,
      "outputs": [
        {
          "output_type": "stream",
          "name": "stdout",
          "text": [
            "Predicted: 1.0  Actual:1\n",
            "Predicted: 1.0  Actual:1\n",
            "Predicted: 0.0  Actual:0\n",
            "Predicted: 1.0  Actual:1\n",
            "Predicted: 1.0  Actual:1\n",
            "Predicted: 1.0  Actual:1\n",
            "Predicted: 0.0  Actual:0\n",
            "Predicted: 1.0  Actual:1\n",
            "Predicted: 0.0  Actual:0\n",
            "Predicted: 0.0  Actual:0\n",
            "Predicted: 0.0  Actual:0\n",
            "Predicted: 0.0  Actual:0\n",
            "Predicted: 0.0  Actual:0\n",
            "Predicted: 0.0  Actual:0\n",
            "Predicted: 0.0  Actual:0\n",
            "Predicted: 1.0  Actual:1\n",
            "Predicted: 0.0  Actual:0\n",
            "Predicted: 0.0  Actual:0\n",
            "Predicted: 0.0  Actual:0\n",
            "Predicted: 0.0  Actual:0\n",
            "Predicted: 1.0  Actual:0\n",
            "Predicted: 0.0  Actual:0\n",
            "Predicted: 0.0  Actual:0\n",
            "Predicted: 0.0  Actual:0\n",
            "Predicted: 0.0  Actual:0\n",
            "Predicted: 0.0  Actual:0\n",
            "Predicted: 0.0  Actual:0\n",
            "Predicted: 1.0  Actual:1\n",
            "Predicted: 0.0  Actual:0\n",
            "Predicted: 0.0  Actual:0\n",
            "Predicted: 0.0  Actual:0\n",
            "Predicted: 0.0  Actual:0\n",
            "Predicted: 0.0  Actual:0\n",
            "Predicted: 1.0  Actual:1\n",
            "Predicted: 1.0  Actual:0\n",
            "Predicted: 1.0  Actual:0\n",
            "Predicted: 1.0  Actual:1\n",
            "Predicted: 0.0  Actual:0\n",
            "Predicted: 1.0  Actual:1\n",
            "Predicted: 0.0  Actual:0\n",
            "Predicted: 0.0  Actual:0\n",
            "Predicted: 1.0  Actual:0\n",
            "Predicted: 0.0  Actual:0\n",
            "Predicted: 0.0  Actual:0\n",
            "Predicted: 0.0  Actual:0\n",
            "Predicted: 0.0  Actual:0\n",
            "Predicted: 1.0  Actual:1\n",
            "Predicted: 1.0  Actual:1\n",
            "Predicted: 0.0  Actual:0\n",
            "Predicted: 1.0  Actual:1\n",
            "Predicted: 1.0  Actual:1\n",
            "Predicted: 1.0  Actual:0\n",
            "Predicted: 1.0  Actual:1\n",
            "Predicted: 1.0  Actual:1\n",
            "Predicted: 1.0  Actual:1\n",
            "Predicted: 0.0  Actual:0\n",
            "Predicted: 1.0  Actual:1\n",
            "Predicted: 1.0  Actual:1\n",
            "Predicted: 0.0  Actual:0\n",
            "Predicted: 1.0  Actual:1\n",
            "Predicted: 0.0  Actual:0\n",
            "Predicted: 0.0  Actual:0\n",
            "Predicted: 0.0  Actual:0\n",
            "Predicted: 1.0  Actual:1\n",
            "Predicted: 0.0  Actual:0\n",
            "Predicted: 1.0  Actual:1\n",
            "Predicted: 0.0  Actual:0\n",
            "Predicted: 1.0  Actual:1\n",
            "Predicted: 1.0  Actual:0\n",
            "Predicted: 1.0  Actual:1\n",
            "Predicted: 0.0  Actual:0\n",
            "Predicted: 1.0  Actual:1\n",
            "Predicted: 0.0  Actual:0\n",
            "Predicted: 1.0  Actual:1\n",
            "Predicted: 0.0  Actual:0\n",
            "Predicted: 0.0  Actual:0\n",
            "Predicted: 0.0  Actual:0\n",
            "Predicted: 0.0  Actual:0\n",
            "Predicted: 0.0  Actual:0\n",
            "Predicted: 1.0  Actual:1\n",
            "Predicted: 0.0  Actual:0\n",
            "Predicted: 0.0  Actual:0\n",
            "Predicted: 1.0  Actual:1\n",
            "Predicted: 1.0  Actual:1\n",
            "Predicted: 0.0  Actual:0\n",
            "Predicted: 1.0  Actual:1\n",
            "Predicted: 1.0  Actual:1\n",
            "Predicted: 0.0  Actual:0\n",
            "Predicted: 1.0  Actual:0\n",
            "Predicted: 0.0  Actual:0\n",
            "Predicted: 0.0  Actual:0\n",
            "Predicted: 0.0  Actual:0\n",
            "Predicted: 0.0  Actual:0\n",
            "Predicted: 0.0  Actual:0\n",
            "Predicted: 0.0  Actual:0\n",
            "Predicted: 1.0  Actual:1\n",
            "Predicted: 1.0  Actual:1\n",
            "Predicted: 0.0  Actual:0\n",
            "Predicted: 0.0  Actual:0\n",
            "Predicted: 0.0  Actual:0\n",
            "Predicted: 0.0  Actual:0\n",
            "Predicted: 0.0  Actual:0\n",
            "Predicted: 1.0  Actual:1\n",
            "Predicted: 1.0  Actual:1\n",
            "Predicted: 1.0  Actual:1\n",
            "Predicted: 1.0  Actual:0\n",
            "Predicted: 0.0  Actual:0\n",
            "Predicted: 1.0  Actual:1\n",
            "Predicted: 1.0  Actual:1\n",
            "Predicted: 1.0  Actual:1\n",
            "Predicted: 1.0  Actual:1\n",
            "Predicted: 0.0  Actual:0\n",
            "Predicted: 0.0  Actual:0\n",
            "Predicted: 0.0  Actual:0\n",
            "Sensitivity: 1.0, Specificity: 0.8904109589041096 and Accuracy: 0.9298245614035088\n"
          ]
        }
      ]
    },
    {
      "cell_type": "code",
      "metadata": {
        "colab": {
          "base_uri": "https://localhost:8080/"
        },
        "id": "uSPUWJTGjsKB",
        "outputId": "c3dde403-9386-4531-af8a-ff49f3b617b6"
      },
      "source": [
        "#results of stochastic gradient with L2 regularization \n",
        "y_pred_stoch_L2_regu=predict(X_test,y_test,w_stoch_L2_regu)\n",
        "sas(y_pred_stoch_L2_regu,y_test)"
      ],
      "execution_count": null,
      "outputs": [
        {
          "output_type": "stream",
          "name": "stdout",
          "text": [
            "Predicted: 1.0  Actual:1\n",
            "Predicted: 1.0  Actual:1\n",
            "Predicted: 0.0  Actual:0\n",
            "Predicted: 1.0  Actual:1\n",
            "Predicted: 1.0  Actual:1\n",
            "Predicted: 1.0  Actual:1\n",
            "Predicted: 0.0  Actual:0\n",
            "Predicted: 1.0  Actual:1\n",
            "Predicted: 0.0  Actual:0\n",
            "Predicted: 0.0  Actual:0\n",
            "Predicted: 0.0  Actual:0\n",
            "Predicted: 0.0  Actual:0\n",
            "Predicted: 0.0  Actual:0\n",
            "Predicted: 0.0  Actual:0\n",
            "Predicted: 0.0  Actual:0\n",
            "Predicted: 1.0  Actual:1\n",
            "Predicted: 0.0  Actual:0\n",
            "Predicted: 0.0  Actual:0\n",
            "Predicted: 0.0  Actual:0\n",
            "Predicted: 0.0  Actual:0\n",
            "Predicted: 1.0  Actual:0\n",
            "Predicted: 0.0  Actual:0\n",
            "Predicted: 0.0  Actual:0\n",
            "Predicted: 0.0  Actual:0\n",
            "Predicted: 0.0  Actual:0\n",
            "Predicted: 0.0  Actual:0\n",
            "Predicted: 0.0  Actual:0\n",
            "Predicted: 1.0  Actual:1\n",
            "Predicted: 0.0  Actual:0\n",
            "Predicted: 0.0  Actual:0\n",
            "Predicted: 0.0  Actual:0\n",
            "Predicted: 0.0  Actual:0\n",
            "Predicted: 0.0  Actual:0\n",
            "Predicted: 1.0  Actual:1\n",
            "Predicted: 1.0  Actual:0\n",
            "Predicted: 1.0  Actual:0\n",
            "Predicted: 1.0  Actual:1\n",
            "Predicted: 0.0  Actual:0\n",
            "Predicted: 1.0  Actual:1\n",
            "Predicted: 0.0  Actual:0\n",
            "Predicted: 0.0  Actual:0\n",
            "Predicted: 1.0  Actual:0\n",
            "Predicted: 0.0  Actual:0\n",
            "Predicted: 0.0  Actual:0\n",
            "Predicted: 0.0  Actual:0\n",
            "Predicted: 0.0  Actual:0\n",
            "Predicted: 1.0  Actual:1\n",
            "Predicted: 1.0  Actual:1\n",
            "Predicted: 0.0  Actual:0\n",
            "Predicted: 1.0  Actual:1\n",
            "Predicted: 1.0  Actual:1\n",
            "Predicted: 1.0  Actual:0\n",
            "Predicted: 1.0  Actual:1\n",
            "Predicted: 1.0  Actual:1\n",
            "Predicted: 1.0  Actual:1\n",
            "Predicted: 0.0  Actual:0\n",
            "Predicted: 1.0  Actual:1\n",
            "Predicted: 1.0  Actual:1\n",
            "Predicted: 0.0  Actual:0\n",
            "Predicted: 1.0  Actual:1\n",
            "Predicted: 0.0  Actual:0\n",
            "Predicted: 0.0  Actual:0\n",
            "Predicted: 0.0  Actual:0\n",
            "Predicted: 1.0  Actual:1\n",
            "Predicted: 0.0  Actual:0\n",
            "Predicted: 1.0  Actual:1\n",
            "Predicted: 0.0  Actual:0\n",
            "Predicted: 1.0  Actual:1\n",
            "Predicted: 1.0  Actual:0\n",
            "Predicted: 1.0  Actual:1\n",
            "Predicted: 0.0  Actual:0\n",
            "Predicted: 1.0  Actual:1\n",
            "Predicted: 1.0  Actual:0\n",
            "Predicted: 1.0  Actual:1\n",
            "Predicted: 0.0  Actual:0\n",
            "Predicted: 0.0  Actual:0\n",
            "Predicted: 0.0  Actual:0\n",
            "Predicted: 0.0  Actual:0\n",
            "Predicted: 0.0  Actual:0\n",
            "Predicted: 1.0  Actual:1\n",
            "Predicted: 0.0  Actual:0\n",
            "Predicted: 0.0  Actual:0\n",
            "Predicted: 1.0  Actual:1\n",
            "Predicted: 1.0  Actual:1\n",
            "Predicted: 0.0  Actual:0\n",
            "Predicted: 1.0  Actual:1\n",
            "Predicted: 1.0  Actual:1\n",
            "Predicted: 0.0  Actual:0\n",
            "Predicted: 1.0  Actual:0\n",
            "Predicted: 0.0  Actual:0\n",
            "Predicted: 0.0  Actual:0\n",
            "Predicted: 0.0  Actual:0\n",
            "Predicted: 0.0  Actual:0\n",
            "Predicted: 0.0  Actual:0\n",
            "Predicted: 0.0  Actual:0\n",
            "Predicted: 1.0  Actual:1\n",
            "Predicted: 1.0  Actual:1\n",
            "Predicted: 0.0  Actual:0\n",
            "Predicted: 0.0  Actual:0\n",
            "Predicted: 0.0  Actual:0\n",
            "Predicted: 0.0  Actual:0\n",
            "Predicted: 0.0  Actual:0\n",
            "Predicted: 1.0  Actual:1\n",
            "Predicted: 1.0  Actual:1\n",
            "Predicted: 1.0  Actual:1\n",
            "Predicted: 1.0  Actual:0\n",
            "Predicted: 0.0  Actual:0\n",
            "Predicted: 1.0  Actual:1\n",
            "Predicted: 1.0  Actual:1\n",
            "Predicted: 1.0  Actual:1\n",
            "Predicted: 1.0  Actual:1\n",
            "Predicted: 0.0  Actual:0\n",
            "Predicted: 0.0  Actual:0\n",
            "Predicted: 0.0  Actual:0\n",
            "Sensitivity: 1.0, Specificity: 0.8767123287671232 and Accuracy: 0.9210526315789473\n"
          ]
        }
      ]
    },
    {
      "cell_type": "code",
      "metadata": {
        "colab": {
          "base_uri": "https://localhost:8080/"
        },
        "id": "FF-pWJoYj4QT",
        "outputId": "9e006e05-5fc0-4a2f-9df6-5e569d151a37"
      },
      "source": [
        "#results of stochastic gradient with L1 regularization \n",
        "y_pred_stoch_L1_regu=predict(X_test,y_test,w_stoch_L1_regu)\n",
        "sas(y_pred_stoch_L1_regu,y_test)"
      ],
      "execution_count": null,
      "outputs": [
        {
          "output_type": "stream",
          "name": "stdout",
          "text": [
            "Predicted: 1.0  Actual:1\n",
            "Predicted: 1.0  Actual:1\n",
            "Predicted: 0.0  Actual:0\n",
            "Predicted: 1.0  Actual:1\n",
            "Predicted: 1.0  Actual:1\n",
            "Predicted: 1.0  Actual:1\n",
            "Predicted: 0.0  Actual:0\n",
            "Predicted: 1.0  Actual:1\n",
            "Predicted: 0.0  Actual:0\n",
            "Predicted: 0.0  Actual:0\n",
            "Predicted: 0.0  Actual:0\n",
            "Predicted: 0.0  Actual:0\n",
            "Predicted: 0.0  Actual:0\n",
            "Predicted: 0.0  Actual:0\n",
            "Predicted: 0.0  Actual:0\n",
            "Predicted: 1.0  Actual:1\n",
            "Predicted: 0.0  Actual:0\n",
            "Predicted: 0.0  Actual:0\n",
            "Predicted: 0.0  Actual:0\n",
            "Predicted: 0.0  Actual:0\n",
            "Predicted: 1.0  Actual:0\n",
            "Predicted: 0.0  Actual:0\n",
            "Predicted: 0.0  Actual:0\n",
            "Predicted: 0.0  Actual:0\n",
            "Predicted: 0.0  Actual:0\n",
            "Predicted: 0.0  Actual:0\n",
            "Predicted: 0.0  Actual:0\n",
            "Predicted: 1.0  Actual:1\n",
            "Predicted: 0.0  Actual:0\n",
            "Predicted: 0.0  Actual:0\n",
            "Predicted: 0.0  Actual:0\n",
            "Predicted: 0.0  Actual:0\n",
            "Predicted: 0.0  Actual:0\n",
            "Predicted: 1.0  Actual:1\n",
            "Predicted: 1.0  Actual:0\n",
            "Predicted: 1.0  Actual:0\n",
            "Predicted: 1.0  Actual:1\n",
            "Predicted: 0.0  Actual:0\n",
            "Predicted: 1.0  Actual:1\n",
            "Predicted: 0.0  Actual:0\n",
            "Predicted: 0.0  Actual:0\n",
            "Predicted: 1.0  Actual:0\n",
            "Predicted: 0.0  Actual:0\n",
            "Predicted: 0.0  Actual:0\n",
            "Predicted: 0.0  Actual:0\n",
            "Predicted: 0.0  Actual:0\n",
            "Predicted: 1.0  Actual:1\n",
            "Predicted: 1.0  Actual:1\n",
            "Predicted: 0.0  Actual:0\n",
            "Predicted: 1.0  Actual:1\n",
            "Predicted: 1.0  Actual:1\n",
            "Predicted: 1.0  Actual:0\n",
            "Predicted: 1.0  Actual:1\n",
            "Predicted: 1.0  Actual:1\n",
            "Predicted: 1.0  Actual:1\n",
            "Predicted: 0.0  Actual:0\n",
            "Predicted: 1.0  Actual:1\n",
            "Predicted: 1.0  Actual:1\n",
            "Predicted: 0.0  Actual:0\n",
            "Predicted: 1.0  Actual:1\n",
            "Predicted: 0.0  Actual:0\n",
            "Predicted: 0.0  Actual:0\n",
            "Predicted: 0.0  Actual:0\n",
            "Predicted: 1.0  Actual:1\n",
            "Predicted: 0.0  Actual:0\n",
            "Predicted: 1.0  Actual:1\n",
            "Predicted: 0.0  Actual:0\n",
            "Predicted: 1.0  Actual:1\n",
            "Predicted: 1.0  Actual:0\n",
            "Predicted: 1.0  Actual:1\n",
            "Predicted: 0.0  Actual:0\n",
            "Predicted: 1.0  Actual:1\n",
            "Predicted: 1.0  Actual:0\n",
            "Predicted: 1.0  Actual:1\n",
            "Predicted: 0.0  Actual:0\n",
            "Predicted: 0.0  Actual:0\n",
            "Predicted: 0.0  Actual:0\n",
            "Predicted: 0.0  Actual:0\n",
            "Predicted: 0.0  Actual:0\n",
            "Predicted: 1.0  Actual:1\n",
            "Predicted: 0.0  Actual:0\n",
            "Predicted: 0.0  Actual:0\n",
            "Predicted: 1.0  Actual:1\n",
            "Predicted: 1.0  Actual:1\n",
            "Predicted: 0.0  Actual:0\n",
            "Predicted: 1.0  Actual:1\n",
            "Predicted: 1.0  Actual:1\n",
            "Predicted: 0.0  Actual:0\n",
            "Predicted: 1.0  Actual:0\n",
            "Predicted: 0.0  Actual:0\n",
            "Predicted: 0.0  Actual:0\n",
            "Predicted: 0.0  Actual:0\n",
            "Predicted: 0.0  Actual:0\n",
            "Predicted: 0.0  Actual:0\n",
            "Predicted: 0.0  Actual:0\n",
            "Predicted: 1.0  Actual:1\n",
            "Predicted: 1.0  Actual:1\n",
            "Predicted: 0.0  Actual:0\n",
            "Predicted: 0.0  Actual:0\n",
            "Predicted: 0.0  Actual:0\n",
            "Predicted: 0.0  Actual:0\n",
            "Predicted: 0.0  Actual:0\n",
            "Predicted: 1.0  Actual:1\n",
            "Predicted: 1.0  Actual:1\n",
            "Predicted: 1.0  Actual:1\n",
            "Predicted: 1.0  Actual:0\n",
            "Predicted: 0.0  Actual:0\n",
            "Predicted: 1.0  Actual:1\n",
            "Predicted: 1.0  Actual:1\n",
            "Predicted: 1.0  Actual:1\n",
            "Predicted: 1.0  Actual:1\n",
            "Predicted: 0.0  Actual:0\n",
            "Predicted: 0.0  Actual:0\n",
            "Predicted: 0.0  Actual:0\n",
            "Sensitivity: 1.0, Specificity: 0.8767123287671232 and Accuracy: 0.9210526315789473\n"
          ]
        }
      ]
    },
    {
      "cell_type": "code",
      "metadata": {
        "colab": {
          "base_uri": "https://localhost:8080/"
        },
        "id": "nlexXw3hklsz",
        "outputId": "c897ad17-a447-4ecd-acbd-3bbe958f00ac"
      },
      "source": [
        "#results of minibatch gradient with no regularization \n",
        "y_pred_mini_no_regu=predict(X_test,y_test,w_mini_no_regu)\n",
        "sas(y_pred_mini_no_regu,y_test)"
      ],
      "execution_count": null,
      "outputs": [
        {
          "output_type": "stream",
          "name": "stdout",
          "text": [
            "Predicted: 1.0  Actual:1\n",
            "Predicted: 1.0  Actual:1\n",
            "Predicted: 0.0  Actual:0\n",
            "Predicted: 1.0  Actual:1\n",
            "Predicted: 1.0  Actual:1\n",
            "Predicted: 1.0  Actual:1\n",
            "Predicted: 0.0  Actual:0\n",
            "Predicted: 1.0  Actual:1\n",
            "Predicted: 0.0  Actual:0\n",
            "Predicted: 0.0  Actual:0\n",
            "Predicted: 0.0  Actual:0\n",
            "Predicted: 0.0  Actual:0\n",
            "Predicted: 0.0  Actual:0\n",
            "Predicted: 0.0  Actual:0\n",
            "Predicted: 0.0  Actual:0\n",
            "Predicted: 1.0  Actual:1\n",
            "Predicted: 0.0  Actual:0\n",
            "Predicted: 0.0  Actual:0\n",
            "Predicted: 0.0  Actual:0\n",
            "Predicted: 0.0  Actual:0\n",
            "Predicted: 1.0  Actual:0\n",
            "Predicted: 0.0  Actual:0\n",
            "Predicted: 0.0  Actual:0\n",
            "Predicted: 0.0  Actual:0\n",
            "Predicted: 0.0  Actual:0\n",
            "Predicted: 0.0  Actual:0\n",
            "Predicted: 0.0  Actual:0\n",
            "Predicted: 1.0  Actual:1\n",
            "Predicted: 0.0  Actual:0\n",
            "Predicted: 0.0  Actual:0\n",
            "Predicted: 0.0  Actual:0\n",
            "Predicted: 0.0  Actual:0\n",
            "Predicted: 0.0  Actual:0\n",
            "Predicted: 1.0  Actual:1\n",
            "Predicted: 1.0  Actual:0\n",
            "Predicted: 1.0  Actual:0\n",
            "Predicted: 1.0  Actual:1\n",
            "Predicted: 0.0  Actual:0\n",
            "Predicted: 1.0  Actual:1\n",
            "Predicted: 0.0  Actual:0\n",
            "Predicted: 0.0  Actual:0\n",
            "Predicted: 1.0  Actual:0\n",
            "Predicted: 0.0  Actual:0\n",
            "Predicted: 0.0  Actual:0\n",
            "Predicted: 0.0  Actual:0\n",
            "Predicted: 0.0  Actual:0\n",
            "Predicted: 1.0  Actual:1\n",
            "Predicted: 1.0  Actual:1\n",
            "Predicted: 0.0  Actual:0\n",
            "Predicted: 1.0  Actual:1\n",
            "Predicted: 1.0  Actual:1\n",
            "Predicted: 1.0  Actual:0\n",
            "Predicted: 1.0  Actual:1\n",
            "Predicted: 1.0  Actual:1\n",
            "Predicted: 1.0  Actual:1\n",
            "Predicted: 0.0  Actual:0\n",
            "Predicted: 1.0  Actual:1\n",
            "Predicted: 1.0  Actual:1\n",
            "Predicted: 0.0  Actual:0\n",
            "Predicted: 1.0  Actual:1\n",
            "Predicted: 0.0  Actual:0\n",
            "Predicted: 0.0  Actual:0\n",
            "Predicted: 0.0  Actual:0\n",
            "Predicted: 1.0  Actual:1\n",
            "Predicted: 0.0  Actual:0\n",
            "Predicted: 1.0  Actual:1\n",
            "Predicted: 0.0  Actual:0\n",
            "Predicted: 1.0  Actual:1\n",
            "Predicted: 1.0  Actual:0\n",
            "Predicted: 1.0  Actual:1\n",
            "Predicted: 0.0  Actual:0\n",
            "Predicted: 1.0  Actual:1\n",
            "Predicted: 0.0  Actual:0\n",
            "Predicted: 1.0  Actual:1\n",
            "Predicted: 0.0  Actual:0\n",
            "Predicted: 0.0  Actual:0\n",
            "Predicted: 0.0  Actual:0\n",
            "Predicted: 0.0  Actual:0\n",
            "Predicted: 0.0  Actual:0\n",
            "Predicted: 1.0  Actual:1\n",
            "Predicted: 0.0  Actual:0\n",
            "Predicted: 0.0  Actual:0\n",
            "Predicted: 1.0  Actual:1\n",
            "Predicted: 1.0  Actual:1\n",
            "Predicted: 0.0  Actual:0\n",
            "Predicted: 1.0  Actual:1\n",
            "Predicted: 1.0  Actual:1\n",
            "Predicted: 0.0  Actual:0\n",
            "Predicted: 1.0  Actual:0\n",
            "Predicted: 0.0  Actual:0\n",
            "Predicted: 0.0  Actual:0\n",
            "Predicted: 0.0  Actual:0\n",
            "Predicted: 0.0  Actual:0\n",
            "Predicted: 0.0  Actual:0\n",
            "Predicted: 0.0  Actual:0\n",
            "Predicted: 1.0  Actual:1\n",
            "Predicted: 1.0  Actual:1\n",
            "Predicted: 0.0  Actual:0\n",
            "Predicted: 0.0  Actual:0\n",
            "Predicted: 0.0  Actual:0\n",
            "Predicted: 0.0  Actual:0\n",
            "Predicted: 0.0  Actual:0\n",
            "Predicted: 1.0  Actual:1\n",
            "Predicted: 1.0  Actual:1\n",
            "Predicted: 1.0  Actual:1\n",
            "Predicted: 1.0  Actual:0\n",
            "Predicted: 0.0  Actual:0\n",
            "Predicted: 1.0  Actual:1\n",
            "Predicted: 1.0  Actual:1\n",
            "Predicted: 1.0  Actual:1\n",
            "Predicted: 1.0  Actual:1\n",
            "Predicted: 0.0  Actual:0\n",
            "Predicted: 0.0  Actual:0\n",
            "Predicted: 0.0  Actual:0\n",
            "Sensitivity: 1.0, Specificity: 0.8904109589041096 and Accuracy: 0.9298245614035088\n"
          ]
        }
      ]
    },
    {
      "cell_type": "code",
      "metadata": {
        "colab": {
          "base_uri": "https://localhost:8080/"
        },
        "id": "0URYf4MLkzou",
        "outputId": "7c1bcb4c-8a6f-4cd3-d14b-1cd5281bc4f6"
      },
      "source": [
        "#results of minibatch gradient with L2 regularization \n",
        "y_pred_mini_L2_regu=predict(X_test,y_test,w_mini_L2_regu)\n",
        "sas(y_pred_mini_L2_regu,y_test)"
      ],
      "execution_count": null,
      "outputs": [
        {
          "output_type": "stream",
          "name": "stdout",
          "text": [
            "Predicted: 1.0  Actual:1\n",
            "Predicted: 1.0  Actual:1\n",
            "Predicted: 0.0  Actual:0\n",
            "Predicted: 1.0  Actual:1\n",
            "Predicted: 1.0  Actual:1\n",
            "Predicted: 1.0  Actual:1\n",
            "Predicted: 0.0  Actual:0\n",
            "Predicted: 1.0  Actual:1\n",
            "Predicted: 0.0  Actual:0\n",
            "Predicted: 0.0  Actual:0\n",
            "Predicted: 0.0  Actual:0\n",
            "Predicted: 0.0  Actual:0\n",
            "Predicted: 0.0  Actual:0\n",
            "Predicted: 0.0  Actual:0\n",
            "Predicted: 0.0  Actual:0\n",
            "Predicted: 1.0  Actual:1\n",
            "Predicted: 0.0  Actual:0\n",
            "Predicted: 0.0  Actual:0\n",
            "Predicted: 0.0  Actual:0\n",
            "Predicted: 0.0  Actual:0\n",
            "Predicted: 1.0  Actual:0\n",
            "Predicted: 0.0  Actual:0\n",
            "Predicted: 0.0  Actual:0\n",
            "Predicted: 0.0  Actual:0\n",
            "Predicted: 0.0  Actual:0\n",
            "Predicted: 0.0  Actual:0\n",
            "Predicted: 0.0  Actual:0\n",
            "Predicted: 1.0  Actual:1\n",
            "Predicted: 0.0  Actual:0\n",
            "Predicted: 0.0  Actual:0\n",
            "Predicted: 0.0  Actual:0\n",
            "Predicted: 0.0  Actual:0\n",
            "Predicted: 0.0  Actual:0\n",
            "Predicted: 1.0  Actual:1\n",
            "Predicted: 1.0  Actual:0\n",
            "Predicted: 1.0  Actual:0\n",
            "Predicted: 1.0  Actual:1\n",
            "Predicted: 0.0  Actual:0\n",
            "Predicted: 1.0  Actual:1\n",
            "Predicted: 0.0  Actual:0\n",
            "Predicted: 0.0  Actual:0\n",
            "Predicted: 1.0  Actual:0\n",
            "Predicted: 0.0  Actual:0\n",
            "Predicted: 0.0  Actual:0\n",
            "Predicted: 0.0  Actual:0\n",
            "Predicted: 0.0  Actual:0\n",
            "Predicted: 1.0  Actual:1\n",
            "Predicted: 1.0  Actual:1\n",
            "Predicted: 0.0  Actual:0\n",
            "Predicted: 1.0  Actual:1\n",
            "Predicted: 1.0  Actual:1\n",
            "Predicted: 1.0  Actual:0\n",
            "Predicted: 1.0  Actual:1\n",
            "Predicted: 1.0  Actual:1\n",
            "Predicted: 1.0  Actual:1\n",
            "Predicted: 0.0  Actual:0\n",
            "Predicted: 1.0  Actual:1\n",
            "Predicted: 1.0  Actual:1\n",
            "Predicted: 0.0  Actual:0\n",
            "Predicted: 1.0  Actual:1\n",
            "Predicted: 0.0  Actual:0\n",
            "Predicted: 0.0  Actual:0\n",
            "Predicted: 0.0  Actual:0\n",
            "Predicted: 1.0  Actual:1\n",
            "Predicted: 0.0  Actual:0\n",
            "Predicted: 1.0  Actual:1\n",
            "Predicted: 0.0  Actual:0\n",
            "Predicted: 1.0  Actual:1\n",
            "Predicted: 1.0  Actual:0\n",
            "Predicted: 1.0  Actual:1\n",
            "Predicted: 0.0  Actual:0\n",
            "Predicted: 1.0  Actual:1\n",
            "Predicted: 0.0  Actual:0\n",
            "Predicted: 1.0  Actual:1\n",
            "Predicted: 0.0  Actual:0\n",
            "Predicted: 0.0  Actual:0\n",
            "Predicted: 0.0  Actual:0\n",
            "Predicted: 0.0  Actual:0\n",
            "Predicted: 0.0  Actual:0\n",
            "Predicted: 1.0  Actual:1\n",
            "Predicted: 0.0  Actual:0\n",
            "Predicted: 0.0  Actual:0\n",
            "Predicted: 1.0  Actual:1\n",
            "Predicted: 1.0  Actual:1\n",
            "Predicted: 0.0  Actual:0\n",
            "Predicted: 1.0  Actual:1\n",
            "Predicted: 1.0  Actual:1\n",
            "Predicted: 0.0  Actual:0\n",
            "Predicted: 1.0  Actual:0\n",
            "Predicted: 0.0  Actual:0\n",
            "Predicted: 0.0  Actual:0\n",
            "Predicted: 0.0  Actual:0\n",
            "Predicted: 0.0  Actual:0\n",
            "Predicted: 0.0  Actual:0\n",
            "Predicted: 0.0  Actual:0\n",
            "Predicted: 1.0  Actual:1\n",
            "Predicted: 1.0  Actual:1\n",
            "Predicted: 0.0  Actual:0\n",
            "Predicted: 0.0  Actual:0\n",
            "Predicted: 0.0  Actual:0\n",
            "Predicted: 0.0  Actual:0\n",
            "Predicted: 0.0  Actual:0\n",
            "Predicted: 1.0  Actual:1\n",
            "Predicted: 1.0  Actual:1\n",
            "Predicted: 1.0  Actual:1\n",
            "Predicted: 1.0  Actual:0\n",
            "Predicted: 0.0  Actual:0\n",
            "Predicted: 1.0  Actual:1\n",
            "Predicted: 1.0  Actual:1\n",
            "Predicted: 1.0  Actual:1\n",
            "Predicted: 1.0  Actual:1\n",
            "Predicted: 0.0  Actual:0\n",
            "Predicted: 0.0  Actual:0\n",
            "Predicted: 0.0  Actual:0\n",
            "Sensitivity: 1.0, Specificity: 0.8904109589041096 and Accuracy: 0.9298245614035088\n"
          ]
        }
      ]
    },
    {
      "cell_type": "code",
      "metadata": {
        "colab": {
          "base_uri": "https://localhost:8080/"
        },
        "id": "aHr3dlrjlECp",
        "outputId": "e9df270f-1ca4-4d16-99cd-f44cc7fa7037"
      },
      "source": [
        "#results of minibatch gradient with no regularization \n",
        "y_pred_mini_L1_regu=predict(X_test,y_test,w_mini_L1_regu)\n",
        "sas(y_pred_mini_L1_regu,y_test)"
      ],
      "execution_count": null,
      "outputs": [
        {
          "output_type": "stream",
          "name": "stdout",
          "text": [
            "Predicted: 1.0  Actual:1\n",
            "Predicted: 1.0  Actual:1\n",
            "Predicted: 0.0  Actual:0\n",
            "Predicted: 1.0  Actual:1\n",
            "Predicted: 1.0  Actual:1\n",
            "Predicted: 1.0  Actual:1\n",
            "Predicted: 0.0  Actual:0\n",
            "Predicted: 1.0  Actual:1\n",
            "Predicted: 0.0  Actual:0\n",
            "Predicted: 0.0  Actual:0\n",
            "Predicted: 0.0  Actual:0\n",
            "Predicted: 0.0  Actual:0\n",
            "Predicted: 0.0  Actual:0\n",
            "Predicted: 0.0  Actual:0\n",
            "Predicted: 0.0  Actual:0\n",
            "Predicted: 1.0  Actual:1\n",
            "Predicted: 0.0  Actual:0\n",
            "Predicted: 0.0  Actual:0\n",
            "Predicted: 0.0  Actual:0\n",
            "Predicted: 0.0  Actual:0\n",
            "Predicted: 1.0  Actual:0\n",
            "Predicted: 0.0  Actual:0\n",
            "Predicted: 0.0  Actual:0\n",
            "Predicted: 0.0  Actual:0\n",
            "Predicted: 0.0  Actual:0\n",
            "Predicted: 0.0  Actual:0\n",
            "Predicted: 0.0  Actual:0\n",
            "Predicted: 1.0  Actual:1\n",
            "Predicted: 0.0  Actual:0\n",
            "Predicted: 0.0  Actual:0\n",
            "Predicted: 0.0  Actual:0\n",
            "Predicted: 0.0  Actual:0\n",
            "Predicted: 0.0  Actual:0\n",
            "Predicted: 1.0  Actual:1\n",
            "Predicted: 0.0  Actual:0\n",
            "Predicted: 1.0  Actual:0\n",
            "Predicted: 1.0  Actual:1\n",
            "Predicted: 0.0  Actual:0\n",
            "Predicted: 1.0  Actual:1\n",
            "Predicted: 0.0  Actual:0\n",
            "Predicted: 0.0  Actual:0\n",
            "Predicted: 1.0  Actual:0\n",
            "Predicted: 0.0  Actual:0\n",
            "Predicted: 0.0  Actual:0\n",
            "Predicted: 0.0  Actual:0\n",
            "Predicted: 0.0  Actual:0\n",
            "Predicted: 1.0  Actual:1\n",
            "Predicted: 1.0  Actual:1\n",
            "Predicted: 0.0  Actual:0\n",
            "Predicted: 1.0  Actual:1\n",
            "Predicted: 1.0  Actual:1\n",
            "Predicted: 1.0  Actual:0\n",
            "Predicted: 1.0  Actual:1\n",
            "Predicted: 1.0  Actual:1\n",
            "Predicted: 1.0  Actual:1\n",
            "Predicted: 0.0  Actual:0\n",
            "Predicted: 1.0  Actual:1\n",
            "Predicted: 1.0  Actual:1\n",
            "Predicted: 0.0  Actual:0\n",
            "Predicted: 1.0  Actual:1\n",
            "Predicted: 0.0  Actual:0\n",
            "Predicted: 0.0  Actual:0\n",
            "Predicted: 0.0  Actual:0\n",
            "Predicted: 1.0  Actual:1\n",
            "Predicted: 0.0  Actual:0\n",
            "Predicted: 1.0  Actual:1\n",
            "Predicted: 0.0  Actual:0\n",
            "Predicted: 1.0  Actual:1\n",
            "Predicted: 1.0  Actual:0\n",
            "Predicted: 1.0  Actual:1\n",
            "Predicted: 0.0  Actual:0\n",
            "Predicted: 1.0  Actual:1\n",
            "Predicted: 1.0  Actual:0\n",
            "Predicted: 1.0  Actual:1\n",
            "Predicted: 0.0  Actual:0\n",
            "Predicted: 0.0  Actual:0\n",
            "Predicted: 0.0  Actual:0\n",
            "Predicted: 0.0  Actual:0\n",
            "Predicted: 0.0  Actual:0\n",
            "Predicted: 1.0  Actual:1\n",
            "Predicted: 0.0  Actual:0\n",
            "Predicted: 0.0  Actual:0\n",
            "Predicted: 1.0  Actual:1\n",
            "Predicted: 1.0  Actual:1\n",
            "Predicted: 0.0  Actual:0\n",
            "Predicted: 1.0  Actual:1\n",
            "Predicted: 0.0  Actual:1\n",
            "Predicted: 0.0  Actual:0\n",
            "Predicted: 0.0  Actual:0\n",
            "Predicted: 0.0  Actual:0\n",
            "Predicted: 0.0  Actual:0\n",
            "Predicted: 0.0  Actual:0\n",
            "Predicted: 0.0  Actual:0\n",
            "Predicted: 0.0  Actual:0\n",
            "Predicted: 0.0  Actual:0\n",
            "Predicted: 1.0  Actual:1\n",
            "Predicted: 1.0  Actual:1\n",
            "Predicted: 0.0  Actual:0\n",
            "Predicted: 0.0  Actual:0\n",
            "Predicted: 0.0  Actual:0\n",
            "Predicted: 0.0  Actual:0\n",
            "Predicted: 0.0  Actual:0\n",
            "Predicted: 1.0  Actual:1\n",
            "Predicted: 1.0  Actual:1\n",
            "Predicted: 1.0  Actual:1\n",
            "Predicted: 1.0  Actual:0\n",
            "Predicted: 0.0  Actual:0\n",
            "Predicted: 1.0  Actual:1\n",
            "Predicted: 1.0  Actual:1\n",
            "Predicted: 1.0  Actual:1\n",
            "Predicted: 1.0  Actual:1\n",
            "Predicted: 0.0  Actual:0\n",
            "Predicted: 0.0  Actual:0\n",
            "Predicted: 0.0  Actual:0\n",
            "Sensitivity: 0.975609756097561, Specificity: 0.9041095890410958 and Accuracy: 0.9298245614035088\n"
          ]
        }
      ]
    },
    {
      "cell_type": "code",
      "metadata": {
        "colab": {
          "base_uri": "https://localhost:8080/"
        },
        "id": "dpMRxBfElKVF",
        "outputId": "8a3ad943-8e27-4211-a6ee-eac200f17941"
      },
      "source": [
        "print(w_batch_no_regu)\n",
        "print(w_batch_L1_regu)\n",
        "print(w_batch_L2_regu)"
      ],
      "execution_count": null,
      "outputs": [
        {
          "output_type": "stream",
          "name": "stdout",
          "text": [
            "[-3.25877854  0.76921605  0.14985659  0.80130422  0.83160593 -0.49607366\n",
            "  0.64438615  1.18724945  1.43524955 -0.19422449 -0.80110808  0.55113749\n",
            " -0.45695091  0.47211451  0.47627337 -0.41750902 -0.07035173 -0.08964784\n",
            " -0.027792   -0.53685334 -0.29987616  1.14987684  0.42505838  1.09966255\n",
            "  0.98746259  0.22223728  0.68107597  1.00518425  1.44652054  0.24633404\n",
            "  0.06529649]\n",
            "[-3.11645293e+00  6.93283765e-01  5.39254495e-02  7.25117983e-01\n",
            "  7.38587179e-01 -3.17182599e-01  5.22266766e-01  1.08480916e+00\n",
            "  1.35186109e+00 -1.38673266e-02 -6.62707316e-01  3.97138190e-01\n",
            " -3.15098993e-01  3.15286860e-01  3.22478913e-01 -2.74552133e-01\n",
            " -1.33093565e-04 -3.25966176e-03  9.91561199e-06 -4.04502372e-01\n",
            " -1.34019954e-01  1.08636600e+00  3.10401194e-01  1.03137071e+00\n",
            "  8.93988067e-01  1.04533789e-01  5.66204335e-01  9.15129263e-01\n",
            "  1.39815000e+00  1.08625107e-01  6.29520042e-06]\n",
            "[-2.79786894  0.65716199  0.11775571  0.68479046  0.7099504  -0.43407683\n",
            "  0.55370838  1.01625701  1.2264055  -0.17257118 -0.68770641  0.46636897\n",
            " -0.40235103  0.40017755  0.40410301 -0.36321496 -0.05581268 -0.07154574\n",
            " -0.02355955 -0.46616702 -0.2535812   0.98127078  0.34899801  0.93905143\n",
            "  0.84235695  0.18008655  0.58591764  0.86330437  1.23752879  0.20398741\n",
            "  0.05595339]\n"
          ]
        }
      ]
    },
    {
      "cell_type": "code",
      "metadata": {
        "colab": {
          "base_uri": "https://localhost:8080/"
        },
        "id": "p78kGJsglWgi",
        "outputId": "8eb4aaad-c316-45f9-c37f-7d3cce610143"
      },
      "source": [
        "print(w_stoch_no_regu)\n",
        "print(w_stoch_L1_regu)\n",
        "print(w_stoch_L2_regu)"
      ],
      "execution_count": null,
      "outputs": [
        {
          "output_type": "stream",
          "name": "stdout",
          "text": [
            "[-3.24606415  0.80935177  0.10140785  0.83134066  0.86468461 -0.51531129\n",
            "  0.57805084  1.17909138  1.43235754 -0.13704806 -0.87323953  0.52919657\n",
            " -0.44617343  0.44740673  0.47695444 -0.41146566 -0.18436026 -0.11741136\n",
            " -0.06696365 -0.52470205 -0.3669084   1.20473465  0.46137883  1.13096424\n",
            "  1.02932858  0.21810898  0.59660692  1.02616647  1.46898054  0.32625315\n",
            "  0.04667362]\n",
            "[-3.10981691  0.72390221  0.08101596  0.75645053  0.76260826 -0.36961982\n",
            "  0.5056813   1.10901729  1.38571504 -0.0673781  -0.66101822  0.45330682\n",
            " -0.22854657  0.38308293  0.34615714 -0.23230859 -0.01153472 -0.01025584\n",
            "  0.022904   -0.56929231 -0.02332522  1.07164008  0.22556907  1.02511697\n",
            "  0.87468369  0.11327311  0.54258071  0.90125357  1.39013409  0.02082503\n",
            "  0.01243148]\n",
            "[-2.86718475  0.61871159  0.09999076  0.64924206  0.6854871  -0.50533653\n",
            "  0.58262687  1.03043284  1.22486822 -0.10000579 -0.64851987  0.41851046\n",
            " -0.38718097  0.36841592  0.38154115 -0.40963808 -0.04303999 -0.04540243\n",
            " -0.04341658 -0.39060505 -0.25113609  0.95192269  0.36073006  0.91561398\n",
            "  0.82743106  0.1428299   0.63611522  0.91291465  1.30631705  0.27784919\n",
            "  0.09275043]\n"
          ]
        }
      ]
    },
    {
      "cell_type": "code",
      "metadata": {
        "colab": {
          "base_uri": "https://localhost:8080/"
        },
        "id": "HLN0rid0lfXU",
        "outputId": "351f0125-272b-419a-a96f-01d5d7f15b8c"
      },
      "source": [
        "print(w_mini_no_regu)\n",
        "print(w_mini_L1_regu)\n",
        "print(w_mini_L2_regu)"
      ],
      "execution_count": null,
      "outputs": [
        {
          "output_type": "stream",
          "name": "stdout",
          "text": [
            "[-3.23918552  0.7442097   0.16971449  0.77680348  0.80997037 -0.48222375\n",
            "  0.62790262  1.18026481  1.42718862 -0.18707212 -0.80440316  0.55082538\n",
            " -0.42517732  0.47400877  0.47565413 -0.41879568 -0.07679166 -0.09724937\n",
            " -0.02745226 -0.49322942 -0.31466046  1.13682301  0.46380177  1.08706494\n",
            "  0.97945613  0.24529736  0.66184558  0.99548026  1.45444758  0.25782379\n",
            "  0.04824485]\n",
            "[-3.17614955  0.63443903  0.04792755  0.66910129  0.69518755 -0.30352966\n",
            "  0.53094285  1.10070488  1.34141014 -0.01109077 -0.65448564  0.38389423\n",
            " -0.31212853  0.30385042  0.31363508 -0.25069814 -0.02443637 -0.03568604\n",
            " -0.01114591 -0.43029262 -0.15963872  1.05020731  0.31595438  0.99960349\n",
            "  0.87427665  0.16240894  0.5939601   0.96240219  1.40408829  0.12700766\n",
            "  0.0045898 ]\n",
            "[-2.78863864  0.64493374  0.10057287  0.6719861   0.69468629 -0.38615413\n",
            "  0.56811123  1.01921084  1.21590023 -0.10483338 -0.67620776  0.46002961\n",
            " -0.41273012  0.39693915  0.3947136  -0.38757336 -0.06941187 -0.07945849\n",
            " -0.04721649 -0.422628   -0.28429647  0.9586229   0.33394285  0.9199264\n",
            "  0.81713857  0.20267425  0.59088022  0.86834413  1.21286443  0.26209465\n",
            "  0.05151253]\n"
          ]
        }
      ]
    },
    {
      "cell_type": "code",
      "metadata": {
        "id": "7dANsqXElwEi"
      },
      "source": [
        ""
      ],
      "execution_count": null,
      "outputs": []
    }
  ]
}