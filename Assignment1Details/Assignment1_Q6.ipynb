{
  "nbformat": 4,
  "nbformat_minor": 0,
  "metadata": {
    "colab": {
      "name": "Assignment1_Q6.ipynb",
      "provenance": [],
      "collapsed_sections": [],
      "mount_file_id": "1sdr5o1sbU-VHA57wVWYAPP_eDBeq0ysN",
      "authorship_tag": "ABX9TyNd2ZGvaDVpfoX/BawLgvNw",
      "include_colab_link": true
    },
    "kernelspec": {
      "name": "python3",
      "display_name": "Python 3"
    },
    "language_info": {
      "name": "python"
    }
  },
  "cells": [
    {
      "cell_type": "markdown",
      "metadata": {
        "id": "view-in-github",
        "colab_type": "text"
      },
      "source": [
        "<a href=\"https://colab.research.google.com/github/Weedmastercrucifer/Neural-Networks-and-Fuzzy-Logic/blob/main/Assignment1Details/Assignment1_Q6.ipynb\" target=\"_parent\"><img src=\"https://colab.research.google.com/assets/colab-badge.svg\" alt=\"Open In Colab\"/></a>"
      ]
    },
    {
      "cell_type": "code",
      "metadata": {
        "id": "gcoDpJYVMK-L"
      },
      "source": [
        "import pandas as pd \n",
        "import numpy as np\n",
        "import matplotlib.pyplot as plt\n"
      ],
      "execution_count": null,
      "outputs": []
    },
    {
      "cell_type": "markdown",
      "metadata": {
        "id": "yatCGy5w1pby"
      },
      "source": [
        "Assignment 1 Q6"
      ]
    },
    {
      "cell_type": "code",
      "metadata": {
        "colab": {
          "base_uri": "https://localhost:8080/"
        },
        "id": "R3YoSSw2MfaB",
        "outputId": "686d1373-6c09-4090-fda6-f55ca690eaec"
      },
      "source": [
        "data=pd.read_csv('/content/drive/MyDrive/Assignment1NNFL/Copy of data_q6_q7.txt',delimiter=\"\\t\",error_bad_lines=False)\n",
        "#removing bad lines from the dataset"
      ],
      "execution_count": null,
      "outputs": [
        {
          "output_type": "stream",
          "name": "stderr",
          "text": [
            "b'Skipping line 8: expected 8 fields, saw 10\\nSkipping line 36: expected 8 fields, saw 10\\nSkipping line 61: expected 8 fields, saw 9\\nSkipping line 69: expected 8 fields, saw 9\\nSkipping line 107: expected 8 fields, saw 9\\nSkipping line 136: expected 8 fields, saw 9\\nSkipping line 170: expected 8 fields, saw 9\\nSkipping line 171: expected 8 fields, saw 9\\nSkipping line 173: expected 8 fields, saw 9\\nSkipping line 202: expected 8 fields, saw 9\\nSkipping line 204: expected 8 fields, saw 9\\n'\n"
          ]
        }
      ]
    },
    {
      "cell_type": "code",
      "metadata": {
        "colab": {
          "base_uri": "https://localhost:8080/",
          "height": 423
        },
        "id": "bvcZ7cxFNMIZ",
        "outputId": "c43fa0e7-4099-4e47-c10a-21855bfdeb2c"
      },
      "source": [
        "data\n"
      ],
      "execution_count": null,
      "outputs": [
        {
          "output_type": "execute_result",
          "data": {
            "text/html": [
              "<div>\n",
              "<style scoped>\n",
              "    .dataframe tbody tr th:only-of-type {\n",
              "        vertical-align: middle;\n",
              "    }\n",
              "\n",
              "    .dataframe tbody tr th {\n",
              "        vertical-align: top;\n",
              "    }\n",
              "\n",
              "    .dataframe thead th {\n",
              "        text-align: right;\n",
              "    }\n",
              "</style>\n",
              "<table border=\"1\" class=\"dataframe\">\n",
              "  <thead>\n",
              "    <tr style=\"text-align: right;\">\n",
              "      <th></th>\n",
              "      <th>15.26</th>\n",
              "      <th>14.84</th>\n",
              "      <th>0.871</th>\n",
              "      <th>5.763</th>\n",
              "      <th>3.312</th>\n",
              "      <th>2.221</th>\n",
              "      <th>5.22</th>\n",
              "      <th>1</th>\n",
              "    </tr>\n",
              "  </thead>\n",
              "  <tbody>\n",
              "    <tr>\n",
              "      <th>0</th>\n",
              "      <td>14.88</td>\n",
              "      <td>14.57</td>\n",
              "      <td>0.8811</td>\n",
              "      <td>5.554</td>\n",
              "      <td>3.333</td>\n",
              "      <td>1.018</td>\n",
              "      <td>4.956</td>\n",
              "      <td>1</td>\n",
              "    </tr>\n",
              "    <tr>\n",
              "      <th>1</th>\n",
              "      <td>14.29</td>\n",
              "      <td>14.09</td>\n",
              "      <td>0.9050</td>\n",
              "      <td>5.291</td>\n",
              "      <td>3.337</td>\n",
              "      <td>2.699</td>\n",
              "      <td>4.825</td>\n",
              "      <td>1</td>\n",
              "    </tr>\n",
              "    <tr>\n",
              "      <th>2</th>\n",
              "      <td>13.84</td>\n",
              "      <td>13.94</td>\n",
              "      <td>0.8955</td>\n",
              "      <td>5.324</td>\n",
              "      <td>3.379</td>\n",
              "      <td>2.259</td>\n",
              "      <td>4.805</td>\n",
              "      <td>1</td>\n",
              "    </tr>\n",
              "    <tr>\n",
              "      <th>3</th>\n",
              "      <td>16.14</td>\n",
              "      <td>14.99</td>\n",
              "      <td>0.9034</td>\n",
              "      <td>5.658</td>\n",
              "      <td>3.562</td>\n",
              "      <td>1.355</td>\n",
              "      <td>5.175</td>\n",
              "      <td>1</td>\n",
              "    </tr>\n",
              "    <tr>\n",
              "      <th>4</th>\n",
              "      <td>14.38</td>\n",
              "      <td>14.21</td>\n",
              "      <td>0.8951</td>\n",
              "      <td>5.386</td>\n",
              "      <td>3.312</td>\n",
              "      <td>2.462</td>\n",
              "      <td>4.956</td>\n",
              "      <td>1</td>\n",
              "    </tr>\n",
              "    <tr>\n",
              "      <th>...</th>\n",
              "      <td>...</td>\n",
              "      <td>...</td>\n",
              "      <td>...</td>\n",
              "      <td>...</td>\n",
              "      <td>...</td>\n",
              "      <td>...</td>\n",
              "      <td>...</td>\n",
              "      <td>...</td>\n",
              "    </tr>\n",
              "    <tr>\n",
              "      <th>193</th>\n",
              "      <td>12.19</td>\n",
              "      <td>13.20</td>\n",
              "      <td>0.8783</td>\n",
              "      <td>5.137</td>\n",
              "      <td>2.981</td>\n",
              "      <td>3.631</td>\n",
              "      <td>4.870</td>\n",
              "      <td>3</td>\n",
              "    </tr>\n",
              "    <tr>\n",
              "      <th>194</th>\n",
              "      <td>11.23</td>\n",
              "      <td>12.88</td>\n",
              "      <td>0.8511</td>\n",
              "      <td>5.140</td>\n",
              "      <td>2.795</td>\n",
              "      <td>4.325</td>\n",
              "      <td>5.003</td>\n",
              "      <td>3</td>\n",
              "    </tr>\n",
              "    <tr>\n",
              "      <th>195</th>\n",
              "      <td>13.20</td>\n",
              "      <td>13.66</td>\n",
              "      <td>0.8883</td>\n",
              "      <td>5.236</td>\n",
              "      <td>3.232</td>\n",
              "      <td>8.315</td>\n",
              "      <td>5.056</td>\n",
              "      <td>3</td>\n",
              "    </tr>\n",
              "    <tr>\n",
              "      <th>196</th>\n",
              "      <td>11.84</td>\n",
              "      <td>13.21</td>\n",
              "      <td>0.8521</td>\n",
              "      <td>5.175</td>\n",
              "      <td>2.836</td>\n",
              "      <td>3.598</td>\n",
              "      <td>5.044</td>\n",
              "      <td>3</td>\n",
              "    </tr>\n",
              "    <tr>\n",
              "      <th>197</th>\n",
              "      <td>12.30</td>\n",
              "      <td>13.34</td>\n",
              "      <td>0.8684</td>\n",
              "      <td>5.243</td>\n",
              "      <td>2.974</td>\n",
              "      <td>5.637</td>\n",
              "      <td>5.063</td>\n",
              "      <td>3</td>\n",
              "    </tr>\n",
              "  </tbody>\n",
              "</table>\n",
              "<p>198 rows × 8 columns</p>\n",
              "</div>"
            ],
            "text/plain": [
              "     15.26  14.84   0.871  5.763  3.312  2.221   5.22  1\n",
              "0    14.88  14.57  0.8811  5.554  3.333  1.018  4.956  1\n",
              "1    14.29  14.09  0.9050  5.291  3.337  2.699  4.825  1\n",
              "2    13.84  13.94  0.8955  5.324  3.379  2.259  4.805  1\n",
              "3    16.14  14.99  0.9034  5.658  3.562  1.355  5.175  1\n",
              "4    14.38  14.21  0.8951  5.386  3.312  2.462  4.956  1\n",
              "..     ...    ...     ...    ...    ...    ...    ... ..\n",
              "193  12.19  13.20  0.8783  5.137  2.981  3.631  4.870  3\n",
              "194  11.23  12.88  0.8511  5.140  2.795  4.325  5.003  3\n",
              "195  13.20  13.66  0.8883  5.236  3.232  8.315  5.056  3\n",
              "196  11.84  13.21  0.8521  5.175  2.836  3.598  5.044  3\n",
              "197  12.30  13.34  0.8684  5.243  2.974  5.637  5.063  3\n",
              "\n",
              "[198 rows x 8 columns]"
            ]
          },
          "metadata": {},
          "execution_count": 512
        }
      ]
    },
    {
      "cell_type": "code",
      "metadata": {
        "colab": {
          "base_uri": "https://localhost:8080/",
          "height": 300
        },
        "id": "uYLkmg2mNNSi",
        "outputId": "96aa7dd6-8ea7-45ef-c4c1-bb6033261e86"
      },
      "source": [
        "data.describe()"
      ],
      "execution_count": null,
      "outputs": [
        {
          "output_type": "execute_result",
          "data": {
            "text/html": [
              "<div>\n",
              "<style scoped>\n",
              "    .dataframe tbody tr th:only-of-type {\n",
              "        vertical-align: middle;\n",
              "    }\n",
              "\n",
              "    .dataframe tbody tr th {\n",
              "        vertical-align: top;\n",
              "    }\n",
              "\n",
              "    .dataframe thead th {\n",
              "        text-align: right;\n",
              "    }\n",
              "</style>\n",
              "<table border=\"1\" class=\"dataframe\">\n",
              "  <thead>\n",
              "    <tr style=\"text-align: right;\">\n",
              "      <th></th>\n",
              "      <th>15.26</th>\n",
              "      <th>14.84</th>\n",
              "      <th>0.871</th>\n",
              "      <th>5.763</th>\n",
              "      <th>3.312</th>\n",
              "      <th>2.221</th>\n",
              "      <th>5.22</th>\n",
              "      <th>1</th>\n",
              "    </tr>\n",
              "  </thead>\n",
              "  <tbody>\n",
              "    <tr>\n",
              "      <th>count</th>\n",
              "      <td>198.000000</td>\n",
              "      <td>198.000000</td>\n",
              "      <td>198.000000</td>\n",
              "      <td>198.000000</td>\n",
              "      <td>198.000000</td>\n",
              "      <td>198.000000</td>\n",
              "      <td>198.000000</td>\n",
              "      <td>198.000000</td>\n",
              "    </tr>\n",
              "    <tr>\n",
              "      <th>mean</th>\n",
              "      <td>14.917020</td>\n",
              "      <td>14.594596</td>\n",
              "      <td>0.870810</td>\n",
              "      <td>5.642545</td>\n",
              "      <td>3.265298</td>\n",
              "      <td>3.706683</td>\n",
              "      <td>5.421667</td>\n",
              "      <td>2.000000</td>\n",
              "    </tr>\n",
              "    <tr>\n",
              "      <th>std</th>\n",
              "      <td>2.927276</td>\n",
              "      <td>1.313651</td>\n",
              "      <td>0.023379</td>\n",
              "      <td>0.444635</td>\n",
              "      <td>0.379266</td>\n",
              "      <td>1.471047</td>\n",
              "      <td>0.493759</td>\n",
              "      <td>0.812341</td>\n",
              "    </tr>\n",
              "    <tr>\n",
              "      <th>min</th>\n",
              "      <td>10.590000</td>\n",
              "      <td>12.410000</td>\n",
              "      <td>0.808100</td>\n",
              "      <td>4.899000</td>\n",
              "      <td>2.630000</td>\n",
              "      <td>0.765100</td>\n",
              "      <td>4.519000</td>\n",
              "      <td>1.000000</td>\n",
              "    </tr>\n",
              "    <tr>\n",
              "      <th>25%</th>\n",
              "      <td>12.315000</td>\n",
              "      <td>13.470000</td>\n",
              "      <td>0.856900</td>\n",
              "      <td>5.267000</td>\n",
              "      <td>2.953750</td>\n",
              "      <td>2.600250</td>\n",
              "      <td>5.046000</td>\n",
              "      <td>1.000000</td>\n",
              "    </tr>\n",
              "    <tr>\n",
              "      <th>50%</th>\n",
              "      <td>14.405000</td>\n",
              "      <td>14.360000</td>\n",
              "      <td>0.873450</td>\n",
              "      <td>5.541000</td>\n",
              "      <td>3.243500</td>\n",
              "      <td>3.634500</td>\n",
              "      <td>5.229500</td>\n",
              "      <td>2.000000</td>\n",
              "    </tr>\n",
              "    <tr>\n",
              "      <th>75%</th>\n",
              "      <td>17.502500</td>\n",
              "      <td>15.827500</td>\n",
              "      <td>0.886900</td>\n",
              "      <td>6.004000</td>\n",
              "      <td>3.565250</td>\n",
              "      <td>4.812000</td>\n",
              "      <td>5.879000</td>\n",
              "      <td>3.000000</td>\n",
              "    </tr>\n",
              "    <tr>\n",
              "      <th>max</th>\n",
              "      <td>21.180000</td>\n",
              "      <td>17.250000</td>\n",
              "      <td>0.918300</td>\n",
              "      <td>6.675000</td>\n",
              "      <td>4.033000</td>\n",
              "      <td>8.315000</td>\n",
              "      <td>6.550000</td>\n",
              "      <td>3.000000</td>\n",
              "    </tr>\n",
              "  </tbody>\n",
              "</table>\n",
              "</div>"
            ],
            "text/plain": [
              "            15.26       14.84       0.871  ...       2.221        5.22           1\n",
              "count  198.000000  198.000000  198.000000  ...  198.000000  198.000000  198.000000\n",
              "mean    14.917020   14.594596    0.870810  ...    3.706683    5.421667    2.000000\n",
              "std      2.927276    1.313651    0.023379  ...    1.471047    0.493759    0.812341\n",
              "min     10.590000   12.410000    0.808100  ...    0.765100    4.519000    1.000000\n",
              "25%     12.315000   13.470000    0.856900  ...    2.600250    5.046000    1.000000\n",
              "50%     14.405000   14.360000    0.873450  ...    3.634500    5.229500    2.000000\n",
              "75%     17.502500   15.827500    0.886900  ...    4.812000    5.879000    3.000000\n",
              "max     21.180000   17.250000    0.918300  ...    8.315000    6.550000    3.000000\n",
              "\n",
              "[8 rows x 8 columns]"
            ]
          },
          "metadata": {},
          "execution_count": 513
        }
      ]
    },
    {
      "cell_type": "code",
      "metadata": {
        "id": "f7b3hHedka55"
      },
      "source": [
        "data.iloc[:,0:7]=(data.iloc[:,0:7]-(data.iloc[:,0:7]).min())/((data.iloc[:,0:7]).max()-(data.iloc[:,0:7]).min())\n"
      ],
      "execution_count": null,
      "outputs": []
    },
    {
      "cell_type": "code",
      "metadata": {
        "colab": {
          "base_uri": "https://localhost:8080/",
          "height": 423
        },
        "id": "0G5HP12Ykuxf",
        "outputId": "b189f3e6-30c4-4c22-e53c-c3f84f2ff069"
      },
      "source": [
        "data"
      ],
      "execution_count": null,
      "outputs": [
        {
          "output_type": "execute_result",
          "data": {
            "text/html": [
              "<div>\n",
              "<style scoped>\n",
              "    .dataframe tbody tr th:only-of-type {\n",
              "        vertical-align: middle;\n",
              "    }\n",
              "\n",
              "    .dataframe tbody tr th {\n",
              "        vertical-align: top;\n",
              "    }\n",
              "\n",
              "    .dataframe thead th {\n",
              "        text-align: right;\n",
              "    }\n",
              "</style>\n",
              "<table border=\"1\" class=\"dataframe\">\n",
              "  <thead>\n",
              "    <tr style=\"text-align: right;\">\n",
              "      <th></th>\n",
              "      <th>15.26</th>\n",
              "      <th>14.84</th>\n",
              "      <th>0.871</th>\n",
              "      <th>5.763</th>\n",
              "      <th>3.312</th>\n",
              "      <th>2.221</th>\n",
              "      <th>5.22</th>\n",
              "      <th>1</th>\n",
              "    </tr>\n",
              "  </thead>\n",
              "  <tbody>\n",
              "    <tr>\n",
              "      <th>0</th>\n",
              "      <td>0.405099</td>\n",
              "      <td>0.446281</td>\n",
              "      <td>0.662432</td>\n",
              "      <td>0.368806</td>\n",
              "      <td>0.501069</td>\n",
              "      <td>0.033497</td>\n",
              "      <td>0.215165</td>\n",
              "      <td>1</td>\n",
              "    </tr>\n",
              "    <tr>\n",
              "      <th>1</th>\n",
              "      <td>0.349386</td>\n",
              "      <td>0.347107</td>\n",
              "      <td>0.879310</td>\n",
              "      <td>0.220721</td>\n",
              "      <td>0.503920</td>\n",
              "      <td>0.256149</td>\n",
              "      <td>0.150665</td>\n",
              "      <td>1</td>\n",
              "    </tr>\n",
              "    <tr>\n",
              "      <th>2</th>\n",
              "      <td>0.306893</td>\n",
              "      <td>0.316116</td>\n",
              "      <td>0.793103</td>\n",
              "      <td>0.239302</td>\n",
              "      <td>0.533856</td>\n",
              "      <td>0.197870</td>\n",
              "      <td>0.140817</td>\n",
              "      <td>1</td>\n",
              "    </tr>\n",
              "    <tr>\n",
              "      <th>3</th>\n",
              "      <td>0.524079</td>\n",
              "      <td>0.533058</td>\n",
              "      <td>0.864791</td>\n",
              "      <td>0.427365</td>\n",
              "      <td>0.664291</td>\n",
              "      <td>0.078133</td>\n",
              "      <td>0.322994</td>\n",
              "      <td>1</td>\n",
              "    </tr>\n",
              "    <tr>\n",
              "      <th>4</th>\n",
              "      <td>0.357885</td>\n",
              "      <td>0.371901</td>\n",
              "      <td>0.789474</td>\n",
              "      <td>0.274212</td>\n",
              "      <td>0.486101</td>\n",
              "      <td>0.224758</td>\n",
              "      <td>0.215165</td>\n",
              "      <td>1</td>\n",
              "    </tr>\n",
              "    <tr>\n",
              "      <th>...</th>\n",
              "      <td>...</td>\n",
              "      <td>...</td>\n",
              "      <td>...</td>\n",
              "      <td>...</td>\n",
              "      <td>...</td>\n",
              "      <td>...</td>\n",
              "      <td>...</td>\n",
              "      <td>...</td>\n",
              "    </tr>\n",
              "    <tr>\n",
              "      <th>193</th>\n",
              "      <td>0.151086</td>\n",
              "      <td>0.163223</td>\n",
              "      <td>0.637024</td>\n",
              "      <td>0.134009</td>\n",
              "      <td>0.250178</td>\n",
              "      <td>0.379594</td>\n",
              "      <td>0.172821</td>\n",
              "      <td>3</td>\n",
              "    </tr>\n",
              "    <tr>\n",
              "      <th>194</th>\n",
              "      <td>0.060434</td>\n",
              "      <td>0.097107</td>\n",
              "      <td>0.390200</td>\n",
              "      <td>0.135698</td>\n",
              "      <td>0.117605</td>\n",
              "      <td>0.471516</td>\n",
              "      <td>0.238306</td>\n",
              "      <td>3</td>\n",
              "    </tr>\n",
              "    <tr>\n",
              "      <th>195</th>\n",
              "      <td>0.246459</td>\n",
              "      <td>0.258264</td>\n",
              "      <td>0.727768</td>\n",
              "      <td>0.189752</td>\n",
              "      <td>0.429081</td>\n",
              "      <td>1.000000</td>\n",
              "      <td>0.264402</td>\n",
              "      <td>3</td>\n",
              "    </tr>\n",
              "    <tr>\n",
              "      <th>196</th>\n",
              "      <td>0.118036</td>\n",
              "      <td>0.165289</td>\n",
              "      <td>0.399274</td>\n",
              "      <td>0.155405</td>\n",
              "      <td>0.146828</td>\n",
              "      <td>0.375224</td>\n",
              "      <td>0.258493</td>\n",
              "      <td>3</td>\n",
              "    </tr>\n",
              "    <tr>\n",
              "      <th>197</th>\n",
              "      <td>0.161473</td>\n",
              "      <td>0.192149</td>\n",
              "      <td>0.547187</td>\n",
              "      <td>0.193694</td>\n",
              "      <td>0.245189</td>\n",
              "      <td>0.645293</td>\n",
              "      <td>0.267848</td>\n",
              "      <td>3</td>\n",
              "    </tr>\n",
              "  </tbody>\n",
              "</table>\n",
              "<p>198 rows × 8 columns</p>\n",
              "</div>"
            ],
            "text/plain": [
              "        15.26     14.84     0.871     5.763     3.312     2.221      5.22  1\n",
              "0    0.405099  0.446281  0.662432  0.368806  0.501069  0.033497  0.215165  1\n",
              "1    0.349386  0.347107  0.879310  0.220721  0.503920  0.256149  0.150665  1\n",
              "2    0.306893  0.316116  0.793103  0.239302  0.533856  0.197870  0.140817  1\n",
              "3    0.524079  0.533058  0.864791  0.427365  0.664291  0.078133  0.322994  1\n",
              "4    0.357885  0.371901  0.789474  0.274212  0.486101  0.224758  0.215165  1\n",
              "..        ...       ...       ...       ...       ...       ...       ... ..\n",
              "193  0.151086  0.163223  0.637024  0.134009  0.250178  0.379594  0.172821  3\n",
              "194  0.060434  0.097107  0.390200  0.135698  0.117605  0.471516  0.238306  3\n",
              "195  0.246459  0.258264  0.727768  0.189752  0.429081  1.000000  0.264402  3\n",
              "196  0.118036  0.165289  0.399274  0.155405  0.146828  0.375224  0.258493  3\n",
              "197  0.161473  0.192149  0.547187  0.193694  0.245189  0.645293  0.267848  3\n",
              "\n",
              "[198 rows x 8 columns]"
            ]
          },
          "metadata": {},
          "execution_count": 515
        }
      ]
    },
    {
      "cell_type": "code",
      "metadata": {
        "id": "yMIQw0JZOdFo"
      },
      "source": [
        "data=data.sample(frac=1, random_state=50)#randomising data\n",
        "train,validate,test= np.split(data,[int(.7*len(data)),int(.8*len(data))])#splitting data into train validate and test \n"
      ],
      "execution_count": null,
      "outputs": []
    },
    {
      "cell_type": "code",
      "metadata": {
        "id": "l0jOLS4-zSlS"
      },
      "source": [
        "m=train.shape[0] \n",
        "pp=np.ones([m,1])\n",
        "train=np.append(pp,train,axis=1)"
      ],
      "execution_count": null,
      "outputs": []
    },
    {
      "cell_type": "code",
      "metadata": {
        "id": "KTOUHu6-zTGx"
      },
      "source": [
        "m=validate.shape[0] \n",
        "pp=np.ones([m,1])\n",
        "validate=np.append(pp,validate,axis=1)"
      ],
      "execution_count": null,
      "outputs": []
    },
    {
      "cell_type": "code",
      "metadata": {
        "id": "V4ld3BngzTWl"
      },
      "source": [
        "m=test.shape[0] \n",
        "pp=np.ones([m,1])\n",
        "test=np.append(pp,test,axis=1)"
      ],
      "execution_count": null,
      "outputs": []
    },
    {
      "cell_type": "code",
      "metadata": {
        "colab": {
          "base_uri": "https://localhost:8080/",
          "height": 206
        },
        "id": "B88tFizNOz2F",
        "outputId": "fbf469ea-9c44-4db2-b16f-9d7120d110c8"
      },
      "source": [
        "data.head()"
      ],
      "execution_count": null,
      "outputs": [
        {
          "output_type": "execute_result",
          "data": {
            "text/html": [
              "<div>\n",
              "<style scoped>\n",
              "    .dataframe tbody tr th:only-of-type {\n",
              "        vertical-align: middle;\n",
              "    }\n",
              "\n",
              "    .dataframe tbody tr th {\n",
              "        vertical-align: top;\n",
              "    }\n",
              "\n",
              "    .dataframe thead th {\n",
              "        text-align: right;\n",
              "    }\n",
              "</style>\n",
              "<table border=\"1\" class=\"dataframe\">\n",
              "  <thead>\n",
              "    <tr style=\"text-align: right;\">\n",
              "      <th></th>\n",
              "      <th>15.26</th>\n",
              "      <th>14.84</th>\n",
              "      <th>0.871</th>\n",
              "      <th>5.763</th>\n",
              "      <th>3.312</th>\n",
              "      <th>2.221</th>\n",
              "      <th>5.22</th>\n",
              "      <th>1</th>\n",
              "    </tr>\n",
              "  </thead>\n",
              "  <tbody>\n",
              "    <tr>\n",
              "      <th>170</th>\n",
              "      <td>0.077432</td>\n",
              "      <td>0.111570</td>\n",
              "      <td>0.434664</td>\n",
              "      <td>0.107545</td>\n",
              "      <td>0.103350</td>\n",
              "      <td>0.555226</td>\n",
              "      <td>0.150665</td>\n",
              "      <td>3</td>\n",
              "    </tr>\n",
              "    <tr>\n",
              "      <th>24</th>\n",
              "      <td>0.229462</td>\n",
              "      <td>0.278926</td>\n",
              "      <td>0.508167</td>\n",
              "      <td>0.279279</td>\n",
              "      <td>0.282252</td>\n",
              "      <td>0.345422</td>\n",
              "      <td>0.150665</td>\n",
              "      <td>1</td>\n",
              "    </tr>\n",
              "    <tr>\n",
              "      <th>151</th>\n",
              "      <td>0.109537</td>\n",
              "      <td>0.229339</td>\n",
              "      <td>0.000907</td>\n",
              "      <td>0.306869</td>\n",
              "      <td>0.034212</td>\n",
              "      <td>0.478536</td>\n",
              "      <td>0.389463</td>\n",
              "      <td>3</td>\n",
              "    </tr>\n",
              "    <tr>\n",
              "      <th>20</th>\n",
              "      <td>0.499528</td>\n",
              "      <td>0.514463</td>\n",
              "      <td>0.823049</td>\n",
              "      <td>0.404842</td>\n",
              "      <td>0.625089</td>\n",
              "      <td>0.000000</td>\n",
              "      <td>0.281635</td>\n",
              "      <td>1</td>\n",
              "    </tr>\n",
              "    <tr>\n",
              "      <th>54</th>\n",
              "      <td>0.408876</td>\n",
              "      <td>0.417355</td>\n",
              "      <td>0.839383</td>\n",
              "      <td>0.273086</td>\n",
              "      <td>0.557377</td>\n",
              "      <td>0.049921</td>\n",
              "      <td>0.280158</td>\n",
              "      <td>1</td>\n",
              "    </tr>\n",
              "  </tbody>\n",
              "</table>\n",
              "</div>"
            ],
            "text/plain": [
              "        15.26     14.84     0.871     5.763     3.312     2.221      5.22  1\n",
              "170  0.077432  0.111570  0.434664  0.107545  0.103350  0.555226  0.150665  3\n",
              "24   0.229462  0.278926  0.508167  0.279279  0.282252  0.345422  0.150665  1\n",
              "151  0.109537  0.229339  0.000907  0.306869  0.034212  0.478536  0.389463  3\n",
              "20   0.499528  0.514463  0.823049  0.404842  0.625089  0.000000  0.281635  1\n",
              "54   0.408876  0.417355  0.839383  0.273086  0.557377  0.049921  0.280158  1"
            ]
          },
          "metadata": {},
          "execution_count": 520
        }
      ]
    },
    {
      "cell_type": "code",
      "metadata": {
        "colab": {
          "base_uri": "https://localhost:8080/"
        },
        "id": "tGlu7RWMO2k1",
        "outputId": "c3361039-5810-41cf-e1cc-b16e867153b0"
      },
      "source": [
        "data.dtypes"
      ],
      "execution_count": null,
      "outputs": [
        {
          "output_type": "execute_result",
          "data": {
            "text/plain": [
              "15.26    float64\n",
              "14.84    float64\n",
              "0.871    float64\n",
              "5.763    float64\n",
              "3.312    float64\n",
              "2.221    float64\n",
              "5.22     float64\n",
              "1          int64\n",
              "dtype: object"
            ]
          },
          "metadata": {},
          "execution_count": 521
        }
      ]
    },
    {
      "cell_type": "code",
      "metadata": {
        "colab": {
          "base_uri": "https://localhost:8080/"
        },
        "id": "3Zh6bit_PT1U",
        "outputId": "a08dc146-118c-4bbc-e446-47f849238ef4"
      },
      "source": [
        "data['1'].nunique()#number of classes to be classified"
      ],
      "execution_count": null,
      "outputs": [
        {
          "output_type": "execute_result",
          "data": {
            "text/plain": [
              "3"
            ]
          },
          "metadata": {},
          "execution_count": 522
        }
      ]
    },
    {
      "cell_type": "code",
      "metadata": {
        "colab": {
          "base_uri": "https://localhost:8080/"
        },
        "id": "gCGNYUaYPenI",
        "outputId": "9c3e3df1-a78a-4883-ff5b-81aaf73e66d2"
      },
      "source": [
        "print(train.shape)\n",
        "print(validate.shape)\n",
        "print(test.shape)"
      ],
      "execution_count": null,
      "outputs": [
        {
          "output_type": "stream",
          "name": "stdout",
          "text": [
            "(138, 9)\n",
            "(20, 9)\n",
            "(40, 9)\n"
          ]
        }
      ]
    },
    {
      "cell_type": "code",
      "metadata": {
        "colab": {
          "base_uri": "https://localhost:8080/"
        },
        "id": "YWKj81Q9PrCx",
        "outputId": "07dbfaeb-4dc4-412a-fb94-866e94fd4dcd"
      },
      "source": [
        "#converting to array for slicing\n",
        "train=np.array(train) \n",
        "print(train) \n",
        "validate=np.array(validate) \n",
        "print(validate)\n",
        "test=np.array(test) \n",
        "print(test)"
      ],
      "execution_count": null,
      "outputs": [
        {
          "output_type": "stream",
          "name": "stdout",
          "text": [
            "[[1.         0.07743154 0.11157025 ... 0.5552259  0.1506647  3.        ]\n",
            " [1.         0.22946176 0.27892562 ... 0.34542179 0.1506647  1.        ]\n",
            " [1.         0.1095373  0.22933884 ... 0.47853614 0.38946332 3.        ]\n",
            " ...\n",
            " [1.         0.42115203 0.46900826 ... 0.1806514  0.41408173 1.        ]\n",
            " [1.         0.77620397 0.80165289 ... 0.32740831 0.75529296 2.        ]\n",
            " [1.         0.66477809 0.71280992 ... 0.39495887 0.69423929 2.        ]]\n",
            "[[1.         0.41926346 0.48760331 0.52359347 0.45213964 0.41482537\n",
            "  0.15469079 0.45297883 1.        ]\n",
            " [1.         0.46270066 0.52272727 0.58348457 0.48310811 0.52815396\n",
            "  0.35058742 0.34908912 1.        ]\n",
            " [1.         0.32483475 0.36157025 0.64882033 0.30349099 0.40698503\n",
            "  0.12608114 0.23732152 1.        ]\n",
            " [1.         0.63928234 0.69214876 0.63883848 0.70157658 0.67284391\n",
            "  0.36568696 0.71491876 2.        ]\n",
            " [1.         0.39660057 0.43595041 0.66969147 0.36373874 0.47113329\n",
            "  0.25681135 0.29148203 1.        ]\n",
            " [1.         0.16713881 0.16115702 0.76406534 0.09966216 0.29365645\n",
            "  0.32515662 0.04234367 1.        ]\n",
            " [1.         0.06043437 0.08471074 0.46551724 0.10698198 0.13613685\n",
            "  0.8952304  0.21565731 3.        ]\n",
            " [1.         0.46931067 0.51239669 0.67332123 0.49380631 0.55452602\n",
            "  0.55721268 0.65386509 2.        ]\n",
            " [1.         0.34844193 0.36363636 0.7831216  0.28040541 0.47612259\n",
            "  0.7841031  0.23732152 1.        ]\n",
            " [1.         0.19924457 0.26859504 0.37205082 0.27421171 0.2002851\n",
            "  0.33045471 0.39241753 3.        ]\n",
            " [1.         0.35410765 0.40495868 0.58529946 0.4115991  0.39914469\n",
            "  0.0725705  0.31068439 1.        ]\n",
            " [1.         0.12086874 0.12603306 0.64791289 0.13119369 0.23022096\n",
            "  0.37509106 0.30182176 3.        ]\n",
            " [1.         0.37110482 0.45247934 0.43194192 0.4740991  0.3442623\n",
            "  0.09482245 0.47661251 1.        ]\n",
            " [1.         0.20774315 0.23140496 0.63974592 0.1829955  0.30220955\n",
            "  0.62489569 0.21614968 3.        ]\n",
            " [1.         0.11803588 0.16528926 0.39927405 0.15540541 0.14682823\n",
            "  0.37522351 0.25849335 3.        ]\n",
            " [1.         0.18508026 0.23966942 0.43284936 0.24436937 0.24091233\n",
            "  0.48396668 0.32348597 3.        ]\n",
            " [1.         0.76770538 0.81198347 0.6615245  0.74324324 0.75124733\n",
            "  0.18846607 0.77695716 2.        ]\n",
            " [1.         0.71576959 0.79545455 0.50453721 0.77252252 0.62865289\n",
            "  0.27654671 0.86361398 2.        ]\n",
            " [1.         0.40509915 0.44628099 0.66243194 0.36880631 0.50106914\n",
            "  0.03349713 0.21516494 1.        ]\n",
            " [1.         0.79036827 0.78305785 0.90381125 0.64864865 0.90306486\n",
            "  0.47270825 0.60610537 2.        ]]\n",
            "[[1.         0.31161473 0.33264463 0.72504537 0.30405405 0.40555952\n",
            "  0.42661492 0.10782866 1.        ]\n",
            " [1.         0.10009443 0.13636364 0.44827586 0.11768018 0.15680684\n",
            "  0.58860382 0.30329887 3.        ]\n",
            " [1.         0.62983947 0.68595041 0.61887477 0.60754505 0.68709907\n",
            "  0.49986093 0.62629247 2.        ]\n",
            " [1.         0.59017941 0.67355372 0.49183303 0.61880631 0.60869565\n",
            "  0.51787441 0.66863614 2.        ]\n",
            " [1.         0.71293673 0.76652893 0.62704174 0.65315315 0.66500356\n",
            "  0.37800501 0.73461349 2.        ]\n",
            " [1.         0.20679887 0.23966942 0.57622505 0.20439189 0.28225232\n",
            "  0.05442456 0.12949286 1.        ]\n",
            " [1.         0.33238905 0.36570248 0.67059891 0.36148649 0.4212402\n",
            "  0.26343395 0.25553914 1.        ]\n",
            " [1.         0.14353163 0.17768595 0.50635209 0.18975225 0.24590164\n",
            "  0.44595293 0.24273757 3.        ]\n",
            " [1.         0.83002833 0.89049587 0.57622505 0.79054054 0.82751247\n",
            "  0.38581968 0.71196455 2.        ]\n",
            " [1.         0.14258735 0.15289256 0.646098   0.11599099 0.22166785\n",
            "  0.19018795 0.26440177 3.        ]\n",
            " [1.         0.84230406 0.88842975 0.63430127 0.82601351 0.83464006\n",
            "  0.29098399 0.82028557 2.        ]\n",
            " [1.         0.47025496 0.5661157  0.40471869 0.57488739 0.42836778\n",
            "  0.24833442 0.66962088 2.        ]\n",
            " [1.         0.0727101  0.1322314  0.27313975 0.15540541 0.0890948\n",
            "  0.43482695 0.36632201 3.        ]\n",
            " [1.         0.57034939 0.63016529 0.60435572 0.64977477 0.59515324\n",
            "  0.16886316 0.66863614 1.        ]\n",
            " [1.         0.20207743 0.2768595  0.34210526 0.28885135 0.17961511\n",
            "  0.36661413 0.26981782 1.        ]\n",
            " [1.         0.1529745  0.21900826 0.33756806 0.25788288 0.18745545\n",
            "  0.11866382 0.3244707  3.        ]\n",
            " [1.         0.80642115 0.80578512 0.86569873 0.72297297 0.90662865\n",
            "  0.17800236 0.69177745 2.        ]\n",
            " [1.         0.898017   0.94628099 0.60344828 0.94707207 0.82323592\n",
            "  0.15760474 0.9502708  2.        ]\n",
            " [1.         0.36827195 0.45454545 0.41470054 0.45945946 0.3442623\n",
            "  0.44383369 0.43180699 1.        ]\n",
            " [1.         0.31633617 0.36363636 0.58711434 0.38626126 0.37063435\n",
            "  0.17998914 0.24273757 1.        ]\n",
            " [1.         0.45042493 0.48553719 0.70780399 0.45157658 0.54383464\n",
            "  0.07972291 0.30182176 1.        ]\n",
            " [1.         0.05665722 0.1322314  0.15607985 0.19763514 0.03207413\n",
            "  0.66860488 0.3446578  3.        ]\n",
            " [1.         0.25779037 0.3161157  0.48275862 0.36148649 0.31575196\n",
            "  0.83046133 0.4534712  3.        ]\n",
            " [1.         0.13503305 0.19008264 0.38294011 0.25394144 0.12829651\n",
            "  0.46436377 0.38847858 3.        ]\n",
            " [1.         0.82341832 0.86363636 0.66606171 0.81193694 0.84105488\n",
            "  0.35919681 0.84638109 2.        ]\n",
            " [1.         0.79225685 0.85950413 0.54990926 0.87274775 0.65716322\n",
            "  0.18263818 0.95224028 2.        ]\n",
            " [1.         0.07648725 0.13842975 0.26678766 0.13344595 0.09479686\n",
            "  0.63880316 0.28064993 3.        ]\n",
            " [1.         0.80830973 0.83471074 0.73411978 0.75788288 0.84461867\n",
            "  0.30714314 0.82028557 2.        ]\n",
            " [1.         0.63550519 0.7231405  0.47005445 0.65596847 0.55096222\n",
            "  0.40515768 0.69079271 2.        ]\n",
            " [1.         0.54957507 0.58677686 0.7123412  0.46114865 0.63791875\n",
            "  0.45721135 0.54111275 2.        ]\n",
            " [1.         0.3068933  0.3161157  0.79310345 0.2393018  0.53385602\n",
            "  0.19787017 0.14081733 1.        ]\n",
            " [1.         0.23418319 0.31198347 0.36206897 0.32263514 0.25944405\n",
            "  0.60118677 0.43131462 3.        ]\n",
            " [1.         0.41737488 0.48553719 0.52268603 0.50112613 0.4383464\n",
            "  0.13588259 0.23732152 1.        ]\n",
            " [1.         0.1680831  0.21900826 0.44101633 0.17173423 0.23521026\n",
            "  0.41774063 0.23732152 3.        ]\n",
            " [1.         0.58356941 0.66322314 0.50544465 0.57882883 0.57590877\n",
            "  0.55032517 0.62826194 2.        ]\n",
            " [1.         0.5325779  0.57231405 0.69782214 0.54786036 0.60014255\n",
            "  0.39787282 0.69079271 2.        ]\n",
            " [1.         0.52974504 0.59090909 0.59255898 0.52195946 0.59444048\n",
            "  0.27257315 0.49630724 1.        ]\n",
            " [1.         0.79981114 0.83471074 0.70145191 0.85416667 0.77619387\n",
            "  0.1964132  0.80945347 2.        ]\n",
            " [1.         0.07932011 0.14876033 0.23049002 0.15596847 0.0634355\n",
            "  0.19283699 0.30182176 3.        ]\n",
            " [1.         0.11520302 0.21487603 0.1061706  0.28941441 0.06129722\n",
            "  0.54741122 0.41014279 3.        ]]\n"
          ]
        }
      ]
    },
    {
      "cell_type": "markdown",
      "metadata": {
        "id": "KQXphC8golDv"
      },
      "source": [
        "Preparing training data for 1 v 1 multiclass logistic regression"
      ]
    },
    {
      "cell_type": "code",
      "metadata": {
        "id": "-rwbHUMVjZ_C"
      },
      "source": [
        "\n",
        "train1, train2, train3 = [], [], []"
      ],
      "execution_count": null,
      "outputs": []
    },
    {
      "cell_type": "code",
      "metadata": {
        "id": "5J35o70UI9_t"
      },
      "source": [
        "for row in train:\n",
        "  if row[-1] == 1:\n",
        "        train1.append(row)\n",
        "        train2.append(row)\n",
        "\n",
        "  elif row[-1] == 2:\n",
        "        train1.append(row)\n",
        "        train3.append(row)\n",
        "\n",
        "  elif row[-1] == 3:\n",
        "        train2.append(row)\n",
        "        train3.append(row) \n",
        "train1, train2, train3 = np.array(train1), np.array(train2), np.array(train3) \n",
        "\n",
        "for row in train1:\n",
        "    row[-1] = 0 if row[-1] == 1 else 1\n",
        "\n",
        "for row in train2:\n",
        "    row[-1] = 0 if row[-1] == 1 else 1\n",
        "\n",
        "for row in train3:\n",
        "    row[-1] = 0 if row[-1] == 2 else 1\n"
      ],
      "execution_count": null,
      "outputs": []
    },
    {
      "cell_type": "code",
      "metadata": {
        "colab": {
          "base_uri": "https://localhost:8080/"
        },
        "id": "1h1N4Uo23di5",
        "outputId": "fea80ec1-b512-4650-a541-e498e764da02"
      },
      "source": [
        "X_train1=train1[:,0:8]\n",
        "y_train1=train1[:,8] \n",
        "print(X_train1.shape)\n",
        "print(y_train1.shape) \n",
        "X_train2=train2[:,0:8]\n",
        "y_train2=train2[:,8] \n",
        "print(X_train2.shape)\n",
        "print(y_train2.shape)\n",
        "X_train3=train3[:,0:8]\n",
        "y_train3=train3[:,8] \n",
        "print(X_train3.shape)\n",
        "print(y_train3.shape)"
      ],
      "execution_count": null,
      "outputs": [
        {
          "output_type": "stream",
          "name": "stdout",
          "text": [
            "(92, 8)\n",
            "(92,)\n",
            "(91, 8)\n",
            "(91,)\n",
            "(93, 8)\n",
            "(93,)\n"
          ]
        }
      ]
    },
    {
      "cell_type": "code",
      "metadata": {
        "id": "oYfHODm6JCs1"
      },
      "source": [
        "#sigmoid function\n",
        "def sigmoid(x): \n",
        " return 1.0/(1 + np.exp(-x))"
      ],
      "execution_count": null,
      "outputs": []
    },
    {
      "cell_type": "code",
      "metadata": {
        "id": "fZp6-Q9MLH6R"
      },
      "source": [
        "#cost for an observation\n",
        "def logistic_loss(y_train,y_pred):\n",
        "  loss = -y_train * np.log(y_pred)\n",
        "  loss -= (1-y_train)*np.log(1-y_pred)\n",
        "  return loss"
      ],
      "execution_count": null,
      "outputs": []
    },
    {
      "cell_type": "code",
      "metadata": {
        "id": "8n_00xMTLLeY"
      },
      "source": [
        "def cost_function_no_regu(X,y,w):\n",
        "  hypothesis=sigmoid(np.dot(X,w.T).astype(float))\n",
        "  J=(1/(2*len(y)))*np.sum(logistic_loss(y,hypothesis))\n",
        "  return J"
      ],
      "execution_count": null,
      "outputs": []
    },
    {
      "cell_type": "code",
      "metadata": {
        "id": "YO8E4MXRLaxA"
      },
      "source": [
        "def batch_gradient_descent_no_regu(X,y,w,alpha,iters):\n",
        "  cost_hist=np.zeros(iters)#initialising cost function for each iteration \n",
        "  w_hist=np.zeros((iters,8))#for storing weight values at each iteration \n",
        "  for t in range(iters): \n",
        "    \n",
        "    hypothesis=sigmoid(np.dot(X,w.T).astype(float))\n",
        "    w=w-(alpha/len(y))*(np.dot(hypothesis-y,X))#updating the weight value\n",
        "    w_hist[t]=w\n",
        "    cost_hist[t]=cost_function_no_regu(X,y,w)#storing the cost function value for that iteration\n",
        "  minpos=np.argmin(cost_hist)\n",
        "  w_best=w_hist[minpos]  \n",
        "  return w_best "
      ],
      "execution_count": null,
      "outputs": []
    },
    {
      "cell_type": "code",
      "metadata": {
        "id": "R-cauxTxLdr-"
      },
      "source": [
        "def stochastic_gradient_descent_no_regu(X,y,w,alpha,iters):\n",
        "  cost_hist=np.zeros(iters)#initialising cost function for each iteration \n",
        "  w_hist=np.zeros((iters,8))#for storing weight values at each iteration \n",
        "  for t in range(iters):\n",
        "    index=np.random.randint(len(y))#randomly selecting an index from the dataset\n",
        "    Ind_X=X[index:index+1]#selecting features of that index\n",
        "    Ind_Y=y[index:index+1]#selecting the true output of that index \n",
        "    w=w-alpha*(Ind_X.T.dot(sigmoid(np.dot(Ind_X,w.T).astype(float))-Ind_Y))#updating weight value\n",
        "    w_hist[t]=w\n",
        "    cost_hist[t]=cost_function_no_regu(X,y,w)\n",
        "  minpos=np.argmin(cost_hist)\n",
        "  w_best=w_hist[minpos]  \n",
        "  return w_best"
      ],
      "execution_count": null,
      "outputs": []
    },
    {
      "cell_type": "code",
      "metadata": {
        "id": "cm6cvUccLg3P"
      },
      "source": [
        "def minibatch_gradient_descent_no_regu(X,y,w,alpha,iters,batch_size):\n",
        "  cost_hist=np.zeros(iters)#initialising cost function for each iteration \n",
        "  w_hist=np.zeros((iters,8))#for storing weight values at each iteration\n",
        "  for t in range(iters):\n",
        "    index=np.random.randint(len(y))#randomly selecting an index from the dataset\n",
        "    Ind_X=X[index:index+batch_size]#selecting features from that index to index+batchsize-1\n",
        "    Ind_Y=y[index:index+batch_size]#selecting the true outputs from that index to index+batch_size-1\n",
        "    w=w-(alpha/batch_size)*(Ind_X.T.dot(sigmoid(np.dot(Ind_X,w.T).astype(float))-Ind_Y))#updating weight value\n",
        "    w_hist[t]=w\n",
        "    cost_hist[t]=cost_function_no_regu(X,y,w)\n",
        "  minpos=np.argmin(cost_hist)\n",
        "  w_best=w_hist[minpos]  \n",
        "  return w_best"
      ],
      "execution_count": null,
      "outputs": []
    },
    {
      "cell_type": "code",
      "metadata": {
        "id": "TLC7_SFsLkG5"
      },
      "source": [
        "def cost_function_L2_regu(X,y,w,L2): \n",
        "  hypothesis=sigmoid(np.dot(X,w.T).astype(float))\n",
        "  J=(1/(2*len(y)))*np.sum(logistic_loss(y,hypothesis))+((L2/(2*len(y)))*np.sum(w**2)) \n",
        "  return J"
      ],
      "execution_count": null,
      "outputs": []
    },
    {
      "cell_type": "code",
      "metadata": {
        "id": "jOekFuJyLoh9"
      },
      "source": [
        "def batch_gradient_descent_L2_regu(X,y,w,alpha,iters,Lambda_):\n",
        "  cost_hist=np.zeros(iters)#storing cost function value of each iteration\n",
        "  w_hist=np.zeros((iters,8))#for storing weight values at each iteration\n",
        "  for t in range(iters): \n",
        "    hypothesis=sigmoid(np.dot(X,w.T).astype(float)) \n",
        "    w=(w*(1-(alpha*Lambda_)))-(alpha/len(y))*(np.dot(hypothesis-y,X))#updating the weight value\n",
        "    w_hist[t]=w\n",
        "    cost_hist[t]=cost_function_L2_regu(X,y,w,Lambda_)#storing the cost function value for that iteration\n",
        "  minpos=np.argmin(cost_hist)\n",
        "  w_best=w_hist[minpos]  \n",
        "  return w_best"
      ],
      "execution_count": null,
      "outputs": []
    },
    {
      "cell_type": "code",
      "metadata": {
        "id": "f5-4i4VcLrg9"
      },
      "source": [
        "def stochastic_gradient_descent_L2_regu(X,y,w,alpha,iters,Lambda_):\n",
        "  cost_hist=np.zeros(iters)#initialising cost function for each iteration \n",
        "  w_hist=np.zeros((iters,8))#for storing weight values at each iteration \n",
        "  for t in range(iters):\n",
        "    index=np.random.randint(len(y))#randomly selecting an index from the dataset\n",
        "    Ind_X=X[index:index+1]#selecting features of that index\n",
        "    Ind_Y=y[index:index+1]#selecting the true output of that index \n",
        "    w=(w*(1-(alpha*Lambda_)))-alpha*(Ind_X.T.dot(sigmoid(np.dot(Ind_X,w.T).astype(float))-Ind_Y))#updating weight value\n",
        "    w_hist[t]=w\n",
        "    cost_hist[t]=cost_function_L2_regu(X,y,w,Lambda_)\n",
        "  minpos=np.argmin(cost_hist)\n",
        "  w_best=w_hist[minpos]  \n",
        "  return w_best"
      ],
      "execution_count": null,
      "outputs": []
    },
    {
      "cell_type": "code",
      "metadata": {
        "id": "ZpoxVSlNLusp"
      },
      "source": [
        "def minibatch_gradient_descent_L2_regu(X,y,w,alpha,iters,batch_size,Lambda_):\n",
        "  cost_hist=np.zeros(iters)#initialising cost function for each iteration \n",
        "  w_hist=np.zeros((iters,8))#for storing weight values at each iteration\n",
        "  for t in range(iters):\n",
        "    index=np.random.randint(len(y))#randomly selecting an index from the dataset\n",
        "    Ind_X=X[index:index+batch_size]#selecting features from that index to index+batchsize-1\n",
        "    Ind_Y=y[index:index+batch_size]#selecting the true outputs from that index to index+batch_size-1\n",
        "    w=(w*(1-(alpha*Lambda_)))-(alpha/batch_size)*(Ind_X.T.dot(sigmoid(np.dot(Ind_X,w.T).astype(float))-Ind_Y))#updating weight value\n",
        "    w_hist[t]=w\n",
        "    cost_hist[t]=cost_function_L2_regu(X,y,w,Lambda_)\n",
        "  minpos=np.argmin(cost_hist)\n",
        "  w_best=w_hist[minpos]  \n",
        "  return w_best"
      ],
      "execution_count": null,
      "outputs": []
    },
    {
      "cell_type": "code",
      "metadata": {
        "id": "Kl99lQxdLxyL"
      },
      "source": [
        "def cost_function_L1_regu(X,y,w,L1): \n",
        "  hypothesis=sigmoid(np.dot(X,w.T).astype(float))  \n",
        "  J=(1/(2*len(y)))*np.sum(logistic_loss(y,hypothesis))+((L1/(2*len(y)))*np.sum(abs(w))) \n",
        "  return J"
      ],
      "execution_count": null,
      "outputs": []
    },
    {
      "cell_type": "code",
      "metadata": {
        "id": "iRJIYLI-MX9S"
      },
      "source": [
        "def batch_gradient_descent_L1_regu(X,y,w,alpha,iters,Lambda_): \n",
        "  cost_hist=np.zeros(iters)#storing cost function value of each iteration\n",
        "  w_hist=np.zeros((iters,8))#for storing weight values at each iteration\n",
        "  for t in range(iters): \n",
        "    hypothesis=sigmoid(np.dot(X,w.T).astype(float)) \n",
        "    w=w-((alpha*Lambda_)/2)*np.sign(w)-(alpha/len(y))*(np.dot(hypothesis-y,X))#updating the weight value \n",
        "    w_hist[t]=w\n",
        "    cost_hist[t]=cost_function_L1_regu(X,y,w,Lambda_)#storing the cost function value for that iteration\n",
        "  minpos=np.argmin(cost_hist)\n",
        "  w_best=w_hist[minpos]  \n",
        "  return w_best"
      ],
      "execution_count": null,
      "outputs": []
    },
    {
      "cell_type": "code",
      "metadata": {
        "id": "N9yHkkYvQkAH"
      },
      "source": [
        "def stochastic_gradient_descent_L1_regu(X,y,w,alpha,iters,Lambda_):\n",
        "  cost_hist=np.zeros(iters)#initialising cost function for each iteration \n",
        "  w_hist=np.zeros((iters,8))#for storing weight values at each iteration \n",
        "  for t in range(iters):\n",
        "    index=np.random.randint(len(y))#randomly selecting an index from the dataset\n",
        "    Ind_X=X[index:index+1]#selecting features of that index\n",
        "    Ind_Y=y[index:index+1]#selecting the true output of that index \n",
        "    w=w-((alpha*Lambda_)/2)*np.sign(w) -alpha*(Ind_X.T.dot(sigmoid(np.dot(Ind_X,w.T).astype(float))-Ind_Y))#updating weight value \n",
        "    w_hist[t]=w\n",
        "    cost_hist[t]=cost_function_L1_regu(X,y,w,Lambda_)#storing the cost function value for that iteration\n",
        "  minpos=np.argmin(cost_hist)\n",
        "  w_best=w_hist[minpos]  \n",
        "  return w_best"
      ],
      "execution_count": null,
      "outputs": []
    },
    {
      "cell_type": "code",
      "metadata": {
        "id": "HImEI6me4dkY"
      },
      "source": [
        "def minibatch_gradient_descent_L1_regu(X,y,w,alpha,iters,batch_size,Lambda_):\n",
        "  cost_hist=np.zeros(iters)#initialising cost function for each iteration \n",
        "  w_hist=np.zeros((iters,8))#for storing weight values at each iteration\n",
        "  for t in range(iters):\n",
        "    index=np.random.randint(len(y))#randomly selecting an index from the dataset\n",
        "    Ind_X=X[index:index+batch_size]#selecting features from that index to index+batchsize-1\n",
        "    Ind_Y=y[index:index+batch_size]#selecting the true outputs from that index to index+batch_size-1 \n",
        "    w=w-((alpha*Lambda_)/2)*np.sign(w)-(alpha/batch_size)*(Ind_X.T.dot(sigmoid(np.dot(Ind_X,w.T).astype(float))-Ind_Y))#updating weight value \n",
        "    w_hist[t]=w\n",
        "    cost_hist[t]=cost_function_L1_regu(X,y,w,Lambda_)#storing the cost function value for that iteration\n",
        "  minpos=np.argmin(cost_hist)\n",
        "  w_best=w_hist[minpos]  \n",
        "  return w_best"
      ],
      "execution_count": null,
      "outputs": []
    },
    {
      "cell_type": "code",
      "metadata": {
        "id": "_FMs_pj1Qnbp"
      },
      "source": [
        "alpha=0.9\n",
        "iters=15000\n",
        "Lambda_=0.005 \n"
      ],
      "execution_count": null,
      "outputs": []
    },
    {
      "cell_type": "markdown",
      "metadata": {
        "id": "73HmoeAt_jGA"
      },
      "source": [
        "Initialising weights for all 9 models for 1v1 multiclass logistic regression"
      ]
    },
    {
      "cell_type": "code",
      "metadata": {
        "id": "gqGxi4-w4m6V"
      },
      "source": [
        "weights_batch_no_regu=np.random.rand(3,8)\n",
        "weights_stoch_no_regu=np.random.rand(3,8)\n",
        "weights_mini_no_regu=np.random.rand(3,8) \n",
        "weights_batch_L2_regu=np.random.rand(3,8)\n",
        "weights_stoch_L2_regu=np.random.rand(3,8)\n",
        "weights_mini_L2_regu=np.random.rand(3,8)  \n",
        "weights_batch_L1_regu=np.random.rand(3,8)\n",
        "weights_stoch_L1_regu=np.random.rand(3,8)\n",
        "weights_mini_L1_regu=np.random.rand(3,8)\n"
      ],
      "execution_count": null,
      "outputs": []
    },
    {
      "cell_type": "markdown",
      "metadata": {
        "id": "qEJgfXML_wDV"
      },
      "source": [
        "Training of weights for all 9 models of 1v1 multiclass logistic regression"
      ]
    },
    {
      "cell_type": "code",
      "metadata": {
        "id": "zL_fHc8u6EKa"
      },
      "source": [
        "#1st model\n",
        "weights_batch_no_regu[0], weights_batch_no_regu[1], weights_batch_no_regu[2]=(\n",
        "batch_gradient_descent_no_regu(X_train1,y_train1,weights_batch_no_regu[0],alpha,iters), \n",
        "batch_gradient_descent_no_regu(X_train2,y_train2,weights_batch_no_regu[1],alpha,iters),\n",
        "batch_gradient_descent_no_regu(X_train3,y_train3,weights_batch_no_regu[2],alpha,iters)) \n",
        "\n",
        "#2nd model\n",
        "weights_stoch_no_regu[0], weights_stoch_no_regu[1], weights_stoch_no_regu[2]=(\n",
        "stochastic_gradient_descent_no_regu(X_train1,y_train1,weights_stoch_no_regu[0],alpha,iters), \n",
        "stochastic_gradient_descent_no_regu(X_train2,y_train2,weights_stoch_no_regu[1],alpha,iters),\n",
        "stochastic_gradient_descent_no_regu(X_train3,y_train3,weights_stoch_no_regu[2],alpha,iters))  \n",
        "\n",
        "#3rd model\n",
        "weights_mini_no_regu[0], weights_mini_no_regu[1], weights_mini_no_regu[2]=(\n",
        "minibatch_gradient_descent_no_regu(X_train1,y_train1,weights_mini_no_regu[0],alpha,iters,10), \n",
        "minibatch_gradient_descent_no_regu(X_train2,y_train2,weights_mini_no_regu[1],alpha,iters,10),\n",
        "minibatch_gradient_descent_no_regu(X_train3,y_train3,weights_mini_no_regu[2],alpha,iters,10))  \n",
        "\n",
        "#4th model\n",
        "weights_batch_L2_regu[0], weights_batch_L2_regu[1], weights_batch_L2_regu[2]=(\n",
        "batch_gradient_descent_L2_regu(X_train1,y_train1,weights_batch_L2_regu[0],alpha,iters,Lambda_), \n",
        "batch_gradient_descent_L2_regu(X_train2,y_train2,weights_batch_L2_regu[1],alpha,iters,Lambda_),\n",
        "batch_gradient_descent_L2_regu(X_train3,y_train3,weights_batch_L2_regu[2],alpha,iters,Lambda_)) \n",
        "\n",
        "#5th model\n",
        "weights_stoch_L2_regu[0], weights_stoch_L2_regu[1], weights_stoch_L2_regu[2]=(\n",
        "stochastic_gradient_descent_L2_regu(X_train1,y_train1,weights_stoch_L2_regu[0],alpha,iters,Lambda_), \n",
        "stochastic_gradient_descent_L2_regu(X_train2,y_train2,weights_stoch_L2_regu[1],alpha,iters,Lambda_),\n",
        "stochastic_gradient_descent_L2_regu(X_train3,y_train3,weights_stoch_L2_regu[2],alpha,iters,Lambda_))\n",
        "\n",
        "#6th model\n",
        "weights_mini_L2_regu[0], weights_mini_L2_regu[1], weights_mini_L2_regu[2]=(\n",
        "minibatch_gradient_descent_L2_regu(X_train1,y_train1,weights_mini_L2_regu[0],alpha,iters,10,Lambda_), \n",
        "minibatch_gradient_descent_L2_regu(X_train2,y_train2,weights_mini_L2_regu[1],alpha,iters,10,Lambda_),\n",
        "minibatch_gradient_descent_L2_regu(X_train3,y_train3,weights_mini_L2_regu[2],alpha,iters,10,Lambda_)) \n",
        "\n",
        "#7th model\n",
        "weights_batch_L1_regu[0], weights_batch_L1_regu[1], weights_batch_L1_regu[2]=(\n",
        "batch_gradient_descent_L1_regu(X_train1,y_train1,weights_batch_L1_regu[0],alpha,iters,Lambda_), \n",
        "batch_gradient_descent_L1_regu(X_train2,y_train2,weights_batch_L1_regu[1],alpha,iters,Lambda_),\n",
        "batch_gradient_descent_L1_regu(X_train3,y_train3,weights_batch_L1_regu[2],alpha,iters,Lambda_)) \n",
        "\n",
        "#8th model\n",
        "weights_stoch_L1_regu[0], weights_stoch_L1_regu[1], weights_stoch_L1_regu[2]=(\n",
        "stochastic_gradient_descent_L1_regu(X_train1,y_train1,weights_stoch_L1_regu[0],alpha,iters,Lambda_), \n",
        "stochastic_gradient_descent_L1_regu(X_train2,y_train2,weights_stoch_L1_regu[1],alpha,iters,Lambda_),\n",
        "stochastic_gradient_descent_L1_regu(X_train3,y_train3,weights_stoch_L1_regu[2],alpha,iters,Lambda_))\n",
        "\n",
        "#9th model\n",
        "weights_mini_L1_regu[0], weights_mini_L1_regu[1], weights_mini_L1_regu[2]=(\n",
        "minibatch_gradient_descent_L1_regu(X_train1,y_train1,weights_mini_L1_regu[0],alpha,iters,10,Lambda_), \n",
        "minibatch_gradient_descent_L1_regu(X_train2,y_train2,weights_mini_L1_regu[1],alpha,iters,10,Lambda_),\n",
        "minibatch_gradient_descent_L1_regu(X_train3,y_train3,weights_mini_L1_regu[2],alpha,iters,10,Lambda_))\n",
        "\n",
        "\n",
        "\n"
      ],
      "execution_count": null,
      "outputs": []
    },
    {
      "cell_type": "markdown",
      "metadata": {
        "id": "DmgsRSPaDsgi"
      },
      "source": [
        "Initialsing confusion matrixes for the 9 models validation for fine tuning\n",
        "and test for accuracy\n",
        "\n",
        "\n",
        "\n"
      ]
    },
    {
      "cell_type": "code",
      "metadata": {
        "id": "MQE4bYET8NpF"
      },
      "source": [
        "confusion_matrix_batch_validation_no_regu = np.zeros((3,3))\n",
        "confusion_matrix_batch_test_no_regu = np.zeros((3,3))\n",
        "confusion_matrix_stoch_validation_no_regu = np.zeros((3,3))\n",
        "confusion_matrix_stoch_test_no_regu = np.zeros((3,3))\n",
        "confusion_matrix_mini_validation_no_regu = np.zeros((3,3))\n",
        "confusion_matrix_mini_test_no_regu = np.zeros((3,3))\n",
        "confusion_matrix_batch_validation_L2_regu = np.zeros((3,3))\n",
        "confusion_matrix_batch_test_L2_regu = np.zeros((3,3))\n",
        "confusion_matrix_stoch_validation_L2_regu = np.zeros((3,3))\n",
        "confusion_matrix_stoch_test_L2_regu = np.zeros((3,3))\n",
        "confusion_matrix_mini_validation_L2_regu = np.zeros((3,3))\n",
        "confusion_matrix_mini_test_L2_regu = np.zeros((3,3))\n",
        "confusion_matrix_batch_validation_L1_regu = np.zeros((3,3))\n",
        "confusion_matrix_batch_test_L1_regu = np.zeros((3,3))\n",
        "confusion_matrix_stoch_validation_L1_regu = np.zeros((3,3))\n",
        "confusion_matrix_stoch_test_L1_regu = np.zeros((3,3))\n",
        "confusion_matrix_mini_validation_L1_regu = np.zeros((3,3))\n",
        "confusion_matrix_mini_test_L1_regu = np.zeros((3,3))"
      ],
      "execution_count": null,
      "outputs": []
    },
    {
      "cell_type": "markdown",
      "metadata": {
        "id": "gaEGXMaPENvF"
      },
      "source": [
        "Prediction on validate and test for 1v1 multiclass classification"
      ]
    },
    {
      "cell_type": "code",
      "metadata": {
        "id": "za0la1Yc9uZV"
      },
      "source": [
        "def predict(test,weights,confusion_matrix):\n",
        "  for row in test:\n",
        "\n",
        "      predicted = 0\n",
        "      h = []\n",
        "      \n",
        "      for i in range(3):\n",
        "          h_ = np.dot(row[:-1], weights[i]) \n",
        "          h_ = sigmoid(h_)\n",
        "          h.append(round(h_))\n",
        "\n",
        "      if h[0] == 0 and h[1] == 0: predicted = 1\n",
        "      if h[0] == 1 and h[2] == 0: predicted = 2\n",
        "      if h[1] == 1 and h[2] == 1: predicted = 3\n",
        "\n",
        "      confusion_matrix[int(row[-1])-1, predicted-1] += 1\n",
        "\n",
        "  c1 = confusion_matrix[0,0]/np.sum(confusion_matrix[0])\n",
        "  c2 = confusion_matrix[1,1]/np.sum(confusion_matrix[1])\n",
        "  c3 = confusion_matrix[2,2]/np.sum(confusion_matrix[2])\n",
        "  total_accuracy = (confusion_matrix[0,0] + confusion_matrix[1,1] + confusion_matrix[2,2])/np.sum(confusion_matrix)\n",
        "\n",
        "  print(\"Total accuracy: \", total_accuracy)\n",
        "  print(\"Class 1 accuracy: \", c1)\n",
        "  print(\"Class 2 accuracy: \", c2)\n",
        "  print(\"Class 3 accuracy: \", c3)\n",
        "  print(confusion_matrix)"
      ],
      "execution_count": null,
      "outputs": []
    },
    {
      "cell_type": "code",
      "metadata": {
        "colab": {
          "base_uri": "https://localhost:8080/"
        },
        "id": "1yQgHykj-mla",
        "outputId": "cea0f959-ae19-4525-a084-76440d8dba5d"
      },
      "source": [
        "print(\"Validation Accuracy\")\n",
        "predict(validate,weights_batch_no_regu,confusion_matrix_batch_validation_no_regu) \n",
        "print(\"Test Accuracy\")\n",
        "predict(test,weights_batch_no_regu,confusion_matrix_batch_test_no_regu)"
      ],
      "execution_count": null,
      "outputs": [
        {
          "output_type": "stream",
          "name": "stdout",
          "text": [
            "Validation Accuracy\n",
            "Total accuracy:  0.95\n",
            "Class 1 accuracy:  0.8888888888888888\n",
            "Class 2 accuracy:  1.0\n",
            "Class 3 accuracy:  1.0\n",
            "[[8. 0. 1.]\n",
            " [0. 5. 0.]\n",
            " [0. 0. 6.]]\n",
            "Test Accuracy\n",
            "Total accuracy:  0.925\n",
            "Class 1 accuracy:  0.8181818181818182\n",
            "Class 2 accuracy:  1.0\n",
            "Class 3 accuracy:  0.9230769230769231\n",
            "[[ 9.  2.  0.]\n",
            " [ 0. 16.  0.]\n",
            " [ 1.  0. 12.]]\n"
          ]
        }
      ]
    },
    {
      "cell_type": "code",
      "metadata": {
        "colab": {
          "base_uri": "https://localhost:8080/"
        },
        "id": "R5I9xHL3-1OO",
        "outputId": "a4606857-ef28-4db8-f383-e578f146abb6"
      },
      "source": [
        "print(\"Validation Accuracy\")\n",
        "predict(validate,weights_stoch_no_regu,confusion_matrix_stoch_validation_no_regu)\n",
        "print(\"Test Accuracy\")\n",
        "predict(test,weights_stoch_no_regu,confusion_matrix_stoch_test_no_regu)"
      ],
      "execution_count": null,
      "outputs": [
        {
          "output_type": "stream",
          "name": "stdout",
          "text": [
            "Validation Accuracy\n",
            "Total accuracy:  0.95\n",
            "Class 1 accuracy:  0.8888888888888888\n",
            "Class 2 accuracy:  1.0\n",
            "Class 3 accuracy:  1.0\n",
            "[[8. 0. 1.]\n",
            " [0. 5. 0.]\n",
            " [0. 0. 6.]]\n",
            "Test Accuracy\n",
            "Total accuracy:  0.9\n",
            "Class 1 accuracy:  0.8181818181818182\n",
            "Class 2 accuracy:  1.0\n",
            "Class 3 accuracy:  0.8461538461538461\n",
            "[[ 9.  2.  0.]\n",
            " [ 0. 16.  0.]\n",
            " [ 2.  0. 11.]]\n"
          ]
        }
      ]
    },
    {
      "cell_type": "code",
      "metadata": {
        "colab": {
          "base_uri": "https://localhost:8080/"
        },
        "id": "kCZktI5d-8rK",
        "outputId": "16e62313-92eb-4cf2-8b66-eabb81e1e820"
      },
      "source": [
        "print(\"Validation Accuracy\")\n",
        "predict(validate,weights_mini_no_regu,confusion_matrix_mini_validation_no_regu) \n",
        "print(\"Test Accuracy\")\n",
        "predict(test,weights_mini_no_regu,confusion_matrix_mini_test_no_regu)"
      ],
      "execution_count": null,
      "outputs": [
        {
          "output_type": "stream",
          "name": "stdout",
          "text": [
            "Validation Accuracy\n",
            "Total accuracy:  0.95\n",
            "Class 1 accuracy:  0.8888888888888888\n",
            "Class 2 accuracy:  1.0\n",
            "Class 3 accuracy:  1.0\n",
            "[[8. 0. 1.]\n",
            " [0. 5. 0.]\n",
            " [0. 0. 6.]]\n",
            "Test Accuracy\n",
            "Total accuracy:  0.9\n",
            "Class 1 accuracy:  0.8181818181818182\n",
            "Class 2 accuracy:  1.0\n",
            "Class 3 accuracy:  0.8461538461538461\n",
            "[[ 9.  2.  0.]\n",
            " [ 0. 16.  0.]\n",
            " [ 2.  0. 11.]]\n"
          ]
        }
      ]
    },
    {
      "cell_type": "code",
      "metadata": {
        "colab": {
          "base_uri": "https://localhost:8080/"
        },
        "id": "GaVUBwHyHNLg",
        "outputId": "04e3fb0f-32af-4b9a-909a-4ac4f57c8cea"
      },
      "source": [
        "print(\"Validation Accuracy\")\n",
        "predict(validate,weights_batch_L2_regu,confusion_matrix_batch_validation_L2_regu) \n",
        "print(\"Test Accuracy\")\n",
        "predict(test,weights_batch_L2_regu,confusion_matrix_batch_test_L2_regu)"
      ],
      "execution_count": null,
      "outputs": [
        {
          "output_type": "stream",
          "name": "stdout",
          "text": [
            "Validation Accuracy\n",
            "Total accuracy:  1.0\n",
            "Class 1 accuracy:  1.0\n",
            "Class 2 accuracy:  1.0\n",
            "Class 3 accuracy:  1.0\n",
            "[[9. 0. 0.]\n",
            " [0. 5. 0.]\n",
            " [0. 0. 6.]]\n",
            "Test Accuracy\n",
            "Total accuracy:  0.875\n",
            "Class 1 accuracy:  0.7272727272727273\n",
            "Class 2 accuracy:  1.0\n",
            "Class 3 accuracy:  0.8461538461538461\n",
            "[[ 8.  2.  1.]\n",
            " [ 0. 16.  0.]\n",
            " [ 2.  0. 11.]]\n"
          ]
        }
      ]
    },
    {
      "cell_type": "code",
      "metadata": {
        "colab": {
          "base_uri": "https://localhost:8080/"
        },
        "id": "iVuUpdSlH8sP",
        "outputId": "7816feff-ac89-4f63-ca09-bcb9e004d4f5"
      },
      "source": [
        "print(\"Validation Accuracy\")\n",
        "predict(validate,weights_stoch_L2_regu,confusion_matrix_stoch_validation_L2_regu)\n",
        "print(\"Test Accuracy\")\n",
        "predict(test,weights_stoch_L2_regu,confusion_matrix_stoch_test_L2_regu)"
      ],
      "execution_count": null,
      "outputs": [
        {
          "output_type": "stream",
          "name": "stdout",
          "text": [
            "Validation Accuracy\n",
            "Total accuracy:  0.95\n",
            "Class 1 accuracy:  0.8888888888888888\n",
            "Class 2 accuracy:  1.0\n",
            "Class 3 accuracy:  1.0\n",
            "[[8. 0. 1.]\n",
            " [0. 5. 0.]\n",
            " [0. 0. 6.]]\n",
            "Test Accuracy\n",
            "Total accuracy:  0.875\n",
            "Class 1 accuracy:  0.7272727272727273\n",
            "Class 2 accuracy:  1.0\n",
            "Class 3 accuracy:  0.8461538461538461\n",
            "[[ 8.  2.  1.]\n",
            " [ 0. 16.  0.]\n",
            " [ 2.  0. 11.]]\n"
          ]
        }
      ]
    },
    {
      "cell_type": "code",
      "metadata": {
        "colab": {
          "base_uri": "https://localhost:8080/"
        },
        "id": "AzmzBlMhIHWp",
        "outputId": "bd14b9df-b30c-4843-f293-533ebc61aed1"
      },
      "source": [
        "print(\"Validation Accuracy\")\n",
        "predict(validate,weights_mini_L2_regu,confusion_matrix_mini_validation_L2_regu) \n",
        "print(\"Test Accuracy\")\n",
        "predict(test,weights_mini_L2_regu,confusion_matrix_mini_test_L2_regu)"
      ],
      "execution_count": null,
      "outputs": [
        {
          "output_type": "stream",
          "name": "stdout",
          "text": [
            "Validation Accuracy\n",
            "Total accuracy:  1.0\n",
            "Class 1 accuracy:  1.0\n",
            "Class 2 accuracy:  1.0\n",
            "Class 3 accuracy:  1.0\n",
            "[[9. 0. 0.]\n",
            " [0. 5. 0.]\n",
            " [0. 0. 6.]]\n",
            "Test Accuracy\n",
            "Total accuracy:  0.875\n",
            "Class 1 accuracy:  0.7272727272727273\n",
            "Class 2 accuracy:  1.0\n",
            "Class 3 accuracy:  0.8461538461538461\n",
            "[[ 8.  2.  1.]\n",
            " [ 0. 16.  0.]\n",
            " [ 2.  0. 11.]]\n"
          ]
        }
      ]
    },
    {
      "cell_type": "code",
      "metadata": {
        "colab": {
          "base_uri": "https://localhost:8080/"
        },
        "id": "amykMRCpISOA",
        "outputId": "8a08a8ff-1a3c-4750-80d4-7e90334dab17"
      },
      "source": [
        "print(\"Validation Accuracy\")\n",
        "predict(validate,weights_batch_L1_regu,confusion_matrix_batch_validation_L1_regu) \n",
        "print(\"Test Accuracy\")\n",
        "predict(test,weights_batch_L1_regu,confusion_matrix_batch_test_L1_regu)"
      ],
      "execution_count": null,
      "outputs": [
        {
          "output_type": "stream",
          "name": "stdout",
          "text": [
            "Validation Accuracy\n",
            "Total accuracy:  0.95\n",
            "Class 1 accuracy:  0.8888888888888888\n",
            "Class 2 accuracy:  1.0\n",
            "Class 3 accuracy:  1.0\n",
            "[[8. 0. 1.]\n",
            " [0. 5. 0.]\n",
            " [0. 0. 6.]]\n",
            "Test Accuracy\n",
            "Total accuracy:  0.9\n",
            "Class 1 accuracy:  0.8181818181818182\n",
            "Class 2 accuracy:  1.0\n",
            "Class 3 accuracy:  0.8461538461538461\n",
            "[[ 9.  1.  1.]\n",
            " [ 0. 16.  0.]\n",
            " [ 2.  0. 11.]]\n"
          ]
        }
      ]
    },
    {
      "cell_type": "code",
      "metadata": {
        "colab": {
          "base_uri": "https://localhost:8080/"
        },
        "id": "r4YuQ9ByIol-",
        "outputId": "a7372a86-78ac-4579-ef71-e8842164e39b"
      },
      "source": [
        "print(\"Validation Accuracy\")\n",
        "predict(validate,weights_stoch_L1_regu,confusion_matrix_stoch_validation_L1_regu)\n",
        "print(\"Test Accuracy\")\n",
        "predict(test,weights_stoch_L1_regu,confusion_matrix_stoch_test_L1_regu)"
      ],
      "execution_count": null,
      "outputs": [
        {
          "output_type": "stream",
          "name": "stdout",
          "text": [
            "Validation Accuracy\n",
            "Total accuracy:  0.95\n",
            "Class 1 accuracy:  0.8888888888888888\n",
            "Class 2 accuracy:  1.0\n",
            "Class 3 accuracy:  1.0\n",
            "[[8. 0. 1.]\n",
            " [0. 5. 0.]\n",
            " [0. 0. 6.]]\n",
            "Test Accuracy\n",
            "Total accuracy:  0.9\n",
            "Class 1 accuracy:  0.8181818181818182\n",
            "Class 2 accuracy:  1.0\n",
            "Class 3 accuracy:  0.8461538461538461\n",
            "[[ 9.  1.  1.]\n",
            " [ 0. 16.  0.]\n",
            " [ 2.  0. 11.]]\n"
          ]
        }
      ]
    },
    {
      "cell_type": "code",
      "metadata": {
        "colab": {
          "base_uri": "https://localhost:8080/"
        },
        "id": "mg3ghSshIvon",
        "outputId": "4bc3fb99-9e2f-4b4a-deba-b2bb8cfb7d12"
      },
      "source": [
        "print(\"Validation Accuracy\")\n",
        "predict(validate,weights_mini_L1_regu,confusion_matrix_mini_validation_L1_regu) \n",
        "print(\"Test Accuracy\")\n",
        "predict(test,weights_mini_L1_regu,confusion_matrix_mini_test_L1_regu)"
      ],
      "execution_count": null,
      "outputs": [
        {
          "output_type": "stream",
          "name": "stdout",
          "text": [
            "Validation Accuracy\n",
            "Total accuracy:  0.95\n",
            "Class 1 accuracy:  0.8888888888888888\n",
            "Class 2 accuracy:  1.0\n",
            "Class 3 accuracy:  1.0\n",
            "[[8. 0. 1.]\n",
            " [0. 5. 0.]\n",
            " [0. 0. 6.]]\n",
            "Test Accuracy\n",
            "Total accuracy:  0.9\n",
            "Class 1 accuracy:  0.8181818181818182\n",
            "Class 2 accuracy:  1.0\n",
            "Class 3 accuracy:  0.8461538461538461\n",
            "[[ 9.  1.  1.]\n",
            " [ 0. 16.  0.]\n",
            " [ 2.  0. 11.]]\n"
          ]
        }
      ]
    },
    {
      "cell_type": "markdown",
      "metadata": {
        "id": "G2OfaHVY9U1x"
      },
      "source": [
        "1 V ALL CLASSIFICATION"
      ]
    },
    {
      "cell_type": "markdown",
      "metadata": {
        "id": "VxClDO9Y-YOc"
      },
      "source": [
        "Initialising weights for all 9 models for 1 v all multiclass logistic regression"
      ]
    },
    {
      "cell_type": "code",
      "metadata": {
        "id": "Ba7Boh8hI52Q"
      },
      "source": [
        "weights_batch_no_regu_1vall=np.random.rand(3,8)\n",
        "weights_stoch_no_regu_1vall=np.random.rand(3,8)\n",
        "weights_mini_no_regu_1vall=np.random.rand(3,8) \n",
        "weights_batch_L2_regu_1vall=np.random.rand(3,8)\n",
        "weights_stoch_L2_regu_1vall=np.random.rand(3,8)\n",
        "weights_mini_L2_regu_1vall=np.random.rand(3,8)  \n",
        "weights_batch_L1_regu_1vall=np.random.rand(3,8)\n",
        "weights_stoch_L1_regu_1vall=np.random.rand(3,8)\n",
        "weights_mini_L1_regu_1vall=np.random.rand(3,8)"
      ],
      "execution_count": null,
      "outputs": []
    },
    {
      "cell_type": "code",
      "metadata": {
        "colab": {
          "base_uri": "https://localhost:8080/"
        },
        "id": "gwVpUcEN-sj0",
        "outputId": "3bce86bf-6d06-43a6-f0c6-5a590557f674"
      },
      "source": [
        "print(train.shape)\n",
        "print(validate.shape)\n",
        "print(test.shape)"
      ],
      "execution_count": null,
      "outputs": [
        {
          "output_type": "stream",
          "name": "stdout",
          "text": [
            "(138, 9)\n",
            "(20, 9)\n",
            "(40, 9)\n"
          ]
        }
      ]
    },
    {
      "cell_type": "markdown",
      "metadata": {
        "id": "qmc5Cey3_S26"
      },
      "source": [
        "Training of the 9 models for 1 v ALL logistic regression"
      ]
    },
    {
      "cell_type": "code",
      "metadata": {
        "id": "fQEa7D0KymQ4"
      },
      "source": [
        "alpha=0.69\n",
        "iters=20000\n",
        "Lambda_=0.005"
      ],
      "execution_count": null,
      "outputs": []
    },
    {
      "cell_type": "code",
      "metadata": {
        "id": "wOUWbyR--0io"
      },
      "source": [
        "#1st model\n",
        "for i in range(3):  \n",
        "    \n",
        "    X = train.copy() #copy of the training samples\n",
        "    for row in X:\n",
        "        if row[-1] == i+1:\n",
        "            row[-1] = 1\n",
        "        else:\n",
        "            row[-1] = 0  \n",
        "    \n",
        "    X_train=X[:,0:8]\n",
        "    y_train=X[:,8]         \n",
        "    weights_batch_no_regu_1vall[i]=batch_gradient_descent_no_regu(X_train,y_train,weights_batch_no_regu_1vall[i],alpha,iters) \n",
        "\n",
        "#2nd model\n",
        "for i in range(3):  \n",
        "    \n",
        "    X = train.copy() #copy of the training samples\n",
        "    for row in X:\n",
        "        if row[-1] == i+1:\n",
        "            row[-1] = 1\n",
        "        else:\n",
        "            row[-1] = 0  \n",
        "    \n",
        "    X_train=X[:,0:8]\n",
        "    y_train=X[:,8]         \n",
        "    weights_stoch_no_regu_1vall[i]=stochastic_gradient_descent_no_regu(X_train,y_train,weights_stoch_no_regu_1vall[i],alpha,iters)\n",
        "\n",
        "#3rd model\n",
        "for i in range(3):  \n",
        "    \n",
        "    X = train.copy() #copy of the training samples\n",
        "    for row in X:\n",
        "        if row[-1] == i+1:\n",
        "            row[-1] = 1\n",
        "        else:\n",
        "            row[-1] = 0  \n",
        "    \n",
        "    X_train=X[:,0:8]\n",
        "    y_train=X[:,8]         \n",
        "    weights_mini_no_regu_1vall[i]=minibatch_gradient_descent_no_regu(X_train,y_train,weights_mini_no_regu_1vall[i],alpha,iters,15)\n",
        "\n",
        "#4th model\n",
        "for i in range(3):  \n",
        "    \n",
        "    X = train.copy() #copy of the training samples\n",
        "    for row in X:\n",
        "        if row[-1] == i+1:\n",
        "            row[-1] = 1\n",
        "        else:\n",
        "            row[-1] = 0  \n",
        "    \n",
        "    X_train=X[:,0:8]\n",
        "    y_train=X[:,8]         \n",
        "    weights_batch_L2_regu_1vall[i]=batch_gradient_descent_L2_regu(X_train,y_train,weights_batch_L2_regu_1vall[i],alpha,iters,Lambda_)\n",
        "\n",
        "#5th model\n",
        "for i in range(3):  \n",
        "    \n",
        "    X = train.copy() #copy of the training samples\n",
        "    for row in X:\n",
        "        if row[-1] == i+1:\n",
        "            row[-1] = 1\n",
        "        else:\n",
        "            row[-1] = 0  \n",
        "    \n",
        "    X_train=X[:,0:8]\n",
        "    y_train=X[:,8]         \n",
        "    weights_stoch_L2_regu_1vall[i]=stochastic_gradient_descent_L2_regu(X_train,y_train,weights_stoch_L2_regu_1vall[i],alpha,iters,Lambda_)  \n",
        "\n",
        "#6th model\n",
        "for i in range(3):  \n",
        "    \n",
        "    X = train.copy() #copy of the training samples\n",
        "    for row in X:\n",
        "        if row[-1] == i+1:\n",
        "            row[-1] = 1\n",
        "        else:\n",
        "            row[-1] = 0  \n",
        "    \n",
        "    X_train=X[:,0:8]\n",
        "    y_train=X[:,8]         \n",
        "    weights_mini_L2_regu_1vall[i]=minibatch_gradient_descent_L2_regu(X_train,y_train,weights_mini_L2_regu_1vall[i],alpha,iters,15,Lambda_)  \n",
        "\n",
        "#7th model\n",
        "for i in range(3):  \n",
        "    \n",
        "    X = train.copy() #copy of the training samples\n",
        "    for row in X:\n",
        "        if row[-1] == i+1:\n",
        "            row[-1] = 1\n",
        "        else:\n",
        "            row[-1] = 0  \n",
        "    \n",
        "    X_train=X[:,0:8]\n",
        "    y_train=X[:,8]         \n",
        "    weights_batch_L1_regu_1vall[i]=batch_gradient_descent_L1_regu(X_train,y_train,weights_batch_L1_regu_1vall[i],alpha,iters,Lambda_)  \n",
        "\n",
        "#8th model\n",
        "for i in range(3):  \n",
        "    \n",
        "    X = train.copy() #copy of the training samples\n",
        "    for row in X:\n",
        "        if row[-1] == i+1:\n",
        "            row[-1] = 1\n",
        "        else:\n",
        "            row[-1] = 0  \n",
        "    \n",
        "    X_train=X[:,0:8]\n",
        "    y_train=X[:,8]         \n",
        "    weights_stoch_L1_regu_1vall[i]=stochastic_gradient_descent_L1_regu(X_train,y_train,weights_stoch_L1_regu_1vall[i],alpha,iters,Lambda_)    \n",
        "\n",
        "#9th model\n",
        "for i in range(3):  \n",
        "    \n",
        "    X = train.copy() #copy of the training samples\n",
        "    for row in X:\n",
        "        if row[-1] == i+1:\n",
        "            row[-1] = 1\n",
        "        else:\n",
        "            row[-1] = 0  \n",
        "    \n",
        "    X_train=X[:,0:8]\n",
        "    y_train=X[:,8]         \n",
        "    weights_mini_L1_regu_1vall[i]=minibatch_gradient_descent_L1_regu(X_train,y_train,weights_mini_L1_regu_1vall[i],alpha,iters,15,Lambda_)          \n",
        "\n",
        "\n"
      ],
      "execution_count": null,
      "outputs": []
    },
    {
      "cell_type": "code",
      "metadata": {
        "id": "ki6mz0JKAf7o"
      },
      "source": [
        "confusion_matrix_batch_validation_no_regu_1vall = np.zeros((3,3))\n",
        "confusion_matrix_batch_test_no_regu_1vall = np.zeros((3,3))\n",
        "confusion_matrix_stoch_validation_no_regu_1vall = np.zeros((3,3))\n",
        "confusion_matrix_stoch_test_no_regu_1vall = np.zeros((3,3))\n",
        "confusion_matrix_mini_validation_no_regu_1vall = np.zeros((3,3))\n",
        "confusion_matrix_mini_test_no_regu_1vall = np.zeros((3,3))\n",
        "confusion_matrix_batch_validation_L2_regu_1vall = np.zeros((3,3))\n",
        "confusion_matrix_batch_test_L2_regu_1vall = np.zeros((3,3))\n",
        "confusion_matrix_stoch_validation_L2_regu_1vall = np.zeros((3,3))\n",
        "confusion_matrix_stoch_test_L2_regu_1vall = np.zeros((3,3))\n",
        "confusion_matrix_mini_validation_L2_regu_1vall = np.zeros((3,3))\n",
        "confusion_matrix_mini_test_L2_regu_1vall = np.zeros((3,3))\n",
        "confusion_matrix_batch_validation_L1_regu_1vall = np.zeros((3,3))\n",
        "confusion_matrix_batch_test_L1_regu_1vall = np.zeros((3,3))\n",
        "confusion_matrix_stoch_validation_L1_regu_1vall = np.zeros((3,3))\n",
        "confusion_matrix_stoch_test_L1_regu_1vall = np.zeros((3,3))\n",
        "confusion_matrix_mini_validation_L1_regu_1vall = np.zeros((3,3))\n",
        "confusion_matrix_mini_test_L1_regu_1vall = np.zeros((3,3))"
      ],
      "execution_count": null,
      "outputs": []
    },
    {
      "cell_type": "markdown",
      "metadata": {
        "id": "H4YLbd6PG_R1"
      },
      "source": [
        "Testing accuracy of predictions"
      ]
    },
    {
      "cell_type": "code",
      "metadata": {
        "id": "BVADNlhGG94O"
      },
      "source": [
        "def predict_1vall(test,weights,confusion_matrix): \n",
        "  \n",
        "  for row in test:\n",
        "\n",
        "      \n",
        "      h = np.zeros(3)\n",
        "      \n",
        "      for i in range(3):\n",
        "          h_ = np.dot(weights[i],row[:-1]) \n",
        "          h_ = sigmoid(h_) \n",
        "          h[i]=h_ \n",
        "\n",
        "          \n",
        "      l = np.argmax(h)\n",
        "      \n",
        "      confusion_matrix[int(row[-1])-1, l] += 1\n",
        "      \n",
        "\n",
        "  c1 = confusion_matrix[0,0]/np.sum(confusion_matrix[0])\n",
        "  c2 = confusion_matrix[1,1]/np.sum(confusion_matrix[1])\n",
        "  c3 = confusion_matrix[2,2]/np.sum(confusion_matrix[2])\n",
        "  total_accuracy = (confusion_matrix[0,0] + confusion_matrix[1,1] + confusion_matrix[2,2])/np.sum(confusion_matrix)\n",
        "\n",
        "  print(\"Total accuracy: \", total_accuracy)\n",
        "  print(\"Class 1 accuracy: \", c1)\n",
        "  print(\"Class 2 accuracy: \", c2)\n",
        "  print(\"Class 3 accuracy: \", c3)\n",
        "  print(confusion_matrix)"
      ],
      "execution_count": null,
      "outputs": []
    },
    {
      "cell_type": "code",
      "metadata": {
        "colab": {
          "base_uri": "https://localhost:8080/"
        },
        "id": "xLujysbJIaTo",
        "outputId": "cc04326a-e499-4577-d27d-17d55284c65c"
      },
      "source": [
        "print(\"Validation Accuracy\")\n",
        "predict_1vall(validate,weights_batch_no_regu_1vall,confusion_matrix_batch_validation_no_regu_1vall) \n",
        "print(\"Test Accuracy\")\n",
        "predict_1vall(test,weights_batch_no_regu_1vall,confusion_matrix_batch_test_no_regu_1vall)"
      ],
      "execution_count": null,
      "outputs": [
        {
          "output_type": "stream",
          "name": "stdout",
          "text": [
            "Validation Accuracy\n",
            "Total accuracy:  0.95\n",
            "Class 1 accuracy:  0.8888888888888888\n",
            "Class 2 accuracy:  1.0\n",
            "Class 3 accuracy:  1.0\n",
            "[[8. 0. 1.]\n",
            " [0. 5. 0.]\n",
            " [0. 0. 6.]]\n",
            "Test Accuracy\n",
            "Total accuracy:  0.925\n",
            "Class 1 accuracy:  0.8181818181818182\n",
            "Class 2 accuracy:  1.0\n",
            "Class 3 accuracy:  0.9230769230769231\n",
            "[[ 9.  2.  0.]\n",
            " [ 0. 16.  0.]\n",
            " [ 1.  0. 12.]]\n"
          ]
        }
      ]
    },
    {
      "cell_type": "code",
      "metadata": {
        "id": "n1-oBfhDIsud",
        "colab": {
          "base_uri": "https://localhost:8080/"
        },
        "outputId": "ac4cdd17-f956-4b56-e09b-c84d88c09c26"
      },
      "source": [
        "print(\"Validation Accuracy\")\n",
        "predict_1vall(validate,weights_stoch_no_regu_1vall,confusion_matrix_stoch_validation_no_regu_1vall) \n",
        "print(\"Test Accuracy\")\n",
        "predict_1vall(test,weights_stoch_no_regu_1vall,confusion_matrix_stoch_test_no_regu_1vall)"
      ],
      "execution_count": null,
      "outputs": [
        {
          "output_type": "stream",
          "name": "stdout",
          "text": [
            "Validation Accuracy\n",
            "Total accuracy:  0.95\n",
            "Class 1 accuracy:  0.8888888888888888\n",
            "Class 2 accuracy:  1.0\n",
            "Class 3 accuracy:  1.0\n",
            "[[8. 0. 1.]\n",
            " [0. 5. 0.]\n",
            " [0. 0. 6.]]\n",
            "Test Accuracy\n",
            "Total accuracy:  0.925\n",
            "Class 1 accuracy:  0.8181818181818182\n",
            "Class 2 accuracy:  1.0\n",
            "Class 3 accuracy:  0.9230769230769231\n",
            "[[ 9.  2.  0.]\n",
            " [ 0. 16.  0.]\n",
            " [ 1.  0. 12.]]\n"
          ]
        }
      ]
    },
    {
      "cell_type": "code",
      "metadata": {
        "colab": {
          "base_uri": "https://localhost:8080/"
        },
        "id": "__pgKWByxXR_",
        "outputId": "5f6da609-ad88-48ab-9cc8-82790ab33cf6"
      },
      "source": [
        "print(\"Validation Accuracy\")\n",
        "predict_1vall(validate,weights_mini_no_regu_1vall,confusion_matrix_mini_validation_no_regu_1vall) \n",
        "print(\"Test Accuracy\")\n",
        "predict_1vall(test,weights_mini_no_regu_1vall,confusion_matrix_mini_test_no_regu_1vall)"
      ],
      "execution_count": null,
      "outputs": [
        {
          "output_type": "stream",
          "name": "stdout",
          "text": [
            "Validation Accuracy\n",
            "Total accuracy:  0.95\n",
            "Class 1 accuracy:  0.8888888888888888\n",
            "Class 2 accuracy:  1.0\n",
            "Class 3 accuracy:  1.0\n",
            "[[8. 0. 1.]\n",
            " [0. 5. 0.]\n",
            " [0. 0. 6.]]\n",
            "Test Accuracy\n",
            "Total accuracy:  0.925\n",
            "Class 1 accuracy:  0.8181818181818182\n",
            "Class 2 accuracy:  1.0\n",
            "Class 3 accuracy:  0.9230769230769231\n",
            "[[ 9.  2.  0.]\n",
            " [ 0. 16.  0.]\n",
            " [ 1.  0. 12.]]\n"
          ]
        }
      ]
    },
    {
      "cell_type": "code",
      "metadata": {
        "colab": {
          "base_uri": "https://localhost:8080/"
        },
        "id": "oMFEnoYLxjan",
        "outputId": "67206b19-1a93-4ab6-b8bd-d9a287e1d047"
      },
      "source": [
        "print(\"Validation Accuracy\")\n",
        "predict_1vall(validate,weights_batch_L2_regu_1vall,confusion_matrix_batch_validation_L2_regu_1vall) \n",
        "print(\"Test Accuracy\")\n",
        "predict_1vall(test,weights_batch_L2_regu_1vall,confusion_matrix_batch_test_L2_regu_1vall)"
      ],
      "execution_count": null,
      "outputs": [
        {
          "output_type": "stream",
          "name": "stdout",
          "text": [
            "Validation Accuracy\n",
            "Total accuracy:  0.95\n",
            "Class 1 accuracy:  0.8888888888888888\n",
            "Class 2 accuracy:  1.0\n",
            "Class 3 accuracy:  1.0\n",
            "[[8. 0. 1.]\n",
            " [0. 5. 0.]\n",
            " [0. 0. 6.]]\n",
            "Test Accuracy\n",
            "Total accuracy:  0.85\n",
            "Class 1 accuracy:  0.6363636363636364\n",
            "Class 2 accuracy:  1.0\n",
            "Class 3 accuracy:  0.8461538461538461\n",
            "[[ 7.  3.  1.]\n",
            " [ 0. 16.  0.]\n",
            " [ 2.  0. 11.]]\n"
          ]
        }
      ]
    },
    {
      "cell_type": "code",
      "metadata": {
        "colab": {
          "base_uri": "https://localhost:8080/"
        },
        "id": "zJ69VjhextxN",
        "outputId": "d2883f68-206b-4c5b-a328-48b573dd3b5b"
      },
      "source": [
        "print(\"Validation Accuracy\")\n",
        "predict_1vall(validate,weights_stoch_L2_regu_1vall,confusion_matrix_stoch_validation_L2_regu_1vall) \n",
        "print(\"Test Accuracy\")\n",
        "predict_1vall(test,weights_stoch_L2_regu_1vall,confusion_matrix_stoch_test_L2_regu_1vall)"
      ],
      "execution_count": null,
      "outputs": [
        {
          "output_type": "stream",
          "name": "stdout",
          "text": [
            "Validation Accuracy\n",
            "Total accuracy:  0.95\n",
            "Class 1 accuracy:  0.8888888888888888\n",
            "Class 2 accuracy:  1.0\n",
            "Class 3 accuracy:  1.0\n",
            "[[8. 0. 1.]\n",
            " [0. 5. 0.]\n",
            " [0. 0. 6.]]\n",
            "Test Accuracy\n",
            "Total accuracy:  0.85\n",
            "Class 1 accuracy:  0.6363636363636364\n",
            "Class 2 accuracy:  1.0\n",
            "Class 3 accuracy:  0.8461538461538461\n",
            "[[ 7.  2.  2.]\n",
            " [ 0. 16.  0.]\n",
            " [ 2.  0. 11.]]\n"
          ]
        }
      ]
    },
    {
      "cell_type": "code",
      "metadata": {
        "colab": {
          "base_uri": "https://localhost:8080/"
        },
        "id": "MLubkwfSx6ad",
        "outputId": "09e69ac2-5904-4f19-a479-091422c20ed4"
      },
      "source": [
        "print(\"Validation Accuracy\")\n",
        "predict_1vall(validate,weights_mini_L2_regu_1vall,confusion_matrix_mini_validation_L2_regu_1vall) \n",
        "print(\"Test Accuracy\")\n",
        "predict_1vall(test,weights_mini_L2_regu_1vall,confusion_matrix_mini_test_L2_regu_1vall)"
      ],
      "execution_count": null,
      "outputs": [
        {
          "output_type": "stream",
          "name": "stdout",
          "text": [
            "Validation Accuracy\n",
            "Total accuracy:  0.95\n",
            "Class 1 accuracy:  0.8888888888888888\n",
            "Class 2 accuracy:  1.0\n",
            "Class 3 accuracy:  1.0\n",
            "[[8. 0. 1.]\n",
            " [0. 5. 0.]\n",
            " [0. 0. 6.]]\n",
            "Test Accuracy\n",
            "Total accuracy:  0.85\n",
            "Class 1 accuracy:  0.6363636363636364\n",
            "Class 2 accuracy:  1.0\n",
            "Class 3 accuracy:  0.8461538461538461\n",
            "[[ 7.  3.  1.]\n",
            " [ 0. 16.  0.]\n",
            " [ 2.  0. 11.]]\n"
          ]
        }
      ]
    },
    {
      "cell_type": "code",
      "metadata": {
        "colab": {
          "base_uri": "https://localhost:8080/"
        },
        "id": "0sbMLqJLyELX",
        "outputId": "ea38ccf2-7322-4b21-989f-c1686fa554d3"
      },
      "source": [
        "print(\"Validation Accuracy\")\n",
        "predict_1vall(validate,weights_batch_L1_regu_1vall,confusion_matrix_batch_validation_L1_regu_1vall) \n",
        "print(\"Test Accuracy\")\n",
        "predict_1vall(test,weights_batch_L1_regu_1vall,confusion_matrix_batch_test_L1_regu_1vall)"
      ],
      "execution_count": null,
      "outputs": [
        {
          "output_type": "stream",
          "name": "stdout",
          "text": [
            "Validation Accuracy\n",
            "Total accuracy:  0.95\n",
            "Class 1 accuracy:  0.8888888888888888\n",
            "Class 2 accuracy:  1.0\n",
            "Class 3 accuracy:  1.0\n",
            "[[8. 0. 1.]\n",
            " [0. 5. 0.]\n",
            " [0. 0. 6.]]\n",
            "Test Accuracy\n",
            "Total accuracy:  0.85\n",
            "Class 1 accuracy:  0.6363636363636364\n",
            "Class 2 accuracy:  1.0\n",
            "Class 3 accuracy:  0.8461538461538461\n",
            "[[ 7.  2.  2.]\n",
            " [ 0. 16.  0.]\n",
            " [ 2.  0. 11.]]\n"
          ]
        }
      ]
    },
    {
      "cell_type": "code",
      "metadata": {
        "colab": {
          "base_uri": "https://localhost:8080/"
        },
        "id": "wbtSc2JvyOJq",
        "outputId": "691060f8-da06-4138-d7eb-d2fe74d2382a"
      },
      "source": [
        "print(\"Validation Accuracy\")\n",
        "predict_1vall(validate,weights_stoch_L1_regu_1vall,confusion_matrix_stoch_validation_L1_regu_1vall) \n",
        "print(\"Test Accuracy\")\n",
        "predict_1vall(test,weights_stoch_L1_regu_1vall,confusion_matrix_stoch_test_L1_regu_1vall)"
      ],
      "execution_count": null,
      "outputs": [
        {
          "output_type": "stream",
          "name": "stdout",
          "text": [
            "Validation Accuracy\n",
            "Total accuracy:  0.95\n",
            "Class 1 accuracy:  0.8888888888888888\n",
            "Class 2 accuracy:  1.0\n",
            "Class 3 accuracy:  1.0\n",
            "[[8. 0. 1.]\n",
            " [0. 5. 0.]\n",
            " [0. 0. 6.]]\n",
            "Test Accuracy\n",
            "Total accuracy:  0.85\n",
            "Class 1 accuracy:  0.6363636363636364\n",
            "Class 2 accuracy:  1.0\n",
            "Class 3 accuracy:  0.8461538461538461\n",
            "[[ 7.  2.  2.]\n",
            " [ 0. 16.  0.]\n",
            " [ 2.  0. 11.]]\n"
          ]
        }
      ]
    },
    {
      "cell_type": "code",
      "metadata": {
        "colab": {
          "base_uri": "https://localhost:8080/"
        },
        "id": "patPZ070yYAQ",
        "outputId": "a9e96f9e-c93f-4115-dafa-12cda6c62663"
      },
      "source": [
        "print(\"Validation Accuracy\")\n",
        "predict_1vall(validate,weights_mini_L1_regu_1vall,confusion_matrix_mini_validation_L1_regu_1vall) \n",
        "print(\"Test Accuracy\")\n",
        "predict_1vall(test,weights_mini_L1_regu_1vall,confusion_matrix_mini_test_L1_regu_1vall)"
      ],
      "execution_count": null,
      "outputs": [
        {
          "output_type": "stream",
          "name": "stdout",
          "text": [
            "Validation Accuracy\n",
            "Total accuracy:  0.95\n",
            "Class 1 accuracy:  0.8888888888888888\n",
            "Class 2 accuracy:  1.0\n",
            "Class 3 accuracy:  1.0\n",
            "[[8. 0. 1.]\n",
            " [0. 5. 0.]\n",
            " [0. 0. 6.]]\n",
            "Test Accuracy\n",
            "Total accuracy:  0.85\n",
            "Class 1 accuracy:  0.6363636363636364\n",
            "Class 2 accuracy:  1.0\n",
            "Class 3 accuracy:  0.8461538461538461\n",
            "[[ 7.  2.  2.]\n",
            " [ 0. 16.  0.]\n",
            " [ 2.  0. 11.]]\n"
          ]
        }
      ]
    },
    {
      "cell_type": "code",
      "metadata": {
        "id": "HQBTgTLyyh2e"
      },
      "source": [
        ""
      ],
      "execution_count": null,
      "outputs": []
    }
  ]
}