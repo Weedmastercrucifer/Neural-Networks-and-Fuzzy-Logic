{
  "nbformat": 4,
  "nbformat_minor": 0,
  "metadata": {
    "colab": {
      "name": "Assignment1_Q9.ipynb",
      "provenance": [],
      "collapsed_sections": [],
      "include_colab_link": true
    },
    "kernelspec": {
      "name": "python3",
      "display_name": "Python 3"
    },
    "language_info": {
      "name": "python"
    }
  },
  "cells": [
    {
      "cell_type": "markdown",
      "metadata": {
        "id": "view-in-github",
        "colab_type": "text"
      },
      "source": [
        "<a href=\"https://colab.research.google.com/github/Weedmastercrucifer/Neural-Networks-and-Fuzzy-Logic/blob/main/Assignment1Details/Assignment1_Q9.ipynb\" target=\"_parent\"><img src=\"https://colab.research.google.com/assets/colab-badge.svg\" alt=\"Open In Colab\"/></a>"
      ]
    },
    {
      "cell_type": "markdown",
      "metadata": {
        "id": "OQQ4tM-AQekS"
      },
      "source": [
        "Assignment 1 Q9"
      ]
    },
    {
      "cell_type": "code",
      "metadata": {
        "id": "b9joT61_R_F7"
      },
      "source": [
        "import pandas as pd\n",
        "import numpy as np\n",
        "from matplotlib import pyplot as plt \n",
        "import math\n",
        "import copy\n"
      ],
      "execution_count": null,
      "outputs": []
    },
    {
      "cell_type": "code",
      "metadata": {
        "colab": {
          "base_uri": "https://localhost:8080/"
        },
        "id": "nEYoMy9z8f3d",
        "outputId": "dc57f977-958e-4b3d-cc93-f2141893c32e"
      },
      "source": [
        "from google.colab import drive\n",
        "drive.mount('/content/drive')"
      ],
      "execution_count": null,
      "outputs": [
        {
          "output_type": "stream",
          "name": "stdout",
          "text": [
            "Drive already mounted at /content/drive; to attempt to forcibly remount, call drive.mount(\"/content/drive\", force_remount=True).\n"
          ]
        }
      ]
    },
    {
      "cell_type": "code",
      "metadata": {
        "colab": {
          "base_uri": "https://localhost:8080/"
        },
        "id": "Pu4xVbVo8acM",
        "outputId": "fc5975b3-588f-44ba-b84f-0ddbfccf652e"
      },
      "source": [
        "data=pd.read_csv('/content/drive/MyDrive/Assignment1NNFL/Copy of data_q6_q7.txt',delimiter=\"\\t\",error_bad_lines=False)\n",
        "#removing bad lines from the dataset\n",
        "\n",
        "insts = data.to_numpy()\n",
        "m= len(insts[:,0]) #No of instances\n",
        "n = len(insts[0,:])-1 #no of features  \n",
        "for i in range(1,n,1):\n",
        "  insts[:,i] = (insts[:,i] - insts[:,i].mean())/insts[:,i].std() #Normalize the data\n",
        "np.random.shuffle(insts)"
      ],
      "execution_count": null,
      "outputs": [
        {
          "output_type": "stream",
          "name": "stderr",
          "text": [
            "b'Skipping line 8: expected 8 fields, saw 10\\nSkipping line 36: expected 8 fields, saw 10\\nSkipping line 61: expected 8 fields, saw 9\\nSkipping line 69: expected 8 fields, saw 9\\nSkipping line 107: expected 8 fields, saw 9\\nSkipping line 136: expected 8 fields, saw 9\\nSkipping line 170: expected 8 fields, saw 9\\nSkipping line 171: expected 8 fields, saw 9\\nSkipping line 173: expected 8 fields, saw 9\\nSkipping line 202: expected 8 fields, saw 9\\nSkipping line 204: expected 8 fields, saw 9\\n'\n"
          ]
        }
      ]
    },
    {
      "cell_type": "code",
      "metadata": {
        "id": "Rj5JzTK6STHe"
      },
      "source": [
        "def cal_prior(insts,c): #instances of training set , no of classes to be classified\n",
        "  p= np.ones(c)\n",
        "  l = len(insts[:,-1])\n",
        "  for i in range(c):\n",
        "    p[i] = np.count_nonzero(insts[:,-1] == i+1)/l\n",
        "  return p # returns prior probabilities matrix\n",
        "\n"
      ],
      "execution_count": null,
      "outputs": []
    },
    {
      "cell_type": "code",
      "metadata": {
        "id": "LgnPIlmftzMM"
      },
      "source": [
        "def cal_mean(insts,m,n): \n",
        "  mean = np.ones(n)\n",
        "  for i in range(n):\n",
        "    mean[i] = np.sum(insts[:,i])/m\n",
        "  return mean"
      ],
      "execution_count": null,
      "outputs": []
    },
    {
      "cell_type": "code",
      "metadata": {
        "colab": {
          "base_uri": "https://localhost:8080/"
        },
        "id": "tnYK-ZsMSoZ0",
        "outputId": "3a7eebcb-0bcb-4b57-b5b8-b265d5ae2238"
      },
      "source": [
        "K = 5 # no of folds\n",
        "overall_accuracy = 0\n",
        "accuracy_class1 = 0\n",
        "accuracy_class2 = 0\n",
        "accuracy_class3 = 0\n",
        "for k in range(K):\n",
        "  insts_te = insts[int((0.8-0.2*k)*m):int(m*(1-0.2*k)),:]\n",
        "  insts_tr = np.delete(insts,np.s_[int((0.8-0.2*k)*m):int((1-0.2*k)*m)], axis=0)\n",
        "  m_tr = len(insts_tr[:,0])\n",
        "  m_te = len(insts_te[:,0])\n",
        "  P_y = cal_prior(insts_tr,3) #prior probability vector\n",
        "  \n",
        "  insts_y1 = insts_tr[insts_tr[:,-1]==1] #instances for class 1 in training set\n",
        "  insts_y2 = insts_tr[insts_tr[:,-1]==2] #instances for class 2 in training set\n",
        "  insts_y3 = insts_tr[insts_tr[:,-1]==3] #instances for class 3 in training set\n",
        "  mean1 = cal_mean(insts_y1,len(insts_y1[:,0]),n) #mean vector for class 1\n",
        "  mean2 = cal_mean(insts_y2,len(insts_y2[:,0]),n) #mean vector for class 2\n",
        "  mean3 = cal_mean(insts_y3,len(insts_y3[:,0]),n) #mean vector for class 3\n",
        "  cov1  = np.cov((insts_y1[:,0:n].astype(np.float32)).T)\n",
        "  cov2  = np.cov((insts_y2[:,0:n].astype(np.float32)).T)\n",
        "  cov3  = np.cov((insts_y3[:,0:n].astype(np.float32)).T)\n",
        "  coeff1 = 1/(((2*3.14)**(n/2))*np.linalg.det(cov1)**0.5)\n",
        "  coeff2 = 1/(((2*3.14)**(n/2))*np.linalg.det(cov2)**0.5)\n",
        "  coeff3 = 1/(((2*3.14)**(n/2))*np.linalg.det(cov3)**0.5)\n",
        "  y_pred = []\n",
        "  y_acu = insts_te[:,-1]\n",
        "  l = np.ones(3)\n",
        "  for i in range(m_te):\n",
        "    l[0] = coeff1*np.exp(-0.5*np.dot(np.dot((insts_te[i,0:n] - mean1),np.linalg.inv(cov1)),(insts_te[i,0:n] - mean1).T))\n",
        "    l[1] = coeff2*np.exp(-0.5*np.dot(np.dot((insts_te[i,0:n] - mean2),np.linalg.inv(cov2)),(insts_te[i,0:n] - mean2).T))\n",
        "    l[2] = coeff3*np.exp(-0.5*np.dot(np.dot((insts_te[i,0:n] - mean3),np.linalg.inv(cov3)),(insts_te[i,0:n] - mean3).T))\n",
        "    MAP = np.ones(3) # maximum a posteriori\n",
        "    e = l[0]*P_y[0] + l[1]*P_y[1] + l[2]*P_y[2] #evidence\n",
        "    for i in range(3):\n",
        "      MAP[i] = (l[i]*P_y[i])/e\n",
        "    y_pred.append(1+ np.argmax(MAP))\n",
        "  y_actual = pd.Series(y_acu, name='Actual')\n",
        "  y_pred = pd.Series(y_pred, name='Predicted')\n",
        "  confmat = pd.crosstab(y_actual, y_pred)\n",
        "  confmat = np.asarray(confmat)\n",
        "  overall_accuracy += (confmat[0][0] + confmat[1][1] + confmat[2][2])/sum(sum(confmat))\n",
        "  accuracy_class1 += confmat[0][0]/sum(confmat[0])\n",
        "  accuracy_class2 += confmat[1][1]/sum(confmat[1])\n",
        "  accuracy_class3 += confmat[2][2]/sum(confmat[2])\n",
        "print('Overall Accuracy:', overall_accuracy/K ,'\\nClass1 Accuracy:',accuracy_class1/K,'\\nClass2 Accuracy:',accuracy_class2/K,'\\nClass3 Accuracy:',accuracy_class3/K ) \n",
        "\n",
        "\n"
      ],
      "execution_count": null,
      "outputs": [
        {
          "output_type": "stream",
          "name": "stdout",
          "text": [
            "Overall Accuracy: 0.9493589743589744 \n",
            "Class1 Accuracy: 0.9077690936514466 \n",
            "Class2 Accuracy: 0.9764705882352942 \n",
            "Class3 Accuracy: 0.9651515151515151\n"
          ]
        }
      ]
    },
    {
      "cell_type": "code",
      "metadata": {
        "id": "k80SMe-8bU1c"
      },
      "source": [
        ""
      ],
      "execution_count": null,
      "outputs": []
    }
  ]
}